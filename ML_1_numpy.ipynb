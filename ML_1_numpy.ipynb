{
 "cells": [
  {
   "cell_type": "markdown",
   "id": "da98716f-3ef2-49f1-aba0-fab1fdb6d41b",
   "metadata": {},
   "source": [
    "# Curso de python en udemy"
   ]
  },
  {
   "cell_type": "markdown",
   "id": "dbd0473b-f75d-4244-85ba-fff0ab3d077a",
   "metadata": {},
   "source": [
    "## Numpy "
   ]
  },
  {
   "cell_type": "markdown",
   "id": "62c9598f-4b31-4410-a04b-2990fb5572bd",
   "metadata": {},
   "source": [
    "#### Randn"
   ]
  },
  {
   "cell_type": "code",
   "execution_count": 44,
   "id": "e74915ab-55ca-4725-8ef0-c5b0ed1c601f",
   "metadata": {},
   "outputs": [
    {
     "name": "stdout",
     "output_type": "stream",
     "text": [
      "resultado es 0.6788\n"
     ]
    }
   ],
   "source": [
    "# Con números aleatorios pero positivos y negativos\n",
    "import numpy as np\n",
    "from numpy.random import randn\n",
    "\n",
    "resultado = 0\n",
    "contador = 0\n",
    "for i in randn(10000):\n",
    "    if i < 1 and i > -1:\n",
    "        resultado += 1\n",
    "    contador += 1\n",
    "print(f'resultado es {resultado/contador}')"
   ]
  },
  {
   "cell_type": "code",
   "execution_count": 46,
   "id": "d64583fc-5ad6-4630-8ec2-d5ea59d45f30",
   "metadata": {},
   "outputs": [
    {
     "data": {
      "text/plain": [
       "array([[-1.0568285 , -1.54388983,  0.77414571],\n",
       "       [ 1.0194357 ,  0.223908  , -1.33580403],\n",
       "       [-0.1943379 ,  0.42080044,  0.17852683],\n",
       "       [-0.44506692, -0.36593675,  1.21114027],\n",
       "       [-1.10066561,  0.08454591,  0.23246502]])"
      ]
     },
     "execution_count": 46,
     "metadata": {},
     "output_type": "execute_result"
    }
   ],
   "source": [
    "# También se puede construir un vector\n",
    "import numpy as np\n",
    "vector = np.random.randn(5, 3)\n",
    "vector"
   ]
  },
  {
   "cell_type": "markdown",
   "id": "ee78493c-916e-4025-ae59-0533965f98c7",
   "metadata": {},
   "source": [
    "#### Rand"
   ]
  },
  {
   "cell_type": "code",
   "execution_count": 49,
   "id": "f598f24b-4161-44ba-86af-8693231fdff2",
   "metadata": {},
   "outputs": [
    {
     "data": {
      "text/plain": [
       "array([0.10601463, 0.24487579, 0.43240822, 0.96009491, 0.19849926])"
      ]
     },
     "execution_count": 49,
     "metadata": {},
     "output_type": "execute_result"
    }
   ],
   "source": [
    "# Solo números positivos\n",
    "import numpy as np\n",
    "vector = np.random.rand(5)\n",
    "vector"
   ]
  },
  {
   "cell_type": "code",
   "execution_count": 51,
   "id": "18208213-cf30-413d-af3e-ffbe31fd2b36",
   "metadata": {},
   "outputs": [
    {
     "data": {
      "text/plain": [
       "array([[0.48288093, 0.26207462, 0.65886966],\n",
       "       [0.31527303, 0.5668327 , 0.84182064],\n",
       "       [0.95935975, 0.20485767, 0.64546768],\n",
       "       [0.44010923, 0.42732359, 0.0819377 ],\n",
       "       [0.48195478, 0.21357189, 0.73343448]])"
      ]
     },
     "execution_count": 51,
     "metadata": {},
     "output_type": "execute_result"
    }
   ],
   "source": [
    "# También podemos construir una matriz\n",
    "import numpy as np\n",
    "vector = np.random.rand(5,3)\n",
    "vector"
   ]
  },
  {
   "cell_type": "markdown",
   "id": "c7301635-96ad-4e6a-9b15-d852d0b3b259",
   "metadata": {},
   "source": [
    "**diferencia array de numpy vs lista**\n",
    "\n",
    "1 -  un array no puede tener distintos tipos de datos\n",
    "\n",
    "2. – un array funciona como un objeto y se le pueden aplicar mas métodos que a una lista\n"
   ]
  },
  {
   "cell_type": "code",
   "execution_count": 19,
   "id": "91b820b2-91ff-4855-90fd-235a94686e17",
   "metadata": {},
   "outputs": [
    {
     "data": {
      "text/plain": [
       "array([ 235,   25, 2578])"
      ]
     },
     "execution_count": 19,
     "metadata": {},
     "output_type": "execute_result"
    }
   ],
   "source": [
    "import numpy as np\n",
    "lista = [235, 25, 2578]\n",
    "a = np.array(lista) \n",
    "a\n"
   ]
  },
  {
   "cell_type": "code",
   "execution_count": 21,
   "id": "0c2a37b8-0257-4fed-ae12-bb3592ab4f71",
   "metadata": {},
   "outputs": [
    {
     "data": {
      "text/plain": [
       "array(['z', 'b', 'c', 'd', 'e', 'f', 'g', 'h', 'i'], dtype='<U1')"
      ]
     },
     "execution_count": 21,
     "metadata": {},
     "output_type": "execute_result"
    }
   ],
   "source": [
    "'''\n",
    "si tenemos una variable con un array podemos crear una vista \n",
    "de ese array con slicing asingnandole una variable, pero si \n",
    "cambiamos el primer array el segundo tmbn se modificará,\n",
    "pero podemos hacer un copy y ya no se modificará\n",
    "'''\n",
    "\n",
    "import numpy as np\n",
    "letras = ['a', 'b', 'c', 'd', 'e', 'f', 'g', 'h', 'i']\n",
    "a = np.array(letras)\n",
    "c = letras[0:2].copy()\n",
    "a[0] = 'z'\n",
    "a \n"
   ]
  },
  {
   "cell_type": "code",
   "execution_count": 23,
   "id": "2f7d0f65-ca61-49ef-8739-b0db76217ec5",
   "metadata": {},
   "outputs": [
    {
     "data": {
      "text/plain": [
       "['a', 'b']"
      ]
     },
     "execution_count": 23,
     "metadata": {},
     "output_type": "execute_result"
    }
   ],
   "source": [
    "c"
   ]
  },
  {
   "cell_type": "markdown",
   "id": "598ad053-22dc-4323-a061-92a05fbb5973",
   "metadata": {},
   "source": [
    "#### arange\n"
   ]
  },
  {
   "cell_type": "code",
   "execution_count": 26,
   "id": "05ad673f-b9d8-4c4b-ac15-5ae9d8fd72b4",
   "metadata": {},
   "outputs": [
    {
     "name": "stdout",
     "output_type": "stream",
     "text": [
      "[0 1 2 3 4 5 6 7 8 9]\n"
     ]
    }
   ],
   "source": [
    "# para sacar un rango\n",
    "listado = np.arange(10)\n",
    "print(listado)\n"
   ]
  },
  {
   "cell_type": "code",
   "execution_count": 28,
   "id": "012d9d4c-ed04-4979-93b0-9c8653a7fd9e",
   "metadata": {},
   "outputs": [
    {
     "name": "stdout",
     "output_type": "stream",
     "text": [
      "[2 3 4 5 6 7 8 9]\n"
     ]
    }
   ],
   "source": [
    "import numpy as np\n",
    "listado = np.arange(2, 10)\n",
    "print(listado)\n"
   ]
  },
  {
   "cell_type": "code",
   "execution_count": 30,
   "id": "20f12fb2-cbfe-4642-b359-c64fc7ffc041",
   "metadata": {},
   "outputs": [
    {
     "name": "stdout",
     "output_type": "stream",
     "text": [
      "[2 4 6 8]\n"
     ]
    }
   ],
   "source": [
    "listado = np.arange(2, 10, 2)\n",
    "print(listado)\n"
   ]
  },
  {
   "cell_type": "code",
   "execution_count": 32,
   "id": "44a193cb-52dd-49bb-b75c-6b96486c4deb",
   "metadata": {},
   "outputs": [
    {
     "data": {
      "text/plain": [
       "0"
      ]
     },
     "execution_count": 32,
     "metadata": {},
     "output_type": "execute_result"
    }
   ],
   "source": [
    "import numpy as np\n",
    "array = np.arange(0, 10)\n",
    "array[0]"
   ]
  },
  {
   "cell_type": "code",
   "execution_count": 34,
   "id": "d258535e-3592-4d20-9d33-ac6699fedacd",
   "metadata": {},
   "outputs": [
    {
     "data": {
      "text/plain": [
       "array([0, 1, 2, 3, 4, 5, 6, 7, 8, 9])"
      ]
     },
     "execution_count": 34,
     "metadata": {},
     "output_type": "execute_result"
    }
   ],
   "source": [
    "array"
   ]
  },
  {
   "cell_type": "code",
   "execution_count": 36,
   "id": "b5959426-32ca-46ac-a2ca-5f2636d18b63",
   "metadata": {},
   "outputs": [
    {
     "data": {
      "text/plain": [
       "9"
      ]
     },
     "execution_count": 36,
     "metadata": {},
     "output_type": "execute_result"
    }
   ],
   "source": [
    "array[-1]"
   ]
  },
  {
   "cell_type": "code",
   "execution_count": 38,
   "id": "45a6f332-aaee-45e9-9a25-c88917b3568b",
   "metadata": {},
   "outputs": [
    {
     "data": {
      "text/plain": [
       "array([2, 3])"
      ]
     },
     "execution_count": 38,
     "metadata": {},
     "output_type": "execute_result"
    }
   ],
   "source": [
    "array[2:4]"
   ]
  },
  {
   "cell_type": "markdown",
   "id": "970060d7-f316-4260-a550-6098723f2133",
   "metadata": {},
   "source": [
    "\n",
    "Para sacar todo el array array[:]\n",
    "Para sacar de la posición 5 hasta el final array[5:]\n",
    "Para sacar de la posición inicial hasta la posición 4 array[:4]"
   ]
  },
  {
   "cell_type": "markdown",
   "id": "ffd205d9-c235-4b73-987a-fd17a054aa53",
   "metadata": {},
   "source": [
    "#### Condiciones arange"
   ]
  },
  {
   "cell_type": "code",
   "execution_count": 54,
   "id": "5db447c1-6a16-49da-9236-159d9580828f",
   "metadata": {},
   "outputs": [
    {
     "data": {
      "text/plain": [
       "array([0, 1, 2, 3, 4, 5, 6, 7, 8, 9])"
      ]
     },
     "execution_count": 54,
     "metadata": {},
     "output_type": "execute_result"
    }
   ],
   "source": [
    "# numpy - seleccionar elementos de un array\n",
    "import numpy as np\n",
    "array = np.arange(0, 10)\n",
    "array"
   ]
  },
  {
   "cell_type": "code",
   "execution_count": 56,
   "id": "fa112fef-a307-4cae-9d8a-183f09825289",
   "metadata": {},
   "outputs": [
    {
     "data": {
      "text/plain": [
       "array([False, False, False, False, False, False,  True,  True,  True,\n",
       "        True])"
      ]
     },
     "execution_count": 56,
     "metadata": {},
     "output_type": "execute_result"
    }
   ],
   "source": [
    "condicion = array > 5\n",
    "condicion"
   ]
  },
  {
   "cell_type": "code",
   "execution_count": 58,
   "id": "845573dd-6fc4-4d87-9181-27889cd2001d",
   "metadata": {},
   "outputs": [
    {
     "data": {
      "text/plain": [
       "array([6, 7, 8, 9])"
      ]
     },
     "execution_count": 58,
     "metadata": {},
     "output_type": "execute_result"
    }
   ],
   "source": [
    "array[condicion]"
   ]
  },
  {
   "cell_type": "code",
   "execution_count": 60,
   "id": "b94e4920-51e4-48cf-82cb-88a4c7e2244c",
   "metadata": {},
   "outputs": [
    {
     "data": {
      "text/plain": [
       "array([6, 7, 8, 9])"
      ]
     },
     "execution_count": 60,
     "metadata": {},
     "output_type": "execute_result"
    }
   ],
   "source": [
    "array6 = array[condicion]\n",
    "array6"
   ]
  },
  {
   "cell_type": "code",
   "execution_count": 62,
   "id": "d350e549-e8a5-4229-bc0e-08a6f7536872",
   "metadata": {},
   "outputs": [
    {
     "data": {
      "text/plain": [
       "array([6, 7, 8, 9])"
      ]
     },
     "execution_count": 62,
     "metadata": {},
     "output_type": "execute_result"
    }
   ],
   "source": [
    "# mas rápido\n",
    "array[array > 5]"
   ]
  },
  {
   "cell_type": "markdown",
   "id": "9d4367ec-9f3f-4743-b53b-8b9ab48dbb4d",
   "metadata": {},
   "source": [
    "#### Operaciones con arrays"
   ]
  },
  {
   "cell_type": "code",
   "execution_count": 65,
   "id": "75ee2cd2-0c01-4140-a8df-e9c5b6a21f61",
   "metadata": {},
   "outputs": [
    {
     "data": {
      "text/plain": [
       "array([0, 1, 2, 3, 4, 5, 6, 7, 8, 9])"
      ]
     },
     "execution_count": 65,
     "metadata": {},
     "output_type": "execute_result"
    }
   ],
   "source": [
    "array"
   ]
  },
  {
   "cell_type": "code",
   "execution_count": 67,
   "id": "5cc97c75-1b85-40fe-b6d3-6ce50f393502",
   "metadata": {},
   "outputs": [
    {
     "data": {
      "text/plain": [
       "array([ 0,  2,  4,  6,  8, 10, 12, 14, 16, 18])"
      ]
     },
     "execution_count": 67,
     "metadata": {},
     "output_type": "execute_result"
    }
   ],
   "source": [
    "array + array"
   ]
  },
  {
   "cell_type": "code",
   "execution_count": 69,
   "id": "15514575-80fb-42db-acc1-adc012dba6e5",
   "metadata": {},
   "outputs": [
    {
     "data": {
      "text/plain": [
       "array([0, 0, 0, 0, 0, 0, 0, 0, 0, 0])"
      ]
     },
     "execution_count": 69,
     "metadata": {},
     "output_type": "execute_result"
    }
   ],
   "source": [
    "array - array"
   ]
  },
  {
   "cell_type": "code",
   "execution_count": 71,
   "id": "3f470b39-248f-4cbc-904a-f7f7ba3dd1be",
   "metadata": {},
   "outputs": [
    {
     "data": {
      "text/plain": [
       "array([  0, 100, 200, 300, 400, 500, 600, 700, 800, 900])"
      ]
     },
     "execution_count": 71,
     "metadata": {},
     "output_type": "execute_result"
    }
   ],
   "source": [
    "array * 100"
   ]
  },
  {
   "cell_type": "code",
   "execution_count": 73,
   "id": "a3c226f7-bec5-4852-8d8c-51ab8c6f32ba",
   "metadata": {},
   "outputs": [
    {
     "data": {
      "text/plain": [
       "array([40, 41, 42, 43, 44, 45, 46, 47, 48, 49])"
      ]
     },
     "execution_count": 73,
     "metadata": {},
     "output_type": "execute_result"
    }
   ],
   "source": [
    "array + 40"
   ]
  },
  {
   "cell_type": "code",
   "execution_count": 75,
   "id": "5fe0bb8a-6f5f-4086-baa9-bd7a6713959c",
   "metadata": {},
   "outputs": [
    {
     "data": {
      "text/plain": [
       "array([0, 1, 2, 3, 4, 5, 6, 7, 8, 9])"
      ]
     },
     "execution_count": 75,
     "metadata": {},
     "output_type": "execute_result"
    }
   ],
   "source": [
    "array"
   ]
  },
  {
   "cell_type": "code",
   "execution_count": 77,
   "id": "a58fd09d-26e8-4185-9c81-cb2e75bd6a91",
   "metadata": {},
   "outputs": [
    {
     "data": {
      "text/plain": [
       "array([0.        , 1.        , 1.41421356, 1.73205081, 2.        ,\n",
       "       2.23606798, 2.44948974, 2.64575131, 2.82842712, 3.        ])"
      ]
     },
     "execution_count": 77,
     "metadata": {},
     "output_type": "execute_result"
    }
   ],
   "source": [
    "# aplicando funciones\n",
    "np.sqrt(array)"
   ]
  },
  {
   "cell_type": "code",
   "execution_count": 79,
   "id": "69244296-99c8-47ff-a3e7-559867369707",
   "metadata": {},
   "outputs": [
    {
     "data": {
      "text/plain": [
       "9"
      ]
     },
     "execution_count": 79,
     "metadata": {},
     "output_type": "execute_result"
    }
   ],
   "source": [
    "np.max(array)"
   ]
  },
  {
   "cell_type": "markdown",
   "id": "65d18fa8-26b6-4667-a342-6c787235c46b",
   "metadata": {},
   "source": [
    "#### Linspace"
   ]
  },
  {
   "cell_type": "code",
   "execution_count": 82,
   "id": "45c08f08-9f80-4ec5-8112-12ec13cfa98a",
   "metadata": {},
   "outputs": [
    {
     "name": "stdout",
     "output_type": "stream",
     "text": [
      "[3.         3.31578947 3.63157895 3.94736842 4.26315789 4.57894737\n",
      " 4.89473684 5.21052632 5.52631579 5.84210526 6.15789474 6.47368421\n",
      " 6.78947368 7.10526316 7.42105263 7.73684211 8.05263158 8.36842105\n",
      " 8.68421053 9.        ]\n"
     ]
    }
   ],
   "source": [
    "# genera 20 números entre 3 y 9 \n",
    "import numpy as np\n",
    "vector = np.linspace(3,9,20)\n",
    "print(vector)\n"
   ]
  },
  {
   "cell_type": "markdown",
   "id": "0c56e7b4-a400-4576-8988-34e6dbe5ec11",
   "metadata": {},
   "source": [
    "#### Randint"
   ]
  },
  {
   "cell_type": "markdown",
   "id": "49042db6-a812-4a70-a467-890e1d444f46",
   "metadata": {},
   "source": [
    "Sirve para genera aleatorios enteros, si le das un numero muestra entre 0 y ese numero  \n",
    "Si le das dos, genera un numero entre el primero y el segundo(el segundo no se mostrará nunca)\n"
   ]
  },
  {
   "cell_type": "code",
   "execution_count": 87,
   "id": "f64ab8ab-18e9-4462-8b5b-0a41a5c5ef20",
   "metadata": {},
   "outputs": [
    {
     "data": {
      "text/plain": [
       "3"
      ]
     },
     "execution_count": 87,
     "metadata": {},
     "output_type": "execute_result"
    }
   ],
   "source": [
    "import numpy as np\n",
    "np.random.randint(3,20)"
   ]
  },
  {
   "cell_type": "markdown",
   "id": "d6265bc3-ef86-4c84-b8dd-d3d3def16cc4",
   "metadata": {},
   "source": [
    "## MATRICES"
   ]
  },
  {
   "cell_type": "markdown",
   "id": "7daffa74-193d-466b-a299-ac0dd00202bf",
   "metadata": {},
   "source": [
    "#### ZEROS ONES"
   ]
  },
  {
   "cell_type": "code",
   "execution_count": null,
   "id": "cb4c99e9-7ed1-4ef0-a26f-d666aeb29db7",
   "metadata": {},
   "outputs": [],
   "source": [
    "\n",
    "# Podemos crear un vector con zeros, con ones pondría 1 en lugar de 0\n",
    "import numpy as np\n",
    "vector = np.zeros((3, 6))\n",
    "print(vector)\n"
   ]
  },
  {
   "cell_type": "code",
   "execution_count": 89,
   "id": "68bea7c4-dd68-483a-876d-5363902527e7",
   "metadata": {},
   "outputs": [
    {
     "data": {
      "text/plain": [
       "array([14,  4, 12,  6,  8])"
      ]
     },
     "execution_count": 89,
     "metadata": {},
     "output_type": "execute_result"
    }
   ],
   "source": [
    "# Con un numero parámetros generas un numero nuevo de enteros\n",
    "import numpy as np\n",
    "np.random.randint(3, 20, 5)"
   ]
  },
  {
   "cell_type": "code",
   "execution_count": 96,
   "id": "d1db8659-00ed-413e-9892-f973fdad0447",
   "metadata": {},
   "outputs": [
    {
     "name": "stdout",
     "output_type": "stream",
     "text": [
      "[1. 1. 1.]\n"
     ]
    }
   ],
   "source": [
    "import numpy as np\n",
    "vector = np.ones(3)\n",
    "print(vector)\n"
   ]
  },
  {
   "cell_type": "markdown",
   "id": "44280341-c60d-44c6-84b6-929a06ac34f7",
   "metadata": {},
   "source": [
    "#### EYE"
   ]
  },
  {
   "cell_type": "code",
   "execution_count": 103,
   "id": "7c56b2ca-f019-4c43-84dc-31a368fed59c",
   "metadata": {},
   "outputs": [
    {
     "name": "stdout",
     "output_type": "stream",
     "text": [
      "[[1. 0. 0. 0. 0. 0.]\n",
      " [0. 1. 0. 0. 0. 0.]\n",
      " [0. 0. 1. 0. 0. 0.]\n",
      " [0. 0. 0. 1. 0. 0.]\n",
      " [0. 0. 0. 0. 1. 0.]\n",
      " [0. 0. 0. 0. 0. 1.]]\n"
     ]
    }
   ],
   "source": [
    "import numpy as np\n",
    "vector = np.eye(6)\n",
    "print(vector)\n"
   ]
  },
  {
   "cell_type": "markdown",
   "id": "e560d4ab-a016-46be-80b2-79ea0a6bdc1f",
   "metadata": {},
   "source": [
    "### Indexación matrices\n",
    "Para acceder a un valor de una matriz haremos a[2,3] para un valor,  \n",
    "y para toda la fila haremos a[0,:]   \n",
    "[:,0] para la columna\n",
    "\n",
    "### Para construir una matriz"
   ]
  },
  {
   "cell_type": "code",
   "execution_count": 106,
   "id": "f3168f19-e17f-4ca3-8adb-80f001e89816",
   "metadata": {},
   "outputs": [
    {
     "name": "stdout",
     "output_type": "stream",
     "text": [
      "[ 0  1  2  3  4  5  6  7  8  9 10 11 12 13 14 15 16 17 18 19]\n"
     ]
    }
   ],
   "source": [
    "import numpy as np\n",
    "mis_datos = np.arange(0, 20)\n",
    "print(mis_datos)"
   ]
  },
  {
   "cell_type": "code",
   "execution_count": 108,
   "id": "77185273-eabb-476a-b48c-ab43555657b0",
   "metadata": {},
   "outputs": [
    {
     "data": {
      "text/plain": [
       "array([[ 0,  1,  2,  3],\n",
       "       [ 4,  5,  6,  7],\n",
       "       [ 8,  9, 10, 11],\n",
       "       [12, 13, 14, 15],\n",
       "       [16, 17, 18, 19]])"
      ]
     },
     "execution_count": 108,
     "metadata": {},
     "output_type": "execute_result"
    }
   ],
   "source": [
    "# con C los numeros se ordenan en horizontal\n",
    "matr_1 = np.reshape(mis_datos, (5, 4), order = 'C')\n",
    "matr_1"
   ]
  },
  {
   "cell_type": "code",
   "execution_count": 110,
   "id": "7510c9e5-8b63-4e70-b0d3-95501683e1e0",
   "metadata": {},
   "outputs": [
    {
     "data": {
      "text/plain": [
       "9"
      ]
     },
     "execution_count": 110,
     "metadata": {},
     "output_type": "execute_result"
    }
   ],
   "source": [
    "matr_1[2,1]"
   ]
  },
  {
   "cell_type": "code",
   "execution_count": 114,
   "id": "45bab4f2-59cd-4bad-a886-d8e85602ba87",
   "metadata": {},
   "outputs": [
    {
     "data": {
      "text/plain": [
       "array([[ 0,  5, 10, 15],\n",
       "       [ 1,  6, 11, 16],\n",
       "       [ 2,  7, 12, 17],\n",
       "       [ 3,  8, 13, 18],\n",
       "       [ 4,  9, 14, 19]])"
      ]
     },
     "execution_count": 114,
     "metadata": {},
     "output_type": "execute_result"
    }
   ],
   "source": [
    "# con F se ordenan en vertical\n",
    "matr_2 = np.reshape(mis_datos,(5, 4), order='F')\n",
    "matr_2"
   ]
  },
  {
   "cell_type": "code",
   "execution_count": 118,
   "id": "dab6d4ad-6d30-428c-b155-343e29044338",
   "metadata": {},
   "outputs": [
    {
     "data": {
      "text/plain": [
       "7"
      ]
     },
     "execution_count": 118,
     "metadata": {},
     "output_type": "execute_result"
    }
   ],
   "source": [
    "matr_2[2,1]"
   ]
  },
  {
   "cell_type": "code",
   "execution_count": 120,
   "id": "cf8b9ff0-11d4-4e7c-b508-8e807f46f947",
   "metadata": {},
   "outputs": [
    {
     "data": {
      "text/plain": [
       "array([ 0,  1,  2,  3,  4,  5,  6,  7,  8,  9, 10, 11, 12, 13, 14, 15, 16,\n",
       "       17, 18, 19])"
      ]
     },
     "execution_count": 120,
     "metadata": {},
     "output_type": "execute_result"
    }
   ],
   "source": [
    "mis_datos"
   ]
  },
  {
   "cell_type": "code",
   "execution_count": 122,
   "id": "88c01e17-ddf3-4ef1-a9b7-b74264a6edb2",
   "metadata": {},
   "outputs": [
    {
     "data": {
      "text/plain": [
       "array([[ 0,  1,  2,  3],\n",
       "       [ 4,  5,  6,  7],\n",
       "       [ 8,  9, 10, 11],\n",
       "       [12, 13, 14, 15],\n",
       "       [16, 17, 18, 19]])"
      ]
     },
     "execution_count": 122,
     "metadata": {},
     "output_type": "execute_result"
    }
   ],
   "source": [
    "mis_datos.reshape(5, 4)"
   ]
  },
  {
   "cell_type": "markdown",
   "id": "10624006-2374-4ef6-8be9-3d9a2f6920de",
   "metadata": {},
   "source": [
    "#### np.array()"
   ]
  },
  {
   "cell_type": "code",
   "execution_count": 125,
   "id": "1bfb373e-4106-4ef0-89a4-112767d79059",
   "metadata": {},
   "outputs": [
    {
     "data": {
      "text/plain": [
       "[['Soy', 'muy', 'feliz'], ['Qué', 'gran', 'día'], [1, 2, 3]]"
      ]
     },
     "execution_count": 125,
     "metadata": {},
     "output_type": "execute_result"
    }
   ],
   "source": [
    "r1 = [\"Soy\", \"muy\", \"feliz\"]\n",
    "r2 = [\"Qué\", \"gran\", \"día\"]\n",
    "r3 = [1, 2, 3]\n",
    "[r1, r2, r3]"
   ]
  },
  {
   "cell_type": "code",
   "execution_count": 127,
   "id": "fe140ffe-5c59-4761-a9f7-e5a84e015b95",
   "metadata": {},
   "outputs": [
    {
     "data": {
      "text/plain": [
       "array([['Soy', 'muy', 'feliz'],\n",
       "       ['Qué', 'gran', 'día'],\n",
       "       ['1', '2', '3']], dtype='<U11')"
      ]
     },
     "execution_count": 127,
     "metadata": {},
     "output_type": "execute_result"
    }
   ],
   "source": [
    "np.array([r1, r2, r3])"
   ]
  },
  {
   "cell_type": "markdown",
   "id": "432911b9-178d-44d2-91f4-c95c6a9a1886",
   "metadata": {},
   "source": [
    "**numpy - indexacción en arrays de 2 o más dimensiones**\n",
    "Array[0] sacaria la primera fila  \n",
    "Para sacar las dos primeras filas, array[:2]  \n",
    "Array[0][0] para sacar el primer elemento o array[0,0]  \n",
    "Para sacar la primera columna sería array[:,0]  \n",
    "Para las dos primeras columnas sería array[:,2]  \n"
   ]
  },
  {
   "cell_type": "code",
   "execution_count": 130,
   "id": "f4d4a542-6b5d-4153-8b5e-d27b52f98fc8",
   "metadata": {},
   "outputs": [
    {
     "data": {
      "text/plain": [
       "array([[1, 2, 3],\n",
       "       [4, 5, 6],\n",
       "       [7, 8, 9]])"
      ]
     },
     "execution_count": 130,
     "metadata": {},
     "output_type": "execute_result"
    }
   ],
   "source": [
    "import numpy as np\n",
    "array = np.array([[1, 2, 3], [4, 5, 6], [7, 8, 9]])\n",
    "array"
   ]
  },
  {
   "cell_type": "code",
   "execution_count": 132,
   "id": "cf72a4f2-29a3-4a6e-af9d-6bc0ad07a19b",
   "metadata": {},
   "outputs": [
    {
     "data": {
      "text/plain": [
       "array([1, 2, 3])"
      ]
     },
     "execution_count": 132,
     "metadata": {},
     "output_type": "execute_result"
    }
   ],
   "source": [
    "array[0]"
   ]
  },
  {
   "cell_type": "markdown",
   "id": "e9c58ec0-e57b-4c97-849c-dad316b5d3af",
   "metadata": {},
   "source": [
    "#### DICCIONARIOS CON MATRICES"
   ]
  },
  {
   "cell_type": "code",
   "execution_count": 136,
   "id": "2a8ffe35-7a00-44b1-9594-c1f54dcaee72",
   "metadata": {},
   "outputs": [
    {
     "data": {
      "text/plain": [
       "72"
      ]
     },
     "execution_count": 136,
     "metadata": {},
     "output_type": "execute_result"
    }
   ],
   "source": [
    "\n",
    "#Juegos \n",
    "KobeBryant_j = [80,77,82,82,73,82,58,78,6,35]\n",
    "JoeJohnson_j = [82,57,82,79,76,72,60,72,79,80]\n",
    "LeBronJames_j = [79,78,75,81,76,79,62,76,77,69]\n",
    "CarmeloAnthony_j = [80,65,77,66,69,77,55,67,77,40]\n",
    "DwightHoward_j = [82,82,82,79,82,78,54,76,71,41]\n",
    "ChrisBosh_j = [70,69,67,77,70,77,57,74,79,44]\n",
    "ChrisPaul_j = [78,64,80,78,45,80,60,70,62,82]\n",
    "KevinDurant_j = [35,35,80,74,82,78,66,81,81,27]\n",
    "DerrickRose_j = [40,40,40,81,78,81,39,0,10,51]\n",
    "DwayneWade_j = [75,51,51,79,77,76,49,69,54,62]\n",
    "\n",
    "#Temporadas\n",
    "temporadas = [\"2005\",\"2006\",\"2007\",\"2008\",\"2009\",\"2010\",\"2011\",\"2012\",\"2013\",\"2014\"]\n",
    "dic_temp = {\"2005\":0,\"2006\":1,\"2007\":2,\"2008\":3,\"2009\":4,\"2010\":5,\"2011\":6,\"2012\":7,\"2013\":8,\"2014\":9}\n",
    "\n",
    "#Jugadores\n",
    "jugadores = [\"KobeBryant\",\"JoeJohnson\",\"LeBronJames\",\"CarmeloAnthony\",\"DwightHoward\",\"ChrisBosh\",\"ChrisPaul\",\"KevinDurant\",\"DerrickRose\",\"DwayneWade\"]\n",
    "dic_jug = {\"KobeBryant\":0,\"JoeJohnson\":1,\"LeBronJames\":2,\"CarmeloAnthony\":3,\"DwightHoward\":4,\"ChrisBosh\":5,\"ChrisPaul\":6,\"KevinDurant\":7,\"DerrickRose\":8,\"DwayneWade\":9}\n",
    "\n",
    "#Matrix\n",
    "juegos = np.array([KobeBryant_j, JoeJohnson_j, LeBronJames_j, CarmeloAnthony_j, DwightHoward_j, ChrisBosh_j, ChrisPaul_j, KevinDurant_j, DerrickRose_j, DwayneWade_j])\n",
    "\n",
    "juegos[dic_jug['JoeJohnson']][dic_temp['2012']]"
   ]
  },
  {
   "cell_type": "markdown",
   "id": "94ed3038-18e6-4c15-bbfe-6fdf804b3039",
   "metadata": {},
   "source": [
    "**Operaciones con matrices**"
   ]
  },
  {
   "cell_type": "code",
   "execution_count": null,
   "id": "8557b94e-e0ac-483f-a262-da597bd9b902",
   "metadata": {},
   "outputs": [],
   "source": []
  },
  {
   "cell_type": "code",
   "execution_count": null,
   "id": "bf3d782c-2726-463a-b4f8-1969b34d1f3e",
   "metadata": {},
   "outputs": [],
   "source": []
  },
  {
   "cell_type": "code",
   "execution_count": null,
   "id": "80a1596b-cda5-4858-b9e7-2997501047c4",
   "metadata": {},
   "outputs": [],
   "source": []
  },
  {
   "cell_type": "code",
   "execution_count": null,
   "id": "6ffa6201-ed11-45ad-8dea-2964cb8bd3ec",
   "metadata": {},
   "outputs": [],
   "source": []
  },
  {
   "cell_type": "code",
   "execution_count": null,
   "id": "4e22ef55-ae22-4f3e-a456-df308f4a9b24",
   "metadata": {},
   "outputs": [],
   "source": []
  },
  {
   "cell_type": "code",
   "execution_count": null,
   "id": "9846ec66-0af7-4512-a603-3dff41e33987",
   "metadata": {},
   "outputs": [],
   "source": []
  },
  {
   "cell_type": "code",
   "execution_count": null,
   "id": "414d3cd0-aefb-4514-b38d-db2290007688",
   "metadata": {},
   "outputs": [],
   "source": []
  }
 ],
 "metadata": {
  "kernelspec": {
   "display_name": "Python 3 (ipykernel)",
   "language": "python",
   "name": "python3"
  },
  "language_info": {
   "codemirror_mode": {
    "name": "ipython",
    "version": 3
   },
   "file_extension": ".py",
   "mimetype": "text/x-python",
   "name": "python",
   "nbconvert_exporter": "python",
   "pygments_lexer": "ipython3",
   "version": "3.12.4"
  }
 },
 "nbformat": 4,
 "nbformat_minor": 5
}
