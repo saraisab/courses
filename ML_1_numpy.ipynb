{
  "cells": [
    {
      "cell_type": "markdown",
      "id": "da98716f-3ef2-49f1-aba0-fab1fdb6d41b",
      "metadata": {
        "id": "da98716f-3ef2-49f1-aba0-fab1fdb6d41b"
      },
      "source": [
        "# Curso de python en udemy"
      ]
    },
    {
      "cell_type": "markdown",
      "id": "dbd0473b-f75d-4244-85ba-fff0ab3d077a",
      "metadata": {
        "id": "dbd0473b-f75d-4244-85ba-fff0ab3d077a"
      },
      "source": [
        "## Numpy"
      ]
    },
    {
      "cell_type": "markdown",
      "id": "62c9598f-4b31-4410-a04b-2990fb5572bd",
      "metadata": {
        "id": "62c9598f-4b31-4410-a04b-2990fb5572bd"
      },
      "source": [
        "#### Randn"
      ]
    },
    {
      "cell_type": "code",
      "execution_count": null,
      "id": "e74915ab-55ca-4725-8ef0-c5b0ed1c601f",
      "metadata": {
        "id": "e74915ab-55ca-4725-8ef0-c5b0ed1c601f",
        "outputId": "7d4e1151-7f7f-42b6-a04c-9f9d634b03e2"
      },
      "outputs": [
        {
          "name": "stdout",
          "output_type": "stream",
          "text": [
            "resultado es 0.6788\n"
          ]
        }
      ],
      "source": [
        "# Con números aleatorios pero positivos y negativos\n",
        "import numpy as np\n",
        "from numpy.random import randn\n",
        "\n",
        "resultado = 0\n",
        "contador = 0\n",
        "for i in randn(10000):\n",
        "    if i < 1 and i > -1:\n",
        "        resultado += 1\n",
        "    contador += 1\n",
        "print(f'resultado es {resultado/contador}')"
      ]
    },
    {
      "cell_type": "code",
      "execution_count": null,
      "id": "d64583fc-5ad6-4630-8ec2-d5ea59d45f30",
      "metadata": {
        "id": "d64583fc-5ad6-4630-8ec2-d5ea59d45f30",
        "outputId": "c77dd5a7-ca0d-4661-ffb3-9e61d71c06d7"
      },
      "outputs": [
        {
          "data": {
            "text/plain": [
              "array([[-1.0568285 , -1.54388983,  0.77414571],\n",
              "       [ 1.0194357 ,  0.223908  , -1.33580403],\n",
              "       [-0.1943379 ,  0.42080044,  0.17852683],\n",
              "       [-0.44506692, -0.36593675,  1.21114027],\n",
              "       [-1.10066561,  0.08454591,  0.23246502]])"
            ]
          },
          "execution_count": 46,
          "metadata": {},
          "output_type": "execute_result"
        }
      ],
      "source": [
        "# También se puede construir un vector\n",
        "import numpy as np\n",
        "vector = np.random.randn(5, 3)\n",
        "vector"
      ]
    },
    {
      "cell_type": "markdown",
      "id": "ee78493c-916e-4025-ae59-0533965f98c7",
      "metadata": {
        "id": "ee78493c-916e-4025-ae59-0533965f98c7"
      },
      "source": [
        "#### Rand"
      ]
    },
    {
      "cell_type": "code",
      "execution_count": null,
      "id": "f598f24b-4161-44ba-86af-8693231fdff2",
      "metadata": {
        "id": "f598f24b-4161-44ba-86af-8693231fdff2",
        "outputId": "0dd3e3d9-c160-4dfc-e0f0-bd616ff95dbd"
      },
      "outputs": [
        {
          "data": {
            "text/plain": [
              "array([0.10601463, 0.24487579, 0.43240822, 0.96009491, 0.19849926])"
            ]
          },
          "execution_count": 49,
          "metadata": {},
          "output_type": "execute_result"
        }
      ],
      "source": [
        "# Solo números positivos\n",
        "import numpy as np\n",
        "vector = np.random.rand(5)\n",
        "vector"
      ]
    },
    {
      "cell_type": "code",
      "execution_count": null,
      "id": "18208213-cf30-413d-af3e-ffbe31fd2b36",
      "metadata": {
        "id": "18208213-cf30-413d-af3e-ffbe31fd2b36",
        "outputId": "e396f748-44a1-4735-d888-7a972497e974"
      },
      "outputs": [
        {
          "data": {
            "text/plain": [
              "array([[0.48288093, 0.26207462, 0.65886966],\n",
              "       [0.31527303, 0.5668327 , 0.84182064],\n",
              "       [0.95935975, 0.20485767, 0.64546768],\n",
              "       [0.44010923, 0.42732359, 0.0819377 ],\n",
              "       [0.48195478, 0.21357189, 0.73343448]])"
            ]
          },
          "execution_count": 51,
          "metadata": {},
          "output_type": "execute_result"
        }
      ],
      "source": [
        "# También podemos construir una matriz\n",
        "import numpy as np\n",
        "vector = np.random.rand(5,3)\n",
        "vector"
      ]
    },
    {
      "cell_type": "markdown",
      "id": "c7301635-96ad-4e6a-9b15-d852d0b3b259",
      "metadata": {
        "id": "c7301635-96ad-4e6a-9b15-d852d0b3b259"
      },
      "source": [
        "**diferencia array de numpy vs lista**\n",
        "\n",
        "1 -  un array no puede tener distintos tipos de datos\n",
        "\n",
        "2. – un array funciona como un objeto y se le pueden aplicar mas métodos que a una lista\n"
      ]
    },
    {
      "cell_type": "code",
      "execution_count": null,
      "id": "91b820b2-91ff-4855-90fd-235a94686e17",
      "metadata": {
        "id": "91b820b2-91ff-4855-90fd-235a94686e17",
        "outputId": "5558eae7-5ca3-4afa-e95a-169a213456dc"
      },
      "outputs": [
        {
          "data": {
            "text/plain": [
              "array([ 235,   25, 2578])"
            ]
          },
          "execution_count": 19,
          "metadata": {},
          "output_type": "execute_result"
        }
      ],
      "source": [
        "import numpy as np\n",
        "lista = [235, 25, 2578]\n",
        "a = np.array(lista)\n",
        "a\n"
      ]
    },
    {
      "cell_type": "code",
      "execution_count": null,
      "id": "0c2a37b8-0257-4fed-ae12-bb3592ab4f71",
      "metadata": {
        "id": "0c2a37b8-0257-4fed-ae12-bb3592ab4f71",
        "outputId": "fbdcd1a1-dcd0-4be2-821f-e267d7af3a97"
      },
      "outputs": [
        {
          "data": {
            "text/plain": [
              "array(['z', 'b', 'c', 'd', 'e', 'f', 'g', 'h', 'i'], dtype='<U1')"
            ]
          },
          "execution_count": 21,
          "metadata": {},
          "output_type": "execute_result"
        }
      ],
      "source": [
        "'''\n",
        "si tenemos una variable con un array podemos crear una vista\n",
        "de ese array con slicing asingnandole una variable, pero si\n",
        "cambiamos el primer array el segundo tmbn se modificará,\n",
        "pero podemos hacer un copy y ya no se modificará\n",
        "'''\n",
        "\n",
        "import numpy as np\n",
        "letras = ['a', 'b', 'c', 'd', 'e', 'f', 'g', 'h', 'i']\n",
        "a = np.array(letras)\n",
        "c = letras[0:2].copy()\n",
        "a[0] = 'z'\n",
        "a\n"
      ]
    },
    {
      "cell_type": "code",
      "execution_count": null,
      "id": "2f7d0f65-ca61-49ef-8739-b0db76217ec5",
      "metadata": {
        "id": "2f7d0f65-ca61-49ef-8739-b0db76217ec5",
        "outputId": "b750b002-fc49-4c14-8532-27c6f5dac8cd"
      },
      "outputs": [
        {
          "data": {
            "text/plain": [
              "['a', 'b']"
            ]
          },
          "execution_count": 23,
          "metadata": {},
          "output_type": "execute_result"
        }
      ],
      "source": [
        "c"
      ]
    },
    {
      "cell_type": "markdown",
      "id": "598ad053-22dc-4323-a061-92a05fbb5973",
      "metadata": {
        "id": "598ad053-22dc-4323-a061-92a05fbb5973"
      },
      "source": [
        "#### arange\n"
      ]
    },
    {
      "cell_type": "code",
      "execution_count": null,
      "id": "05ad673f-b9d8-4c4b-ac15-5ae9d8fd72b4",
      "metadata": {
        "id": "05ad673f-b9d8-4c4b-ac15-5ae9d8fd72b4",
        "outputId": "ada287ad-ca6c-4274-ddf2-ad9436599297"
      },
      "outputs": [
        {
          "name": "stdout",
          "output_type": "stream",
          "text": [
            "[0 1 2 3 4 5 6 7 8 9]\n"
          ]
        }
      ],
      "source": [
        "# para sacar un rango\n",
        "listado = np.arange(10)\n",
        "print(listado)\n"
      ]
    },
    {
      "cell_type": "code",
      "execution_count": null,
      "id": "012d9d4c-ed04-4979-93b0-9c8653a7fd9e",
      "metadata": {
        "id": "012d9d4c-ed04-4979-93b0-9c8653a7fd9e",
        "outputId": "f703fa82-c245-47ed-db4b-61792b7ca756"
      },
      "outputs": [
        {
          "name": "stdout",
          "output_type": "stream",
          "text": [
            "[2 3 4 5 6 7 8 9]\n"
          ]
        }
      ],
      "source": [
        "import numpy as np\n",
        "listado = np.arange(2, 10)\n",
        "print(listado)\n"
      ]
    },
    {
      "cell_type": "code",
      "execution_count": null,
      "id": "20f12fb2-cbfe-4642-b359-c64fc7ffc041",
      "metadata": {
        "id": "20f12fb2-cbfe-4642-b359-c64fc7ffc041",
        "outputId": "3c5e208d-4e2c-4ecf-9a0f-34a2460d5dfc"
      },
      "outputs": [
        {
          "name": "stdout",
          "output_type": "stream",
          "text": [
            "[2 4 6 8]\n"
          ]
        }
      ],
      "source": [
        "listado = np.arange(2, 10, 2)\n",
        "print(listado)\n"
      ]
    },
    {
      "cell_type": "code",
      "execution_count": null,
      "id": "44a193cb-52dd-49bb-b75c-6b96486c4deb",
      "metadata": {
        "id": "44a193cb-52dd-49bb-b75c-6b96486c4deb",
        "outputId": "32889c6c-3e6b-483e-c3e1-9d33cb3ef44b"
      },
      "outputs": [
        {
          "data": {
            "text/plain": [
              "0"
            ]
          },
          "execution_count": 32,
          "metadata": {},
          "output_type": "execute_result"
        }
      ],
      "source": [
        "import numpy as np\n",
        "array = np.arange(0, 10)\n",
        "array[0]"
      ]
    },
    {
      "cell_type": "code",
      "execution_count": null,
      "id": "d258535e-3592-4d20-9d33-ac6699fedacd",
      "metadata": {
        "id": "d258535e-3592-4d20-9d33-ac6699fedacd",
        "outputId": "b64225f3-ae6f-4edd-b740-fd28ed101b1a"
      },
      "outputs": [
        {
          "data": {
            "text/plain": [
              "array([0, 1, 2, 3, 4, 5, 6, 7, 8, 9])"
            ]
          },
          "execution_count": 34,
          "metadata": {},
          "output_type": "execute_result"
        }
      ],
      "source": [
        "array"
      ]
    },
    {
      "cell_type": "code",
      "execution_count": null,
      "id": "b5959426-32ca-46ac-a2ca-5f2636d18b63",
      "metadata": {
        "id": "b5959426-32ca-46ac-a2ca-5f2636d18b63",
        "outputId": "6d6ccd56-80df-48d6-d916-eb3bcf71b3b6"
      },
      "outputs": [
        {
          "data": {
            "text/plain": [
              "9"
            ]
          },
          "execution_count": 36,
          "metadata": {},
          "output_type": "execute_result"
        }
      ],
      "source": [
        "array[-1]"
      ]
    },
    {
      "cell_type": "code",
      "execution_count": null,
      "id": "45a6f332-aaee-45e9-9a25-c88917b3568b",
      "metadata": {
        "id": "45a6f332-aaee-45e9-9a25-c88917b3568b",
        "outputId": "149ff24f-223f-4211-9ae9-d68321039c0c"
      },
      "outputs": [
        {
          "data": {
            "text/plain": [
              "array([2, 3])"
            ]
          },
          "execution_count": 38,
          "metadata": {},
          "output_type": "execute_result"
        }
      ],
      "source": [
        "array[2:4]"
      ]
    },
    {
      "cell_type": "markdown",
      "id": "970060d7-f316-4260-a550-6098723f2133",
      "metadata": {
        "id": "970060d7-f316-4260-a550-6098723f2133"
      },
      "source": [
        "\n",
        "Para sacar todo el array array[:]\n",
        "Para sacar de la posición 5 hasta el final array[5:]\n",
        "Para sacar de la posición inicial hasta la posición 4 array[:4]"
      ]
    },
    {
      "cell_type": "markdown",
      "id": "ffd205d9-c235-4b73-987a-fd17a054aa53",
      "metadata": {
        "id": "ffd205d9-c235-4b73-987a-fd17a054aa53"
      },
      "source": [
        "#### Condiciones arange"
      ]
    },
    {
      "cell_type": "code",
      "execution_count": null,
      "id": "5db447c1-6a16-49da-9236-159d9580828f",
      "metadata": {
        "id": "5db447c1-6a16-49da-9236-159d9580828f",
        "outputId": "025d17ea-ea67-4a5b-a16b-ca3daa9c8976"
      },
      "outputs": [
        {
          "data": {
            "text/plain": [
              "array([0, 1, 2, 3, 4, 5, 6, 7, 8, 9])"
            ]
          },
          "execution_count": 54,
          "metadata": {},
          "output_type": "execute_result"
        }
      ],
      "source": [
        "# numpy - seleccionar elementos de un array\n",
        "import numpy as np\n",
        "array = np.arange(0, 10)\n",
        "array"
      ]
    },
    {
      "cell_type": "code",
      "execution_count": null,
      "id": "fa112fef-a307-4cae-9d8a-183f09825289",
      "metadata": {
        "id": "fa112fef-a307-4cae-9d8a-183f09825289",
        "outputId": "60b1f5b7-15cd-456a-ac69-56937f0e0beb"
      },
      "outputs": [
        {
          "data": {
            "text/plain": [
              "array([False, False, False, False, False, False,  True,  True,  True,\n",
              "        True])"
            ]
          },
          "execution_count": 56,
          "metadata": {},
          "output_type": "execute_result"
        }
      ],
      "source": [
        "condicion = array > 5\n",
        "condicion"
      ]
    },
    {
      "cell_type": "code",
      "execution_count": null,
      "id": "845573dd-6fc4-4d87-9181-27889cd2001d",
      "metadata": {
        "id": "845573dd-6fc4-4d87-9181-27889cd2001d",
        "outputId": "2ee1e6ae-0c98-4d1d-ec59-b998c6cc06cd"
      },
      "outputs": [
        {
          "data": {
            "text/plain": [
              "array([6, 7, 8, 9])"
            ]
          },
          "execution_count": 58,
          "metadata": {},
          "output_type": "execute_result"
        }
      ],
      "source": [
        "array[condicion]"
      ]
    },
    {
      "cell_type": "code",
      "execution_count": null,
      "id": "b94e4920-51e4-48cf-82cb-88a4c7e2244c",
      "metadata": {
        "id": "b94e4920-51e4-48cf-82cb-88a4c7e2244c",
        "outputId": "d49299aa-4fe3-4216-df01-18b0e19dd4d1"
      },
      "outputs": [
        {
          "data": {
            "text/plain": [
              "array([6, 7, 8, 9])"
            ]
          },
          "execution_count": 60,
          "metadata": {},
          "output_type": "execute_result"
        }
      ],
      "source": [
        "array6 = array[condicion]\n",
        "array6"
      ]
    },
    {
      "cell_type": "code",
      "execution_count": null,
      "id": "d350e549-e8a5-4229-bc0e-08a6f7536872",
      "metadata": {
        "id": "d350e549-e8a5-4229-bc0e-08a6f7536872",
        "outputId": "d934b0e9-4e53-45f3-cd11-2f992a5cb82f"
      },
      "outputs": [
        {
          "data": {
            "text/plain": [
              "array([6, 7, 8, 9])"
            ]
          },
          "execution_count": 62,
          "metadata": {},
          "output_type": "execute_result"
        }
      ],
      "source": [
        "# mas rápido\n",
        "array[array > 5]"
      ]
    },
    {
      "cell_type": "markdown",
      "id": "9d4367ec-9f3f-4743-b53b-8b9ab48dbb4d",
      "metadata": {
        "id": "9d4367ec-9f3f-4743-b53b-8b9ab48dbb4d"
      },
      "source": [
        "#### Operaciones con arrays"
      ]
    },
    {
      "cell_type": "code",
      "execution_count": null,
      "id": "75ee2cd2-0c01-4140-a8df-e9c5b6a21f61",
      "metadata": {
        "id": "75ee2cd2-0c01-4140-a8df-e9c5b6a21f61",
        "outputId": "b4b10dca-d820-4ee2-b900-3040aa93bac6"
      },
      "outputs": [
        {
          "data": {
            "text/plain": [
              "array([0, 1, 2, 3, 4, 5, 6, 7, 8, 9])"
            ]
          },
          "execution_count": 65,
          "metadata": {},
          "output_type": "execute_result"
        }
      ],
      "source": [
        "array"
      ]
    },
    {
      "cell_type": "code",
      "execution_count": null,
      "id": "5cc97c75-1b85-40fe-b6d3-6ce50f393502",
      "metadata": {
        "id": "5cc97c75-1b85-40fe-b6d3-6ce50f393502",
        "outputId": "817cdba4-4df0-4ccb-c178-9819d9c546c6"
      },
      "outputs": [
        {
          "data": {
            "text/plain": [
              "array([ 0,  2,  4,  6,  8, 10, 12, 14, 16, 18])"
            ]
          },
          "execution_count": 67,
          "metadata": {},
          "output_type": "execute_result"
        }
      ],
      "source": [
        "array + array"
      ]
    },
    {
      "cell_type": "code",
      "execution_count": null,
      "id": "15514575-80fb-42db-acc1-adc012dba6e5",
      "metadata": {
        "id": "15514575-80fb-42db-acc1-adc012dba6e5",
        "outputId": "936367f1-fbcf-4678-b9e5-70ca71414c3d"
      },
      "outputs": [
        {
          "data": {
            "text/plain": [
              "array([0, 0, 0, 0, 0, 0, 0, 0, 0, 0])"
            ]
          },
          "execution_count": 69,
          "metadata": {},
          "output_type": "execute_result"
        }
      ],
      "source": [
        "array - array"
      ]
    },
    {
      "cell_type": "code",
      "execution_count": null,
      "id": "3f470b39-248f-4cbc-904a-f7f7ba3dd1be",
      "metadata": {
        "id": "3f470b39-248f-4cbc-904a-f7f7ba3dd1be",
        "outputId": "f02b9f31-f926-4795-aeb4-e1325c6835dd"
      },
      "outputs": [
        {
          "data": {
            "text/plain": [
              "array([  0, 100, 200, 300, 400, 500, 600, 700, 800, 900])"
            ]
          },
          "execution_count": 71,
          "metadata": {},
          "output_type": "execute_result"
        }
      ],
      "source": [
        "array * 100"
      ]
    },
    {
      "cell_type": "code",
      "execution_count": null,
      "id": "a3c226f7-bec5-4852-8d8c-51ab8c6f32ba",
      "metadata": {
        "id": "a3c226f7-bec5-4852-8d8c-51ab8c6f32ba",
        "outputId": "5485c7de-641b-4f45-c531-978f239b9b40"
      },
      "outputs": [
        {
          "data": {
            "text/plain": [
              "array([40, 41, 42, 43, 44, 45, 46, 47, 48, 49])"
            ]
          },
          "execution_count": 73,
          "metadata": {},
          "output_type": "execute_result"
        }
      ],
      "source": [
        "array + 40"
      ]
    },
    {
      "cell_type": "code",
      "execution_count": null,
      "id": "5fe0bb8a-6f5f-4086-baa9-bd7a6713959c",
      "metadata": {
        "id": "5fe0bb8a-6f5f-4086-baa9-bd7a6713959c",
        "outputId": "37d2ab99-16ce-4e29-9ff1-86c70326ec21"
      },
      "outputs": [
        {
          "data": {
            "text/plain": [
              "array([0, 1, 2, 3, 4, 5, 6, 7, 8, 9])"
            ]
          },
          "execution_count": 75,
          "metadata": {},
          "output_type": "execute_result"
        }
      ],
      "source": [
        "array"
      ]
    },
    {
      "cell_type": "code",
      "execution_count": null,
      "id": "a58fd09d-26e8-4185-9c81-cb2e75bd6a91",
      "metadata": {
        "id": "a58fd09d-26e8-4185-9c81-cb2e75bd6a91",
        "outputId": "6c90ccbc-0865-4d57-92ef-227c653c5069"
      },
      "outputs": [
        {
          "data": {
            "text/plain": [
              "array([0.        , 1.        , 1.41421356, 1.73205081, 2.        ,\n",
              "       2.23606798, 2.44948974, 2.64575131, 2.82842712, 3.        ])"
            ]
          },
          "execution_count": 77,
          "metadata": {},
          "output_type": "execute_result"
        }
      ],
      "source": [
        "# aplicando funciones\n",
        "np.sqrt(array)"
      ]
    },
    {
      "cell_type": "code",
      "execution_count": null,
      "id": "69244296-99c8-47ff-a3e7-559867369707",
      "metadata": {
        "id": "69244296-99c8-47ff-a3e7-559867369707",
        "outputId": "ec8ce21c-09d7-45b1-fee2-1727fd8c72d3"
      },
      "outputs": [
        {
          "data": {
            "text/plain": [
              "9"
            ]
          },
          "execution_count": 79,
          "metadata": {},
          "output_type": "execute_result"
        }
      ],
      "source": [
        "np.max(array)"
      ]
    },
    {
      "cell_type": "markdown",
      "id": "65d18fa8-26b6-4667-a342-6c787235c46b",
      "metadata": {
        "id": "65d18fa8-26b6-4667-a342-6c787235c46b"
      },
      "source": [
        "#### Linspace"
      ]
    },
    {
      "cell_type": "code",
      "execution_count": null,
      "id": "45c08f08-9f80-4ec5-8112-12ec13cfa98a",
      "metadata": {
        "id": "45c08f08-9f80-4ec5-8112-12ec13cfa98a",
        "outputId": "95c0f84d-e503-4587-f31e-a83d0496de0c"
      },
      "outputs": [
        {
          "name": "stdout",
          "output_type": "stream",
          "text": [
            "[3.         3.31578947 3.63157895 3.94736842 4.26315789 4.57894737\n",
            " 4.89473684 5.21052632 5.52631579 5.84210526 6.15789474 6.47368421\n",
            " 6.78947368 7.10526316 7.42105263 7.73684211 8.05263158 8.36842105\n",
            " 8.68421053 9.        ]\n"
          ]
        }
      ],
      "source": [
        "# genera 20 números entre 3 y 9\n",
        "import numpy as np\n",
        "vector = np.linspace(3,9,20)\n",
        "print(vector)\n"
      ]
    },
    {
      "cell_type": "markdown",
      "id": "0c56e7b4-a400-4576-8988-34e6dbe5ec11",
      "metadata": {
        "id": "0c56e7b4-a400-4576-8988-34e6dbe5ec11"
      },
      "source": [
        "#### Randint"
      ]
    },
    {
      "cell_type": "markdown",
      "id": "49042db6-a812-4a70-a467-890e1d444f46",
      "metadata": {
        "id": "49042db6-a812-4a70-a467-890e1d444f46"
      },
      "source": [
        "Sirve para genera aleatorios enteros, si le das un numero muestra entre 0 y ese numero  \n",
        "Si le das dos, genera un numero entre el primero y el segundo(el segundo no se mostrará nunca)\n"
      ]
    },
    {
      "cell_type": "code",
      "execution_count": null,
      "id": "f64ab8ab-18e9-4462-8b5b-0a41a5c5ef20",
      "metadata": {
        "id": "f64ab8ab-18e9-4462-8b5b-0a41a5c5ef20",
        "outputId": "1b1027ac-0c36-4b5f-e6f2-ad6bb358711d"
      },
      "outputs": [
        {
          "data": {
            "text/plain": [
              "3"
            ]
          },
          "execution_count": 87,
          "metadata": {},
          "output_type": "execute_result"
        }
      ],
      "source": [
        "import numpy as np\n",
        "np.random.randint(3,20)"
      ]
    },
    {
      "cell_type": "markdown",
      "id": "d6265bc3-ef86-4c84-b8dd-d3d3def16cc4",
      "metadata": {
        "id": "d6265bc3-ef86-4c84-b8dd-d3d3def16cc4"
      },
      "source": [
        "## MATRICES"
      ]
    },
    {
      "cell_type": "markdown",
      "id": "7daffa74-193d-466b-a299-ac0dd00202bf",
      "metadata": {
        "id": "7daffa74-193d-466b-a299-ac0dd00202bf"
      },
      "source": [
        "#### ZEROS ONES"
      ]
    },
    {
      "cell_type": "code",
      "execution_count": null,
      "id": "cb4c99e9-7ed1-4ef0-a26f-d666aeb29db7",
      "metadata": {
        "id": "cb4c99e9-7ed1-4ef0-a26f-d666aeb29db7"
      },
      "outputs": [],
      "source": [
        "\n",
        "# Podemos crear un vector con zeros, con ones pondría 1 en lugar de 0\n",
        "import numpy as np\n",
        "vector = np.zeros((3, 6))\n",
        "print(vector)\n"
      ]
    },
    {
      "cell_type": "code",
      "execution_count": null,
      "id": "68bea7c4-dd68-483a-876d-5363902527e7",
      "metadata": {
        "id": "68bea7c4-dd68-483a-876d-5363902527e7",
        "outputId": "5eec210e-5a82-45c1-d1c6-01a12f51ef04"
      },
      "outputs": [
        {
          "data": {
            "text/plain": [
              "array([14,  4, 12,  6,  8])"
            ]
          },
          "execution_count": 89,
          "metadata": {},
          "output_type": "execute_result"
        }
      ],
      "source": [
        "# Con un numero parámetros generas un numero nuevo de enteros\n",
        "import numpy as np\n",
        "np.random.randint(3, 20, 5)"
      ]
    },
    {
      "cell_type": "code",
      "execution_count": null,
      "id": "d1db8659-00ed-413e-9892-f973fdad0447",
      "metadata": {
        "id": "d1db8659-00ed-413e-9892-f973fdad0447",
        "outputId": "bff05dc3-7cc2-4262-c520-9f074e2326dd"
      },
      "outputs": [
        {
          "name": "stdout",
          "output_type": "stream",
          "text": [
            "[1. 1. 1.]\n"
          ]
        }
      ],
      "source": [
        "import numpy as np\n",
        "vector = np.ones(3)\n",
        "print(vector)\n"
      ]
    },
    {
      "cell_type": "markdown",
      "id": "44280341-c60d-44c6-84b6-929a06ac34f7",
      "metadata": {
        "id": "44280341-c60d-44c6-84b6-929a06ac34f7"
      },
      "source": [
        "#### EYE"
      ]
    },
    {
      "cell_type": "code",
      "execution_count": null,
      "id": "7c56b2ca-f019-4c43-84dc-31a368fed59c",
      "metadata": {
        "id": "7c56b2ca-f019-4c43-84dc-31a368fed59c",
        "outputId": "4fb8f997-cbf5-491d-8074-7fc122636a83"
      },
      "outputs": [
        {
          "name": "stdout",
          "output_type": "stream",
          "text": [
            "[[1. 0. 0. 0. 0. 0.]\n",
            " [0. 1. 0. 0. 0. 0.]\n",
            " [0. 0. 1. 0. 0. 0.]\n",
            " [0. 0. 0. 1. 0. 0.]\n",
            " [0. 0. 0. 0. 1. 0.]\n",
            " [0. 0. 0. 0. 0. 1.]]\n"
          ]
        }
      ],
      "source": [
        "import numpy as np\n",
        "vector = np.eye(6)\n",
        "print(vector)\n"
      ]
    },
    {
      "cell_type": "markdown",
      "id": "e560d4ab-a016-46be-80b2-79ea0a6bdc1f",
      "metadata": {
        "id": "e560d4ab-a016-46be-80b2-79ea0a6bdc1f"
      },
      "source": [
        "### Indexación matrices\n",
        "Para acceder a un valor de una matriz haremos a[2,3] para un valor,  \n",
        "y para toda la fila haremos a[0,:]   \n",
        "[:,0] para la columna\n",
        "\n",
        "### Para construir una matriz"
      ]
    },
    {
      "cell_type": "code",
      "execution_count": null,
      "id": "f3168f19-e17f-4ca3-8adb-80f001e89816",
      "metadata": {
        "id": "f3168f19-e17f-4ca3-8adb-80f001e89816",
        "outputId": "65e66b53-2146-4a9b-9c31-024d17b3dd2d"
      },
      "outputs": [
        {
          "name": "stdout",
          "output_type": "stream",
          "text": [
            "[ 0  1  2  3  4  5  6  7  8  9 10 11 12 13 14 15 16 17 18 19]\n"
          ]
        }
      ],
      "source": [
        "import numpy as np\n",
        "mis_datos = np.arange(0, 20)\n",
        "print(mis_datos)"
      ]
    },
    {
      "cell_type": "code",
      "execution_count": null,
      "id": "77185273-eabb-476a-b48c-ab43555657b0",
      "metadata": {
        "id": "77185273-eabb-476a-b48c-ab43555657b0",
        "outputId": "3bcb70ff-3896-491c-9d26-e6b92e64bfd2"
      },
      "outputs": [
        {
          "data": {
            "text/plain": [
              "array([[ 0,  1,  2,  3],\n",
              "       [ 4,  5,  6,  7],\n",
              "       [ 8,  9, 10, 11],\n",
              "       [12, 13, 14, 15],\n",
              "       [16, 17, 18, 19]])"
            ]
          },
          "execution_count": 108,
          "metadata": {},
          "output_type": "execute_result"
        }
      ],
      "source": [
        "# con C los numeros se ordenan en horizontal\n",
        "matr_1 = np.reshape(mis_datos, (5, 4), order = 'C')\n",
        "matr_1"
      ]
    },
    {
      "cell_type": "code",
      "execution_count": null,
      "id": "7510c9e5-8b63-4e70-b0d3-95501683e1e0",
      "metadata": {
        "id": "7510c9e5-8b63-4e70-b0d3-95501683e1e0",
        "outputId": "1a340fad-5517-4429-a9e7-f408582e7bdc"
      },
      "outputs": [
        {
          "data": {
            "text/plain": [
              "9"
            ]
          },
          "execution_count": 110,
          "metadata": {},
          "output_type": "execute_result"
        }
      ],
      "source": [
        "matr_1[2,1]"
      ]
    },
    {
      "cell_type": "code",
      "execution_count": null,
      "id": "45bab4f2-59cd-4bad-a886-d8e85602ba87",
      "metadata": {
        "id": "45bab4f2-59cd-4bad-a886-d8e85602ba87",
        "outputId": "6caabab5-12e2-44a7-e79e-d03c6eda8102"
      },
      "outputs": [
        {
          "data": {
            "text/plain": [
              "array([[ 0,  5, 10, 15],\n",
              "       [ 1,  6, 11, 16],\n",
              "       [ 2,  7, 12, 17],\n",
              "       [ 3,  8, 13, 18],\n",
              "       [ 4,  9, 14, 19]])"
            ]
          },
          "execution_count": 114,
          "metadata": {},
          "output_type": "execute_result"
        }
      ],
      "source": [
        "# con F se ordenan en vertical\n",
        "matr_2 = np.reshape(mis_datos,(5, 4), order='F')\n",
        "matr_2"
      ]
    },
    {
      "cell_type": "code",
      "execution_count": null,
      "id": "dab6d4ad-6d30-428c-b155-343e29044338",
      "metadata": {
        "id": "dab6d4ad-6d30-428c-b155-343e29044338",
        "outputId": "00466913-104b-4d0e-a5b9-09f1a26bef47"
      },
      "outputs": [
        {
          "data": {
            "text/plain": [
              "7"
            ]
          },
          "execution_count": 118,
          "metadata": {},
          "output_type": "execute_result"
        }
      ],
      "source": [
        "matr_2[2,1]"
      ]
    },
    {
      "cell_type": "code",
      "execution_count": null,
      "id": "cf8b9ff0-11d4-4e7c-b508-8e807f46f947",
      "metadata": {
        "id": "cf8b9ff0-11d4-4e7c-b508-8e807f46f947",
        "outputId": "74b12868-403b-4b6e-b013-dc99283347bd"
      },
      "outputs": [
        {
          "data": {
            "text/plain": [
              "array([ 0,  1,  2,  3,  4,  5,  6,  7,  8,  9, 10, 11, 12, 13, 14, 15, 16,\n",
              "       17, 18, 19])"
            ]
          },
          "execution_count": 120,
          "metadata": {},
          "output_type": "execute_result"
        }
      ],
      "source": [
        "mis_datos"
      ]
    },
    {
      "cell_type": "code",
      "execution_count": null,
      "id": "88c01e17-ddf3-4ef1-a9b7-b74264a6edb2",
      "metadata": {
        "id": "88c01e17-ddf3-4ef1-a9b7-b74264a6edb2",
        "outputId": "ae0d9451-2ffc-4e04-cdf7-5692201bbba8"
      },
      "outputs": [
        {
          "data": {
            "text/plain": [
              "array([[ 0,  1,  2,  3],\n",
              "       [ 4,  5,  6,  7],\n",
              "       [ 8,  9, 10, 11],\n",
              "       [12, 13, 14, 15],\n",
              "       [16, 17, 18, 19]])"
            ]
          },
          "execution_count": 122,
          "metadata": {},
          "output_type": "execute_result"
        }
      ],
      "source": [
        "mis_datos.reshape(5, 4)"
      ]
    },
    {
      "cell_type": "markdown",
      "id": "10624006-2374-4ef6-8be9-3d9a2f6920de",
      "metadata": {
        "id": "10624006-2374-4ef6-8be9-3d9a2f6920de"
      },
      "source": [
        "#### np.array()"
      ]
    },
    {
      "cell_type": "code",
      "execution_count": null,
      "id": "1bfb373e-4106-4ef0-89a4-112767d79059",
      "metadata": {
        "id": "1bfb373e-4106-4ef0-89a4-112767d79059",
        "outputId": "49b6fa55-0efd-42c4-f04b-30930c8ef2f7"
      },
      "outputs": [
        {
          "data": {
            "text/plain": [
              "[['Soy', 'muy', 'feliz'], ['Qué', 'gran', 'día'], [1, 2, 3]]"
            ]
          },
          "execution_count": 125,
          "metadata": {},
          "output_type": "execute_result"
        }
      ],
      "source": [
        "r1 = [\"Soy\", \"muy\", \"feliz\"]\n",
        "r2 = [\"Qué\", \"gran\", \"día\"]\n",
        "r3 = [1, 2, 3]\n",
        "[r1, r2, r3]"
      ]
    },
    {
      "cell_type": "code",
      "execution_count": null,
      "id": "fe140ffe-5c59-4761-a9f7-e5a84e015b95",
      "metadata": {
        "id": "fe140ffe-5c59-4761-a9f7-e5a84e015b95",
        "outputId": "632cb43f-264b-4e71-8c21-1c6629f9ab99"
      },
      "outputs": [
        {
          "data": {
            "text/plain": [
              "array([['Soy', 'muy', 'feliz'],\n",
              "       ['Qué', 'gran', 'día'],\n",
              "       ['1', '2', '3']], dtype='<U11')"
            ]
          },
          "execution_count": 127,
          "metadata": {},
          "output_type": "execute_result"
        }
      ],
      "source": [
        "np.array([r1, r2, r3])"
      ]
    },
    {
      "cell_type": "markdown",
      "id": "432911b9-178d-44d2-91f4-c95c6a9a1886",
      "metadata": {
        "id": "432911b9-178d-44d2-91f4-c95c6a9a1886"
      },
      "source": [
        "**numpy - indexacción en arrays de 2 o más dimensiones**\n",
        "Array[0] sacaria la primera fila  \n",
        "Para sacar las dos primeras filas, array[:2]  \n",
        "Array[0][0] para sacar el primer elemento o array[0,0]  \n",
        "Para sacar la primera columna sería array[:,0]  \n",
        "Para las dos primeras columnas sería array[:,2]  \n"
      ]
    },
    {
      "cell_type": "code",
      "execution_count": null,
      "id": "f4d4a542-6b5d-4153-8b5e-d27b52f98fc8",
      "metadata": {
        "id": "f4d4a542-6b5d-4153-8b5e-d27b52f98fc8",
        "outputId": "53eb4e49-5ca2-45e8-d862-722020c92903"
      },
      "outputs": [
        {
          "data": {
            "text/plain": [
              "array([[1, 2, 3],\n",
              "       [4, 5, 6],\n",
              "       [7, 8, 9]])"
            ]
          },
          "execution_count": 130,
          "metadata": {},
          "output_type": "execute_result"
        }
      ],
      "source": [
        "import numpy as np\n",
        "array = np.array([[1, 2, 3], [4, 5, 6], [7, 8, 9]])\n",
        "array"
      ]
    },
    {
      "cell_type": "code",
      "execution_count": null,
      "id": "cf72a4f2-29a3-4a6e-af9d-6bc0ad07a19b",
      "metadata": {
        "id": "cf72a4f2-29a3-4a6e-af9d-6bc0ad07a19b",
        "outputId": "4b1f4957-8c93-401c-bc93-5f6d7087256c"
      },
      "outputs": [
        {
          "data": {
            "text/plain": [
              "array([1, 2, 3])"
            ]
          },
          "execution_count": 132,
          "metadata": {},
          "output_type": "execute_result"
        }
      ],
      "source": [
        "array[0]"
      ]
    },
    {
      "cell_type": "markdown",
      "id": "e9c58ec0-e57b-4c97-849c-dad316b5d3af",
      "metadata": {
        "id": "e9c58ec0-e57b-4c97-849c-dad316b5d3af"
      },
      "source": [
        "#### DICCIONARIOS CON MATRICES"
      ]
    },
    {
      "cell_type": "code",
      "execution_count": 3,
      "id": "2a8ffe35-7a00-44b1-9594-c1f54dcaee72",
      "metadata": {
        "colab": {
          "base_uri": "https://localhost:8080/"
        },
        "id": "2a8ffe35-7a00-44b1-9594-c1f54dcaee72",
        "outputId": "19e1f3d9-32b2-4f74-fa0c-0d114eccf6e8"
      },
      "outputs": [
        {
          "output_type": "execute_result",
          "data": {
            "text/plain": [
              "72"
            ]
          },
          "metadata": {},
          "execution_count": 3
        }
      ],
      "source": [
        "\n",
        "#Juegos\n",
        "KobeBryant_j = [80,77,82,82,73,82,58,78,6,35]\n",
        "JoeJohnson_j = [82,57,82,79,76,72,60,72,79,80]\n",
        "LeBronJames_j = [79,78,75,81,76,79,62,76,77,69]\n",
        "CarmeloAnthony_j = [80,65,77,66,69,77,55,67,77,40]\n",
        "DwightHoward_j = [82,82,82,79,82,78,54,76,71,41]\n",
        "ChrisBosh_j = [70,69,67,77,70,77,57,74,79,44]\n",
        "ChrisPaul_j = [78,64,80,78,45,80,60,70,62,82]\n",
        "KevinDurant_j = [35,35,80,74,82,78,66,81,81,27]\n",
        "DerrickRose_j = [40,40,40,81,78,81,39,0,10,51]\n",
        "DwayneWade_j = [75,51,51,79,77,76,49,69,54,62]\n",
        "\n",
        "#Temporadas\n",
        "temporadas = [\"2005\",\"2006\",\"2007\",\"2008\",\"2009\",\"2010\",\"2011\",\"2012\",\"2013\",\"2014\"]\n",
        "dic_temp = {\"2005\":0,\"2006\":1,\"2007\":2,\"2008\":3,\"2009\":4,\"2010\":5,\"2011\":6,\"2012\":7,\"2013\":8,\"2014\":9}\n",
        "\n",
        "#Jugadores\n",
        "jugadores = [\"KobeBryant\",\"JoeJohnson\",\"LeBronJames\",\"CarmeloAnthony\",\"DwightHoward\",\"ChrisBosh\",\"ChrisPaul\",\"KevinDurant\",\"DerrickRose\",\"DwayneWade\"]\n",
        "dic_jug = {\"KobeBryant\":0,\"JoeJohnson\":1,\"LeBronJames\":2,\"CarmeloAnthony\":3,\"DwightHoward\":4,\"ChrisBosh\":5,\"ChrisPaul\":6,\"KevinDurant\":7,\"DerrickRose\":8,\"DwayneWade\":9}\n",
        "\n",
        "#Matrix\n",
        "juegos = np.array([KobeBryant_j, JoeJohnson_j, LeBronJames_j, CarmeloAnthony_j, DwightHoward_j, ChrisBosh_j, ChrisPaul_j, KevinDurant_j, DerrickRose_j, DwayneWade_j])\n"
      ]
    },
    {
      "cell_type": "code",
      "source": [
        "import numpy as np\n",
        "import matplotlib.pyplot as plt\n",
        "import warnings\n",
        "\n",
        "#Juegos\n",
        "KobeBryant_j = [80,77,82,82,73,82,58,78,6,35]\n",
        "JoeJohnson_j = [82,57,82,79,76,72,60,72,79,80]\n",
        "LeBronJames_j = [79,78,75,81,76,79,62,76,77,69]\n",
        "CarmeloAnthony_j = [80,65,77,66,69,77,55,67,77,40]\n",
        "DwightHoward_j = [82,82,82,79,82,78,54,76,71,41]\n",
        "ChrisBosh_j = [70,69,67,77,70,77,57,74,79,44]\n",
        "ChrisPaul_j = [78,64,80,78,45,80,60,70,62,82]\n",
        "KevinDurant_j = [35,35,80,74,82,78,66,81,81,27]\n",
        "DerrickRose_j = [40,40,40,81,78,81,39,0,10,51]\n",
        "DwayneWade_j = [75,51,51,79,77,76,49,69,54,62]\n",
        "#Matrix\n",
        "juegos = np.array([KobeBryant_j, JoeJohnson_j, LeBronJames_j, CarmeloAnthony_j, DwightHoward_j, ChrisBosh_j, ChrisPaul_j, KevinDurant_j, DerrickRose_j, DwayneWade_j])\n",
        "\n",
        "#Temporadas\n",
        "temporadas = [\"2005\",\"2006\",\"2007\",\"2008\",\"2009\",\"2010\",\"2011\",\"2012\",\"2013\",\"2014\"]\n",
        "dic_temp = {\"2005\":0,\"2006\":1,\"2007\":2,\"2008\":3,\"2009\":4,\"2010\":5,\"2011\":6,\"2012\":7,\"2013\":8,\"2014\":9}\n",
        "\n",
        "#Jugadores\n",
        "jugadores = [\"KobeBryant\",\"JoeJohnson\",\"LeBronJames\",\"CarmeloAnthony\",\"DwightHoward\",\"ChrisBosh\",\"ChrisPaul\",\"KevinDurant\",\"DerrickRose\",\"DwayneWade\"]\n",
        "dic_jug = {\"KobeBryant\":0,\"JoeJohnson\":1,\"LeBronJames\":2,\"CarmeloAnthony\":3,\"DwightHoward\":4,\"ChrisBosh\":5,\"ChrisPaul\":6,\"KevinDurant\":7,\"DerrickRose\":8,\"DwayneWade\":9}\n",
        "\n",
        "#Tiros Libres\n",
        "KobeBryant_tl = [696,667,623,483,439,483,381,525,18,196]\n",
        "JoeJohnson_tl = [261,235,316,299,220,195,158,132,159,141]\n",
        "LeBronJames_tl = [601,489,549,594,593,503,387,403,439,375]\n",
        "CarmeloAnthony_tl = [573,459,464,371,508,507,295,425,459,189]\n",
        "DwightHoward_tl = [356,390,529,504,483,546,281,355,349,143]\n",
        "ChrisBosh_tl = [474,463,472,504,470,384,229,241,223,179]\n",
        "ChrisPaul_tl = [394,292,332,455,161,337,260,286,295,289]\n",
        "KevinDurant_tl = [209,209,391,452,756,594,431,679,703,146]\n",
        "DerrickRose_tl = [146,146,146,197,259,476,194,0,27,152]\n",
        "DwayneWade_tl = [629,432,354,590,534,494,235,308,189,284]\n",
        "\n",
        "#Matriz\n",
        "#\n",
        "tiros_libres = np.array([KobeBryant_tl, JoeJohnson_tl, LeBronJames_tl, CarmeloAnthony_tl, DwightHoward_tl, ChrisBosh_tl,\n",
        "                         ChrisPaul_tl, KevinDurant_tl, DerrickRose_tl, DwayneWade_tl])\n",
        "#\n",
        "\n",
        "#Tiros Libres Intentados\n",
        "KobeBryant_tli = [819,768,742,564,541,583,451,626,21,241]\n",
        "JoeJohnson_tli = [330,314,379,362,269,243,186,161,195,176]\n",
        "LeBronJames_tli = [814,701,771,762,773,663,502,535,585,528]\n",
        "CarmeloAnthony_tli = [709,568,590,468,612,605,367,512,541,237]\n",
        "DwightHoward_tli = [598,666,897,849,816,916,572,721,638,271]\n",
        "ChrisBosh_tli = [581,590,559,617,590,471,279,302,272,232]\n",
        "ChrisPaul_tli = [465,357,390,524,190,384,302,323,345,321]\n",
        "KevinDurant_tli = [256,256,448,524,840,675,501,750,805,171]\n",
        "DerrickRose_tli = [205,205,205,250,338,555,239,0,32,187]\n",
        "DwayneWade_tli = [803,535,467,771,702,652,297,425,258,370]\n",
        "\n",
        "#Matriz\n",
        "#\n",
        "tiros_libres_intentados = np.array([KobeBryant_tli, JoeJohnson_tli, LeBronJames_tli, CarmeloAnthony_tli, DwightHoward_tli, ChrisBosh_tli,\n",
        "                         ChrisPaul_tli, KevinDurant_tli, DerrickRose_tli, DwayneWade_tli])\n",
        "\n",
        "#Tiros Anotados\n",
        "KobeBryant_ta = [978,813,775,800,716,740,574,738,31,266]\n",
        "JoeJohnson_ta = [632,536,647,620,635,514,423,445,462,446]\n",
        "LeBronJames_ta = [875,772,794,789,768,758,621,765,767,624]\n",
        "CarmeloAnthony_ta = [756,691,728,535,688,684,441,669,743,358]\n",
        "DwightHoward_ta = [468,526,583,560,510,619,416,470,473,251]\n",
        "ChrisBosh_ta = [549,543,507,615,600,524,393,485,492,343]\n",
        "ChrisPaul_ta = [407,381,630,631,314,430,425,412,406,568]\n",
        "KevinDurant_ta = [306,306,587,661,794,711,643,731,849,238]\n",
        "DerrickRose_ta = [208,208,208,574,672,711,302,0,58,338]\n",
        "DwayneWade_ta = [699,472,439,854,719,692,416,569,415,509]\n",
        "\n",
        "#Matriz\n",
        "tiros_anotados  = np.array([KobeBryant_ta, JoeJohnson_ta, LeBronJames_ta, CarmeloAnthony_ta, DwightHoward_ta, ChrisBosh_ta, ChrisPaul_ta, KevinDurant_ta, DerrickRose_ta, DwayneWade_ta])\n",
        "\n",
        "#Tiros Intentados\n",
        "KobeBryant_ti = [2173,1757,1690,1712,1569,1639,1336,1595,73,713]\n",
        "JoeJohnson_ti = [1395,1139,1497,1420,1386,1161,931,1052,1018,1025]\n",
        "LeBronJames_ti = [1823,1621,1642,1613,1528,1485,1169,1354,1353,1279]\n",
        "CarmeloAnthony_ti = [1572,1453,1481,1207,1502,1503,1025,1489,1643,806]\n",
        "DwightHoward_ti = [881,873,974,979,834,1044,726,813,800,423]\n",
        "ChrisBosh_ti = [1087,1094,1027,1263,1158,1056,807,907,953,745]\n",
        "ChrisPaul_ti = [947,871,1291,1255,637,928,890,856,870,1170]\n",
        "KevinDurant_ti = [647,647,1366,1390,1668,1538,1297,1433,1688,467]\n",
        "DerrickRose_ti = [436,436,436,1208,1373,1597,695,0,164,835]\n",
        "DwayneWade_ti = [1413,962,937,1739,1511,1384,837,1093,761,1084]\n",
        "\n",
        "#Matriz\n",
        "tiros_intentados = np.array([KobeBryant_ti, JoeJohnson_ti, LeBronJames_ti, CarmeloAnthony_ti, DwightHoward_ti, ChrisBosh_ti, ChrisPaul_ti, KevinDurant_ti, DerrickRose_ti, DwayneWade_ti])\n",
        "\n",
        "\n",
        "\n",
        "\n",
        "\n",
        "#colores graficas\n",
        "col = {\"KobeBryant\":'Black',\"JoeJohnson\":'Green',\"LeBronJames\":'Red',\"CarmeloAnthony\":'Magenta',\"DwightHoward\":'Blue',\"ChrisBosh\":'Yellow',\"ChrisPaul\":'Lime',\"KevinDurant\":'Olive',\"DerrickRose\":'Brown',\"DwayneWade\":'Yellow'}\n",
        "\n",
        "warnings.filterwarnings('ignore')\n",
        "\n",
        "\n",
        "juegos[dic_jug['JoeJohnson']][dic_temp['2012']]"
      ],
      "metadata": {
        "colab": {
          "base_uri": "https://localhost:8080/"
        },
        "id": "0SYm_1L3nWad",
        "outputId": "06c217dc-ed21-4ad5-9a01-9e61a453e9ce"
      },
      "id": "0SYm_1L3nWad",
      "execution_count": 6,
      "outputs": [
        {
          "output_type": "execute_result",
          "data": {
            "text/plain": [
              "72"
            ]
          },
          "metadata": {},
          "execution_count": 6
        }
      ]
    },
    {
      "cell_type": "markdown",
      "id": "94ed3038-18e6-4c15-bbfe-6fdf804b3039",
      "metadata": {
        "id": "94ed3038-18e6-4c15-bbfe-6fdf804b3039"
      },
      "source": [
        "**Operaciones con matrices**"
      ]
    },
    {
      "cell_type": "code",
      "execution_count": 7,
      "id": "8557b94e-e0ac-483f-a262-da597bd9b902",
      "metadata": {
        "colab": {
          "base_uri": "https://localhost:8080/"
        },
        "id": "8557b94e-e0ac-483f-a262-da597bd9b902",
        "outputId": "919837eb-134c-446c-fbe7-0b213db5a090"
      },
      "outputs": [
        {
          "output_type": "execute_result",
          "data": {
            "text/plain": [
              "array([[12., 11.,  9., 10., 10.,  9., 10.,  9.,  5.,  8.],\n",
              "       [ 8.,  9.,  8.,  8.,  8.,  7.,  7.,  6.,  6.,  6.],\n",
              "       [11., 10., 11., 10., 10., 10., 10., 10., 10.,  9.],\n",
              "       [ 9., 11.,  9.,  8., 10.,  9.,  8., 10., 10.,  9.],\n",
              "       [ 6.,  6.,  7.,  7.,  6.,  8.,  8.,  6.,  7.,  6.],\n",
              "       [ 8.,  8.,  8.,  8.,  9.,  7.,  7.,  7.,  6.,  8.],\n",
              "       [ 5.,  6.,  8.,  8.,  7.,  5.,  7.,  6.,  7.,  7.],\n",
              "       [ 9.,  9.,  7.,  9., 10.,  9., 10.,  9., 10.,  9.],\n",
              "       [ 5.,  5.,  5.,  7.,  9.,  9.,  8., nan,  6.,  7.],\n",
              "       [ 9.,  9.,  9., 11.,  9.,  9.,  8.,  8.,  8.,  8.]])"
            ]
          },
          "metadata": {},
          "execution_count": 7
        }
      ],
      "source": [
        "import numpy as np\n",
        "import warnings\n",
        "warnings.filterwarnings('ignore')\n",
        "\n",
        "\n",
        "#Matriz\n",
        "tiros_anotados  = np.array([KobeBryant_ta, JoeJohnson_ta, LeBronJames_ta, CarmeloAnthony_ta, DwightHoward_ta, ChrisBosh_ta, ChrisPaul_ta, KevinDurant_ta, DerrickRose_ta, DwayneWade_ta])\n",
        "\n",
        "np.matrix.round(tiros_anotados/juegos)"
      ]
    },
    {
      "cell_type": "code",
      "source": [
        "tiros_anotados_por_juego = np.matrix.round(tiros_anotados/juegos)\n",
        "tiros_anotados_por_juego"
      ],
      "metadata": {
        "colab": {
          "base_uri": "https://localhost:8080/"
        },
        "id": "kWW1av6Wm5jS",
        "outputId": "f6a5f3d8-ba2f-4b67-c54e-ab3b6acd8879"
      },
      "id": "kWW1av6Wm5jS",
      "execution_count": 8,
      "outputs": [
        {
          "output_type": "execute_result",
          "data": {
            "text/plain": [
              "array([[12., 11.,  9., 10., 10.,  9., 10.,  9.,  5.,  8.],\n",
              "       [ 8.,  9.,  8.,  8.,  8.,  7.,  7.,  6.,  6.,  6.],\n",
              "       [11., 10., 11., 10., 10., 10., 10., 10., 10.,  9.],\n",
              "       [ 9., 11.,  9.,  8., 10.,  9.,  8., 10., 10.,  9.],\n",
              "       [ 6.,  6.,  7.,  7.,  6.,  8.,  8.,  6.,  7.,  6.],\n",
              "       [ 8.,  8.,  8.,  8.,  9.,  7.,  7.,  7.,  6.,  8.],\n",
              "       [ 5.,  6.,  8.,  8.,  7.,  5.,  7.,  6.,  7.,  7.],\n",
              "       [ 9.,  9.,  7.,  9., 10.,  9., 10.,  9., 10.,  9.],\n",
              "       [ 5.,  5.,  5.,  7.,  9.,  9.,  8., nan,  6.,  7.],\n",
              "       [ 9.,  9.,  9., 11.,  9.,  9.,  8.,  8.,  8.,  8.]])"
            ]
          },
          "metadata": {},
          "execution_count": 8
        }
      ]
    },
    {
      "cell_type": "code",
      "execution_count": 9,
      "id": "bf3d782c-2726-463a-b4f8-1969b34d1f3e",
      "metadata": {
        "colab": {
          "base_uri": "https://localhost:8080/"
        },
        "id": "bf3d782c-2726-463a-b4f8-1969b34d1f3e",
        "outputId": "a27e8228-8580-49ac-a4cc-5051d1e9179b"
      },
      "outputs": [
        {
          "output_type": "execute_result",
          "data": {
            "text/plain": [
              "10.0"
            ]
          },
          "metadata": {},
          "execution_count": 9
        }
      ],
      "source": [
        "tiros_anotados_por_juego[dic_jug['LeBronJames']][dic_temp['2009']]"
      ]
    },
    {
      "cell_type": "code",
      "execution_count": 12,
      "id": "80a1596b-cda5-4858-b9e7-2997501047c4",
      "metadata": {
        "id": "80a1596b-cda5-4858-b9e7-2997501047c4"
      },
      "outputs": [],
      "source": [
        "#Minutos Jugados\n",
        "KobeBryant_mj = [3277,3140,3192,2960,2835,2779,2232,3013,177,1207]\n",
        "JoeJohnson_mj = [3340,2359,3343,3124,2886,2554,2127,2642,2575,2791]\n",
        "LeBronJames_mj = [3361,3190,3027,3054,2966,3063,2326,2877,2902,2493]\n",
        "CarmeloAnthony_mj = [2941,2486,2806,2277,2634,2751,1876,2482,2982,1428]\n",
        "DwightHoward_mj = [3021,3023,3088,2821,2843,2935,2070,2722,2396,1223]\n",
        "ChrisBosh_mj = [2751,2658,2425,2928,2526,2795,2007,2454,2531,1556]\n",
        "ChrisPaul_mj = [2808,2353,3006,3002,1712,2880,2181,2335,2171,2857]\n",
        "KevinDurant_mj = [1255,1255,2768,2885,3239,3038,2546,3119,3122,913]\n",
        "DerrickRose_mj = [1168,1168,1168,3000,2871,3026,1375,0,311,1530]\n",
        "DwayneWade_mj = [2892,1931,1954,3048,2792,2823,1625,2391,1775,1971]\n",
        "#Matriz\n",
        "minutos_jugados = np.array([KobeBryant_mj, JoeJohnson_mj, LeBronJames_mj, CarmeloAnthony_mj, DwightHoward_mj, ChrisBosh_mj, ChrisPaul_mj, KevinDurant_mj, DerrickRose_mj, DwayneWade_mj])\n",
        "\n"
      ]
    },
    {
      "cell_type": "code",
      "execution_count": 13,
      "id": "6ffa6201-ed11-45ad-8dea-2964cb8bd3ec",
      "metadata": {
        "colab": {
          "base_uri": "https://localhost:8080/"
        },
        "id": "6ffa6201-ed11-45ad-8dea-2964cb8bd3ec",
        "outputId": "39f8aed8-b33c-46e7-f36f-61b1780b992a"
      },
      "outputs": [
        {
          "output_type": "execute_result",
          "data": {
            "text/plain": [
              "array([[41., 41., 39., 36., 39., 34., 38., 39., 30., 34.],\n",
              "       [41., 41., 41., 40., 38., 35., 35., 37., 33., 35.],\n",
              "       [43., 41., 40., 38., 39., 39., 38., 38., 38., 36.],\n",
              "       [37., 38., 36., 34., 38., 36., 34., 37., 39., 36.],\n",
              "       [37., 37., 38., 36., 35., 38., 38., 36., 34., 30.],\n",
              "       [39., 39., 36., 38., 36., 36., 35., 33., 32., 35.],\n",
              "       [36., 37., 38., 38., 38., 36., 36., 33., 35., 35.],\n",
              "       [36., 36., 35., 39., 40., 39., 39., 39., 39., 34.],\n",
              "       [29., 29., 29., 37., 37., 37., 35., nan, 31., 30.],\n",
              "       [39., 38., 38., 39., 36., 37., 33., 35., 33., 32.]])"
            ]
          },
          "metadata": {},
          "execution_count": 13
        }
      ],
      "source": [
        "np.matrix.round(minutos_jugados/juegos)"
      ]
    },
    {
      "cell_type": "code",
      "source": [
        "# tiros antoados entre tiros intentados\n",
        "exito = np.matrix.round(tiros_anotados/tiros_intentados, 2)\n",
        "exito"
      ],
      "metadata": {
        "colab": {
          "base_uri": "https://localhost:8080/"
        },
        "id": "SUX9C3r7pzeO",
        "outputId": "37eb0e9d-c014-4546-9995-8d1ad886dca1"
      },
      "id": "SUX9C3r7pzeO",
      "execution_count": 15,
      "outputs": [
        {
          "output_type": "execute_result",
          "data": {
            "text/plain": [
              "array([[0.45, 0.46, 0.46, 0.47, 0.46, 0.45, 0.43, 0.46, 0.42, 0.37],\n",
              "       [0.45, 0.47, 0.43, 0.44, 0.46, 0.44, 0.45, 0.42, 0.45, 0.44],\n",
              "       [0.48, 0.48, 0.48, 0.49, 0.5 , 0.51, 0.53, 0.56, 0.57, 0.49],\n",
              "       [0.48, 0.48, 0.49, 0.44, 0.46, 0.46, 0.43, 0.45, 0.45, 0.44],\n",
              "       [0.53, 0.6 , 0.6 , 0.57, 0.61, 0.59, 0.57, 0.58, 0.59, 0.59],\n",
              "       [0.51, 0.5 , 0.49, 0.49, 0.52, 0.5 , 0.49, 0.53, 0.52, 0.46],\n",
              "       [0.43, 0.44, 0.49, 0.5 , 0.49, 0.46, 0.48, 0.48, 0.47, 0.49],\n",
              "       [0.47, 0.47, 0.43, 0.48, 0.48, 0.46, 0.5 , 0.51, 0.5 , 0.51],\n",
              "       [0.48, 0.48, 0.48, 0.48, 0.49, 0.45, 0.43,  nan, 0.35, 0.4 ],\n",
              "       [0.49, 0.49, 0.47, 0.49, 0.48, 0.5 , 0.5 , 0.52, 0.55, 0.47]])"
            ]
          },
          "metadata": {},
          "execution_count": 15
        }
      ]
    },
    {
      "cell_type": "code",
      "source": [
        "# exito carmelo anthony temporada 2011\n",
        "exito[dic_jug['CarmeloAnthony']][dic_temp['2011']]"
      ],
      "metadata": {
        "colab": {
          "base_uri": "https://localhost:8080/"
        },
        "id": "R07m0ipdqGKt",
        "outputId": "15944f6c-3577-48ee-b755-60bb2df65f41"
      },
      "id": "R07m0ipdqGKt",
      "execution_count": 16,
      "outputs": [
        {
          "output_type": "execute_result",
          "data": {
            "text/plain": [
              "0.43"
            ]
          },
          "metadata": {},
          "execution_count": 16
        }
      ]
    },
    {
      "cell_type": "markdown",
      "source": [
        "## GRAFICOS Y VISUALIZACIONES"
      ],
      "metadata": {
        "id": "9_ZNK8u7qOZ8"
      },
      "id": "9_ZNK8u7qOZ8"
    },
    {
      "cell_type": "code",
      "source": [
        "#Sueldo\n",
        "KobeBryant_sueldo = [15946875,17718750,19490625,21262500,23034375,24806250,25244493,27849149,30453805,23500000]\n",
        "JoeJohnson_sueldo = [12000000,12744189,13488377,14232567,14976754,16324500,18038573,19752645,21466718,23180790]\n",
        "LeBronJames_sueldo = [4621800,5828090,13041250,14410581,15779912,14500000,16022500,17545000,19067500,20644400]\n",
        "CarmeloAnthony_sueldo = [3713640,4694041,13041250,14410581,15779912,17149243,18518574,19450000,22407474,22458000]\n",
        "DwightHoward_sueldo = [4493160,4806720,6061274,13758000,15202590,16647180,18091770,19536360,20513178,21436271]\n",
        "ChrisBosh_sueldo = [3348000,4235220,12455000,14410581,15779912,14500000,16022500,17545000,19067500,20644400]\n",
        "ChrisPaul_sueldo = [3144240,3380160,3615960,4574189,13520500,14940153,16359805,17779458,18668431,20068563]\n",
        "KevinDurant_sueldo = [0,0,4171200,4484040,4796880,6053663,15506632,16669630,17832627,18995624]\n",
        "DerrickRose_sueldo = [0,0,0,4822800,5184480,5546160,6993708,16402500,17632688,18862875]\n",
        "DwayneWade_sueldo = [3031920,3841443,13041250,14410581,15779912,14200000,15691000,17182000,18673000,15000000]\n",
        "#Matriz\n",
        "sueldo = np.array([KobeBryant_sueldo, JoeJohnson_sueldo, LeBronJames_sueldo, CarmeloAnthony_sueldo, DwightHoward_sueldo, ChrisBosh_sueldo, ChrisPaul_sueldo, KevinDurant_sueldo, DerrickRose_sueldo, DwayneWade_sueldo])\n"
      ],
      "metadata": {
        "id": "AFrdXsWXq1RA"
      },
      "id": "AFrdXsWXq1RA",
      "execution_count": 18,
      "outputs": []
    },
    {
      "cell_type": "code",
      "source": [
        "import numpy as np\n",
        "import matplotlib.pyplot as plt\n",
        "%matplotlib inline\n",
        "\n",
        "#crear grafica\n",
        "plt.plot(sueldo[0])"
      ],
      "metadata": {
        "colab": {
          "base_uri": "https://localhost:8080/",
          "height": 463
        },
        "id": "2CWWWMpSqT62",
        "outputId": "d2fc0202-0408-49c4-bd36-186cabbc313c"
      },
      "id": "2CWWWMpSqT62",
      "execution_count": 19,
      "outputs": [
        {
          "output_type": "execute_result",
          "data": {
            "text/plain": [
              "[<matplotlib.lines.Line2D at 0x7cca50ba2380>]"
            ]
          },
          "metadata": {},
          "execution_count": 19
        },
        {
          "output_type": "display_data",
          "data": {
            "text/plain": [
              "<Figure size 640x480 with 1 Axes>"
            ],
            "image/png": "[encoded data removed]"
          },
          "metadata": {}
        }
      ]
    },
    {
      "cell_type": "code",
      "source": [
        "import numpy as np\n",
        "import matplotlib.pyplot as plt\n",
        "%matplotlib inline\n",
        "\n",
        "# para cambiar el tamñao de la gráfica\n",
        "plt.rcParams['figure.figsize'] = (8, 4)"
      ],
      "metadata": {
        "id": "gMuqVO8tqo-Q"
      },
      "id": "gMuqVO8tqo-Q",
      "execution_count": 20,
      "outputs": []
    },
    {
      "cell_type": "code",
      "source": [
        "# crear grafica\n",
        "# color, estilo linea, salgan los puntitos, tamaño puntitos\n",
        "plt.plot(sueldo[0], c='Black', ls='--', marker='s', ms=7, label=jugadores[0])\n",
        "plt.xticks(list(range(0, 10)), temporadas, rotation='vertical') #para poner las temporadas en el eje x\n"
      ],
      "metadata": {
        "id": "Tw5NzGobqMnU"
      },
      "id": "Tw5NzGobqMnU",
      "execution_count": null,
      "outputs": []
    },
    {
      "cell_type": "code",
      "source": [],
      "metadata": {
        "id": "JJVewsBZqBNF"
      },
      "id": "JJVewsBZqBNF",
      "execution_count": null,
      "outputs": []
    },
    {
      "cell_type": "code",
      "execution_count": null,
      "id": "4e22ef55-ae22-4f3e-a456-df308f4a9b24",
      "metadata": {
        "id": "4e22ef55-ae22-4f3e-a456-df308f4a9b24"
      },
      "outputs": [],
      "source": []
    },
    {
      "cell_type": "code",
      "execution_count": null,
      "id": "9846ec66-0af7-4512-a603-3dff41e33987",
      "metadata": {
        "id": "9846ec66-0af7-4512-a603-3dff41e33987"
      },
      "outputs": [],
      "source": []
    },
    {
      "cell_type": "code",
      "execution_count": null,
      "id": "414d3cd0-aefb-4514-b38d-db2290007688",
      "metadata": {
        "id": "414d3cd0-aefb-4514-b38d-db2290007688"
      },
      "outputs": [],
      "source": []
    }
  ],
  "metadata": {
    "kernelspec": {
      "display_name": "Python 3 (ipykernel)",
      "language": "python",
      "name": "python3"
    },
    "language_info": {
      "codemirror_mode": {
        "name": "ipython",
        "version": 3
      },
      "file_extension": ".py",
      "mimetype": "text/x-python",
      "name": "python",
      "nbconvert_exporter": "python",
      "pygments_lexer": "ipython3",
      "version": "3.12.4"
    },
    "colab": {
      "provenance": []
    }
  },
  "nbformat": 4,
  "nbformat_minor": 5
}