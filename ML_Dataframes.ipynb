{
 "cells": [
  {
   "cell_type": "markdown",
   "id": "df4b6880-82a1-4bca-8f28-e671f556159d",
   "metadata": {},
   "source": [
    "# DATAFRAMES"
   ]
  },
  {
   "cell_type": "markdown",
   "id": "ed36794a-2379-48a4-bcdf-22f32c1d0a39",
   "metadata": {},
   "source": [
    "## Curso Udemy Python"
   ]
  },
  {
   "cell_type": "code",
   "execution_count": 3,
   "id": "89a12955-6cb8-42e5-af52-7a83d3c2148d",
   "metadata": {},
   "outputs": [
    {
     "data": {
      "text/html": [
       "<div>\n",
       "<style scoped>\n",
       "    .dataframe tbody tr th:only-of-type {\n",
       "        vertical-align: middle;\n",
       "    }\n",
       "\n",
       "    .dataframe tbody tr th {\n",
       "        vertical-align: top;\n",
       "    }\n",
       "\n",
       "    .dataframe thead th {\n",
       "        text-align: right;\n",
       "    }\n",
       "</style>\n",
       "<table border=\"1\" class=\"dataframe\">\n",
       "  <thead>\n",
       "    <tr style=\"text-align: right;\">\n",
       "      <th></th>\n",
       "      <th>Nombre del Pais</th>\n",
       "      <th>Codigo de Pais</th>\n",
       "      <th>Tasa de Natalidad</th>\n",
       "      <th>Usuarios de Internet</th>\n",
       "      <th>Grupo de ingresos</th>\n",
       "    </tr>\n",
       "  </thead>\n",
       "  <tbody>\n",
       "    <tr>\n",
       "      <th>0</th>\n",
       "      <td>Aruba</td>\n",
       "      <td>ABW</td>\n",
       "      <td>10.244</td>\n",
       "      <td>78.9</td>\n",
       "      <td>Ingreso alto</td>\n",
       "    </tr>\n",
       "    <tr>\n",
       "      <th>1</th>\n",
       "      <td>Afghanistan</td>\n",
       "      <td>AFG</td>\n",
       "      <td>35.253</td>\n",
       "      <td>5.9</td>\n",
       "      <td>Ingreso bajo</td>\n",
       "    </tr>\n",
       "    <tr>\n",
       "      <th>2</th>\n",
       "      <td>Angola</td>\n",
       "      <td>AGO</td>\n",
       "      <td>45.985</td>\n",
       "      <td>19.1</td>\n",
       "      <td>Ingreso medio alto</td>\n",
       "    </tr>\n",
       "    <tr>\n",
       "      <th>3</th>\n",
       "      <td>Albania</td>\n",
       "      <td>ALB</td>\n",
       "      <td>12.877</td>\n",
       "      <td>57.2</td>\n",
       "      <td>Ingreso medio alto</td>\n",
       "    </tr>\n",
       "    <tr>\n",
       "      <th>4</th>\n",
       "      <td>United Arab Emirates</td>\n",
       "      <td>ARE</td>\n",
       "      <td>11.044</td>\n",
       "      <td>88.0</td>\n",
       "      <td>Ingreso alto</td>\n",
       "    </tr>\n",
       "    <tr>\n",
       "      <th>...</th>\n",
       "      <td>...</td>\n",
       "      <td>...</td>\n",
       "      <td>...</td>\n",
       "      <td>...</td>\n",
       "      <td>...</td>\n",
       "    </tr>\n",
       "    <tr>\n",
       "      <th>190</th>\n",
       "      <td>Yemen, Rep.</td>\n",
       "      <td>YEM</td>\n",
       "      <td>32.947</td>\n",
       "      <td>20.0</td>\n",
       "      <td>Ingreso medio bajo</td>\n",
       "    </tr>\n",
       "    <tr>\n",
       "      <th>191</th>\n",
       "      <td>South Africa</td>\n",
       "      <td>ZAF</td>\n",
       "      <td>20.850</td>\n",
       "      <td>46.5</td>\n",
       "      <td>Ingreso medio alto</td>\n",
       "    </tr>\n",
       "    <tr>\n",
       "      <th>192</th>\n",
       "      <td>Congo, Dem. Rep.</td>\n",
       "      <td>COD</td>\n",
       "      <td>42.394</td>\n",
       "      <td>2.2</td>\n",
       "      <td>Ingreso bajo</td>\n",
       "    </tr>\n",
       "    <tr>\n",
       "      <th>193</th>\n",
       "      <td>Zambia</td>\n",
       "      <td>ZMB</td>\n",
       "      <td>40.471</td>\n",
       "      <td>15.4</td>\n",
       "      <td>Ingreso medio bajo</td>\n",
       "    </tr>\n",
       "    <tr>\n",
       "      <th>194</th>\n",
       "      <td>Zimbabwe</td>\n",
       "      <td>ZWE</td>\n",
       "      <td>35.715</td>\n",
       "      <td>18.5</td>\n",
       "      <td>Ingreso bajo</td>\n",
       "    </tr>\n",
       "  </tbody>\n",
       "</table>\n",
       "<p>195 rows × 5 columns</p>\n",
       "</div>"
      ],
      "text/plain": [
       "          Nombre del Pais Codigo de Pais  Tasa de Natalidad  \\\n",
       "0                   Aruba            ABW             10.244   \n",
       "1             Afghanistan            AFG             35.253   \n",
       "2                  Angola            AGO             45.985   \n",
       "3                 Albania            ALB             12.877   \n",
       "4    United Arab Emirates            ARE             11.044   \n",
       "..                    ...            ...                ...   \n",
       "190           Yemen, Rep.            YEM             32.947   \n",
       "191          South Africa            ZAF             20.850   \n",
       "192      Congo, Dem. Rep.            COD             42.394   \n",
       "193                Zambia            ZMB             40.471   \n",
       "194              Zimbabwe            ZWE             35.715   \n",
       "\n",
       "     Usuarios de Internet   Grupo de ingresos  \n",
       "0                    78.9        Ingreso alto  \n",
       "1                     5.9        Ingreso bajo  \n",
       "2                    19.1  Ingreso medio alto  \n",
       "3                    57.2  Ingreso medio alto  \n",
       "4                    88.0        Ingreso alto  \n",
       "..                    ...                 ...  \n",
       "190                  20.0  Ingreso medio bajo  \n",
       "191                  46.5  Ingreso medio alto  \n",
       "192                   2.2        Ingreso bajo  \n",
       "193                  15.4  Ingreso medio bajo  \n",
       "194                  18.5        Ingreso bajo  \n",
       "\n",
       "[195 rows x 5 columns]"
      ]
     },
     "execution_count": 3,
     "metadata": {},
     "output_type": "execute_result"
    }
   ],
   "source": [
    "import pandas as pd\n",
    "archivo = 'DatosDemograficos.csv'\n",
    "path = 'recursos'\n",
    "datos = pd.read_csv(path + '/' + archivo)\n",
    "datos"
   ]
  },
  {
   "cell_type": "markdown",
   "id": "6f3b4b20-91b5-4b49-86fc-b786ca037e9c",
   "metadata": {},
   "source": [
    "**Otra manera**"
   ]
  },
  {
   "cell_type": "code",
   "execution_count": 7,
   "id": "ef52ec6b-a80c-4f1f-9776-7eca92f0f8d0",
   "metadata": {},
   "outputs": [
    {
     "data": {
      "text/html": [
       "<div>\n",
       "<style scoped>\n",
       "    .dataframe tbody tr th:only-of-type {\n",
       "        vertical-align: middle;\n",
       "    }\n",
       "\n",
       "    .dataframe tbody tr th {\n",
       "        vertical-align: top;\n",
       "    }\n",
       "\n",
       "    .dataframe thead th {\n",
       "        text-align: right;\n",
       "    }\n",
       "</style>\n",
       "<table border=\"1\" class=\"dataframe\">\n",
       "  <thead>\n",
       "    <tr style=\"text-align: right;\">\n",
       "      <th></th>\n",
       "      <th>Nombre del Pais</th>\n",
       "      <th>Codigo de Pais</th>\n",
       "      <th>Tasa de Natalidad</th>\n",
       "      <th>Usuarios de Internet</th>\n",
       "      <th>Grupo de ingresos</th>\n",
       "    </tr>\n",
       "  </thead>\n",
       "  <tbody>\n",
       "    <tr>\n",
       "      <th>0</th>\n",
       "      <td>Aruba</td>\n",
       "      <td>ABW</td>\n",
       "      <td>10.244</td>\n",
       "      <td>78.9</td>\n",
       "      <td>Ingreso alto</td>\n",
       "    </tr>\n",
       "    <tr>\n",
       "      <th>1</th>\n",
       "      <td>Afghanistan</td>\n",
       "      <td>AFG</td>\n",
       "      <td>35.253</td>\n",
       "      <td>5.9</td>\n",
       "      <td>Ingreso bajo</td>\n",
       "    </tr>\n",
       "    <tr>\n",
       "      <th>2</th>\n",
       "      <td>Angola</td>\n",
       "      <td>AGO</td>\n",
       "      <td>45.985</td>\n",
       "      <td>19.1</td>\n",
       "      <td>Ingreso medio alto</td>\n",
       "    </tr>\n",
       "    <tr>\n",
       "      <th>3</th>\n",
       "      <td>Albania</td>\n",
       "      <td>ALB</td>\n",
       "      <td>12.877</td>\n",
       "      <td>57.2</td>\n",
       "      <td>Ingreso medio alto</td>\n",
       "    </tr>\n",
       "    <tr>\n",
       "      <th>4</th>\n",
       "      <td>United Arab Emirates</td>\n",
       "      <td>ARE</td>\n",
       "      <td>11.044</td>\n",
       "      <td>88.0</td>\n",
       "      <td>Ingreso alto</td>\n",
       "    </tr>\n",
       "    <tr>\n",
       "      <th>...</th>\n",
       "      <td>...</td>\n",
       "      <td>...</td>\n",
       "      <td>...</td>\n",
       "      <td>...</td>\n",
       "      <td>...</td>\n",
       "    </tr>\n",
       "    <tr>\n",
       "      <th>190</th>\n",
       "      <td>Yemen, Rep.</td>\n",
       "      <td>YEM</td>\n",
       "      <td>32.947</td>\n",
       "      <td>20.0</td>\n",
       "      <td>Ingreso medio bajo</td>\n",
       "    </tr>\n",
       "    <tr>\n",
       "      <th>191</th>\n",
       "      <td>South Africa</td>\n",
       "      <td>ZAF</td>\n",
       "      <td>20.850</td>\n",
       "      <td>46.5</td>\n",
       "      <td>Ingreso medio alto</td>\n",
       "    </tr>\n",
       "    <tr>\n",
       "      <th>192</th>\n",
       "      <td>Congo, Dem. Rep.</td>\n",
       "      <td>COD</td>\n",
       "      <td>42.394</td>\n",
       "      <td>2.2</td>\n",
       "      <td>Ingreso bajo</td>\n",
       "    </tr>\n",
       "    <tr>\n",
       "      <th>193</th>\n",
       "      <td>Zambia</td>\n",
       "      <td>ZMB</td>\n",
       "      <td>40.471</td>\n",
       "      <td>15.4</td>\n",
       "      <td>Ingreso medio bajo</td>\n",
       "    </tr>\n",
       "    <tr>\n",
       "      <th>194</th>\n",
       "      <td>Zimbabwe</td>\n",
       "      <td>ZWE</td>\n",
       "      <td>35.715</td>\n",
       "      <td>18.5</td>\n",
       "      <td>Ingreso bajo</td>\n",
       "    </tr>\n",
       "  </tbody>\n",
       "</table>\n",
       "<p>195 rows × 5 columns</p>\n",
       "</div>"
      ],
      "text/plain": [
       "          Nombre del Pais Codigo de Pais  Tasa de Natalidad  \\\n",
       "0                   Aruba            ABW             10.244   \n",
       "1             Afghanistan            AFG             35.253   \n",
       "2                  Angola            AGO             45.985   \n",
       "3                 Albania            ALB             12.877   \n",
       "4    United Arab Emirates            ARE             11.044   \n",
       "..                    ...            ...                ...   \n",
       "190           Yemen, Rep.            YEM             32.947   \n",
       "191          South Africa            ZAF             20.850   \n",
       "192      Congo, Dem. Rep.            COD             42.394   \n",
       "193                Zambia            ZMB             40.471   \n",
       "194              Zimbabwe            ZWE             35.715   \n",
       "\n",
       "     Usuarios de Internet   Grupo de ingresos  \n",
       "0                    78.9        Ingreso alto  \n",
       "1                     5.9        Ingreso bajo  \n",
       "2                    19.1  Ingreso medio alto  \n",
       "3                    57.2  Ingreso medio alto  \n",
       "4                    88.0        Ingreso alto  \n",
       "..                    ...                 ...  \n",
       "190                  20.0  Ingreso medio bajo  \n",
       "191                  46.5  Ingreso medio alto  \n",
       "192                   2.2        Ingreso bajo  \n",
       "193                  15.4  Ingreso medio bajo  \n",
       "194                  18.5        Ingreso bajo  \n",
       "\n",
       "[195 rows x 5 columns]"
      ]
     },
     "execution_count": 7,
     "metadata": {},
     "output_type": "execute_result"
    }
   ],
   "source": [
    "import os\n",
    "#os.getcwd() para seleccionar el path actual\n",
    "os.chdir(path)\n",
    "datos_2 = pd.read_csv(archivo)\n",
    "datos_2"
   ]
  },
  {
   "cell_type": "markdown",
   "id": "3e372a95-57d3-4788-b998-02b4e550c0a1",
   "metadata": {},
   "source": [
    "## OPERACIONES CON DATASETS"
   ]
  },
  {
   "cell_type": "code",
   "execution_count": 9,
   "id": "73385998-8b2e-42a2-9711-081884def8a2",
   "metadata": {},
   "outputs": [
    {
     "data": {
      "text/plain": [
       "195"
      ]
     },
     "execution_count": 9,
     "metadata": {},
     "output_type": "execute_result"
    }
   ],
   "source": [
    "len(datos) #numero de filas"
   ]
  },
  {
   "cell_type": "code",
   "execution_count": 11,
   "id": "b2d4d499-beb3-4b94-a30b-6d07cc56bd57",
   "metadata": {},
   "outputs": [
    {
     "data": {
      "text/plain": [
       "Index(['Nombre del Pais', 'Codigo de Pais', 'Tasa de Natalidad',\n",
       "       'Usuarios de Internet', 'Grupo de ingresos'],\n",
       "      dtype='object')"
      ]
     },
     "execution_count": 11,
     "metadata": {},
     "output_type": "execute_result"
    }
   ],
   "source": [
    "# ver las columnas\n",
    "datos.columns"
   ]
  },
  {
   "cell_type": "code",
   "execution_count": 13,
   "id": "9099a83a-82c0-4658-90c4-844bb74c633c",
   "metadata": {},
   "outputs": [
    {
     "data": {
      "text/plain": [
       "5"
      ]
     },
     "execution_count": 13,
     "metadata": {},
     "output_type": "execute_result"
    }
   ],
   "source": [
    "len(datos.columns) # numero de columnas"
   ]
  },
  {
   "cell_type": "code",
   "execution_count": 15,
   "id": "872ec078-b872-4352-bc96-a68887ab0b06",
   "metadata": {},
   "outputs": [
    {
     "data": {
      "text/html": [
       "<div>\n",
       "<style scoped>\n",
       "    .dataframe tbody tr th:only-of-type {\n",
       "        vertical-align: middle;\n",
       "    }\n",
       "\n",
       "    .dataframe tbody tr th {\n",
       "        vertical-align: top;\n",
       "    }\n",
       "\n",
       "    .dataframe thead th {\n",
       "        text-align: right;\n",
       "    }\n",
       "</style>\n",
       "<table border=\"1\" class=\"dataframe\">\n",
       "  <thead>\n",
       "    <tr style=\"text-align: right;\">\n",
       "      <th></th>\n",
       "      <th>Nombre del Pais</th>\n",
       "      <th>Codigo de Pais</th>\n",
       "      <th>Tasa de Natalidad</th>\n",
       "      <th>Usuarios de Internet</th>\n",
       "      <th>Grupo de ingresos</th>\n",
       "    </tr>\n",
       "  </thead>\n",
       "  <tbody>\n",
       "    <tr>\n",
       "      <th>0</th>\n",
       "      <td>Aruba</td>\n",
       "      <td>ABW</td>\n",
       "      <td>10.244</td>\n",
       "      <td>78.9</td>\n",
       "      <td>Ingreso alto</td>\n",
       "    </tr>\n",
       "    <tr>\n",
       "      <th>1</th>\n",
       "      <td>Afghanistan</td>\n",
       "      <td>AFG</td>\n",
       "      <td>35.253</td>\n",
       "      <td>5.9</td>\n",
       "      <td>Ingreso bajo</td>\n",
       "    </tr>\n",
       "    <tr>\n",
       "      <th>2</th>\n",
       "      <td>Angola</td>\n",
       "      <td>AGO</td>\n",
       "      <td>45.985</td>\n",
       "      <td>19.1</td>\n",
       "      <td>Ingreso medio alto</td>\n",
       "    </tr>\n",
       "    <tr>\n",
       "      <th>3</th>\n",
       "      <td>Albania</td>\n",
       "      <td>ALB</td>\n",
       "      <td>12.877</td>\n",
       "      <td>57.2</td>\n",
       "      <td>Ingreso medio alto</td>\n",
       "    </tr>\n",
       "    <tr>\n",
       "      <th>4</th>\n",
       "      <td>United Arab Emirates</td>\n",
       "      <td>ARE</td>\n",
       "      <td>11.044</td>\n",
       "      <td>88.0</td>\n",
       "      <td>Ingreso alto</td>\n",
       "    </tr>\n",
       "  </tbody>\n",
       "</table>\n",
       "</div>"
      ],
      "text/plain": [
       "        Nombre del Pais Codigo de Pais  Tasa de Natalidad  \\\n",
       "0                 Aruba            ABW             10.244   \n",
       "1           Afghanistan            AFG             35.253   \n",
       "2                Angola            AGO             45.985   \n",
       "3               Albania            ALB             12.877   \n",
       "4  United Arab Emirates            ARE             11.044   \n",
       "\n",
       "   Usuarios de Internet   Grupo de ingresos  \n",
       "0                  78.9        Ingreso alto  \n",
       "1                   5.9        Ingreso bajo  \n",
       "2                  19.1  Ingreso medio alto  \n",
       "3                  57.2  Ingreso medio alto  \n",
       "4                  88.0        Ingreso alto  "
      ]
     },
     "execution_count": 15,
     "metadata": {},
     "output_type": "execute_result"
    }
   ],
   "source": [
    "#filas superiores\n",
    "datos.head() # datos.head(10) para mostrar las 10 filas superiores"
   ]
  },
  {
   "cell_type": "code",
   "execution_count": 17,
   "id": "b7bb293e-ca8c-4403-b6f5-d078e850b9b8",
   "metadata": {},
   "outputs": [
    {
     "data": {
      "text/html": [
       "<div>\n",
       "<style scoped>\n",
       "    .dataframe tbody tr th:only-of-type {\n",
       "        vertical-align: middle;\n",
       "    }\n",
       "\n",
       "    .dataframe tbody tr th {\n",
       "        vertical-align: top;\n",
       "    }\n",
       "\n",
       "    .dataframe thead th {\n",
       "        text-align: right;\n",
       "    }\n",
       "</style>\n",
       "<table border=\"1\" class=\"dataframe\">\n",
       "  <thead>\n",
       "    <tr style=\"text-align: right;\">\n",
       "      <th></th>\n",
       "      <th>Nombre del Pais</th>\n",
       "      <th>Codigo de Pais</th>\n",
       "      <th>Tasa de Natalidad</th>\n",
       "      <th>Usuarios de Internet</th>\n",
       "      <th>Grupo de ingresos</th>\n",
       "    </tr>\n",
       "  </thead>\n",
       "  <tbody>\n",
       "    <tr>\n",
       "      <th>190</th>\n",
       "      <td>Yemen, Rep.</td>\n",
       "      <td>YEM</td>\n",
       "      <td>32.947</td>\n",
       "      <td>20.0</td>\n",
       "      <td>Ingreso medio bajo</td>\n",
       "    </tr>\n",
       "    <tr>\n",
       "      <th>191</th>\n",
       "      <td>South Africa</td>\n",
       "      <td>ZAF</td>\n",
       "      <td>20.850</td>\n",
       "      <td>46.5</td>\n",
       "      <td>Ingreso medio alto</td>\n",
       "    </tr>\n",
       "    <tr>\n",
       "      <th>192</th>\n",
       "      <td>Congo, Dem. Rep.</td>\n",
       "      <td>COD</td>\n",
       "      <td>42.394</td>\n",
       "      <td>2.2</td>\n",
       "      <td>Ingreso bajo</td>\n",
       "    </tr>\n",
       "    <tr>\n",
       "      <th>193</th>\n",
       "      <td>Zambia</td>\n",
       "      <td>ZMB</td>\n",
       "      <td>40.471</td>\n",
       "      <td>15.4</td>\n",
       "      <td>Ingreso medio bajo</td>\n",
       "    </tr>\n",
       "    <tr>\n",
       "      <th>194</th>\n",
       "      <td>Zimbabwe</td>\n",
       "      <td>ZWE</td>\n",
       "      <td>35.715</td>\n",
       "      <td>18.5</td>\n",
       "      <td>Ingreso bajo</td>\n",
       "    </tr>\n",
       "  </tbody>\n",
       "</table>\n",
       "</div>"
      ],
      "text/plain": [
       "      Nombre del Pais Codigo de Pais  Tasa de Natalidad  Usuarios de Internet  \\\n",
       "190       Yemen, Rep.            YEM             32.947                  20.0   \n",
       "191      South Africa            ZAF             20.850                  46.5   \n",
       "192  Congo, Dem. Rep.            COD             42.394                   2.2   \n",
       "193            Zambia            ZMB             40.471                  15.4   \n",
       "194          Zimbabwe            ZWE             35.715                  18.5   \n",
       "\n",
       "      Grupo de ingresos  \n",
       "190  Ingreso medio bajo  \n",
       "191  Ingreso medio alto  \n",
       "192        Ingreso bajo  \n",
       "193  Ingreso medio bajo  \n",
       "194        Ingreso bajo  "
      ]
     },
     "execution_count": 17,
     "metadata": {},
     "output_type": "execute_result"
    }
   ],
   "source": [
    "datos.tail() #filas inferiores"
   ]
  },
  {
   "cell_type": "code",
   "execution_count": 19,
   "id": "9b6ef61a-18a6-455e-b29c-a3becdf892b8",
   "metadata": {},
   "outputs": [
    {
     "name": "stdout",
     "output_type": "stream",
     "text": [
      "<class 'pandas.core.frame.DataFrame'>\n",
      "RangeIndex: 195 entries, 0 to 194\n",
      "Data columns (total 5 columns):\n",
      " #   Column                Non-Null Count  Dtype  \n",
      "---  ------                --------------  -----  \n",
      " 0   Nombre del Pais       195 non-null    object \n",
      " 1   Codigo de Pais        195 non-null    object \n",
      " 2   Tasa de Natalidad     195 non-null    float64\n",
      " 3   Usuarios de Internet  195 non-null    float64\n",
      " 4   Grupo de ingresos     195 non-null    object \n",
      "dtypes: float64(2), object(3)\n",
      "memory usage: 7.7+ KB\n"
     ]
    }
   ],
   "source": [
    "datos.info() # información de las columnas\n"
   ]
  },
  {
   "cell_type": "code",
   "execution_count": 23,
   "id": "318434e8-6b2f-4186-a3f4-71fc25a2a17e",
   "metadata": {},
   "outputs": [
    {
     "data": {
      "text/html": [
       "<div>\n",
       "<style scoped>\n",
       "    .dataframe tbody tr th:only-of-type {\n",
       "        vertical-align: middle;\n",
       "    }\n",
       "\n",
       "    .dataframe tbody tr th {\n",
       "        vertical-align: top;\n",
       "    }\n",
       "\n",
       "    .dataframe thead th {\n",
       "        text-align: right;\n",
       "    }\n",
       "</style>\n",
       "<table border=\"1\" class=\"dataframe\">\n",
       "  <thead>\n",
       "    <tr style=\"text-align: right;\">\n",
       "      <th></th>\n",
       "      <th>count</th>\n",
       "      <th>mean</th>\n",
       "      <th>std</th>\n",
       "      <th>min</th>\n",
       "      <th>25%</th>\n",
       "      <th>50%</th>\n",
       "      <th>75%</th>\n",
       "      <th>max</th>\n",
       "    </tr>\n",
       "  </thead>\n",
       "  <tbody>\n",
       "    <tr>\n",
       "      <th>Tasa de Natalidad</th>\n",
       "      <td>195.0</td>\n",
       "      <td>21.469928</td>\n",
       "      <td>10.605467</td>\n",
       "      <td>7.9</td>\n",
       "      <td>12.1205</td>\n",
       "      <td>19.68</td>\n",
       "      <td>29.7595</td>\n",
       "      <td>49.6610</td>\n",
       "    </tr>\n",
       "    <tr>\n",
       "      <th>Usuarios de Internet</th>\n",
       "      <td>195.0</td>\n",
       "      <td>42.076471</td>\n",
       "      <td>29.030788</td>\n",
       "      <td>0.9</td>\n",
       "      <td>14.5200</td>\n",
       "      <td>41.00</td>\n",
       "      <td>66.2250</td>\n",
       "      <td>96.5468</td>\n",
       "    </tr>\n",
       "  </tbody>\n",
       "</table>\n",
       "</div>"
      ],
      "text/plain": [
       "                      count       mean        std  min      25%    50%  \\\n",
       "Tasa de Natalidad     195.0  21.469928  10.605467  7.9  12.1205  19.68   \n",
       "Usuarios de Internet  195.0  42.076471  29.030788  0.9  14.5200  41.00   \n",
       "\n",
       "                          75%      max  \n",
       "Tasa de Natalidad     29.7595  49.6610  \n",
       "Usuarios de Internet  66.2250  96.5468  "
      ]
     },
     "execution_count": 23,
     "metadata": {},
     "output_type": "execute_result"
    }
   ],
   "source": [
    "#obtener estadisticas de las columnas\n",
    "datos.describe().transpose()\n"
   ]
  },
  {
   "cell_type": "markdown",
   "id": "6f0bbde8-5e1b-4b7e-b100-35beb9c75591",
   "metadata": {},
   "source": [
    "### Cambiar nombre columnas en datasets"
   ]
  },
  {
   "cell_type": "code",
   "execution_count": 27,
   "id": "6d1df3e8-cac5-4b35-bc3b-53f71779e074",
   "metadata": {},
   "outputs": [
    {
     "data": {
      "text/html": [
       "<div>\n",
       "<style scoped>\n",
       "    .dataframe tbody tr th:only-of-type {\n",
       "        vertical-align: middle;\n",
       "    }\n",
       "\n",
       "    .dataframe tbody tr th {\n",
       "        vertical-align: top;\n",
       "    }\n",
       "\n",
       "    .dataframe thead th {\n",
       "        text-align: right;\n",
       "    }\n",
       "</style>\n",
       "<table border=\"1\" class=\"dataframe\">\n",
       "  <thead>\n",
       "    <tr style=\"text-align: right;\">\n",
       "      <th></th>\n",
       "      <th>Nombre del Pais</th>\n",
       "      <th>Codigo de Pais</th>\n",
       "      <th>Tasa de Natalidad</th>\n",
       "      <th>Usuarios de Internet</th>\n",
       "      <th>Grupo de ingresos</th>\n",
       "    </tr>\n",
       "  </thead>\n",
       "  <tbody>\n",
       "    <tr>\n",
       "      <th>0</th>\n",
       "      <td>Aruba</td>\n",
       "      <td>ABW</td>\n",
       "      <td>10.244</td>\n",
       "      <td>78.9</td>\n",
       "      <td>Ingreso alto</td>\n",
       "    </tr>\n",
       "    <tr>\n",
       "      <th>1</th>\n",
       "      <td>Afghanistan</td>\n",
       "      <td>AFG</td>\n",
       "      <td>35.253</td>\n",
       "      <td>5.9</td>\n",
       "      <td>Ingreso bajo</td>\n",
       "    </tr>\n",
       "    <tr>\n",
       "      <th>2</th>\n",
       "      <td>Angola</td>\n",
       "      <td>AGO</td>\n",
       "      <td>45.985</td>\n",
       "      <td>19.1</td>\n",
       "      <td>Ingreso medio alto</td>\n",
       "    </tr>\n",
       "    <tr>\n",
       "      <th>3</th>\n",
       "      <td>Albania</td>\n",
       "      <td>ALB</td>\n",
       "      <td>12.877</td>\n",
       "      <td>57.2</td>\n",
       "      <td>Ingreso medio alto</td>\n",
       "    </tr>\n",
       "    <tr>\n",
       "      <th>4</th>\n",
       "      <td>United Arab Emirates</td>\n",
       "      <td>ARE</td>\n",
       "      <td>11.044</td>\n",
       "      <td>88.0</td>\n",
       "      <td>Ingreso alto</td>\n",
       "    </tr>\n",
       "  </tbody>\n",
       "</table>\n",
       "</div>"
      ],
      "text/plain": [
       "        Nombre del Pais Codigo de Pais  Tasa de Natalidad  \\\n",
       "0                 Aruba            ABW             10.244   \n",
       "1           Afghanistan            AFG             35.253   \n",
       "2                Angola            AGO             45.985   \n",
       "3               Albania            ALB             12.877   \n",
       "4  United Arab Emirates            ARE             11.044   \n",
       "\n",
       "   Usuarios de Internet   Grupo de ingresos  \n",
       "0                  78.9        Ingreso alto  \n",
       "1                   5.9        Ingreso bajo  \n",
       "2                  19.1  Ingreso medio alto  \n",
       "3                  57.2  Ingreso medio alto  \n",
       "4                  88.0        Ingreso alto  "
      ]
     },
     "execution_count": 27,
     "metadata": {},
     "output_type": "execute_result"
    }
   ],
   "source": [
    "#cambiar nombre a las columnas\n",
    "datos_2.head()"
   ]
  },
  {
   "cell_type": "code",
   "execution_count": 31,
   "id": "aa5011e5-1abc-493d-a157-24fff230f65a",
   "metadata": {},
   "outputs": [],
   "source": [
    "datos_2.columns = ['a', 'b', 'c', 'd', 'e']"
   ]
  },
  {
   "cell_type": "code",
   "execution_count": 33,
   "id": "0665cdba-48ca-4842-8199-b92b766b985f",
   "metadata": {},
   "outputs": [
    {
     "data": {
      "text/plain": [
       "Index(['a', 'b', 'c', 'd', 'e'], dtype='object')"
      ]
     },
     "execution_count": 33,
     "metadata": {},
     "output_type": "execute_result"
    }
   ],
   "source": [
    "datos_2.columns"
   ]
  },
  {
   "cell_type": "code",
   "execution_count": 37,
   "id": "b5a5ba1f-b732-4ed3-8491-224f6dd3b7ed",
   "metadata": {},
   "outputs": [
    {
     "data": {
      "text/html": [
       "<div>\n",
       "<style scoped>\n",
       "    .dataframe tbody tr th:only-of-type {\n",
       "        vertical-align: middle;\n",
       "    }\n",
       "\n",
       "    .dataframe tbody tr th {\n",
       "        vertical-align: top;\n",
       "    }\n",
       "\n",
       "    .dataframe thead th {\n",
       "        text-align: right;\n",
       "    }\n",
       "</style>\n",
       "<table border=\"1\" class=\"dataframe\">\n",
       "  <thead>\n",
       "    <tr style=\"text-align: right;\">\n",
       "      <th></th>\n",
       "      <th>Nombre del Pais</th>\n",
       "      <th>Codigo de Pais</th>\n",
       "      <th>Tasa de Natalidad</th>\n",
       "      <th>Usuarios de Internet</th>\n",
       "      <th>Grupo de ingresos</th>\n",
       "    </tr>\n",
       "  </thead>\n",
       "  <tbody>\n",
       "    <tr>\n",
       "      <th>0</th>\n",
       "      <td>Aruba</td>\n",
       "      <td>ABW</td>\n",
       "      <td>10.244</td>\n",
       "      <td>78.9000</td>\n",
       "      <td>Ingreso alto</td>\n",
       "    </tr>\n",
       "    <tr>\n",
       "      <th>1</th>\n",
       "      <td>Afghanistan</td>\n",
       "      <td>AFG</td>\n",
       "      <td>35.253</td>\n",
       "      <td>5.9000</td>\n",
       "      <td>Ingreso bajo</td>\n",
       "    </tr>\n",
       "    <tr>\n",
       "      <th>2</th>\n",
       "      <td>Angola</td>\n",
       "      <td>AGO</td>\n",
       "      <td>45.985</td>\n",
       "      <td>19.1000</td>\n",
       "      <td>Ingreso medio alto</td>\n",
       "    </tr>\n",
       "    <tr>\n",
       "      <th>3</th>\n",
       "      <td>Albania</td>\n",
       "      <td>ALB</td>\n",
       "      <td>12.877</td>\n",
       "      <td>57.2000</td>\n",
       "      <td>Ingreso medio alto</td>\n",
       "    </tr>\n",
       "    <tr>\n",
       "      <th>4</th>\n",
       "      <td>United Arab Emirates</td>\n",
       "      <td>ARE</td>\n",
       "      <td>11.044</td>\n",
       "      <td>88.0000</td>\n",
       "      <td>Ingreso alto</td>\n",
       "    </tr>\n",
       "    <tr>\n",
       "      <th>5</th>\n",
       "      <td>Argentina</td>\n",
       "      <td>ARG</td>\n",
       "      <td>17.716</td>\n",
       "      <td>59.9000</td>\n",
       "      <td>Ingreso alto</td>\n",
       "    </tr>\n",
       "    <tr>\n",
       "      <th>6</th>\n",
       "      <td>Armenia</td>\n",
       "      <td>ARM</td>\n",
       "      <td>13.308</td>\n",
       "      <td>41.9000</td>\n",
       "      <td>Ingreso medio bajo</td>\n",
       "    </tr>\n",
       "    <tr>\n",
       "      <th>7</th>\n",
       "      <td>Antigua and Barbuda</td>\n",
       "      <td>ATG</td>\n",
       "      <td>16.447</td>\n",
       "      <td>63.4000</td>\n",
       "      <td>Ingreso alto</td>\n",
       "    </tr>\n",
       "    <tr>\n",
       "      <th>8</th>\n",
       "      <td>Australia</td>\n",
       "      <td>AUS</td>\n",
       "      <td>13.200</td>\n",
       "      <td>83.0000</td>\n",
       "      <td>Ingreso alto</td>\n",
       "    </tr>\n",
       "    <tr>\n",
       "      <th>9</th>\n",
       "      <td>Austria</td>\n",
       "      <td>AUT</td>\n",
       "      <td>9.400</td>\n",
       "      <td>80.6188</td>\n",
       "      <td>Ingreso alto</td>\n",
       "    </tr>\n",
       "  </tbody>\n",
       "</table>\n",
       "</div>"
      ],
      "text/plain": [
       "        Nombre del Pais Codigo de Pais  Tasa de Natalidad  \\\n",
       "0                 Aruba            ABW             10.244   \n",
       "1           Afghanistan            AFG             35.253   \n",
       "2                Angola            AGO             45.985   \n",
       "3               Albania            ALB             12.877   \n",
       "4  United Arab Emirates            ARE             11.044   \n",
       "5             Argentina            ARG             17.716   \n",
       "6               Armenia            ARM             13.308   \n",
       "7   Antigua and Barbuda            ATG             16.447   \n",
       "8             Australia            AUS             13.200   \n",
       "9               Austria            AUT              9.400   \n",
       "\n",
       "   Usuarios de Internet   Grupo de ingresos  \n",
       "0               78.9000        Ingreso alto  \n",
       "1                5.9000        Ingreso bajo  \n",
       "2               19.1000  Ingreso medio alto  \n",
       "3               57.2000  Ingreso medio alto  \n",
       "4               88.0000        Ingreso alto  \n",
       "5               59.9000        Ingreso alto  \n",
       "6               41.9000  Ingreso medio bajo  \n",
       "7               63.4000        Ingreso alto  \n",
       "8               83.0000        Ingreso alto  \n",
       "9               80.6188        Ingreso alto  "
      ]
     },
     "execution_count": 37,
     "metadata": {},
     "output_type": "execute_result"
    }
   ],
   "source": [
    "# filas\n",
    "datos[21:26] #para solo una cantidad de filas filas\n",
    "datos[:] # para todas las filas\n",
    "datos[:10] # desde el principio hasta el 10 = datos.head()"
   ]
  },
  {
   "cell_type": "code",
   "execution_count": 39,
   "id": "423167ff-07df-4844-9beb-02c08a9d3022",
   "metadata": {},
   "outputs": [
    {
     "data": {
      "text/html": [
       "<div>\n",
       "<style scoped>\n",
       "    .dataframe tbody tr th:only-of-type {\n",
       "        vertical-align: middle;\n",
       "    }\n",
       "\n",
       "    .dataframe tbody tr th {\n",
       "        vertical-align: top;\n",
       "    }\n",
       "\n",
       "    .dataframe thead th {\n",
       "        text-align: right;\n",
       "    }\n",
       "</style>\n",
       "<table border=\"1\" class=\"dataframe\">\n",
       "  <thead>\n",
       "    <tr style=\"text-align: right;\">\n",
       "      <th></th>\n",
       "      <th>Nombre del Pais</th>\n",
       "      <th>Codigo de Pais</th>\n",
       "      <th>Tasa de Natalidad</th>\n",
       "      <th>Usuarios de Internet</th>\n",
       "      <th>Grupo de ingresos</th>\n",
       "    </tr>\n",
       "  </thead>\n",
       "  <tbody>\n",
       "    <tr>\n",
       "      <th>194</th>\n",
       "      <td>Zimbabwe</td>\n",
       "      <td>ZWE</td>\n",
       "      <td>35.715</td>\n",
       "      <td>18.5</td>\n",
       "      <td>Ingreso bajo</td>\n",
       "    </tr>\n",
       "    <tr>\n",
       "      <th>193</th>\n",
       "      <td>Zambia</td>\n",
       "      <td>ZMB</td>\n",
       "      <td>40.471</td>\n",
       "      <td>15.4</td>\n",
       "      <td>Ingreso medio bajo</td>\n",
       "    </tr>\n",
       "    <tr>\n",
       "      <th>192</th>\n",
       "      <td>Congo, Dem. Rep.</td>\n",
       "      <td>COD</td>\n",
       "      <td>42.394</td>\n",
       "      <td>2.2</td>\n",
       "      <td>Ingreso bajo</td>\n",
       "    </tr>\n",
       "    <tr>\n",
       "      <th>191</th>\n",
       "      <td>South Africa</td>\n",
       "      <td>ZAF</td>\n",
       "      <td>20.850</td>\n",
       "      <td>46.5</td>\n",
       "      <td>Ingreso medio alto</td>\n",
       "    </tr>\n",
       "    <tr>\n",
       "      <th>190</th>\n",
       "      <td>Yemen, Rep.</td>\n",
       "      <td>YEM</td>\n",
       "      <td>32.947</td>\n",
       "      <td>20.0</td>\n",
       "      <td>Ingreso medio bajo</td>\n",
       "    </tr>\n",
       "    <tr>\n",
       "      <th>...</th>\n",
       "      <td>...</td>\n",
       "      <td>...</td>\n",
       "      <td>...</td>\n",
       "      <td>...</td>\n",
       "      <td>...</td>\n",
       "    </tr>\n",
       "    <tr>\n",
       "      <th>4</th>\n",
       "      <td>United Arab Emirates</td>\n",
       "      <td>ARE</td>\n",
       "      <td>11.044</td>\n",
       "      <td>88.0</td>\n",
       "      <td>Ingreso alto</td>\n",
       "    </tr>\n",
       "    <tr>\n",
       "      <th>3</th>\n",
       "      <td>Albania</td>\n",
       "      <td>ALB</td>\n",
       "      <td>12.877</td>\n",
       "      <td>57.2</td>\n",
       "      <td>Ingreso medio alto</td>\n",
       "    </tr>\n",
       "    <tr>\n",
       "      <th>2</th>\n",
       "      <td>Angola</td>\n",
       "      <td>AGO</td>\n",
       "      <td>45.985</td>\n",
       "      <td>19.1</td>\n",
       "      <td>Ingreso medio alto</td>\n",
       "    </tr>\n",
       "    <tr>\n",
       "      <th>1</th>\n",
       "      <td>Afghanistan</td>\n",
       "      <td>AFG</td>\n",
       "      <td>35.253</td>\n",
       "      <td>5.9</td>\n",
       "      <td>Ingreso bajo</td>\n",
       "    </tr>\n",
       "    <tr>\n",
       "      <th>0</th>\n",
       "      <td>Aruba</td>\n",
       "      <td>ABW</td>\n",
       "      <td>10.244</td>\n",
       "      <td>78.9</td>\n",
       "      <td>Ingreso alto</td>\n",
       "    </tr>\n",
       "  </tbody>\n",
       "</table>\n",
       "<p>195 rows × 5 columns</p>\n",
       "</div>"
      ],
      "text/plain": [
       "          Nombre del Pais Codigo de Pais  Tasa de Natalidad  \\\n",
       "194              Zimbabwe            ZWE             35.715   \n",
       "193                Zambia            ZMB             40.471   \n",
       "192      Congo, Dem. Rep.            COD             42.394   \n",
       "191          South Africa            ZAF             20.850   \n",
       "190           Yemen, Rep.            YEM             32.947   \n",
       "..                    ...            ...                ...   \n",
       "4    United Arab Emirates            ARE             11.044   \n",
       "3                 Albania            ALB             12.877   \n",
       "2                  Angola            AGO             45.985   \n",
       "1             Afghanistan            AFG             35.253   \n",
       "0                   Aruba            ABW             10.244   \n",
       "\n",
       "     Usuarios de Internet   Grupo de ingresos  \n",
       "194                  18.5        Ingreso bajo  \n",
       "193                  15.4  Ingreso medio bajo  \n",
       "192                   2.2        Ingreso bajo  \n",
       "191                  46.5  Ingreso medio alto  \n",
       "190                  20.0  Ingreso medio bajo  \n",
       "..                    ...                 ...  \n",
       "4                    88.0        Ingreso alto  \n",
       "3                    57.2  Ingreso medio alto  \n",
       "2                    19.1  Ingreso medio alto  \n",
       "1                     5.9        Ingreso bajo  \n",
       "0                    78.9        Ingreso alto  \n",
       "\n",
       "[195 rows x 5 columns]"
      ]
     },
     "execution_count": 39,
     "metadata": {},
     "output_type": "execute_result"
    }
   ],
   "source": [
    "#invierte el data frame\n",
    "datos[::-1]"
   ]
  },
  {
   "cell_type": "code",
   "execution_count": 41,
   "id": "a0945bf1-fa66-4697-8fe2-1f5dd2a14681",
   "metadata": {},
   "outputs": [
    {
     "data": {
      "text/html": [
       "<div>\n",
       "<style scoped>\n",
       "    .dataframe tbody tr th:only-of-type {\n",
       "        vertical-align: middle;\n",
       "    }\n",
       "\n",
       "    .dataframe tbody tr th {\n",
       "        vertical-align: top;\n",
       "    }\n",
       "\n",
       "    .dataframe thead th {\n",
       "        text-align: right;\n",
       "    }\n",
       "</style>\n",
       "<table border=\"1\" class=\"dataframe\">\n",
       "  <thead>\n",
       "    <tr style=\"text-align: right;\">\n",
       "      <th></th>\n",
       "      <th>Nombre del Pais</th>\n",
       "      <th>Codigo de Pais</th>\n",
       "      <th>Tasa de Natalidad</th>\n",
       "      <th>Usuarios de Internet</th>\n",
       "      <th>Grupo de ingresos</th>\n",
       "    </tr>\n",
       "  </thead>\n",
       "  <tbody>\n",
       "    <tr>\n",
       "      <th>0</th>\n",
       "      <td>Aruba</td>\n",
       "      <td>ABW</td>\n",
       "      <td>10.244</td>\n",
       "      <td>78.9000</td>\n",
       "      <td>Ingreso alto</td>\n",
       "    </tr>\n",
       "    <tr>\n",
       "      <th>20</th>\n",
       "      <td>Belarus</td>\n",
       "      <td>BLR</td>\n",
       "      <td>12.500</td>\n",
       "      <td>54.1700</td>\n",
       "      <td>Ingreso medio alto</td>\n",
       "    </tr>\n",
       "    <tr>\n",
       "      <th>40</th>\n",
       "      <td>Costa Rica</td>\n",
       "      <td>CRI</td>\n",
       "      <td>15.022</td>\n",
       "      <td>45.9600</td>\n",
       "      <td>Ingreso medio alto</td>\n",
       "    </tr>\n",
       "    <tr>\n",
       "      <th>60</th>\n",
       "      <td>Gabon</td>\n",
       "      <td>GAB</td>\n",
       "      <td>30.555</td>\n",
       "      <td>9.2000</td>\n",
       "      <td>Ingreso medio alto</td>\n",
       "    </tr>\n",
       "    <tr>\n",
       "      <th>80</th>\n",
       "      <td>India</td>\n",
       "      <td>IND</td>\n",
       "      <td>20.291</td>\n",
       "      <td>15.1000</td>\n",
       "      <td>Ingreso medio bajo</td>\n",
       "    </tr>\n",
       "    <tr>\n",
       "      <th>100</th>\n",
       "      <td>Libya</td>\n",
       "      <td>LBY</td>\n",
       "      <td>21.425</td>\n",
       "      <td>16.5000</td>\n",
       "      <td>Ingreso medio alto</td>\n",
       "    </tr>\n",
       "    <tr>\n",
       "      <th>120</th>\n",
       "      <td>Mozambique</td>\n",
       "      <td>MOZ</td>\n",
       "      <td>39.705</td>\n",
       "      <td>5.4000</td>\n",
       "      <td>Ingreso bajo</td>\n",
       "    </tr>\n",
       "    <tr>\n",
       "      <th>140</th>\n",
       "      <td>Poland</td>\n",
       "      <td>POL</td>\n",
       "      <td>9.600</td>\n",
       "      <td>62.8492</td>\n",
       "      <td>Ingreso alto</td>\n",
       "    </tr>\n",
       "    <tr>\n",
       "      <th>160</th>\n",
       "      <td>Suriname</td>\n",
       "      <td>SUR</td>\n",
       "      <td>18.455</td>\n",
       "      <td>37.4000</td>\n",
       "      <td>Ingreso medio alto</td>\n",
       "    </tr>\n",
       "    <tr>\n",
       "      <th>180</th>\n",
       "      <td>Uruguay</td>\n",
       "      <td>URY</td>\n",
       "      <td>14.374</td>\n",
       "      <td>57.6900</td>\n",
       "      <td>Ingreso alto</td>\n",
       "    </tr>\n",
       "  </tbody>\n",
       "</table>\n",
       "</div>"
      ],
      "text/plain": [
       "    Nombre del Pais Codigo de Pais  Tasa de Natalidad  Usuarios de Internet  \\\n",
       "0             Aruba            ABW             10.244               78.9000   \n",
       "20          Belarus            BLR             12.500               54.1700   \n",
       "40       Costa Rica            CRI             15.022               45.9600   \n",
       "60            Gabon            GAB             30.555                9.2000   \n",
       "80            India            IND             20.291               15.1000   \n",
       "100           Libya            LBY             21.425               16.5000   \n",
       "120      Mozambique            MOZ             39.705                5.4000   \n",
       "140          Poland            POL              9.600               62.8492   \n",
       "160        Suriname            SUR             18.455               37.4000   \n",
       "180         Uruguay            URY             14.374               57.6900   \n",
       "\n",
       "      Grupo de ingresos  \n",
       "0          Ingreso alto  \n",
       "20   Ingreso medio alto  \n",
       "40   Ingreso medio alto  \n",
       "60   Ingreso medio alto  \n",
       "80   Ingreso medio bajo  \n",
       "100  Ingreso medio alto  \n",
       "120        Ingreso bajo  \n",
       "140        Ingreso alto  \n",
       "160  Ingreso medio alto  \n",
       "180        Ingreso alto  "
      ]
     },
     "execution_count": 41,
     "metadata": {},
     "output_type": "execute_result"
    }
   ],
   "source": [
    "#obtener cada 20 paises o filas\n",
    "datos[0::20]"
   ]
  },
  {
   "cell_type": "code",
   "execution_count": 55,
   "id": "fe7b6886-aa1b-48d1-9b0a-d8ed705e1752",
   "metadata": {},
   "outputs": [
    {
     "data": {
      "text/html": [
       "<div>\n",
       "<style scoped>\n",
       "    .dataframe tbody tr th:only-of-type {\n",
       "        vertical-align: middle;\n",
       "    }\n",
       "\n",
       "    .dataframe tbody tr th {\n",
       "        vertical-align: top;\n",
       "    }\n",
       "\n",
       "    .dataframe thead th {\n",
       "        text-align: right;\n",
       "    }\n",
       "</style>\n",
       "<table border=\"1\" class=\"dataframe\">\n",
       "  <thead>\n",
       "    <tr style=\"text-align: right;\">\n",
       "      <th></th>\n",
       "      <th>Nombre del Pais</th>\n",
       "      <th>Tasa de Natalidad</th>\n",
       "    </tr>\n",
       "  </thead>\n",
       "  <tbody>\n",
       "    <tr>\n",
       "      <th>0</th>\n",
       "      <td>Aruba</td>\n",
       "      <td>10.244</td>\n",
       "    </tr>\n",
       "    <tr>\n",
       "      <th>1</th>\n",
       "      <td>Afghanistan</td>\n",
       "      <td>35.253</td>\n",
       "    </tr>\n",
       "    <tr>\n",
       "      <th>2</th>\n",
       "      <td>Angola</td>\n",
       "      <td>45.985</td>\n",
       "    </tr>\n",
       "    <tr>\n",
       "      <th>3</th>\n",
       "      <td>Albania</td>\n",
       "      <td>12.877</td>\n",
       "    </tr>\n",
       "    <tr>\n",
       "      <th>4</th>\n",
       "      <td>United Arab Emirates</td>\n",
       "      <td>11.044</td>\n",
       "    </tr>\n",
       "  </tbody>\n",
       "</table>\n",
       "</div>"
      ],
      "text/plain": [
       "        Nombre del Pais  Tasa de Natalidad\n",
       "0                 Aruba             10.244\n",
       "1           Afghanistan             35.253\n",
       "2                Angola             45.985\n",
       "3               Albania             12.877\n",
       "4  United Arab Emirates             11.044"
      ]
     },
     "execution_count": 55,
     "metadata": {},
     "output_type": "execute_result"
    }
   ],
   "source": [
    "#columnas\n",
    "datos[['Nombre del Pais', 'Tasa de Natalidad']].head()\n",
    "# acceso rápido \n",
    "# datos.TasaNatalidad solo sirve para sacar una columna y si la columna tiene el nombre sin espacios"
   ]
  },
  {
   "cell_type": "markdown",
   "id": "87e27618-5e43-4bd1-a384-d16a5bbe639e",
   "metadata": {},
   "source": [
    "**extraer solo unas columnas y filas concretas**"
   ]
  },
  {
   "cell_type": "code",
   "execution_count": 61,
   "id": "e92fc948-7a87-4a3c-9971-c11a61fc55c1",
   "metadata": {},
   "outputs": [
    {
     "data": {
      "text/html": [
       "<div>\n",
       "<style scoped>\n",
       "    .dataframe tbody tr th:only-of-type {\n",
       "        vertical-align: middle;\n",
       "    }\n",
       "\n",
       "    .dataframe tbody tr th {\n",
       "        vertical-align: top;\n",
       "    }\n",
       "\n",
       "    .dataframe thead th {\n",
       "        text-align: right;\n",
       "    }\n",
       "</style>\n",
       "<table border=\"1\" class=\"dataframe\">\n",
       "  <thead>\n",
       "    <tr style=\"text-align: right;\">\n",
       "      <th></th>\n",
       "      <th>Nombre del Pais</th>\n",
       "      <th>Tasa de Natalidad</th>\n",
       "    </tr>\n",
       "  </thead>\n",
       "  <tbody>\n",
       "    <tr>\n",
       "      <th>4</th>\n",
       "      <td>United Arab Emirates</td>\n",
       "      <td>11.044</td>\n",
       "    </tr>\n",
       "    <tr>\n",
       "      <th>5</th>\n",
       "      <td>Argentina</td>\n",
       "      <td>17.716</td>\n",
       "    </tr>\n",
       "    <tr>\n",
       "      <th>6</th>\n",
       "      <td>Armenia</td>\n",
       "      <td>13.308</td>\n",
       "    </tr>\n",
       "    <tr>\n",
       "      <th>7</th>\n",
       "      <td>Antigua and Barbuda</td>\n",
       "      <td>16.447</td>\n",
       "    </tr>\n",
       "  </tbody>\n",
       "</table>\n",
       "</div>"
      ],
      "text/plain": [
       "        Nombre del Pais  Tasa de Natalidad\n",
       "4  United Arab Emirates             11.044\n",
       "5             Argentina             17.716\n",
       "6               Armenia             13.308\n",
       "7   Antigua and Barbuda             16.447"
      ]
     },
     "execution_count": 61,
     "metadata": {},
     "output_type": "execute_result"
    }
   ],
   "source": [
    "datos[['Nombre del Pais', 'Tasa de Natalidad']][4:8]"
   ]
  },
  {
   "cell_type": "code",
   "execution_count": null,
   "id": "ffa365b1-02fb-4b77-8aef-f1dc73e66349",
   "metadata": {},
   "outputs": [],
   "source": [
    "datos[4:8][['Nombre del Pais', 'Tasa de Natalidad']] #hace lo mismo que el anterior"
   ]
  },
  {
   "cell_type": "code",
   "execution_count": null,
   "id": "882e2506-49ad-4e52-a20c-f6372e188ff8",
   "metadata": {},
   "outputs": [],
   "source": [
    "#igual\n",
    "df2 = datos[['Nombre del Pais', 'Tasa de Natalidad']]\n",
    "df2[4:8]"
   ]
  },
  {
   "cell_type": "markdown",
   "id": "380fc6b9-8389-40f8-b675-f0aa1f5adb13",
   "metadata": {},
   "source": [
    "### Operaciones matemáticas con datasets"
   ]
  },
  {
   "cell_type": "code",
   "execution_count": 13,
   "id": "544799ab-1b44-4983-82e3-fa06763bcd29",
   "metadata": {},
   "outputs": [
    {
     "data": {
      "text/plain": [
       "0      808.2516\n",
       "1      207.9927\n",
       "2      878.3135\n",
       "3      736.5644\n",
       "4      971.8720\n",
       "         ...   \n",
       "190    658.9400\n",
       "191    969.5250\n",
       "192     93.2668\n",
       "193    623.2534\n",
       "194    660.7275\n",
       "Length: 195, dtype: float64"
      ]
     },
     "execution_count": 13,
     "metadata": {},
     "output_type": "execute_result"
    }
   ],
   "source": [
    "resultado = datos['Tasa de Natalidad'] * datos['Usuarios de Internet']\n",
    "resultado"
   ]
  },
  {
   "cell_type": "code",
   "execution_count": 15,
   "id": "2de05138-ea97-4103-b361-cdb0789ddd07",
   "metadata": {},
   "outputs": [],
   "source": [
    "# agregar columna\n",
    "datos['MiCalculo'] = datos['Tasa de Natalidad'] * datos['Usuarios de Internet']"
   ]
  },
  {
   "cell_type": "code",
   "execution_count": 17,
   "id": "546dc4fa-a060-4b40-879b-d7eb4d250316",
   "metadata": {},
   "outputs": [
    {
     "data": {
      "text/html": [
       "<div>\n",
       "<style scoped>\n",
       "    .dataframe tbody tr th:only-of-type {\n",
       "        vertical-align: middle;\n",
       "    }\n",
       "\n",
       "    .dataframe tbody tr th {\n",
       "        vertical-align: top;\n",
       "    }\n",
       "\n",
       "    .dataframe thead th {\n",
       "        text-align: right;\n",
       "    }\n",
       "</style>\n",
       "<table border=\"1\" class=\"dataframe\">\n",
       "  <thead>\n",
       "    <tr style=\"text-align: right;\">\n",
       "      <th></th>\n",
       "      <th>Nombre del Pais</th>\n",
       "      <th>Codigo de Pais</th>\n",
       "      <th>Tasa de Natalidad</th>\n",
       "      <th>Usuarios de Internet</th>\n",
       "      <th>Grupo de ingresos</th>\n",
       "      <th>MiCalculo</th>\n",
       "    </tr>\n",
       "  </thead>\n",
       "  <tbody>\n",
       "    <tr>\n",
       "      <th>0</th>\n",
       "      <td>Aruba</td>\n",
       "      <td>ABW</td>\n",
       "      <td>10.244</td>\n",
       "      <td>78.9</td>\n",
       "      <td>Ingreso alto</td>\n",
       "      <td>808.2516</td>\n",
       "    </tr>\n",
       "    <tr>\n",
       "      <th>1</th>\n",
       "      <td>Afghanistan</td>\n",
       "      <td>AFG</td>\n",
       "      <td>35.253</td>\n",
       "      <td>5.9</td>\n",
       "      <td>Ingreso bajo</td>\n",
       "      <td>207.9927</td>\n",
       "    </tr>\n",
       "    <tr>\n",
       "      <th>2</th>\n",
       "      <td>Angola</td>\n",
       "      <td>AGO</td>\n",
       "      <td>45.985</td>\n",
       "      <td>19.1</td>\n",
       "      <td>Ingreso medio alto</td>\n",
       "      <td>878.3135</td>\n",
       "    </tr>\n",
       "    <tr>\n",
       "      <th>3</th>\n",
       "      <td>Albania</td>\n",
       "      <td>ALB</td>\n",
       "      <td>12.877</td>\n",
       "      <td>57.2</td>\n",
       "      <td>Ingreso medio alto</td>\n",
       "      <td>736.5644</td>\n",
       "    </tr>\n",
       "    <tr>\n",
       "      <th>4</th>\n",
       "      <td>United Arab Emirates</td>\n",
       "      <td>ARE</td>\n",
       "      <td>11.044</td>\n",
       "      <td>88.0</td>\n",
       "      <td>Ingreso alto</td>\n",
       "      <td>971.8720</td>\n",
       "    </tr>\n",
       "  </tbody>\n",
       "</table>\n",
       "</div>"
      ],
      "text/plain": [
       "        Nombre del Pais Codigo de Pais  Tasa de Natalidad  \\\n",
       "0                 Aruba            ABW             10.244   \n",
       "1           Afghanistan            AFG             35.253   \n",
       "2                Angola            AGO             45.985   \n",
       "3               Albania            ALB             12.877   \n",
       "4  United Arab Emirates            ARE             11.044   \n",
       "\n",
       "   Usuarios de Internet   Grupo de ingresos  MiCalculo  \n",
       "0                  78.9        Ingreso alto   808.2516  \n",
       "1                   5.9        Ingreso bajo   207.9927  \n",
       "2                  19.1  Ingreso medio alto   878.3135  \n",
       "3                  57.2  Ingreso medio alto   736.5644  \n",
       "4                  88.0        Ingreso alto   971.8720  "
      ]
     },
     "execution_count": 17,
     "metadata": {},
     "output_type": "execute_result"
    }
   ],
   "source": [
    "datos.head()"
   ]
  },
  {
   "cell_type": "markdown",
   "id": "64861e01-e1a2-42b2-ac8d-4c1be8b28644",
   "metadata": {},
   "source": [
    "**Borrar columna (hay q asignar el dataset de nuevo a la variable)**"
   ]
  },
  {
   "cell_type": "code",
   "execution_count": null,
   "id": "b1f935a3-25af-4d61-b355-1b7ceecf0ae7",
   "metadata": {},
   "outputs": [],
   "source": [
    "# borrar columnas\n",
    "datos = datos.drop('MiCalculo',axis=1)\n"
   ]
  },
  {
   "cell_type": "code",
   "execution_count": 29,
   "id": "2bd807a1-fdfd-49f2-a3eb-ab23c92bdd68",
   "metadata": {},
   "outputs": [
    {
     "data": {
      "text/html": [
       "<div>\n",
       "<style scoped>\n",
       "    .dataframe tbody tr th:only-of-type {\n",
       "        vertical-align: middle;\n",
       "    }\n",
       "\n",
       "    .dataframe tbody tr th {\n",
       "        vertical-align: top;\n",
       "    }\n",
       "\n",
       "    .dataframe thead th {\n",
       "        text-align: right;\n",
       "    }\n",
       "</style>\n",
       "<table border=\"1\" class=\"dataframe\">\n",
       "  <thead>\n",
       "    <tr style=\"text-align: right;\">\n",
       "      <th></th>\n",
       "      <th>Nombre del Pais</th>\n",
       "      <th>Codigo de Pais</th>\n",
       "      <th>Tasa de Natalidad</th>\n",
       "      <th>Usuarios de Internet</th>\n",
       "      <th>Grupo de ingresos</th>\n",
       "    </tr>\n",
       "  </thead>\n",
       "  <tbody>\n",
       "    <tr>\n",
       "      <th>0</th>\n",
       "      <td>Aruba</td>\n",
       "      <td>ABW</td>\n",
       "      <td>10.244</td>\n",
       "      <td>78.9</td>\n",
       "      <td>Ingreso alto</td>\n",
       "    </tr>\n",
       "    <tr>\n",
       "      <th>1</th>\n",
       "      <td>Afghanistan</td>\n",
       "      <td>AFG</td>\n",
       "      <td>35.253</td>\n",
       "      <td>5.9</td>\n",
       "      <td>Ingreso bajo</td>\n",
       "    </tr>\n",
       "    <tr>\n",
       "      <th>2</th>\n",
       "      <td>Angola</td>\n",
       "      <td>AGO</td>\n",
       "      <td>45.985</td>\n",
       "      <td>19.1</td>\n",
       "      <td>Ingreso medio alto</td>\n",
       "    </tr>\n",
       "    <tr>\n",
       "      <th>3</th>\n",
       "      <td>Albania</td>\n",
       "      <td>ALB</td>\n",
       "      <td>12.877</td>\n",
       "      <td>57.2</td>\n",
       "      <td>Ingreso medio alto</td>\n",
       "    </tr>\n",
       "    <tr>\n",
       "      <th>4</th>\n",
       "      <td>United Arab Emirates</td>\n",
       "      <td>ARE</td>\n",
       "      <td>11.044</td>\n",
       "      <td>88.0</td>\n",
       "      <td>Ingreso alto</td>\n",
       "    </tr>\n",
       "  </tbody>\n",
       "</table>\n",
       "</div>"
      ],
      "text/plain": [
       "        Nombre del Pais Codigo de Pais  Tasa de Natalidad  \\\n",
       "0                 Aruba            ABW             10.244   \n",
       "1           Afghanistan            AFG             35.253   \n",
       "2                Angola            AGO             45.985   \n",
       "3               Albania            ALB             12.877   \n",
       "4  United Arab Emirates            ARE             11.044   \n",
       "\n",
       "   Usuarios de Internet   Grupo de ingresos  \n",
       "0                  78.9        Ingreso alto  \n",
       "1                   5.9        Ingreso bajo  \n",
       "2                  19.1  Ingreso medio alto  \n",
       "3                  57.2  Ingreso medio alto  \n",
       "4                  88.0        Ingreso alto  "
      ]
     },
     "execution_count": 29,
     "metadata": {},
     "output_type": "execute_result"
    }
   ],
   "source": [
    "datos.head()"
   ]
  },
  {
   "cell_type": "markdown",
   "id": "62e982a7-4647-4fad-ab23-e3e7ba667e28",
   "metadata": {},
   "source": [
    "**Otra opción para borrar una columna sería  \n",
    "del datos[‘Micalculo’]**\n"
   ]
  },
  {
   "cell_type": "markdown",
   "id": "c2ae981d-6896-4095-b200-5226c0c5c255",
   "metadata": {},
   "source": [
    "### Cambiar el título de una columna"
   ]
  },
  {
   "cell_type": "code",
   "execution_count": null,
   "id": "919b5b59-dffb-438c-bb2c-bc9e349a3a60",
   "metadata": {},
   "outputs": [],
   "source": [
    "datos_unidos.rename(columns={'NombrePais_x': 'NombrePais'}, inplace=True)"
   ]
  },
  {
   "cell_type": "markdown",
   "id": "0542aab0-b33b-4b04-9cc5-b052b7a77207",
   "metadata": {},
   "source": [
    "### Filtro en dataset"
   ]
  },
  {
   "cell_type": "code",
   "execution_count": 59,
   "id": "36c61798-721f-4433-9d04-fec2a95204db",
   "metadata": {},
   "outputs": [],
   "source": [
    "filtro = datos['Usuarios de Internet'] < 2"
   ]
  },
  {
   "cell_type": "code",
   "execution_count": 63,
   "id": "8b08bf9a-3380-4100-9a56-4b3cd50cd128",
   "metadata": {},
   "outputs": [
    {
     "data": {
      "text/plain": [
       "0      False\n",
       "1      False\n",
       "2      False\n",
       "3      False\n",
       "4      False\n",
       "       ...  \n",
       "190    False\n",
       "191    False\n",
       "192    False\n",
       "193    False\n",
       "194    False\n",
       "Name: Usuarios de Internet, Length: 195, dtype: bool"
      ]
     },
     "execution_count": 63,
     "metadata": {},
     "output_type": "execute_result"
    }
   ],
   "source": [
    "filtro"
   ]
  },
  {
   "cell_type": "code",
   "execution_count": 18,
   "id": "156aa550-f770-4b70-86e0-e78f2b3a435c",
   "metadata": {},
   "outputs": [
    {
     "data": {
      "text/html": [
       "<div>\n",
       "<style scoped>\n",
       "    .dataframe tbody tr th:only-of-type {\n",
       "        vertical-align: middle;\n",
       "    }\n",
       "\n",
       "    .dataframe tbody tr th {\n",
       "        vertical-align: top;\n",
       "    }\n",
       "\n",
       "    .dataframe thead th {\n",
       "        text-align: right;\n",
       "    }\n",
       "</style>\n",
       "<table border=\"1\" class=\"dataframe\">\n",
       "  <thead>\n",
       "    <tr style=\"text-align: right;\">\n",
       "      <th></th>\n",
       "      <th>Nombre del Pais</th>\n",
       "      <th>Codigo de Pais</th>\n",
       "      <th>Tasa de Natalidad</th>\n",
       "      <th>Usuarios de Internet</th>\n",
       "      <th>Grupo de ingresos</th>\n",
       "    </tr>\n",
       "  </thead>\n",
       "  <tbody>\n",
       "    <tr>\n",
       "      <th>2</th>\n",
       "      <td>Angola</td>\n",
       "      <td>AGO</td>\n",
       "      <td>45.985</td>\n",
       "      <td>19.1</td>\n",
       "      <td>Ingreso medio alto</td>\n",
       "    </tr>\n",
       "    <tr>\n",
       "      <th>11</th>\n",
       "      <td>Burundi</td>\n",
       "      <td>BDI</td>\n",
       "      <td>44.151</td>\n",
       "      <td>1.3</td>\n",
       "      <td>Ingreso bajo</td>\n",
       "    </tr>\n",
       "    <tr>\n",
       "      <th>14</th>\n",
       "      <td>Burkina Faso</td>\n",
       "      <td>BFA</td>\n",
       "      <td>40.551</td>\n",
       "      <td>9.1</td>\n",
       "      <td>Ingreso bajo</td>\n",
       "    </tr>\n",
       "    <tr>\n",
       "      <th>65</th>\n",
       "      <td>Gambia, The</td>\n",
       "      <td>GMB</td>\n",
       "      <td>42.525</td>\n",
       "      <td>14.0</td>\n",
       "      <td>Ingreso bajo</td>\n",
       "    </tr>\n",
       "    <tr>\n",
       "      <th>115</th>\n",
       "      <td>Mali</td>\n",
       "      <td>MLI</td>\n",
       "      <td>44.138</td>\n",
       "      <td>3.5</td>\n",
       "      <td>Ingreso bajo</td>\n",
       "    </tr>\n",
       "    <tr>\n",
       "      <th>127</th>\n",
       "      <td>Niger</td>\n",
       "      <td>NER</td>\n",
       "      <td>49.661</td>\n",
       "      <td>1.7</td>\n",
       "      <td>Ingreso bajo</td>\n",
       "    </tr>\n",
       "    <tr>\n",
       "      <th>128</th>\n",
       "      <td>Nigeria</td>\n",
       "      <td>NGA</td>\n",
       "      <td>40.045</td>\n",
       "      <td>38.0</td>\n",
       "      <td>Ingreso medio bajo</td>\n",
       "    </tr>\n",
       "    <tr>\n",
       "      <th>156</th>\n",
       "      <td>Somalia</td>\n",
       "      <td>SOM</td>\n",
       "      <td>43.891</td>\n",
       "      <td>1.5</td>\n",
       "      <td>Ingreso bajo</td>\n",
       "    </tr>\n",
       "    <tr>\n",
       "      <th>167</th>\n",
       "      <td>Chad</td>\n",
       "      <td>TCD</td>\n",
       "      <td>45.745</td>\n",
       "      <td>2.3</td>\n",
       "      <td>Ingreso bajo</td>\n",
       "    </tr>\n",
       "    <tr>\n",
       "      <th>178</th>\n",
       "      <td>Uganda</td>\n",
       "      <td>UGA</td>\n",
       "      <td>43.474</td>\n",
       "      <td>16.2</td>\n",
       "      <td>Ingreso bajo</td>\n",
       "    </tr>\n",
       "    <tr>\n",
       "      <th>192</th>\n",
       "      <td>Congo, Dem. Rep.</td>\n",
       "      <td>COD</td>\n",
       "      <td>42.394</td>\n",
       "      <td>2.2</td>\n",
       "      <td>Ingreso bajo</td>\n",
       "    </tr>\n",
       "    <tr>\n",
       "      <th>193</th>\n",
       "      <td>Zambia</td>\n",
       "      <td>ZMB</td>\n",
       "      <td>40.471</td>\n",
       "      <td>15.4</td>\n",
       "      <td>Ingreso medio bajo</td>\n",
       "    </tr>\n",
       "  </tbody>\n",
       "</table>\n",
       "</div>"
      ],
      "text/plain": [
       "      Nombre del Pais Codigo de Pais  Tasa de Natalidad  Usuarios de Internet  \\\n",
       "2              Angola            AGO             45.985                  19.1   \n",
       "11            Burundi            BDI             44.151                   1.3   \n",
       "14       Burkina Faso            BFA             40.551                   9.1   \n",
       "65        Gambia, The            GMB             42.525                  14.0   \n",
       "115              Mali            MLI             44.138                   3.5   \n",
       "127             Niger            NER             49.661                   1.7   \n",
       "128           Nigeria            NGA             40.045                  38.0   \n",
       "156           Somalia            SOM             43.891                   1.5   \n",
       "167              Chad            TCD             45.745                   2.3   \n",
       "178            Uganda            UGA             43.474                  16.2   \n",
       "192  Congo, Dem. Rep.            COD             42.394                   2.2   \n",
       "193            Zambia            ZMB             40.471                  15.4   \n",
       "\n",
       "      Grupo de ingresos  \n",
       "2    Ingreso medio alto  \n",
       "11         Ingreso bajo  \n",
       "14         Ingreso bajo  \n",
       "65         Ingreso bajo  \n",
       "115        Ingreso bajo  \n",
       "127        Ingreso bajo  \n",
       "128  Ingreso medio bajo  \n",
       "156        Ingreso bajo  \n",
       "167        Ingreso bajo  \n",
       "178        Ingreso bajo  \n",
       "192        Ingreso bajo  \n",
       "193  Ingreso medio bajo  "
      ]
     },
     "execution_count": 18,
     "metadata": {},
     "output_type": "execute_result"
    }
   ],
   "source": [
    "#no hace falta asignar el filtro a una variable\n",
    "datos[datos['Tasa de Natalidad'] > 40]"
   ]
  },
  {
   "cell_type": "code",
   "execution_count": null,
   "id": "c1034567-4c9a-4996-9c50-1f9c4297af94",
   "metadata": {},
   "outputs": [],
   "source": []
  },
  {
   "cell_type": "code",
   "execution_count": 61,
   "id": "491422df-1f1f-4498-a8d4-0cb069209255",
   "metadata": {},
   "outputs": [
    {
     "data": {
      "text/plain": [
       "0      False\n",
       "1      False\n",
       "2       True\n",
       "3      False\n",
       "4      False\n",
       "       ...  \n",
       "190    False\n",
       "191    False\n",
       "192     True\n",
       "193     True\n",
       "194    False\n",
       "Name: Tasa de Natalidad, Length: 195, dtype: bool"
      ]
     },
     "execution_count": 61,
     "metadata": {},
     "output_type": "execute_result"
    }
   ],
   "source": [
    "#Para filtrar por varios valores\n",
    "filtro = datos['Usuarios de Internet'] < 2\n",
    "filtro_2 = datos['Tasa de Natalidad'] > 40"
   ]
  },
  {
   "cell_type": "code",
   "execution_count": 65,
   "id": "abb2fd3b-e885-44d2-b3ac-da74c5527795",
   "metadata": {},
   "outputs": [
    {
     "data": {
      "text/html": [
       "<div>\n",
       "<style scoped>\n",
       "    .dataframe tbody tr th:only-of-type {\n",
       "        vertical-align: middle;\n",
       "    }\n",
       "\n",
       "    .dataframe tbody tr th {\n",
       "        vertical-align: top;\n",
       "    }\n",
       "\n",
       "    .dataframe thead th {\n",
       "        text-align: right;\n",
       "    }\n",
       "</style>\n",
       "<table border=\"1\" class=\"dataframe\">\n",
       "  <thead>\n",
       "    <tr style=\"text-align: right;\">\n",
       "      <th></th>\n",
       "      <th>Nombre del Pais</th>\n",
       "      <th>Codigo de Pais</th>\n",
       "      <th>Tasa de Natalidad</th>\n",
       "      <th>Usuarios de Internet</th>\n",
       "      <th>Grupo de ingresos</th>\n",
       "    </tr>\n",
       "  </thead>\n",
       "  <tbody>\n",
       "    <tr>\n",
       "      <th>11</th>\n",
       "      <td>Burundi</td>\n",
       "      <td>BDI</td>\n",
       "      <td>44.151</td>\n",
       "      <td>1.3</td>\n",
       "      <td>Ingreso bajo</td>\n",
       "    </tr>\n",
       "    <tr>\n",
       "      <th>127</th>\n",
       "      <td>Niger</td>\n",
       "      <td>NER</td>\n",
       "      <td>49.661</td>\n",
       "      <td>1.7</td>\n",
       "      <td>Ingreso bajo</td>\n",
       "    </tr>\n",
       "    <tr>\n",
       "      <th>156</th>\n",
       "      <td>Somalia</td>\n",
       "      <td>SOM</td>\n",
       "      <td>43.891</td>\n",
       "      <td>1.5</td>\n",
       "      <td>Ingreso bajo</td>\n",
       "    </tr>\n",
       "  </tbody>\n",
       "</table>\n",
       "</div>"
      ],
      "text/plain": [
       "    Nombre del Pais Codigo de Pais  Tasa de Natalidad  Usuarios de Internet  \\\n",
       "11          Burundi            BDI             44.151                   1.3   \n",
       "127           Niger            NER             49.661                   1.7   \n",
       "156         Somalia            SOM             43.891                   1.5   \n",
       "\n",
       "    Grupo de ingresos  \n",
       "11       Ingreso bajo  \n",
       "127      Ingreso bajo  \n",
       "156      Ingreso bajo  "
      ]
     },
     "execution_count": 65,
     "metadata": {},
     "output_type": "execute_result"
    }
   ],
   "source": [
    "# tasa natalidad mayor a 40 y usuario de internet mayor q 2\n",
    "#datos[[datos['Tasa de Natalidad'] > 40] &  datos['Usuarios de Internet'] < 2]\n",
    "datos[filtro & filtro_2]"
   ]
  },
  {
   "cell_type": "code",
   "execution_count": 67,
   "id": "e3532bd4-e9a2-4e54-afb7-a8fea7063111",
   "metadata": {},
   "outputs": [
    {
     "data": {
      "text/html": [
       "<div>\n",
       "<style scoped>\n",
       "    .dataframe tbody tr th:only-of-type {\n",
       "        vertical-align: middle;\n",
       "    }\n",
       "\n",
       "    .dataframe tbody tr th {\n",
       "        vertical-align: top;\n",
       "    }\n",
       "\n",
       "    .dataframe thead th {\n",
       "        text-align: right;\n",
       "    }\n",
       "</style>\n",
       "<table border=\"1\" class=\"dataframe\">\n",
       "  <thead>\n",
       "    <tr style=\"text-align: right;\">\n",
       "      <th></th>\n",
       "      <th>Nombre del Pais</th>\n",
       "      <th>Codigo de Pais</th>\n",
       "      <th>Tasa de Natalidad</th>\n",
       "      <th>Usuarios de Internet</th>\n",
       "      <th>Grupo de ingresos</th>\n",
       "    </tr>\n",
       "  </thead>\n",
       "  <tbody>\n",
       "    <tr>\n",
       "      <th>11</th>\n",
       "      <td>Burundi</td>\n",
       "      <td>BDI</td>\n",
       "      <td>44.151</td>\n",
       "      <td>1.3</td>\n",
       "      <td>Ingreso bajo</td>\n",
       "    </tr>\n",
       "    <tr>\n",
       "      <th>127</th>\n",
       "      <td>Niger</td>\n",
       "      <td>NER</td>\n",
       "      <td>49.661</td>\n",
       "      <td>1.7</td>\n",
       "      <td>Ingreso bajo</td>\n",
       "    </tr>\n",
       "    <tr>\n",
       "      <th>156</th>\n",
       "      <td>Somalia</td>\n",
       "      <td>SOM</td>\n",
       "      <td>43.891</td>\n",
       "      <td>1.5</td>\n",
       "      <td>Ingreso bajo</td>\n",
       "    </tr>\n",
       "  </tbody>\n",
       "</table>\n",
       "</div>"
      ],
      "text/plain": [
       "    Nombre del Pais Codigo de Pais  Tasa de Natalidad  Usuarios de Internet  \\\n",
       "11          Burundi            BDI             44.151                   1.3   \n",
       "127           Niger            NER             49.661                   1.7   \n",
       "156         Somalia            SOM             43.891                   1.5   \n",
       "\n",
       "    Grupo de ingresos  \n",
       "11       Ingreso bajo  \n",
       "127      Ingreso bajo  \n",
       "156      Ingreso bajo  "
      ]
     },
     "execution_count": 67,
     "metadata": {},
     "output_type": "execute_result"
    }
   ],
   "source": [
    "# o sin variables\n",
    "datos[(datos['Tasa de Natalidad'] > 40) & (datos['Usuarios de Internet'] < 2)]"
   ]
  },
  {
   "cell_type": "markdown",
   "id": "76e3c60d-2c0f-4e30-a4d9-043d2f2c07b3",
   "metadata": {},
   "source": [
    "### Para ver los valores únicos"
   ]
  },
  {
   "cell_type": "code",
   "execution_count": 69,
   "id": "4904400c-f8b5-47d8-b105-dac589ef15f8",
   "metadata": {},
   "outputs": [
    {
     "data": {
      "text/html": [
       "<div>\n",
       "<style scoped>\n",
       "    .dataframe tbody tr th:only-of-type {\n",
       "        vertical-align: middle;\n",
       "    }\n",
       "\n",
       "    .dataframe tbody tr th {\n",
       "        vertical-align: top;\n",
       "    }\n",
       "\n",
       "    .dataframe thead th {\n",
       "        text-align: right;\n",
       "    }\n",
       "</style>\n",
       "<table border=\"1\" class=\"dataframe\">\n",
       "  <thead>\n",
       "    <tr style=\"text-align: right;\">\n",
       "      <th></th>\n",
       "      <th>Nombre del Pais</th>\n",
       "      <th>Codigo de Pais</th>\n",
       "      <th>Tasa de Natalidad</th>\n",
       "      <th>Usuarios de Internet</th>\n",
       "      <th>Grupo de ingresos</th>\n",
       "    </tr>\n",
       "  </thead>\n",
       "  <tbody>\n",
       "    <tr>\n",
       "      <th>0</th>\n",
       "      <td>Aruba</td>\n",
       "      <td>ABW</td>\n",
       "      <td>10.244</td>\n",
       "      <td>78.9</td>\n",
       "      <td>Ingreso alto</td>\n",
       "    </tr>\n",
       "    <tr>\n",
       "      <th>1</th>\n",
       "      <td>Afghanistan</td>\n",
       "      <td>AFG</td>\n",
       "      <td>35.253</td>\n",
       "      <td>5.9</td>\n",
       "      <td>Ingreso bajo</td>\n",
       "    </tr>\n",
       "    <tr>\n",
       "      <th>2</th>\n",
       "      <td>Angola</td>\n",
       "      <td>AGO</td>\n",
       "      <td>45.985</td>\n",
       "      <td>19.1</td>\n",
       "      <td>Ingreso medio alto</td>\n",
       "    </tr>\n",
       "    <tr>\n",
       "      <th>3</th>\n",
       "      <td>Albania</td>\n",
       "      <td>ALB</td>\n",
       "      <td>12.877</td>\n",
       "      <td>57.2</td>\n",
       "      <td>Ingreso medio alto</td>\n",
       "    </tr>\n",
       "    <tr>\n",
       "      <th>4</th>\n",
       "      <td>United Arab Emirates</td>\n",
       "      <td>ARE</td>\n",
       "      <td>11.044</td>\n",
       "      <td>88.0</td>\n",
       "      <td>Ingreso alto</td>\n",
       "    </tr>\n",
       "  </tbody>\n",
       "</table>\n",
       "</div>"
      ],
      "text/plain": [
       "        Nombre del Pais Codigo de Pais  Tasa de Natalidad  \\\n",
       "0                 Aruba            ABW             10.244   \n",
       "1           Afghanistan            AFG             35.253   \n",
       "2                Angola            AGO             45.985   \n",
       "3               Albania            ALB             12.877   \n",
       "4  United Arab Emirates            ARE             11.044   \n",
       "\n",
       "   Usuarios de Internet   Grupo de ingresos  \n",
       "0                  78.9        Ingreso alto  \n",
       "1                   5.9        Ingreso bajo  \n",
       "2                  19.1  Ingreso medio alto  \n",
       "3                  57.2  Ingreso medio alto  \n",
       "4                  88.0        Ingreso alto  "
      ]
     },
     "execution_count": 69,
     "metadata": {},
     "output_type": "execute_result"
    }
   ],
   "source": [
    "datos.head()"
   ]
  },
  {
   "cell_type": "code",
   "execution_count": 71,
   "id": "627c15a8-098b-4abe-864c-43ed2c9b16f5",
   "metadata": {},
   "outputs": [
    {
     "data": {
      "text/plain": [
       "array(['Ingreso alto', 'Ingreso bajo', 'Ingreso medio alto',\n",
       "       'Ingreso medio bajo'], dtype=object)"
      ]
     },
     "execution_count": 71,
     "metadata": {},
     "output_type": "execute_result"
    }
   ],
   "source": [
    "datos['Grupo de ingresos'].unique()"
   ]
  },
  {
   "cell_type": "markdown",
   "id": "ced7b01f-8ff2-4507-b366-0bdee208849f",
   "metadata": {},
   "source": [
    "### Filtrar por un dato"
   ]
  },
  {
   "cell_type": "code",
   "execution_count": 79,
   "id": "90747bbc-ea78-49ec-b044-5e8c1605bfe1",
   "metadata": {},
   "outputs": [],
   "source": [
    "#Encontrar todo lo de malta\n",
    "filtro_malta = datos['Nombre del Pais'] == 'Malta'\n"
   ]
  },
  {
   "cell_type": "code",
   "execution_count": 81,
   "id": "9a2df255-e013-443f-8956-cb3e8fce4b5a",
   "metadata": {},
   "outputs": [
    {
     "data": {
      "text/plain": [
       "0      False\n",
       "1      False\n",
       "2      False\n",
       "3      False\n",
       "4      False\n",
       "       ...  \n",
       "190    False\n",
       "191    False\n",
       "192    False\n",
       "193    False\n",
       "194    False\n",
       "Name: Nombre del Pais, Length: 195, dtype: bool"
      ]
     },
     "execution_count": 81,
     "metadata": {},
     "output_type": "execute_result"
    }
   ],
   "source": [
    "filtro_malta"
   ]
  },
  {
   "cell_type": "code",
   "execution_count": 83,
   "id": "9246c561-a100-4533-a9d9-4050d76a12a4",
   "metadata": {},
   "outputs": [
    {
     "data": {
      "text/html": [
       "<div>\n",
       "<style scoped>\n",
       "    .dataframe tbody tr th:only-of-type {\n",
       "        vertical-align: middle;\n",
       "    }\n",
       "\n",
       "    .dataframe tbody tr th {\n",
       "        vertical-align: top;\n",
       "    }\n",
       "\n",
       "    .dataframe thead th {\n",
       "        text-align: right;\n",
       "    }\n",
       "</style>\n",
       "<table border=\"1\" class=\"dataframe\">\n",
       "  <thead>\n",
       "    <tr style=\"text-align: right;\">\n",
       "      <th></th>\n",
       "      <th>Nombre del Pais</th>\n",
       "      <th>Codigo de Pais</th>\n",
       "      <th>Tasa de Natalidad</th>\n",
       "      <th>Usuarios de Internet</th>\n",
       "      <th>Grupo de ingresos</th>\n",
       "    </tr>\n",
       "  </thead>\n",
       "  <tbody>\n",
       "    <tr>\n",
       "      <th>116</th>\n",
       "      <td>Malta</td>\n",
       "      <td>MLT</td>\n",
       "      <td>9.5</td>\n",
       "      <td>68.9138</td>\n",
       "      <td>Ingreso alto</td>\n",
       "    </tr>\n",
       "  </tbody>\n",
       "</table>\n",
       "</div>"
      ],
      "text/plain": [
       "    Nombre del Pais Codigo de Pais  Tasa de Natalidad  Usuarios de Internet  \\\n",
       "116           Malta            MLT                9.5               68.9138   \n",
       "\n",
       "    Grupo de ingresos  \n",
       "116      Ingreso alto  "
      ]
     },
     "execution_count": 83,
     "metadata": {},
     "output_type": "execute_result"
    }
   ],
   "source": [
    "datos[filtro_malta]"
   ]
  },
  {
   "cell_type": "code",
   "execution_count": 30,
   "id": "5d986460-b995-42a7-a2ca-8fea8f17529a",
   "metadata": {},
   "outputs": [
    {
     "data": {
      "text/html": [
       "<div>\n",
       "<style scoped>\n",
       "    .dataframe tbody tr th:only-of-type {\n",
       "        vertical-align: middle;\n",
       "    }\n",
       "\n",
       "    .dataframe tbody tr th {\n",
       "        vertical-align: top;\n",
       "    }\n",
       "\n",
       "    .dataframe thead th {\n",
       "        text-align: right;\n",
       "    }\n",
       "</style>\n",
       "<table border=\"1\" class=\"dataframe\">\n",
       "  <thead>\n",
       "    <tr style=\"text-align: right;\">\n",
       "      <th></th>\n",
       "      <th>Nombre del Pais</th>\n",
       "      <th>Codigo de Pais</th>\n",
       "      <th>Tasa de Natalidad</th>\n",
       "      <th>Usuarios de Internet</th>\n",
       "      <th>Grupo de ingresos</th>\n",
       "    </tr>\n",
       "  </thead>\n",
       "  <tbody>\n",
       "    <tr>\n",
       "      <th>116</th>\n",
       "      <td>Malta</td>\n",
       "      <td>MLT</td>\n",
       "      <td>9.5</td>\n",
       "      <td>68.9138</td>\n",
       "      <td>Ingreso alto</td>\n",
       "    </tr>\n",
       "  </tbody>\n",
       "</table>\n",
       "</div>"
      ],
      "text/plain": [
       "    Nombre del Pais Codigo de Pais  Tasa de Natalidad  Usuarios de Internet  \\\n",
       "116           Malta            MLT                9.5               68.9138   \n",
       "\n",
       "    Grupo de ingresos  \n",
       "116      Ingreso alto  "
      ]
     },
     "execution_count": 30,
     "metadata": {},
     "output_type": "execute_result"
    }
   ],
   "source": [
    "# otra opción\n",
    "datos[datos['Nombre del Pais'] == 'Malta']"
   ]
  },
  {
   "cell_type": "code",
   "execution_count": 93,
   "id": "f3bc53b9-3c06-4e9c-8dec-2732d2cf05fb",
   "metadata": {},
   "outputs": [
    {
     "data": {
      "text/html": [
       "<div>\n",
       "<style scoped>\n",
       "    .dataframe tbody tr th:only-of-type {\n",
       "        vertical-align: middle;\n",
       "    }\n",
       "\n",
       "    .dataframe tbody tr th {\n",
       "        vertical-align: top;\n",
       "    }\n",
       "\n",
       "    .dataframe thead th {\n",
       "        text-align: right;\n",
       "    }\n",
       "</style>\n",
       "<table border=\"1\" class=\"dataframe\">\n",
       "  <thead>\n",
       "    <tr style=\"text-align: right;\">\n",
       "      <th></th>\n",
       "      <th>Nombre del Pais</th>\n",
       "      <th>Codigo de Pais</th>\n",
       "      <th>Tasa de Natalidad</th>\n",
       "      <th>Usuarios de Internet</th>\n",
       "      <th>Grupo de ingresos</th>\n",
       "    </tr>\n",
       "  </thead>\n",
       "  <tbody>\n",
       "    <tr>\n",
       "      <th>0</th>\n",
       "      <td>Aruba</td>\n",
       "      <td>ABW</td>\n",
       "      <td>10.244</td>\n",
       "      <td>78.9</td>\n",
       "      <td>Ingreso alto</td>\n",
       "    </tr>\n",
       "    <tr>\n",
       "      <th>1</th>\n",
       "      <td>Afghanistan</td>\n",
       "      <td>AFG</td>\n",
       "      <td>35.253</td>\n",
       "      <td>5.9</td>\n",
       "      <td>Ingreso bajo</td>\n",
       "    </tr>\n",
       "    <tr>\n",
       "      <th>2</th>\n",
       "      <td>Angola</td>\n",
       "      <td>AGO</td>\n",
       "      <td>45.985</td>\n",
       "      <td>19.1</td>\n",
       "      <td>Ingreso medio alto</td>\n",
       "    </tr>\n",
       "    <tr>\n",
       "      <th>3</th>\n",
       "      <td>Albania</td>\n",
       "      <td>ALB</td>\n",
       "      <td>12.877</td>\n",
       "      <td>57.2</td>\n",
       "      <td>Ingreso medio alto</td>\n",
       "    </tr>\n",
       "    <tr>\n",
       "      <th>4</th>\n",
       "      <td>United Arab Emirates</td>\n",
       "      <td>ARE</td>\n",
       "      <td>11.044</td>\n",
       "      <td>88.0</td>\n",
       "      <td>Ingreso alto</td>\n",
       "    </tr>\n",
       "  </tbody>\n",
       "</table>\n",
       "</div>"
      ],
      "text/plain": [
       "        Nombre del Pais Codigo de Pais  Tasa de Natalidad  \\\n",
       "0                 Aruba            ABW             10.244   \n",
       "1           Afghanistan            AFG             35.253   \n",
       "2                Angola            AGO             45.985   \n",
       "3               Albania            ALB             12.877   \n",
       "4  United Arab Emirates            ARE             11.044   \n",
       "\n",
       "   Usuarios de Internet   Grupo de ingresos  \n",
       "0                  78.9        Ingreso alto  \n",
       "1                   5.9        Ingreso bajo  \n",
       "2                  19.1  Ingreso medio alto  \n",
       "3                  57.2  Ingreso medio alto  \n",
       "4                  88.0        Ingreso alto  "
      ]
     },
     "execution_count": 93,
     "metadata": {},
     "output_type": "execute_result"
    }
   ],
   "source": [
    "datos.head()"
   ]
  },
  {
   "cell_type": "markdown",
   "id": "17a9b33c-a776-4419-95d5-1db1e93492d3",
   "metadata": {},
   "source": [
    "### Como acceder a celdas en concreto\n",
    "\n",
    ".at con el nombre de la columna\t\tdataset.at[num fila , “nombre columna”]   \n",
    ".iat con numero de fila y columna\t\tdataset.iat[num fila , num columna]   \n",
    ".iat utiliza la indexación\n"
   ]
  },
  {
   "cell_type": "code",
   "execution_count": 95,
   "id": "0e43608b-a538-41fb-b6ad-72b60bad5d06",
   "metadata": {},
   "outputs": [
    {
     "data": {
      "text/plain": [
       "'Ingreso medio alto'"
      ]
     },
     "execution_count": 95,
     "metadata": {},
     "output_type": "execute_result"
    }
   ],
   "source": [
    "datos.iat[3,4]"
   ]
  },
  {
   "cell_type": "code",
   "execution_count": 97,
   "id": "874a6cf5-0e9b-4f8c-a976-71ef825e6ec2",
   "metadata": {},
   "outputs": [
    {
     "data": {
      "text/plain": [
       "45.985"
      ]
     },
     "execution_count": 97,
     "metadata": {},
     "output_type": "execute_result"
    }
   ],
   "source": [
    "datos.at[2, 'Tasa de Natalidad']"
   ]
  },
  {
   "cell_type": "markdown",
   "id": "0392bfeb-313c-4515-a714-8d50f74ead28",
   "metadata": {},
   "source": [
    "**Diferencia entre iat y at** \n",
    "At coge el numero de etiqueta (no de fila) y iat coge el numero real de fila en el filtro\n"
   ]
  },
  {
   "cell_type": "code",
   "execution_count": 36,
   "id": "4ec125ae-a5c0-4f12-9872-4ed443c26749",
   "metadata": {},
   "outputs": [],
   "source": [
    "sub10 = datos[::10]"
   ]
  },
  {
   "cell_type": "code",
   "execution_count": 101,
   "id": "ed214956-0c79-473c-be9a-51067c34f622",
   "metadata": {},
   "outputs": [
    {
     "data": {
      "text/html": [
       "<div>\n",
       "<style scoped>\n",
       "    .dataframe tbody tr th:only-of-type {\n",
       "        vertical-align: middle;\n",
       "    }\n",
       "\n",
       "    .dataframe tbody tr th {\n",
       "        vertical-align: top;\n",
       "    }\n",
       "\n",
       "    .dataframe thead th {\n",
       "        text-align: right;\n",
       "    }\n",
       "</style>\n",
       "<table border=\"1\" class=\"dataframe\">\n",
       "  <thead>\n",
       "    <tr style=\"text-align: right;\">\n",
       "      <th></th>\n",
       "      <th>Nombre del Pais</th>\n",
       "      <th>Codigo de Pais</th>\n",
       "      <th>Tasa de Natalidad</th>\n",
       "      <th>Usuarios de Internet</th>\n",
       "      <th>Grupo de ingresos</th>\n",
       "    </tr>\n",
       "  </thead>\n",
       "  <tbody>\n",
       "    <tr>\n",
       "      <th>0</th>\n",
       "      <td>Aruba</td>\n",
       "      <td>ABW</td>\n",
       "      <td>10.244</td>\n",
       "      <td>78.900000</td>\n",
       "      <td>Ingreso alto</td>\n",
       "    </tr>\n",
       "    <tr>\n",
       "      <th>10</th>\n",
       "      <td>Azerbaijan</td>\n",
       "      <td>AZE</td>\n",
       "      <td>18.300</td>\n",
       "      <td>58.700000</td>\n",
       "      <td>Ingreso medio alto</td>\n",
       "    </tr>\n",
       "    <tr>\n",
       "      <th>20</th>\n",
       "      <td>Belarus</td>\n",
       "      <td>BLR</td>\n",
       "      <td>12.500</td>\n",
       "      <td>54.170000</td>\n",
       "      <td>Ingreso medio alto</td>\n",
       "    </tr>\n",
       "    <tr>\n",
       "      <th>30</th>\n",
       "      <td>Canada</td>\n",
       "      <td>CAN</td>\n",
       "      <td>10.900</td>\n",
       "      <td>85.800000</td>\n",
       "      <td>Ingreso alto</td>\n",
       "    </tr>\n",
       "    <tr>\n",
       "      <th>40</th>\n",
       "      <td>Costa Rica</td>\n",
       "      <td>CRI</td>\n",
       "      <td>15.022</td>\n",
       "      <td>45.960000</td>\n",
       "      <td>Ingreso medio alto</td>\n",
       "    </tr>\n",
       "    <tr>\n",
       "      <th>50</th>\n",
       "      <td>Ecuador</td>\n",
       "      <td>ECU</td>\n",
       "      <td>21.070</td>\n",
       "      <td>40.353684</td>\n",
       "      <td>Ingreso medio alto</td>\n",
       "    </tr>\n",
       "    <tr>\n",
       "      <th>60</th>\n",
       "      <td>Gabon</td>\n",
       "      <td>GAB</td>\n",
       "      <td>30.555</td>\n",
       "      <td>9.200000</td>\n",
       "      <td>Ingreso medio alto</td>\n",
       "    </tr>\n",
       "    <tr>\n",
       "      <th>70</th>\n",
       "      <td>Greenland</td>\n",
       "      <td>GRL</td>\n",
       "      <td>14.500</td>\n",
       "      <td>65.800000</td>\n",
       "      <td>Ingreso alto</td>\n",
       "    </tr>\n",
       "    <tr>\n",
       "      <th>80</th>\n",
       "      <td>India</td>\n",
       "      <td>IND</td>\n",
       "      <td>20.291</td>\n",
       "      <td>15.100000</td>\n",
       "      <td>Ingreso medio bajo</td>\n",
       "    </tr>\n",
       "    <tr>\n",
       "      <th>90</th>\n",
       "      <td>Kazakhstan</td>\n",
       "      <td>KAZ</td>\n",
       "      <td>22.730</td>\n",
       "      <td>54.000000</td>\n",
       "      <td>Ingreso medio alto</td>\n",
       "    </tr>\n",
       "    <tr>\n",
       "      <th>100</th>\n",
       "      <td>Libya</td>\n",
       "      <td>LBY</td>\n",
       "      <td>21.425</td>\n",
       "      <td>16.500000</td>\n",
       "      <td>Ingreso medio alto</td>\n",
       "    </tr>\n",
       "    <tr>\n",
       "      <th>110</th>\n",
       "      <td>Moldova</td>\n",
       "      <td>MDA</td>\n",
       "      <td>12.141</td>\n",
       "      <td>45.000000</td>\n",
       "      <td>Ingreso medio bajo</td>\n",
       "    </tr>\n",
       "    <tr>\n",
       "      <th>120</th>\n",
       "      <td>Mozambique</td>\n",
       "      <td>MOZ</td>\n",
       "      <td>39.705</td>\n",
       "      <td>5.400000</td>\n",
       "      <td>Ingreso bajo</td>\n",
       "    </tr>\n",
       "    <tr>\n",
       "      <th>130</th>\n",
       "      <td>Netherlands</td>\n",
       "      <td>NLD</td>\n",
       "      <td>10.200</td>\n",
       "      <td>93.956400</td>\n",
       "      <td>Ingreso alto</td>\n",
       "    </tr>\n",
       "    <tr>\n",
       "      <th>140</th>\n",
       "      <td>Poland</td>\n",
       "      <td>POL</td>\n",
       "      <td>9.600</td>\n",
       "      <td>62.849200</td>\n",
       "      <td>Ingreso alto</td>\n",
       "    </tr>\n",
       "    <tr>\n",
       "      <th>150</th>\n",
       "      <td>Sudan</td>\n",
       "      <td>SDN</td>\n",
       "      <td>33.477</td>\n",
       "      <td>22.700000</td>\n",
       "      <td>Ingreso medio bajo</td>\n",
       "    </tr>\n",
       "    <tr>\n",
       "      <th>160</th>\n",
       "      <td>Suriname</td>\n",
       "      <td>SUR</td>\n",
       "      <td>18.455</td>\n",
       "      <td>37.400000</td>\n",
       "      <td>Ingreso medio alto</td>\n",
       "    </tr>\n",
       "    <tr>\n",
       "      <th>170</th>\n",
       "      <td>Tajikistan</td>\n",
       "      <td>TJK</td>\n",
       "      <td>30.792</td>\n",
       "      <td>16.000000</td>\n",
       "      <td>Ingreso medio bajo</td>\n",
       "    </tr>\n",
       "    <tr>\n",
       "      <th>180</th>\n",
       "      <td>Uruguay</td>\n",
       "      <td>URY</td>\n",
       "      <td>14.374</td>\n",
       "      <td>57.690000</td>\n",
       "      <td>Ingreso alto</td>\n",
       "    </tr>\n",
       "    <tr>\n",
       "      <th>190</th>\n",
       "      <td>Yemen, Rep.</td>\n",
       "      <td>YEM</td>\n",
       "      <td>32.947</td>\n",
       "      <td>20.000000</td>\n",
       "      <td>Ingreso medio bajo</td>\n",
       "    </tr>\n",
       "  </tbody>\n",
       "</table>\n",
       "</div>"
      ],
      "text/plain": [
       "    Nombre del Pais Codigo de Pais  Tasa de Natalidad  Usuarios de Internet  \\\n",
       "0             Aruba            ABW             10.244             78.900000   \n",
       "10       Azerbaijan            AZE             18.300             58.700000   \n",
       "20          Belarus            BLR             12.500             54.170000   \n",
       "30           Canada            CAN             10.900             85.800000   \n",
       "40       Costa Rica            CRI             15.022             45.960000   \n",
       "50          Ecuador            ECU             21.070             40.353684   \n",
       "60            Gabon            GAB             30.555              9.200000   \n",
       "70        Greenland            GRL             14.500             65.800000   \n",
       "80            India            IND             20.291             15.100000   \n",
       "90       Kazakhstan            KAZ             22.730             54.000000   \n",
       "100           Libya            LBY             21.425             16.500000   \n",
       "110         Moldova            MDA             12.141             45.000000   \n",
       "120      Mozambique            MOZ             39.705              5.400000   \n",
       "130     Netherlands            NLD             10.200             93.956400   \n",
       "140          Poland            POL              9.600             62.849200   \n",
       "150           Sudan            SDN             33.477             22.700000   \n",
       "160        Suriname            SUR             18.455             37.400000   \n",
       "170      Tajikistan            TJK             30.792             16.000000   \n",
       "180         Uruguay            URY             14.374             57.690000   \n",
       "190     Yemen, Rep.            YEM             32.947             20.000000   \n",
       "\n",
       "      Grupo de ingresos  \n",
       "0          Ingreso alto  \n",
       "10   Ingreso medio alto  \n",
       "20   Ingreso medio alto  \n",
       "30         Ingreso alto  \n",
       "40   Ingreso medio alto  \n",
       "50   Ingreso medio alto  \n",
       "60   Ingreso medio alto  \n",
       "70         Ingreso alto  \n",
       "80   Ingreso medio bajo  \n",
       "90   Ingreso medio alto  \n",
       "100  Ingreso medio alto  \n",
       "110  Ingreso medio bajo  \n",
       "120        Ingreso bajo  \n",
       "130        Ingreso alto  \n",
       "140        Ingreso alto  \n",
       "150  Ingreso medio bajo  \n",
       "160  Ingreso medio alto  \n",
       "170  Ingreso medio bajo  \n",
       "180        Ingreso alto  \n",
       "190  Ingreso medio bajo  "
      ]
     },
     "execution_count": 101,
     "metadata": {},
     "output_type": "execute_result"
    }
   ],
   "source": [
    "sub10"
   ]
  },
  {
   "cell_type": "code",
   "execution_count": 109,
   "id": "8b620648-758c-49bc-b533-3ef77414abb5",
   "metadata": {},
   "outputs": [
    {
     "data": {
      "text/plain": [
       "'Azerbaijan'"
      ]
     },
     "execution_count": 109,
     "metadata": {},
     "output_type": "execute_result"
    }
   ],
   "source": [
    "sub10.at[10,'Nombre del Pais']"
   ]
  },
  {
   "cell_type": "code",
   "execution_count": 38,
   "id": "0a069dd6-6a43-42fe-8751-5376f60efdae",
   "metadata": {},
   "outputs": [
    {
     "data": {
      "text/plain": [
       "'Libya'"
      ]
     },
     "execution_count": 38,
     "metadata": {},
     "output_type": "execute_result"
    }
   ],
   "source": [
    "sub10.iat[10,0]\n"
   ]
  },
  {
   "cell_type": "markdown",
   "id": "44c7d8f3-d7f2-4204-bb8b-3dd275c04497",
   "metadata": {},
   "source": [
    "### Unir dos dataframe"
   ]
  },
  {
   "cell_type": "markdown",
   "id": "eda5e9ce-1fae-4a15-9914-8fc77848357d",
   "metadata": {},
   "source": [
    "Datos es un dataframe ya existente q tiene una columna llamada CodigoPais q es igual q la del dataframe datos_paises"
   ]
  },
  {
   "cell_type": "code",
   "execution_count": null,
   "id": "02a5122a-8113-4bda-83ae-734d1d02b8b8",
   "metadata": {},
   "outputs": [],
   "source": [
    "import numpy as np\n",
    "\n",
    "datos_paises = pd.DataFrame({\"NombrePais\": np.array(paises_datos_2012), \n",
    "                             \"CodigoPais\": np.array(paises_datos_2012), \n",
    "                             \"RegionPais\": np.array(paises_datos_2012)})\n",
    "\n",
    "#mergeamos los datos\n",
    "datos_unidos = pd.merge(left=datos, right=datos_paises, how='inner', on='CodigoPais')\n",
    "datos_unidos"
   ]
  },
  {
   "cell_type": "markdown",
   "id": "3944a1cd-4837-4146-b6b5-7daf55e62ef6",
   "metadata": {},
   "source": [
    "## Curso udemy Machine Learning"
   ]
  },
  {
   "cell_type": "code",
   "execution_count": 64,
   "id": "870bddbd-1889-4f11-b1b0-8e5c5773068f",
   "metadata": {},
   "outputs": [
    {
     "data": {
      "text/html": [
       "<div>\n",
       "<style scoped>\n",
       "    .dataframe tbody tr th:only-of-type {\n",
       "        vertical-align: middle;\n",
       "    }\n",
       "\n",
       "    .dataframe tbody tr th {\n",
       "        vertical-align: top;\n",
       "    }\n",
       "\n",
       "    .dataframe thead th {\n",
       "        text-align: right;\n",
       "    }\n",
       "</style>\n",
       "<table border=\"1\" class=\"dataframe\">\n",
       "  <thead>\n",
       "    <tr style=\"text-align: right;\">\n",
       "      <th></th>\n",
       "      <th>zonaA</th>\n",
       "      <th>zonaB</th>\n",
       "      <th>zonaC</th>\n",
       "    </tr>\n",
       "  </thead>\n",
       "  <tbody>\n",
       "    <tr>\n",
       "      <th>ventas1</th>\n",
       "      <td>123</td>\n",
       "      <td>421</td>\n",
       "      <td>256</td>\n",
       "    </tr>\n",
       "    <tr>\n",
       "      <th>ventas2</th>\n",
       "      <td>234</td>\n",
       "      <td>541</td>\n",
       "      <td>257</td>\n",
       "    </tr>\n",
       "    <tr>\n",
       "      <th>ventas3</th>\n",
       "      <td>120</td>\n",
       "      <td>451</td>\n",
       "      <td>258</td>\n",
       "    </tr>\n",
       "  </tbody>\n",
       "</table>\n",
       "</div>"
      ],
      "text/plain": [
       "         zonaA  zonaB  zonaC\n",
       "ventas1    123    421    256\n",
       "ventas2    234    541    257\n",
       "ventas3    120    451    258"
      ]
     },
     "execution_count": 64,
     "metadata": {},
     "output_type": "execute_result"
    }
   ],
   "source": [
    "#DATAFRAMES\n",
    "import numpy as np\n",
    "import pandas as pd\n",
    "\n",
    "filas = ['ventas1', 'ventas2', 'ventas3']\n",
    "columnas = ['zonaA', 'zonaB', 'zonaC']\n",
    "datos = [[123,421,256],[234,541,257],[120,451,258]]\n",
    "dataframe = pd.DataFrame(datos, filas, columnas)\n",
    "dataframe"
   ]
  },
  {
   "cell_type": "code",
   "execution_count": 51,
   "id": "d2f780cd-21a7-4b28-87a8-af69eb454024",
   "metadata": {},
   "outputs": [
    {
     "data": {
      "text/plain": [
       "zonaA    123\n",
       "zonaB    421\n",
       "zonaC    256\n",
       "Name: ventas1, dtype: int64"
      ]
     },
     "execution_count": 51,
     "metadata": {},
     "output_type": "execute_result"
    }
   ],
   "source": [
    "#seleccionar una fila\n",
    "dataframe.loc['ventas1']"
   ]
  },
  {
   "cell_type": "code",
   "execution_count": 53,
   "id": "4a25a23f-0322-4d9f-b676-c031927f7f21",
   "metadata": {},
   "outputs": [
    {
     "data": {
      "text/html": [
       "<div>\n",
       "<style scoped>\n",
       "    .dataframe tbody tr th:only-of-type {\n",
       "        vertical-align: middle;\n",
       "    }\n",
       "\n",
       "    .dataframe tbody tr th {\n",
       "        vertical-align: top;\n",
       "    }\n",
       "\n",
       "    .dataframe thead th {\n",
       "        text-align: right;\n",
       "    }\n",
       "</style>\n",
       "<table border=\"1\" class=\"dataframe\">\n",
       "  <thead>\n",
       "    <tr style=\"text-align: right;\">\n",
       "      <th></th>\n",
       "      <th>zonaA</th>\n",
       "      <th>zonaB</th>\n",
       "      <th>zonaC</th>\n",
       "    </tr>\n",
       "  </thead>\n",
       "  <tbody>\n",
       "    <tr>\n",
       "      <th>ventas1</th>\n",
       "      <td>123</td>\n",
       "      <td>421</td>\n",
       "      <td>256</td>\n",
       "    </tr>\n",
       "    <tr>\n",
       "      <th>ventas3</th>\n",
       "      <td>120</td>\n",
       "      <td>451</td>\n",
       "      <td>258</td>\n",
       "    </tr>\n",
       "  </tbody>\n",
       "</table>\n",
       "</div>"
      ],
      "text/plain": [
       "         zonaA  zonaB  zonaC\n",
       "ventas1    123    421    256\n",
       "ventas3    120    451    258"
      ]
     },
     "execution_count": 53,
     "metadata": {},
     "output_type": "execute_result"
    }
   ],
   "source": [
    "#selecionar varias filas\n",
    "dataframe.loc[['ventas1', 'ventas3']]"
   ]
  },
  {
   "cell_type": "code",
   "execution_count": 55,
   "id": "24b0189f-9d3a-4440-9620-7b8268c7c3a8",
   "metadata": {},
   "outputs": [
    {
     "data": {
      "text/html": [
       "<div>\n",
       "<style scoped>\n",
       "    .dataframe tbody tr th:only-of-type {\n",
       "        vertical-align: middle;\n",
       "    }\n",
       "\n",
       "    .dataframe tbody tr th {\n",
       "        vertical-align: top;\n",
       "    }\n",
       "\n",
       "    .dataframe thead th {\n",
       "        text-align: right;\n",
       "    }\n",
       "</style>\n",
       "<table border=\"1\" class=\"dataframe\">\n",
       "  <thead>\n",
       "    <tr style=\"text-align: right;\">\n",
       "      <th></th>\n",
       "      <th>zonaA</th>\n",
       "      <th>zonaC</th>\n",
       "    </tr>\n",
       "  </thead>\n",
       "  <tbody>\n",
       "    <tr>\n",
       "      <th>ventas1</th>\n",
       "      <td>123</td>\n",
       "      <td>256</td>\n",
       "    </tr>\n",
       "    <tr>\n",
       "      <th>ventas2</th>\n",
       "      <td>234</td>\n",
       "      <td>257</td>\n",
       "    </tr>\n",
       "    <tr>\n",
       "      <th>ventas3</th>\n",
       "      <td>120</td>\n",
       "      <td>258</td>\n",
       "    </tr>\n",
       "  </tbody>\n",
       "</table>\n",
       "</div>"
      ],
      "text/plain": [
       "         zonaA  zonaC\n",
       "ventas1    123    256\n",
       "ventas2    234    257\n",
       "ventas3    120    258"
      ]
     },
     "execution_count": 55,
     "metadata": {},
     "output_type": "execute_result"
    }
   ],
   "source": [
    "#seleccionar varias columnas\n",
    "dataframe[['zonaA','zonaC']]"
   ]
  },
  {
   "cell_type": "code",
   "execution_count": 57,
   "id": "8d08a97b-7d8f-4a3b-8647-1ef90b33cf0c",
   "metadata": {},
   "outputs": [
    {
     "data": {
      "text/plain": [
       "256"
      ]
     },
     "execution_count": 57,
     "metadata": {},
     "output_type": "execute_result"
    }
   ],
   "source": [
    "dataframe.loc['ventas1']['zonaC']"
   ]
  },
  {
   "cell_type": "code",
   "execution_count": 59,
   "id": "fcaa75b0-66fd-462c-9eed-6668e80e4658",
   "metadata": {},
   "outputs": [
    {
     "name": "stdout",
     "output_type": "stream",
     "text": [
      "Las ventas de enero para la oficina 1 son: 157\n"
     ]
    }
   ],
   "source": [
    "#EJERCICIO  2\n",
    "#crear un dataframe con los datos dados e imprimir la ventas de enero para la oficina1\n",
    "\n",
    "import numpy as np\n",
    "import pandas as pd\n",
    "\n",
    "ventas_enero = np.random.randint(101,501,3)\n",
    "ventas_febrero = np.random.randint(101,501,3)\n",
    "ventas_marzo = np.random.randint(101,501,3)\n",
    "filas = ['ventas_enero', 'ventas_febrero', 'ventas_marzo']\n",
    "columnas = ['oficina_1', 'oficina_2', 'oficina_3']\n",
    "ventas = np.array([ventas_enero, ventas_febrero, ventas_marzo])\n",
    "\n",
    "dataframe = pd.DataFrame(ventas, filas, columnas)\n",
    "\n",
    "print(f'Las ventas de enero para la oficina 1 son: {str(dataframe.loc['ventas_enero']['oficina_1'])}')\n"
   ]
  },
  {
   "cell_type": "markdown",
   "id": "9bb927eb-a34b-4f47-9ce4-aceded16fe93",
   "metadata": {},
   "source": [
    "### OPERACIONES DATAFRAMES"
   ]
  },
  {
   "cell_type": "code",
   "execution_count": 66,
   "id": "86296d06-6685-4b0f-a2ba-f435e9059be2",
   "metadata": {},
   "outputs": [
    {
     "data": {
      "text/html": [
       "<div>\n",
       "<style scoped>\n",
       "    .dataframe tbody tr th:only-of-type {\n",
       "        vertical-align: middle;\n",
       "    }\n",
       "\n",
       "    .dataframe tbody tr th {\n",
       "        vertical-align: top;\n",
       "    }\n",
       "\n",
       "    .dataframe thead th {\n",
       "        text-align: right;\n",
       "    }\n",
       "</style>\n",
       "<table border=\"1\" class=\"dataframe\">\n",
       "  <thead>\n",
       "    <tr style=\"text-align: right;\">\n",
       "      <th></th>\n",
       "      <th>zonaA</th>\n",
       "      <th>zonaB</th>\n",
       "      <th>zonaC</th>\n",
       "      <th>TodaslasZonas</th>\n",
       "    </tr>\n",
       "  </thead>\n",
       "  <tbody>\n",
       "    <tr>\n",
       "      <th>ventas1</th>\n",
       "      <td>123</td>\n",
       "      <td>421</td>\n",
       "      <td>256</td>\n",
       "      <td>800</td>\n",
       "    </tr>\n",
       "    <tr>\n",
       "      <th>ventas2</th>\n",
       "      <td>234</td>\n",
       "      <td>541</td>\n",
       "      <td>257</td>\n",
       "      <td>1032</td>\n",
       "    </tr>\n",
       "    <tr>\n",
       "      <th>ventas3</th>\n",
       "      <td>120</td>\n",
       "      <td>451</td>\n",
       "      <td>258</td>\n",
       "      <td>829</td>\n",
       "    </tr>\n",
       "  </tbody>\n",
       "</table>\n",
       "</div>"
      ],
      "text/plain": [
       "         zonaA  zonaB  zonaC  TodaslasZonas\n",
       "ventas1    123    421    256            800\n",
       "ventas2    234    541    257           1032\n",
       "ventas3    120    451    258            829"
      ]
     },
     "execution_count": 66,
     "metadata": {},
     "output_type": "execute_result"
    }
   ],
   "source": [
    "dataframe['TodaslasZonas'] = dataframe['zonaA'] + dataframe['zonaB'] + dataframe['zonaC']\n",
    "dataframe"
   ]
  },
  {
   "cell_type": "markdown",
   "id": "234133a8-6356-4539-83a1-912451b13758",
   "metadata": {},
   "source": [
    "#### Borrar la columna"
   ]
  },
  {
   "cell_type": "code",
   "execution_count": 69,
   "id": "29f869ea-73d5-4a4d-904e-81f7436e42e2",
   "metadata": {},
   "outputs": [
    {
     "data": {
      "text/html": [
       "<div>\n",
       "<style scoped>\n",
       "    .dataframe tbody tr th:only-of-type {\n",
       "        vertical-align: middle;\n",
       "    }\n",
       "\n",
       "    .dataframe tbody tr th {\n",
       "        vertical-align: top;\n",
       "    }\n",
       "\n",
       "    .dataframe thead th {\n",
       "        text-align: right;\n",
       "    }\n",
       "</style>\n",
       "<table border=\"1\" class=\"dataframe\">\n",
       "  <thead>\n",
       "    <tr style=\"text-align: right;\">\n",
       "      <th></th>\n",
       "      <th>zonaA</th>\n",
       "      <th>zonaB</th>\n",
       "      <th>zonaC</th>\n",
       "    </tr>\n",
       "  </thead>\n",
       "  <tbody>\n",
       "    <tr>\n",
       "      <th>ventas1</th>\n",
       "      <td>123</td>\n",
       "      <td>421</td>\n",
       "      <td>256</td>\n",
       "    </tr>\n",
       "    <tr>\n",
       "      <th>ventas2</th>\n",
       "      <td>234</td>\n",
       "      <td>541</td>\n",
       "      <td>257</td>\n",
       "    </tr>\n",
       "    <tr>\n",
       "      <th>ventas3</th>\n",
       "      <td>120</td>\n",
       "      <td>451</td>\n",
       "      <td>258</td>\n",
       "    </tr>\n",
       "  </tbody>\n",
       "</table>\n",
       "</div>"
      ],
      "text/plain": [
       "         zonaA  zonaB  zonaC\n",
       "ventas1    123    421    256\n",
       "ventas2    234    541    257\n",
       "ventas3    120    451    258"
      ]
     },
     "execution_count": 69,
     "metadata": {},
     "output_type": "execute_result"
    }
   ],
   "source": [
    "dataframe.drop('TodaslasZonas', axis=1, inplace=True)\n",
    "dataframe"
   ]
  },
  {
   "cell_type": "markdown",
   "id": "402850e7-c344-4ed5-bcb5-2da101cc1553",
   "metadata": {},
   "source": [
    "#### Condiciones"
   ]
  },
  {
   "cell_type": "code",
   "execution_count": 72,
   "id": "6ca6badf-0ce3-4fd5-a28c-6316e4d2efac",
   "metadata": {},
   "outputs": [
    {
     "data": {
      "text/html": [
       "<div>\n",
       "<style scoped>\n",
       "    .dataframe tbody tr th:only-of-type {\n",
       "        vertical-align: middle;\n",
       "    }\n",
       "\n",
       "    .dataframe tbody tr th {\n",
       "        vertical-align: top;\n",
       "    }\n",
       "\n",
       "    .dataframe thead th {\n",
       "        text-align: right;\n",
       "    }\n",
       "</style>\n",
       "<table border=\"1\" class=\"dataframe\">\n",
       "  <thead>\n",
       "    <tr style=\"text-align: right;\">\n",
       "      <th></th>\n",
       "      <th>zonaA</th>\n",
       "      <th>zonaB</th>\n",
       "      <th>zonaC</th>\n",
       "    </tr>\n",
       "  </thead>\n",
       "  <tbody>\n",
       "    <tr>\n",
       "      <th>ventas1</th>\n",
       "      <td>NaN</td>\n",
       "      <td>421</td>\n",
       "      <td>256</td>\n",
       "    </tr>\n",
       "    <tr>\n",
       "      <th>ventas2</th>\n",
       "      <td>234.0</td>\n",
       "      <td>541</td>\n",
       "      <td>257</td>\n",
       "    </tr>\n",
       "    <tr>\n",
       "      <th>ventas3</th>\n",
       "      <td>NaN</td>\n",
       "      <td>451</td>\n",
       "      <td>258</td>\n",
       "    </tr>\n",
       "  </tbody>\n",
       "</table>\n",
       "</div>"
      ],
      "text/plain": [
       "         zonaA  zonaB  zonaC\n",
       "ventas1    NaN    421    256\n",
       "ventas2  234.0    541    257\n",
       "ventas3    NaN    451    258"
      ]
     },
     "execution_count": 72,
     "metadata": {},
     "output_type": "execute_result"
    }
   ],
   "source": [
    "condicion = dataframe > 200\n",
    "dataframe[condicion]"
   ]
  },
  {
   "cell_type": "code",
   "execution_count": 74,
   "id": "5f6a1b22-5567-45ab-8696-88c6fee904a4",
   "metadata": {},
   "outputs": [
    {
     "data": {
      "text/html": [
       "<div>\n",
       "<style scoped>\n",
       "    .dataframe tbody tr th:only-of-type {\n",
       "        vertical-align: middle;\n",
       "    }\n",
       "\n",
       "    .dataframe tbody tr th {\n",
       "        vertical-align: top;\n",
       "    }\n",
       "\n",
       "    .dataframe thead th {\n",
       "        text-align: right;\n",
       "    }\n",
       "</style>\n",
       "<table border=\"1\" class=\"dataframe\">\n",
       "  <thead>\n",
       "    <tr style=\"text-align: right;\">\n",
       "      <th></th>\n",
       "      <th>zonaA</th>\n",
       "      <th>zonaB</th>\n",
       "      <th>zonaC</th>\n",
       "    </tr>\n",
       "  </thead>\n",
       "  <tbody>\n",
       "    <tr>\n",
       "      <th>ventas1</th>\n",
       "      <td>123</td>\n",
       "      <td>421</td>\n",
       "      <td>256</td>\n",
       "    </tr>\n",
       "    <tr>\n",
       "      <th>ventas2</th>\n",
       "      <td>234</td>\n",
       "      <td>541</td>\n",
       "      <td>257</td>\n",
       "    </tr>\n",
       "  </tbody>\n",
       "</table>\n",
       "</div>"
      ],
      "text/plain": [
       "         zonaA  zonaB  zonaC\n",
       "ventas1    123    421    256\n",
       "ventas2    234    541    257"
      ]
     },
     "execution_count": 74,
     "metadata": {},
     "output_type": "execute_result"
    }
   ],
   "source": [
    "condicion2 = dataframe ['zonaA'] > 121\n",
    "dataframe[condicion2]"
   ]
  },
  {
   "cell_type": "code",
   "execution_count": 76,
   "id": "dc3c62d2-55e8-4ee1-874c-59f426c00584",
   "metadata": {},
   "outputs": [
    {
     "data": {
      "text/html": [
       "<div>\n",
       "<style scoped>\n",
       "    .dataframe tbody tr th:only-of-type {\n",
       "        vertical-align: middle;\n",
       "    }\n",
       "\n",
       "    .dataframe tbody tr th {\n",
       "        vertical-align: top;\n",
       "    }\n",
       "\n",
       "    .dataframe thead th {\n",
       "        text-align: right;\n",
       "    }\n",
       "</style>\n",
       "<table border=\"1\" class=\"dataframe\">\n",
       "  <thead>\n",
       "    <tr style=\"text-align: right;\">\n",
       "      <th></th>\n",
       "      <th>zonaA</th>\n",
       "      <th>zonaB</th>\n",
       "      <th>zonaC</th>\n",
       "    </tr>\n",
       "  </thead>\n",
       "  <tbody>\n",
       "    <tr>\n",
       "      <th>ventas1</th>\n",
       "      <td>123</td>\n",
       "      <td>421</td>\n",
       "      <td>256</td>\n",
       "    </tr>\n",
       "    <tr>\n",
       "      <th>ventas2</th>\n",
       "      <td>234</td>\n",
       "      <td>541</td>\n",
       "      <td>257</td>\n",
       "    </tr>\n",
       "  </tbody>\n",
       "</table>\n",
       "</div>"
      ],
      "text/plain": [
       "         zonaA  zonaB  zonaC\n",
       "ventas1    123    421    256\n",
       "ventas2    234    541    257"
      ]
     },
     "execution_count": 76,
     "metadata": {},
     "output_type": "execute_result"
    }
   ],
   "source": [
    "condicion3 = (dataframe ['zonaA'] > 121) | (dataframe ['zonaB'] > 500)\n",
    "dataframe[condicion3]"
   ]
  },
  {
   "cell_type": "code",
   "execution_count": 78,
   "id": "91b6ff1d-c95b-41f6-a23b-ba93782b0f38",
   "metadata": {},
   "outputs": [
    {
     "data": {
      "text/html": [
       "<div>\n",
       "<style scoped>\n",
       "    .dataframe tbody tr th:only-of-type {\n",
       "        vertical-align: middle;\n",
       "    }\n",
       "\n",
       "    .dataframe tbody tr th {\n",
       "        vertical-align: top;\n",
       "    }\n",
       "\n",
       "    .dataframe thead th {\n",
       "        text-align: right;\n",
       "    }\n",
       "</style>\n",
       "<table border=\"1\" class=\"dataframe\">\n",
       "  <thead>\n",
       "    <tr style=\"text-align: right;\">\n",
       "      <th></th>\n",
       "      <th>zonaB</th>\n",
       "      <th>zonaC</th>\n",
       "    </tr>\n",
       "  </thead>\n",
       "  <tbody>\n",
       "    <tr>\n",
       "      <th>ventas1</th>\n",
       "      <td>421</td>\n",
       "      <td>256</td>\n",
       "    </tr>\n",
       "    <tr>\n",
       "      <th>ventas2</th>\n",
       "      <td>541</td>\n",
       "      <td>257</td>\n",
       "    </tr>\n",
       "  </tbody>\n",
       "</table>\n",
       "</div>"
      ],
      "text/plain": [
       "         zonaB  zonaC\n",
       "ventas1    421    256\n",
       "ventas2    541    257"
      ]
     },
     "execution_count": 78,
     "metadata": {},
     "output_type": "execute_result"
    }
   ],
   "source": [
    "dataframe[condicion3][['zonaB','zonaC']]"
   ]
  },
  {
   "cell_type": "markdown",
   "id": "b9b83aa1-ab12-4e30-ae06-85e829b05e64",
   "metadata": {},
   "source": [
    "#### Cambiar el nombre de las filas"
   ]
  },
  {
   "cell_type": "code",
   "execution_count": 81,
   "id": "22a40f58-bc97-4cf0-8065-65252d4c1996",
   "metadata": {},
   "outputs": [
    {
     "data": {
      "text/html": [
       "<div>\n",
       "<style scoped>\n",
       "    .dataframe tbody tr th:only-of-type {\n",
       "        vertical-align: middle;\n",
       "    }\n",
       "\n",
       "    .dataframe tbody tr th {\n",
       "        vertical-align: top;\n",
       "    }\n",
       "\n",
       "    .dataframe thead th {\n",
       "        text-align: right;\n",
       "    }\n",
       "</style>\n",
       "<table border=\"1\" class=\"dataframe\">\n",
       "  <thead>\n",
       "    <tr style=\"text-align: right;\">\n",
       "      <th></th>\n",
       "      <th>zonaA</th>\n",
       "      <th>zonaB</th>\n",
       "      <th>zonaC</th>\n",
       "    </tr>\n",
       "  </thead>\n",
       "  <tbody>\n",
       "    <tr>\n",
       "      <th>ventas1</th>\n",
       "      <td>123</td>\n",
       "      <td>421</td>\n",
       "      <td>256</td>\n",
       "    </tr>\n",
       "    <tr>\n",
       "      <th>ventas2</th>\n",
       "      <td>234</td>\n",
       "      <td>541</td>\n",
       "      <td>257</td>\n",
       "    </tr>\n",
       "    <tr>\n",
       "      <th>ventas3</th>\n",
       "      <td>120</td>\n",
       "      <td>451</td>\n",
       "      <td>258</td>\n",
       "    </tr>\n",
       "  </tbody>\n",
       "</table>\n",
       "</div>"
      ],
      "text/plain": [
       "         zonaA  zonaB  zonaC\n",
       "ventas1    123    421    256\n",
       "ventas2    234    541    257\n",
       "ventas3    120    451    258"
      ]
     },
     "execution_count": 81,
     "metadata": {},
     "output_type": "execute_result"
    }
   ],
   "source": [
    "import numpy as np\n",
    "import pandas as pd\n",
    "\n",
    "filas = ['ventas1', 'ventas2', 'ventas3']\n",
    "columnas = ['zonaA', 'zonaB', 'zonaC']\n",
    "datos = [[123,421,256],[234,541,257],[120,451,258]]\n",
    "dataframe = pd.DataFrame(datos, filas, columnas)\n",
    "dataframe"
   ]
  },
  {
   "cell_type": "code",
   "execution_count": 83,
   "id": "43cd83ca-72a9-45ee-8a1a-761781af0304",
   "metadata": {},
   "outputs": [
    {
     "data": {
      "text/html": [
       "<div>\n",
       "<style scoped>\n",
       "    .dataframe tbody tr th:only-of-type {\n",
       "        vertical-align: middle;\n",
       "    }\n",
       "\n",
       "    .dataframe tbody tr th {\n",
       "        vertical-align: top;\n",
       "    }\n",
       "\n",
       "    .dataframe thead th {\n",
       "        text-align: right;\n",
       "    }\n",
       "</style>\n",
       "<table border=\"1\" class=\"dataframe\">\n",
       "  <thead>\n",
       "    <tr style=\"text-align: right;\">\n",
       "      <th></th>\n",
       "      <th>zonaA</th>\n",
       "      <th>zonaB</th>\n",
       "      <th>zonaC</th>\n",
       "      <th>dias</th>\n",
       "    </tr>\n",
       "  </thead>\n",
       "  <tbody>\n",
       "    <tr>\n",
       "      <th>ventas1</th>\n",
       "      <td>123</td>\n",
       "      <td>421</td>\n",
       "      <td>256</td>\n",
       "      <td>dia1</td>\n",
       "    </tr>\n",
       "    <tr>\n",
       "      <th>ventas2</th>\n",
       "      <td>234</td>\n",
       "      <td>541</td>\n",
       "      <td>257</td>\n",
       "      <td>dia2</td>\n",
       "    </tr>\n",
       "    <tr>\n",
       "      <th>ventas3</th>\n",
       "      <td>120</td>\n",
       "      <td>451</td>\n",
       "      <td>258</td>\n",
       "      <td>dia3</td>\n",
       "    </tr>\n",
       "  </tbody>\n",
       "</table>\n",
       "</div>"
      ],
      "text/plain": [
       "         zonaA  zonaB  zonaC  dias\n",
       "ventas1    123    421    256  dia1\n",
       "ventas2    234    541    257  dia2\n",
       "ventas3    120    451    258  dia3"
      ]
     },
     "execution_count": 83,
     "metadata": {},
     "output_type": "execute_result"
    }
   ],
   "source": [
    "nuevas_filas = 'dia1 dia2 dia3'.split()\n",
    "dataframe['dias'] = nuevas_filas\n",
    "dataframe"
   ]
  },
  {
   "cell_type": "code",
   "execution_count": 85,
   "id": "dfd75d2f-4539-4858-b750-2ce78561cfab",
   "metadata": {},
   "outputs": [
    {
     "data": {
      "text/html": [
       "<div>\n",
       "<style scoped>\n",
       "    .dataframe tbody tr th:only-of-type {\n",
       "        vertical-align: middle;\n",
       "    }\n",
       "\n",
       "    .dataframe tbody tr th {\n",
       "        vertical-align: top;\n",
       "    }\n",
       "\n",
       "    .dataframe thead th {\n",
       "        text-align: right;\n",
       "    }\n",
       "</style>\n",
       "<table border=\"1\" class=\"dataframe\">\n",
       "  <thead>\n",
       "    <tr style=\"text-align: right;\">\n",
       "      <th></th>\n",
       "      <th>zonaA</th>\n",
       "      <th>zonaB</th>\n",
       "      <th>zonaC</th>\n",
       "    </tr>\n",
       "    <tr>\n",
       "      <th>dias</th>\n",
       "      <th></th>\n",
       "      <th></th>\n",
       "      <th></th>\n",
       "    </tr>\n",
       "  </thead>\n",
       "  <tbody>\n",
       "    <tr>\n",
       "      <th>dia1</th>\n",
       "      <td>123</td>\n",
       "      <td>421</td>\n",
       "      <td>256</td>\n",
       "    </tr>\n",
       "    <tr>\n",
       "      <th>dia2</th>\n",
       "      <td>234</td>\n",
       "      <td>541</td>\n",
       "      <td>257</td>\n",
       "    </tr>\n",
       "    <tr>\n",
       "      <th>dia3</th>\n",
       "      <td>120</td>\n",
       "      <td>451</td>\n",
       "      <td>258</td>\n",
       "    </tr>\n",
       "  </tbody>\n",
       "</table>\n",
       "</div>"
      ],
      "text/plain": [
       "      zonaA  zonaB  zonaC\n",
       "dias                     \n",
       "dia1    123    421    256\n",
       "dia2    234    541    257\n",
       "dia3    120    451    258"
      ]
     },
     "execution_count": 85,
     "metadata": {},
     "output_type": "execute_result"
    }
   ],
   "source": [
    "dataframe = dataframe.set_index('dias')\n",
    "dataframe"
   ]
  },
  {
   "cell_type": "markdown",
   "id": "9dd26cd7-cb79-4f1a-8326-fa50903a8b51",
   "metadata": {},
   "source": [
    "#### Tratar valores nulos"
   ]
  },
  {
   "cell_type": "code",
   "execution_count": 94,
   "id": "87cf2ab6-6392-40ea-b746-0e68ae3ef8a3",
   "metadata": {},
   "outputs": [
    {
     "data": {
      "text/html": [
       "<div>\n",
       "<style scoped>\n",
       "    .dataframe tbody tr th:only-of-type {\n",
       "        vertical-align: middle;\n",
       "    }\n",
       "\n",
       "    .dataframe tbody tr th {\n",
       "        vertical-align: top;\n",
       "    }\n",
       "\n",
       "    .dataframe thead th {\n",
       "        text-align: right;\n",
       "    }\n",
       "</style>\n",
       "<table border=\"1\" class=\"dataframe\">\n",
       "  <thead>\n",
       "    <tr style=\"text-align: right;\">\n",
       "      <th></th>\n",
       "      <th>A</th>\n",
       "      <th>B</th>\n",
       "      <th>C</th>\n",
       "    </tr>\n",
       "  </thead>\n",
       "  <tbody>\n",
       "    <tr>\n",
       "      <th>0</th>\n",
       "      <td>4.0</td>\n",
       "      <td>6</td>\n",
       "      <td>NaN</td>\n",
       "    </tr>\n",
       "    <tr>\n",
       "      <th>1</th>\n",
       "      <td>5.0</td>\n",
       "      <td>1</td>\n",
       "      <td>4.0</td>\n",
       "    </tr>\n",
       "    <tr>\n",
       "      <th>2</th>\n",
       "      <td>NaN</td>\n",
       "      <td>5</td>\n",
       "      <td>NaN</td>\n",
       "    </tr>\n",
       "  </tbody>\n",
       "</table>\n",
       "</div>"
      ],
      "text/plain": [
       "     A  B    C\n",
       "0  4.0  6  NaN\n",
       "1  5.0  1  4.0\n",
       "2  NaN  5  NaN"
      ]
     },
     "execution_count": 94,
     "metadata": {},
     "output_type": "execute_result"
    }
   ],
   "source": [
    "import numpy as np\n",
    "import pandas as pd\n",
    "\n",
    "diccionario = {'A':[4,5,np.nan], 'B':[6,1,5], 'C':[np.nan,4, np.nan]}\n",
    "dataframe = pd.DataFrame(diccionario)\n",
    "dataframe"
   ]
  },
  {
   "cell_type": "code",
   "execution_count": 90,
   "id": "45b9ad65-e03b-4fae-8699-a004dbe3ae0c",
   "metadata": {},
   "outputs": [
    {
     "data": {
      "text/html": [
       "<div>\n",
       "<style scoped>\n",
       "    .dataframe tbody tr th:only-of-type {\n",
       "        vertical-align: middle;\n",
       "    }\n",
       "\n",
       "    .dataframe tbody tr th {\n",
       "        vertical-align: top;\n",
       "    }\n",
       "\n",
       "    .dataframe thead th {\n",
       "        text-align: right;\n",
       "    }\n",
       "</style>\n",
       "<table border=\"1\" class=\"dataframe\">\n",
       "  <thead>\n",
       "    <tr style=\"text-align: right;\">\n",
       "      <th></th>\n",
       "      <th>A</th>\n",
       "      <th>B</th>\n",
       "      <th>C</th>\n",
       "    </tr>\n",
       "  </thead>\n",
       "  <tbody>\n",
       "    <tr>\n",
       "      <th>1</th>\n",
       "      <td>5.0</td>\n",
       "      <td>1</td>\n",
       "      <td>4.0</td>\n",
       "    </tr>\n",
       "  </tbody>\n",
       "</table>\n",
       "</div>"
      ],
      "text/plain": [
       "     A  B    C\n",
       "1  5.0  1  4.0"
      ]
     },
     "execution_count": 90,
     "metadata": {},
     "output_type": "execute_result"
    }
   ],
   "source": [
    "# Borrar por filas\n",
    "dataframe.dropna()"
   ]
  },
  {
   "cell_type": "code",
   "execution_count": 98,
   "id": "fe8a2856-5eff-40cf-97fe-76bd73b5640f",
   "metadata": {},
   "outputs": [],
   "source": [
    "# Borrar por columnas (axis 1), con implace true se borra definitivamente\n",
    "# en las nuevas versiones de pandas ya no se utiliza implace\n",
    "dataframe_sin_nulos = dataframe.dropna(axis=1)"
   ]
  },
  {
   "cell_type": "code",
   "execution_count": 100,
   "id": "0a3896d4-b014-40c5-961c-976433c81547",
   "metadata": {},
   "outputs": [
    {
     "data": {
      "text/html": [
       "<div>\n",
       "<style scoped>\n",
       "    .dataframe tbody tr th:only-of-type {\n",
       "        vertical-align: middle;\n",
       "    }\n",
       "\n",
       "    .dataframe tbody tr th {\n",
       "        vertical-align: top;\n",
       "    }\n",
       "\n",
       "    .dataframe thead th {\n",
       "        text-align: right;\n",
       "    }\n",
       "</style>\n",
       "<table border=\"1\" class=\"dataframe\">\n",
       "  <thead>\n",
       "    <tr style=\"text-align: right;\">\n",
       "      <th></th>\n",
       "      <th>A</th>\n",
       "      <th>B</th>\n",
       "      <th>C</th>\n",
       "    </tr>\n",
       "  </thead>\n",
       "  <tbody>\n",
       "    <tr>\n",
       "      <th>0</th>\n",
       "      <td>4.0</td>\n",
       "      <td>6</td>\n",
       "      <td>100.0</td>\n",
       "    </tr>\n",
       "    <tr>\n",
       "      <th>1</th>\n",
       "      <td>5.0</td>\n",
       "      <td>1</td>\n",
       "      <td>4.0</td>\n",
       "    </tr>\n",
       "    <tr>\n",
       "      <th>2</th>\n",
       "      <td>100.0</td>\n",
       "      <td>5</td>\n",
       "      <td>100.0</td>\n",
       "    </tr>\n",
       "  </tbody>\n",
       "</table>\n",
       "</div>"
      ],
      "text/plain": [
       "       A  B      C\n",
       "0    4.0  6  100.0\n",
       "1    5.0  1    4.0\n",
       "2  100.0  5  100.0"
      ]
     },
     "execution_count": 100,
     "metadata": {},
     "output_type": "execute_result"
    }
   ],
   "source": [
    "# para rellenar columnas\n",
    "dataframe.fillna(value=100)"
   ]
  },
  {
   "cell_type": "code",
   "execution_count": 102,
   "id": "f879b3a5-b746-4a7a-8633-eb849c104bf5",
   "metadata": {},
   "outputs": [
    {
     "data": {
      "text/plain": [
       "A    4.5\n",
       "B    4.0\n",
       "C    4.0\n",
       "dtype: float64"
      ]
     },
     "execution_count": 102,
     "metadata": {},
     "output_type": "execute_result"
    }
   ],
   "source": [
    "valor_medio = dataframe.mean()\n",
    "valor_medio"
   ]
  },
  {
   "cell_type": "code",
   "execution_count": 104,
   "id": "e6ed3cad-463f-443d-8624-cf3b233c99bf",
   "metadata": {},
   "outputs": [
    {
     "data": {
      "text/html": [
       "<div>\n",
       "<style scoped>\n",
       "    .dataframe tbody tr th:only-of-type {\n",
       "        vertical-align: middle;\n",
       "    }\n",
       "\n",
       "    .dataframe tbody tr th {\n",
       "        vertical-align: top;\n",
       "    }\n",
       "\n",
       "    .dataframe thead th {\n",
       "        text-align: right;\n",
       "    }\n",
       "</style>\n",
       "<table border=\"1\" class=\"dataframe\">\n",
       "  <thead>\n",
       "    <tr style=\"text-align: right;\">\n",
       "      <th></th>\n",
       "      <th>A</th>\n",
       "      <th>B</th>\n",
       "      <th>C</th>\n",
       "    </tr>\n",
       "  </thead>\n",
       "  <tbody>\n",
       "    <tr>\n",
       "      <th>0</th>\n",
       "      <td>4.0</td>\n",
       "      <td>6</td>\n",
       "      <td>4.0</td>\n",
       "    </tr>\n",
       "    <tr>\n",
       "      <th>1</th>\n",
       "      <td>5.0</td>\n",
       "      <td>1</td>\n",
       "      <td>4.0</td>\n",
       "    </tr>\n",
       "    <tr>\n",
       "      <th>2</th>\n",
       "      <td>4.5</td>\n",
       "      <td>5</td>\n",
       "      <td>4.0</td>\n",
       "    </tr>\n",
       "  </tbody>\n",
       "</table>\n",
       "</div>"
      ],
      "text/plain": [
       "     A  B    C\n",
       "0  4.0  6  4.0\n",
       "1  5.0  1  4.0\n",
       "2  4.5  5  4.0"
      ]
     },
     "execution_count": 104,
     "metadata": {},
     "output_type": "execute_result"
    }
   ],
   "source": [
    "dataframe.fillna(value=valor_medio)"
   ]
  },
  {
   "cell_type": "code",
   "execution_count": 106,
   "id": "603b29cf-36cb-47cf-996d-6456241d4fdb",
   "metadata": {},
   "outputs": [],
   "source": [
    "# EJEMPLO"
   ]
  },
  {
   "cell_type": "code",
   "execution_count": 108,
   "id": "f3700cb1-a683-41bd-88ee-71e42026d8cb",
   "metadata": {},
   "outputs": [
    {
     "name": "stdout",
     "output_type": "stream",
     "text": [
      "    nombre  edad  calificaciones\n",
      "0    Alice  20.0            90.0\n",
      "1      Bob   NaN            88.0\n",
      "2  Charlie  18.0            91.0\n",
      "3    David  25.0            91.0\n",
      "4      Eve   NaN            95.0\n"
     ]
    }
   ],
   "source": [
    "'''\n",
    "Rellenar Valores Nulos con la Media de una Columna\n",
    "Desarrolla una función llamada rellenar_con_media que tome como entrada un DataFrame de pandas y el nombre de una columna. La función debe calcular la media de esa columna y luego llenar los valores nulos en esa columna con la media calculada.\n",
    "\n",
    "def rellenar_con_media(dataframe, columna):\n",
    "# Ejemplo de uso\n",
    "    data = {\n",
    "        'nombre': ['Alice', 'Bob', 'Charlie', 'David', 'Eve'],\n",
    "        'edad': [20, None, 18, 25, None],\n",
    "        'calificaciones': [90, 88, None, None, 95]\n",
    "    }\n",
    "     \n",
    "    df = pd.DataFrame(data)\n",
    "    columna = 'calificaciones'\n",
    "     \n",
    "    resultado = rellenar_con_media(df, columna)\n",
    "    print(resultado)\n",
    "'''\n",
    "\n",
    "import pandas as pd\n",
    "\n",
    "\n",
    "def rellenar_con_media(dataframe, columna):\n",
    "    valor_medio = dataframe[columna].mean()\n",
    "    columna_nueva = dataframe[columna].fillna(valor_medio)\n",
    "    dataframe.drop(columna, axis=1, inplace=True)\n",
    "    dataframe[columna] = columna_nueva\n",
    "    return dataframe\n",
    "\n",
    "data = {\n",
    "    'nombre': ['Alice', 'Bob', 'Charlie', 'David', 'Eve'],\n",
    "    'edad': [20, None, 18, 25, None],\n",
    "    'calificaciones': [90, 88, None, None, 95]\n",
    "}\n",
    "\n",
    "df = pd.DataFrame(data)\n",
    "columna = 'calificaciones'\n",
    "\n",
    "resultado = rellenar_con_media(df, columna)\n",
    "print(resultado)\n"
   ]
  },
  {
   "cell_type": "markdown",
   "id": "b08e7922-957a-4b0a-8288-d19d0f467735",
   "metadata": {},
   "source": [
    "#### Agrupación de datos"
   ]
  },
  {
   "cell_type": "code",
   "execution_count": 111,
   "id": "ab24e9f8-1794-4dca-85ef-7644909cebe6",
   "metadata": {},
   "outputs": [
    {
     "data": {
      "text/html": [
       "<div>\n",
       "<style scoped>\n",
       "    .dataframe tbody tr th:only-of-type {\n",
       "        vertical-align: middle;\n",
       "    }\n",
       "\n",
       "    .dataframe tbody tr th {\n",
       "        vertical-align: top;\n",
       "    }\n",
       "\n",
       "    .dataframe thead th {\n",
       "        text-align: right;\n",
       "    }\n",
       "</style>\n",
       "<table border=\"1\" class=\"dataframe\">\n",
       "  <thead>\n",
       "    <tr style=\"text-align: right;\">\n",
       "      <th></th>\n",
       "      <th>dias</th>\n",
       "      <th>vendedores</th>\n",
       "      <th>ventas</th>\n",
       "    </tr>\n",
       "  </thead>\n",
       "  <tbody>\n",
       "    <tr>\n",
       "      <th>0</th>\n",
       "      <td>dia1</td>\n",
       "      <td>Antonio</td>\n",
       "      <td>100</td>\n",
       "    </tr>\n",
       "    <tr>\n",
       "      <th>1</th>\n",
       "      <td>dia1</td>\n",
       "      <td>Maria</td>\n",
       "      <td>400</td>\n",
       "    </tr>\n",
       "    <tr>\n",
       "      <th>2</th>\n",
       "      <td>dia2</td>\n",
       "      <td>Jose</td>\n",
       "      <td>200</td>\n",
       "    </tr>\n",
       "    <tr>\n",
       "      <th>3</th>\n",
       "      <td>dia2</td>\n",
       "      <td>Marta</td>\n",
       "      <td>500</td>\n",
       "    </tr>\n",
       "    <tr>\n",
       "      <th>4</th>\n",
       "      <td>dia3</td>\n",
       "      <td>Juan</td>\n",
       "      <td>300</td>\n",
       "    </tr>\n",
       "  </tbody>\n",
       "</table>\n",
       "</div>"
      ],
      "text/plain": [
       "   dias vendedores  ventas\n",
       "0  dia1    Antonio     100\n",
       "1  dia1      Maria     400\n",
       "2  dia2       Jose     200\n",
       "3  dia2      Marta     500\n",
       "4  dia3       Juan     300"
      ]
     },
     "execution_count": 111,
     "metadata": {},
     "output_type": "execute_result"
    }
   ],
   "source": [
    "import numpy as np\n",
    "import pandas as pd\n",
    "\n",
    "diccionario = {'dias':['dia1', 'dia1', 'dia2', 'dia2', 'dia3'], 'vendedores': \n",
    "               ['Antonio', 'Maria', 'Jose', 'Marta', 'Juan'], 'ventas': [100,400,200,500,300]}\n",
    "dataframe_1 = pd.DataFrame(diccionario)\n",
    "dataframe_1"
   ]
  },
  {
   "cell_type": "markdown",
   "id": "7962f5db-44b1-4d6b-bbe9-1742a327854e",
   "metadata": {},
   "source": [
    "#### Agrupación y suma"
   ]
  },
  {
   "cell_type": "code",
   "execution_count": 114,
   "id": "70fcd01b-8f26-4f92-8bf7-17f8eeb1216f",
   "metadata": {},
   "outputs": [
    {
     "data": {
      "text/plain": [
       "dias\n",
       "dia1    250.0\n",
       "dia2    350.0\n",
       "dia3    300.0\n",
       "Name: ventas, dtype: float64"
      ]
     },
     "execution_count": 114,
     "metadata": {},
     "output_type": "execute_result"
    }
   ],
   "source": [
    "dataframe_1.groupby('dias')['ventas'].mean()"
   ]
  },
  {
   "cell_type": "code",
   "execution_count": 116,
   "id": "0abb0f3b-bb3f-40da-8b43-cc3638b20432",
   "metadata": {},
   "outputs": [
    {
     "data": {
      "text/plain": [
       "dias\n",
       "dia1    500\n",
       "dia2    700\n",
       "dia3    300\n",
       "Name: ventas, dtype: int64"
      ]
     },
     "execution_count": 116,
     "metadata": {},
     "output_type": "execute_result"
    }
   ],
   "source": [
    "dataframe_1.groupby('dias')['ventas'].sum()"
   ]
  },
  {
   "cell_type": "code",
   "execution_count": 118,
   "id": "dc46f744-2716-4f77-b507-c2a1e3f420a9",
   "metadata": {},
   "outputs": [
    {
     "data": {
      "text/html": [
       "<div>\n",
       "<style scoped>\n",
       "    .dataframe tbody tr th:only-of-type {\n",
       "        vertical-align: middle;\n",
       "    }\n",
       "\n",
       "    .dataframe tbody tr th {\n",
       "        vertical-align: top;\n",
       "    }\n",
       "\n",
       "    .dataframe thead th {\n",
       "        text-align: right;\n",
       "    }\n",
       "</style>\n",
       "<table border=\"1\" class=\"dataframe\">\n",
       "  <thead>\n",
       "    <tr style=\"text-align: right;\">\n",
       "      <th></th>\n",
       "      <th>count</th>\n",
       "      <th>mean</th>\n",
       "      <th>std</th>\n",
       "      <th>min</th>\n",
       "      <th>25%</th>\n",
       "      <th>50%</th>\n",
       "      <th>75%</th>\n",
       "      <th>max</th>\n",
       "    </tr>\n",
       "    <tr>\n",
       "      <th>dias</th>\n",
       "      <th></th>\n",
       "      <th></th>\n",
       "      <th></th>\n",
       "      <th></th>\n",
       "      <th></th>\n",
       "      <th></th>\n",
       "      <th></th>\n",
       "      <th></th>\n",
       "    </tr>\n",
       "  </thead>\n",
       "  <tbody>\n",
       "    <tr>\n",
       "      <th>dia1</th>\n",
       "      <td>2.0</td>\n",
       "      <td>250.0</td>\n",
       "      <td>212.132034</td>\n",
       "      <td>100.0</td>\n",
       "      <td>175.0</td>\n",
       "      <td>250.0</td>\n",
       "      <td>325.0</td>\n",
       "      <td>400.0</td>\n",
       "    </tr>\n",
       "    <tr>\n",
       "      <th>dia2</th>\n",
       "      <td>2.0</td>\n",
       "      <td>350.0</td>\n",
       "      <td>212.132034</td>\n",
       "      <td>200.0</td>\n",
       "      <td>275.0</td>\n",
       "      <td>350.0</td>\n",
       "      <td>425.0</td>\n",
       "      <td>500.0</td>\n",
       "    </tr>\n",
       "    <tr>\n",
       "      <th>dia3</th>\n",
       "      <td>1.0</td>\n",
       "      <td>300.0</td>\n",
       "      <td>NaN</td>\n",
       "      <td>300.0</td>\n",
       "      <td>300.0</td>\n",
       "      <td>300.0</td>\n",
       "      <td>300.0</td>\n",
       "      <td>300.0</td>\n",
       "    </tr>\n",
       "  </tbody>\n",
       "</table>\n",
       "</div>"
      ],
      "text/plain": [
       "      count   mean         std    min    25%    50%    75%    max\n",
       "dias                                                             \n",
       "dia1    2.0  250.0  212.132034  100.0  175.0  250.0  325.0  400.0\n",
       "dia2    2.0  350.0  212.132034  200.0  275.0  350.0  425.0  500.0\n",
       "dia3    1.0  300.0         NaN  300.0  300.0  300.0  300.0  300.0"
      ]
     },
     "execution_count": 118,
     "metadata": {},
     "output_type": "execute_result"
    }
   ],
   "source": [
    "dataframe_1.groupby('dias')['ventas'].describe()"
   ]
  },
  {
   "cell_type": "markdown",
   "id": "b43e9bc6-b934-4b24-8ccf-76adb89145f6",
   "metadata": {},
   "source": [
    "#### Combinar dataframes\n"
   ]
  },
  {
   "cell_type": "code",
   "execution_count": 121,
   "id": "b9e2f905-dc7e-4348-9615-c6cb2d71239d",
   "metadata": {},
   "outputs": [
    {
     "data": {
      "text/html": [
       "<div>\n",
       "<style scoped>\n",
       "    .dataframe tbody tr th:only-of-type {\n",
       "        vertical-align: middle;\n",
       "    }\n",
       "\n",
       "    .dataframe tbody tr th {\n",
       "        vertical-align: top;\n",
       "    }\n",
       "\n",
       "    .dataframe thead th {\n",
       "        text-align: right;\n",
       "    }\n",
       "</style>\n",
       "<table border=\"1\" class=\"dataframe\">\n",
       "  <thead>\n",
       "    <tr style=\"text-align: right;\">\n",
       "      <th></th>\n",
       "      <th>A</th>\n",
       "      <th>B</th>\n",
       "      <th>C</th>\n",
       "    </tr>\n",
       "  </thead>\n",
       "  <tbody>\n",
       "    <tr>\n",
       "      <th>0</th>\n",
       "      <td>1</td>\n",
       "      <td>4</td>\n",
       "      <td>7</td>\n",
       "    </tr>\n",
       "    <tr>\n",
       "      <th>1</th>\n",
       "      <td>2</td>\n",
       "      <td>5</td>\n",
       "      <td>8</td>\n",
       "    </tr>\n",
       "    <tr>\n",
       "      <th>2</th>\n",
       "      <td>3</td>\n",
       "      <td>6</td>\n",
       "      <td>9</td>\n",
       "    </tr>\n",
       "  </tbody>\n",
       "</table>\n",
       "</div>"
      ],
      "text/plain": [
       "   A  B  C\n",
       "0  1  4  7\n",
       "1  2  5  8\n",
       "2  3  6  9"
      ]
     },
     "execution_count": 121,
     "metadata": {},
     "output_type": "execute_result"
    }
   ],
   "source": [
    "import numpy as np\n",
    "import pandas as pd\n",
    "\n",
    "diccionario = {'A':[1,2,3], 'B':[4,5,6], 'C':[7,8,9]}\n",
    "dataframe = pd.DataFrame(diccionario)\n",
    "dataframe"
   ]
  },
  {
   "cell_type": "code",
   "execution_count": 123,
   "id": "e243804c-0d58-4c4a-bd18-1ab221b0248f",
   "metadata": {},
   "outputs": [
    {
     "data": {
      "text/html": [
       "<div>\n",
       "<style scoped>\n",
       "    .dataframe tbody tr th:only-of-type {\n",
       "        vertical-align: middle;\n",
       "    }\n",
       "\n",
       "    .dataframe tbody tr th {\n",
       "        vertical-align: top;\n",
       "    }\n",
       "\n",
       "    .dataframe thead th {\n",
       "        text-align: right;\n",
       "    }\n",
       "</style>\n",
       "<table border=\"1\" class=\"dataframe\">\n",
       "  <thead>\n",
       "    <tr style=\"text-align: right;\">\n",
       "      <th></th>\n",
       "      <th>A</th>\n",
       "      <th>B</th>\n",
       "      <th>C</th>\n",
       "    </tr>\n",
       "  </thead>\n",
       "  <tbody>\n",
       "    <tr>\n",
       "      <th>0</th>\n",
       "      <td>11</td>\n",
       "      <td>14</td>\n",
       "      <td>17</td>\n",
       "    </tr>\n",
       "    <tr>\n",
       "      <th>1</th>\n",
       "      <td>12</td>\n",
       "      <td>15</td>\n",
       "      <td>18</td>\n",
       "    </tr>\n",
       "    <tr>\n",
       "      <th>2</th>\n",
       "      <td>13</td>\n",
       "      <td>16</td>\n",
       "      <td>19</td>\n",
       "    </tr>\n",
       "  </tbody>\n",
       "</table>\n",
       "</div>"
      ],
      "text/plain": [
       "    A   B   C\n",
       "0  11  14  17\n",
       "1  12  15  18\n",
       "2  13  16  19"
      ]
     },
     "execution_count": 123,
     "metadata": {},
     "output_type": "execute_result"
    }
   ],
   "source": [
    "diccionario_2 = {'A':[11,12,13], 'B':[14,15,16], 'C':[17,18,19]}\n",
    "dataframe_2 = pd.DataFrame(diccionario_2)\n",
    "dataframe_2"
   ]
  },
  {
   "cell_type": "markdown",
   "id": "b7f3cf4b-4b47-443b-b9ff-31282d70e76e",
   "metadata": {},
   "source": [
    "#### Concatenar en horizontal y vertical"
   ]
  },
  {
   "cell_type": "code",
   "execution_count": 125,
   "id": "3459603d-a568-4ee6-bc48-434dcefb05ed",
   "metadata": {},
   "outputs": [
    {
     "data": {
      "text/html": [
       "<div>\n",
       "<style scoped>\n",
       "    .dataframe tbody tr th:only-of-type {\n",
       "        vertical-align: middle;\n",
       "    }\n",
       "\n",
       "    .dataframe tbody tr th {\n",
       "        vertical-align: top;\n",
       "    }\n",
       "\n",
       "    .dataframe thead th {\n",
       "        text-align: right;\n",
       "    }\n",
       "</style>\n",
       "<table border=\"1\" class=\"dataframe\">\n",
       "  <thead>\n",
       "    <tr style=\"text-align: right;\">\n",
       "      <th></th>\n",
       "      <th>A</th>\n",
       "      <th>B</th>\n",
       "      <th>C</th>\n",
       "    </tr>\n",
       "  </thead>\n",
       "  <tbody>\n",
       "    <tr>\n",
       "      <th>0</th>\n",
       "      <td>1</td>\n",
       "      <td>4</td>\n",
       "      <td>7</td>\n",
       "    </tr>\n",
       "    <tr>\n",
       "      <th>1</th>\n",
       "      <td>2</td>\n",
       "      <td>5</td>\n",
       "      <td>8</td>\n",
       "    </tr>\n",
       "    <tr>\n",
       "      <th>2</th>\n",
       "      <td>3</td>\n",
       "      <td>6</td>\n",
       "      <td>9</td>\n",
       "    </tr>\n",
       "    <tr>\n",
       "      <th>0</th>\n",
       "      <td>11</td>\n",
       "      <td>14</td>\n",
       "      <td>17</td>\n",
       "    </tr>\n",
       "    <tr>\n",
       "      <th>1</th>\n",
       "      <td>12</td>\n",
       "      <td>15</td>\n",
       "      <td>18</td>\n",
       "    </tr>\n",
       "    <tr>\n",
       "      <th>2</th>\n",
       "      <td>13</td>\n",
       "      <td>16</td>\n",
       "      <td>19</td>\n",
       "    </tr>\n",
       "  </tbody>\n",
       "</table>\n",
       "</div>"
      ],
      "text/plain": [
       "    A   B   C\n",
       "0   1   4   7\n",
       "1   2   5   8\n",
       "2   3   6   9\n",
       "0  11  14  17\n",
       "1  12  15  18\n",
       "2  13  16  19"
      ]
     },
     "execution_count": 125,
     "metadata": {},
     "output_type": "execute_result"
    }
   ],
   "source": [
    "\n",
    "pd.concat([dataframe, dataframe_2])"
   ]
  },
  {
   "cell_type": "code",
   "execution_count": 127,
   "id": "a028e400-2ffd-43a7-8ea6-e8ed0495674f",
   "metadata": {},
   "outputs": [
    {
     "data": {
      "text/html": [
       "<div>\n",
       "<style scoped>\n",
       "    .dataframe tbody tr th:only-of-type {\n",
       "        vertical-align: middle;\n",
       "    }\n",
       "\n",
       "    .dataframe tbody tr th {\n",
       "        vertical-align: top;\n",
       "    }\n",
       "\n",
       "    .dataframe thead th {\n",
       "        text-align: right;\n",
       "    }\n",
       "</style>\n",
       "<table border=\"1\" class=\"dataframe\">\n",
       "  <thead>\n",
       "    <tr style=\"text-align: right;\">\n",
       "      <th></th>\n",
       "      <th>A</th>\n",
       "      <th>B</th>\n",
       "      <th>C</th>\n",
       "      <th>A</th>\n",
       "      <th>B</th>\n",
       "      <th>C</th>\n",
       "    </tr>\n",
       "  </thead>\n",
       "  <tbody>\n",
       "    <tr>\n",
       "      <th>0</th>\n",
       "      <td>1</td>\n",
       "      <td>4</td>\n",
       "      <td>7</td>\n",
       "      <td>11</td>\n",
       "      <td>14</td>\n",
       "      <td>17</td>\n",
       "    </tr>\n",
       "    <tr>\n",
       "      <th>1</th>\n",
       "      <td>2</td>\n",
       "      <td>5</td>\n",
       "      <td>8</td>\n",
       "      <td>12</td>\n",
       "      <td>15</td>\n",
       "      <td>18</td>\n",
       "    </tr>\n",
       "    <tr>\n",
       "      <th>2</th>\n",
       "      <td>3</td>\n",
       "      <td>6</td>\n",
       "      <td>9</td>\n",
       "      <td>13</td>\n",
       "      <td>16</td>\n",
       "      <td>19</td>\n",
       "    </tr>\n",
       "  </tbody>\n",
       "</table>\n",
       "</div>"
      ],
      "text/plain": [
       "   A  B  C   A   B   C\n",
       "0  1  4  7  11  14  17\n",
       "1  2  5  8  12  15  18\n",
       "2  3  6  9  13  16  19"
      ]
     },
     "execution_count": 127,
     "metadata": {},
     "output_type": "execute_result"
    }
   ],
   "source": [
    "pd.concat([dataframe, dataframe_2], axis=1)"
   ]
  },
  {
   "cell_type": "markdown",
   "id": "dd56fddf-5c58-4f3b-b05b-ceeba0dc70ad",
   "metadata": {},
   "source": [
    "#### Merge en dataframes\n"
   ]
  },
  {
   "cell_type": "code",
   "execution_count": 131,
   "id": "1be43a16-7c0e-4bbe-981e-228712f75a1e",
   "metadata": {},
   "outputs": [
    {
     "data": {
      "text/html": [
       "<div>\n",
       "<style scoped>\n",
       "    .dataframe tbody tr th:only-of-type {\n",
       "        vertical-align: middle;\n",
       "    }\n",
       "\n",
       "    .dataframe tbody tr th {\n",
       "        vertical-align: top;\n",
       "    }\n",
       "\n",
       "    .dataframe thead th {\n",
       "        text-align: right;\n",
       "    }\n",
       "</style>\n",
       "<table border=\"1\" class=\"dataframe\">\n",
       "  <thead>\n",
       "    <tr style=\"text-align: right;\">\n",
       "      <th></th>\n",
       "      <th>A</th>\n",
       "      <th>B</th>\n",
       "      <th>clave</th>\n",
       "    </tr>\n",
       "  </thead>\n",
       "  <tbody>\n",
       "    <tr>\n",
       "      <th>0</th>\n",
       "      <td>1</td>\n",
       "      <td>4</td>\n",
       "      <td>c1</td>\n",
       "    </tr>\n",
       "    <tr>\n",
       "      <th>1</th>\n",
       "      <td>2</td>\n",
       "      <td>5</td>\n",
       "      <td>c2</td>\n",
       "    </tr>\n",
       "    <tr>\n",
       "      <th>2</th>\n",
       "      <td>3</td>\n",
       "      <td>6</td>\n",
       "      <td>c3</td>\n",
       "    </tr>\n",
       "  </tbody>\n",
       "</table>\n",
       "</div>"
      ],
      "text/plain": [
       "   A  B clave\n",
       "0  1  4    c1\n",
       "1  2  5    c2\n",
       "2  3  6    c3"
      ]
     },
     "execution_count": 131,
     "metadata": {},
     "output_type": "execute_result"
    }
   ],
   "source": [
    "import numpy as np\n",
    "import pandas as pd\n",
    "\n",
    "diccionario = {'A':[1,2,3], 'B':[4,5,6], 'clave': ['c1','c2','c3']}\n",
    "dataframe1 = pd.DataFrame(diccionario)\n",
    "dataframe1"
   ]
  },
  {
   "cell_type": "code",
   "execution_count": 133,
   "id": "09a3ccef-ad19-4c69-af94-023a718bc24c",
   "metadata": {},
   "outputs": [
    {
     "data": {
      "text/html": [
       "<div>\n",
       "<style scoped>\n",
       "    .dataframe tbody tr th:only-of-type {\n",
       "        vertical-align: middle;\n",
       "    }\n",
       "\n",
       "    .dataframe tbody tr th {\n",
       "        vertical-align: top;\n",
       "    }\n",
       "\n",
       "    .dataframe thead th {\n",
       "        text-align: right;\n",
       "    }\n",
       "</style>\n",
       "<table border=\"1\" class=\"dataframe\">\n",
       "  <thead>\n",
       "    <tr style=\"text-align: right;\">\n",
       "      <th></th>\n",
       "      <th>C</th>\n",
       "      <th>D</th>\n",
       "      <th>clave</th>\n",
       "    </tr>\n",
       "  </thead>\n",
       "  <tbody>\n",
       "    <tr>\n",
       "      <th>0</th>\n",
       "      <td>11</td>\n",
       "      <td>14</td>\n",
       "      <td>c1</td>\n",
       "    </tr>\n",
       "    <tr>\n",
       "      <th>1</th>\n",
       "      <td>12</td>\n",
       "      <td>15</td>\n",
       "      <td>c2</td>\n",
       "    </tr>\n",
       "    <tr>\n",
       "      <th>2</th>\n",
       "      <td>13</td>\n",
       "      <td>16</td>\n",
       "      <td>c3</td>\n",
       "    </tr>\n",
       "  </tbody>\n",
       "</table>\n",
       "</div>"
      ],
      "text/plain": [
       "    C   D clave\n",
       "0  11  14    c1\n",
       "1  12  15    c2\n",
       "2  13  16    c3"
      ]
     },
     "execution_count": 133,
     "metadata": {},
     "output_type": "execute_result"
    }
   ],
   "source": [
    "diccionario2 = {'C':[11,12,13], 'D':[14,15,16], 'clave': ['c1','c2','c3']}\n",
    "dataframe2 = pd.DataFrame(diccionario2)\n",
    "dataframe2"
   ]
  },
  {
   "cell_type": "code",
   "execution_count": 135,
   "id": "971a841f-1767-4623-a683-9be462b9d7dd",
   "metadata": {},
   "outputs": [
    {
     "data": {
      "text/html": [
       "<div>\n",
       "<style scoped>\n",
       "    .dataframe tbody tr th:only-of-type {\n",
       "        vertical-align: middle;\n",
       "    }\n",
       "\n",
       "    .dataframe tbody tr th {\n",
       "        vertical-align: top;\n",
       "    }\n",
       "\n",
       "    .dataframe thead th {\n",
       "        text-align: right;\n",
       "    }\n",
       "</style>\n",
       "<table border=\"1\" class=\"dataframe\">\n",
       "  <thead>\n",
       "    <tr style=\"text-align: right;\">\n",
       "      <th></th>\n",
       "      <th>A</th>\n",
       "      <th>B</th>\n",
       "      <th>clave</th>\n",
       "      <th>C</th>\n",
       "      <th>D</th>\n",
       "    </tr>\n",
       "  </thead>\n",
       "  <tbody>\n",
       "    <tr>\n",
       "      <th>0</th>\n",
       "      <td>1</td>\n",
       "      <td>4</td>\n",
       "      <td>c1</td>\n",
       "      <td>11</td>\n",
       "      <td>14</td>\n",
       "    </tr>\n",
       "    <tr>\n",
       "      <th>1</th>\n",
       "      <td>2</td>\n",
       "      <td>5</td>\n",
       "      <td>c2</td>\n",
       "      <td>12</td>\n",
       "      <td>15</td>\n",
       "    </tr>\n",
       "    <tr>\n",
       "      <th>2</th>\n",
       "      <td>3</td>\n",
       "      <td>6</td>\n",
       "      <td>c3</td>\n",
       "      <td>13</td>\n",
       "      <td>16</td>\n",
       "    </tr>\n",
       "  </tbody>\n",
       "</table>\n",
       "</div>"
      ],
      "text/plain": [
       "   A  B clave   C   D\n",
       "0  1  4    c1  11  14\n",
       "1  2  5    c2  12  15\n",
       "2  3  6    c3  13  16"
      ]
     },
     "execution_count": 135,
     "metadata": {},
     "output_type": "execute_result"
    }
   ],
   "source": [
    "pd.merge(dataframe1, dataframe2, on='clave')"
   ]
  },
  {
   "cell_type": "markdown",
   "id": "57f96ddf-a287-478f-bdc4-048b57d99e9c",
   "metadata": {},
   "source": [
    "#### Join en dataframes   \n",
    "Si uno de los dataframes tiene mas valores, los valores en las otras columnas saldrían como nulos\n"
   ]
  },
  {
   "cell_type": "code",
   "execution_count": 138,
   "id": "f5e5e062-1823-40c2-951b-67af1d7423e0",
   "metadata": {},
   "outputs": [
    {
     "data": {
      "text/html": [
       "<div>\n",
       "<style scoped>\n",
       "    .dataframe tbody tr th:only-of-type {\n",
       "        vertical-align: middle;\n",
       "    }\n",
       "\n",
       "    .dataframe tbody tr th {\n",
       "        vertical-align: top;\n",
       "    }\n",
       "\n",
       "    .dataframe thead th {\n",
       "        text-align: right;\n",
       "    }\n",
       "</style>\n",
       "<table border=\"1\" class=\"dataframe\">\n",
       "  <thead>\n",
       "    <tr style=\"text-align: right;\">\n",
       "      <th></th>\n",
       "      <th>A</th>\n",
       "      <th>B</th>\n",
       "      <th>C</th>\n",
       "      <th>D</th>\n",
       "    </tr>\n",
       "  </thead>\n",
       "  <tbody>\n",
       "    <tr>\n",
       "      <th>i1</th>\n",
       "      <td>1</td>\n",
       "      <td>4</td>\n",
       "      <td>11</td>\n",
       "      <td>14</td>\n",
       "    </tr>\n",
       "    <tr>\n",
       "      <th>i2</th>\n",
       "      <td>2</td>\n",
       "      <td>5</td>\n",
       "      <td>12</td>\n",
       "      <td>15</td>\n",
       "    </tr>\n",
       "    <tr>\n",
       "      <th>i3</th>\n",
       "      <td>3</td>\n",
       "      <td>6</td>\n",
       "      <td>13</td>\n",
       "      <td>16</td>\n",
       "    </tr>\n",
       "  </tbody>\n",
       "</table>\n",
       "</div>"
      ],
      "text/plain": [
       "    A  B   C   D\n",
       "i1  1  4  11  14\n",
       "i2  2  5  12  15\n",
       "i3  3  6  13  16"
      ]
     },
     "execution_count": 138,
     "metadata": {},
     "output_type": "execute_result"
    }
   ],
   "source": [
    "import numpy as np\n",
    "import pandas as pd\n",
    "#tienen los mismos indices\n",
    "diccionario = {'A':[1,2,3], 'B':[4,5,6]}\n",
    "dataframe1 = pd.DataFrame(diccionario, index=['i1','i2','i3'])\n",
    "diccionario2 = {'C':[11,12,13], 'D':[14,15,16]}\n",
    "dataframe2 = pd.DataFrame(diccionario2, index=['i1','i2','i3'])\n",
    "dataframe1.join(dataframe2)"
   ]
  },
  {
   "cell_type": "markdown",
   "id": "8ede70b0-63e6-4b8a-8c63-ecab149f4547",
   "metadata": {},
   "source": [
    "#### Operaciones"
   ]
  },
  {
   "cell_type": "code",
   "execution_count": 141,
   "id": "e2f503e6-046b-485d-8d53-143bac99edc0",
   "metadata": {},
   "outputs": [
    {
     "data": {
      "text/html": [
       "<div>\n",
       "<style scoped>\n",
       "    .dataframe tbody tr th:only-of-type {\n",
       "        vertical-align: middle;\n",
       "    }\n",
       "\n",
       "    .dataframe tbody tr th {\n",
       "        vertical-align: top;\n",
       "    }\n",
       "\n",
       "    .dataframe thead th {\n",
       "        text-align: right;\n",
       "    }\n",
       "</style>\n",
       "<table border=\"1\" class=\"dataframe\">\n",
       "  <thead>\n",
       "    <tr style=\"text-align: right;\">\n",
       "      <th></th>\n",
       "      <th>A</th>\n",
       "      <th>B</th>\n",
       "    </tr>\n",
       "  </thead>\n",
       "  <tbody>\n",
       "    <tr>\n",
       "      <th>i1</th>\n",
       "      <td>11</td>\n",
       "      <td>14</td>\n",
       "    </tr>\n",
       "    <tr>\n",
       "      <th>i2</th>\n",
       "      <td>12</td>\n",
       "      <td>10</td>\n",
       "    </tr>\n",
       "    <tr>\n",
       "      <th>i3</th>\n",
       "      <td>13</td>\n",
       "      <td>16</td>\n",
       "    </tr>\n",
       "    <tr>\n",
       "      <th>i4</th>\n",
       "      <td>11</td>\n",
       "      <td>17</td>\n",
       "    </tr>\n",
       "  </tbody>\n",
       "</table>\n",
       "</div>"
      ],
      "text/plain": [
       "     A   B\n",
       "i1  11  14\n",
       "i2  12  10\n",
       "i3  13  16\n",
       "i4  11  17"
      ]
     },
     "execution_count": 141,
     "metadata": {},
     "output_type": "execute_result"
    }
   ],
   "source": [
    "import numpy as np\n",
    "import pandas as pd\n",
    "\n",
    "diccionario = {'A':[11,12,13,11], 'B':[14,10,16,17]}\n",
    "dataframe1 = pd.DataFrame(diccionario, index=['i1','i2','i3', 'i4'])\n",
    "dataframe1"
   ]
  },
  {
   "cell_type": "markdown",
   "id": "7ba780ae-1e45-4cb6-a475-df65e94ecee7",
   "metadata": {},
   "source": [
    "Valores únicos"
   ]
  },
  {
   "cell_type": "code",
   "execution_count": 144,
   "id": "6c95a505-8ebc-41f0-9546-bb0f357405b7",
   "metadata": {},
   "outputs": [
    {
     "data": {
      "text/plain": [
       "array([11, 12, 13], dtype=int64)"
      ]
     },
     "execution_count": 144,
     "metadata": {},
     "output_type": "execute_result"
    }
   ],
   "source": [
    "dataframe1['A'].unique()"
   ]
  },
  {
   "cell_type": "code",
   "execution_count": 146,
   "id": "e0774e4b-5e40-4bee-9e4e-8b92c567d788",
   "metadata": {},
   "outputs": [
    {
     "data": {
      "text/plain": [
       "3"
      ]
     },
     "execution_count": 146,
     "metadata": {},
     "output_type": "execute_result"
    }
   ],
   "source": [
    "#num valores unicos\n",
    "dataframe1['A'].nunique()"
   ]
  },
  {
   "cell_type": "code",
   "execution_count": 148,
   "id": "e75eea77-436b-4b97-a6c6-1a2d65dde3f9",
   "metadata": {},
   "outputs": [
    {
     "data": {
      "text/plain": [
       "A\n",
       "11    2\n",
       "12    1\n",
       "13    1\n",
       "Name: count, dtype: int64"
      ]
     },
     "execution_count": 148,
     "metadata": {},
     "output_type": "execute_result"
    }
   ],
   "source": [
    "#num ocurrencias de cada valor\n",
    "dataframe1['A'].value_counts()"
   ]
  },
  {
   "cell_type": "markdown",
   "id": "d67c84af-71f2-4b73-843d-53d6a4c2a117",
   "metadata": {},
   "source": [
    "#### Aplicar función"
   ]
  },
  {
   "cell_type": "code",
   "execution_count": 151,
   "id": "095f91ae-b500-4488-a59b-55870dd978d5",
   "metadata": {},
   "outputs": [
    {
     "data": {
      "text/plain": [
       "i1    22\n",
       "i2    24\n",
       "i3    26\n",
       "i4    22\n",
       "Name: A, dtype: int64"
      ]
     },
     "execution_count": 151,
     "metadata": {},
     "output_type": "execute_result"
    }
   ],
   "source": [
    "def multiplicar(x):\n",
    "    return x * 2\n",
    "\n",
    "dataframe1['A'].apply(multiplicar)"
   ]
  },
  {
   "cell_type": "code",
   "execution_count": 153,
   "id": "e5cdacc1-9871-4e66-9ad8-4b2ca9f7b04c",
   "metadata": {},
   "outputs": [],
   "source": [
    "# igual con lambda"
   ]
  },
  {
   "cell_type": "code",
   "execution_count": 155,
   "id": "2f3aa452-6c7e-433c-b24d-5ffeb62bd449",
   "metadata": {},
   "outputs": [
    {
     "data": {
      "text/plain": [
       "i1    22\n",
       "i2    24\n",
       "i3    26\n",
       "i4    22\n",
       "Name: A, dtype: int64"
      ]
     },
     "execution_count": 155,
     "metadata": {},
     "output_type": "execute_result"
    }
   ],
   "source": [
    "dataframe1['A'].apply(lambda x:x*2)"
   ]
  },
  {
   "cell_type": "code",
   "execution_count": 157,
   "id": "ba34bb46-0160-4880-b9e5-220ecab04490",
   "metadata": {},
   "outputs": [],
   "source": [
    "# para borrar"
   ]
  },
  {
   "cell_type": "code",
   "execution_count": 159,
   "id": "21c4fd78-62cf-4c0a-9d5a-b29a6ec42cbe",
   "metadata": {},
   "outputs": [
    {
     "data": {
      "text/html": [
       "<div>\n",
       "<style scoped>\n",
       "    .dataframe tbody tr th:only-of-type {\n",
       "        vertical-align: middle;\n",
       "    }\n",
       "\n",
       "    .dataframe tbody tr th {\n",
       "        vertical-align: top;\n",
       "    }\n",
       "\n",
       "    .dataframe thead th {\n",
       "        text-align: right;\n",
       "    }\n",
       "</style>\n",
       "<table border=\"1\" class=\"dataframe\">\n",
       "  <thead>\n",
       "    <tr style=\"text-align: right;\">\n",
       "      <th></th>\n",
       "      <th>A</th>\n",
       "    </tr>\n",
       "  </thead>\n",
       "  <tbody>\n",
       "    <tr>\n",
       "      <th>i1</th>\n",
       "      <td>11</td>\n",
       "    </tr>\n",
       "    <tr>\n",
       "      <th>i2</th>\n",
       "      <td>12</td>\n",
       "    </tr>\n",
       "    <tr>\n",
       "      <th>i3</th>\n",
       "      <td>13</td>\n",
       "    </tr>\n",
       "    <tr>\n",
       "      <th>i4</th>\n",
       "      <td>11</td>\n",
       "    </tr>\n",
       "  </tbody>\n",
       "</table>\n",
       "</div>"
      ],
      "text/plain": [
       "     A\n",
       "i1  11\n",
       "i2  12\n",
       "i3  13\n",
       "i4  11"
      ]
     },
     "execution_count": 159,
     "metadata": {},
     "output_type": "execute_result"
    }
   ],
   "source": [
    "dataframe1.drop('B', axis=1)"
   ]
  },
  {
   "cell_type": "code",
   "execution_count": 161,
   "id": "25bd2a57-1168-4f25-8861-502cf4ac7975",
   "metadata": {},
   "outputs": [
    {
     "data": {
      "text/html": [
       "<div>\n",
       "<style scoped>\n",
       "    .dataframe tbody tr th:only-of-type {\n",
       "        vertical-align: middle;\n",
       "    }\n",
       "\n",
       "    .dataframe tbody tr th {\n",
       "        vertical-align: top;\n",
       "    }\n",
       "\n",
       "    .dataframe thead th {\n",
       "        text-align: right;\n",
       "    }\n",
       "</style>\n",
       "<table border=\"1\" class=\"dataframe\">\n",
       "  <thead>\n",
       "    <tr style=\"text-align: right;\">\n",
       "      <th></th>\n",
       "      <th>A</th>\n",
       "      <th>B</th>\n",
       "    </tr>\n",
       "  </thead>\n",
       "  <tbody>\n",
       "    <tr>\n",
       "      <th>i2</th>\n",
       "      <td>12</td>\n",
       "      <td>10</td>\n",
       "    </tr>\n",
       "    <tr>\n",
       "      <th>i3</th>\n",
       "      <td>13</td>\n",
       "      <td>16</td>\n",
       "    </tr>\n",
       "    <tr>\n",
       "      <th>i4</th>\n",
       "      <td>11</td>\n",
       "      <td>17</td>\n",
       "    </tr>\n",
       "  </tbody>\n",
       "</table>\n",
       "</div>"
      ],
      "text/plain": [
       "     A   B\n",
       "i2  12  10\n",
       "i3  13  16\n",
       "i4  11  17"
      ]
     },
     "execution_count": 161,
     "metadata": {},
     "output_type": "execute_result"
    }
   ],
   "source": [
    "dataframe1.drop('i1')"
   ]
  },
  {
   "cell_type": "code",
   "execution_count": 163,
   "id": "7903ce03-9bf5-4221-ba04-0fcbb1e1f083",
   "metadata": {},
   "outputs": [
    {
     "data": {
      "text/plain": [
       "Index(['A', 'B'], dtype='object')"
      ]
     },
     "execution_count": 163,
     "metadata": {},
     "output_type": "execute_result"
    }
   ],
   "source": [
    "dataframe1.columns"
   ]
  },
  {
   "cell_type": "code",
   "execution_count": 165,
   "id": "f5acfb87-10d1-41c8-9dd4-b9c44927367e",
   "metadata": {},
   "outputs": [
    {
     "data": {
      "text/plain": [
       "Index(['i1', 'i2', 'i3', 'i4'], dtype='object')"
      ]
     },
     "execution_count": 165,
     "metadata": {},
     "output_type": "execute_result"
    }
   ],
   "source": [
    "dataframe1.index"
   ]
  },
  {
   "cell_type": "markdown",
   "id": "5ee6df85-b411-42df-80e7-b3a833c1b846",
   "metadata": {},
   "source": [
    "#### Ordenar"
   ]
  },
  {
   "cell_type": "code",
   "execution_count": 168,
   "id": "12ea7a31-f0f0-47bc-be1b-a60605a2e069",
   "metadata": {},
   "outputs": [
    {
     "data": {
      "text/html": [
       "<div>\n",
       "<style scoped>\n",
       "    .dataframe tbody tr th:only-of-type {\n",
       "        vertical-align: middle;\n",
       "    }\n",
       "\n",
       "    .dataframe tbody tr th {\n",
       "        vertical-align: top;\n",
       "    }\n",
       "\n",
       "    .dataframe thead th {\n",
       "        text-align: right;\n",
       "    }\n",
       "</style>\n",
       "<table border=\"1\" class=\"dataframe\">\n",
       "  <thead>\n",
       "    <tr style=\"text-align: right;\">\n",
       "      <th></th>\n",
       "      <th>A</th>\n",
       "      <th>B</th>\n",
       "    </tr>\n",
       "  </thead>\n",
       "  <tbody>\n",
       "    <tr>\n",
       "      <th>i2</th>\n",
       "      <td>12</td>\n",
       "      <td>10</td>\n",
       "    </tr>\n",
       "    <tr>\n",
       "      <th>i1</th>\n",
       "      <td>11</td>\n",
       "      <td>14</td>\n",
       "    </tr>\n",
       "    <tr>\n",
       "      <th>i3</th>\n",
       "      <td>13</td>\n",
       "      <td>16</td>\n",
       "    </tr>\n",
       "    <tr>\n",
       "      <th>i4</th>\n",
       "      <td>11</td>\n",
       "      <td>17</td>\n",
       "    </tr>\n",
       "  </tbody>\n",
       "</table>\n",
       "</div>"
      ],
      "text/plain": [
       "     A   B\n",
       "i2  12  10\n",
       "i1  11  14\n",
       "i3  13  16\n",
       "i4  11  17"
      ]
     },
     "execution_count": 168,
     "metadata": {},
     "output_type": "execute_result"
    }
   ],
   "source": [
    "dataframe1.sort_values('B')"
   ]
  },
  {
   "cell_type": "markdown",
   "id": "5733ae98-89d4-4810-a196-f9d0abad9d87",
   "metadata": {},
   "source": [
    "## DATAFRAME DESDE EXCEL"
   ]
  },
  {
   "cell_type": "code",
   "execution_count": null,
   "id": "8c89a42f-add5-4ff9-9978-03d5b8c501a8",
   "metadata": {},
   "outputs": [],
   "source": [
    "pwd"
   ]
  },
  {
   "cell_type": "markdown",
   "id": "02d1b53d-ad83-4f16-83c8-59924ac99f34",
   "metadata": {},
   "source": [
    "dataframe = pd.read_excel('recursos/Ejemplo_excel.xlsx')\n",
    "dataframe"
   ]
  },
  {
   "cell_type": "markdown",
   "id": "7b27533a-95b6-4692-993a-0e66f3f7509c",
   "metadata": {},
   "source": [
    "#### Añadimos una columna"
   ]
  },
  {
   "cell_type": "code",
   "execution_count": 188,
   "id": "b4570a24-defa-40ef-8803-238cd5f535c5",
   "metadata": {},
   "outputs": [
    {
     "data": {
      "text/html": [
       "<div>\n",
       "<style scoped>\n",
       "    .dataframe tbody tr th:only-of-type {\n",
       "        vertical-align: middle;\n",
       "    }\n",
       "\n",
       "    .dataframe tbody tr th {\n",
       "        vertical-align: top;\n",
       "    }\n",
       "\n",
       "    .dataframe thead th {\n",
       "        text-align: right;\n",
       "    }\n",
       "</style>\n",
       "<table border=\"1\" class=\"dataframe\">\n",
       "  <thead>\n",
       "    <tr style=\"text-align: right;\">\n",
       "      <th></th>\n",
       "      <th>Unnamed: 0</th>\n",
       "      <th>a</th>\n",
       "      <th>b</th>\n",
       "      <th>c</th>\n",
       "      <th>d</th>\n",
       "      <th>e</th>\n",
       "    </tr>\n",
       "  </thead>\n",
       "  <tbody>\n",
       "    <tr>\n",
       "      <th>0</th>\n",
       "      <td>0</td>\n",
       "      <td>0</td>\n",
       "      <td>1</td>\n",
       "      <td>2</td>\n",
       "      <td>3</td>\n",
       "      <td>20</td>\n",
       "    </tr>\n",
       "    <tr>\n",
       "      <th>1</th>\n",
       "      <td>1</td>\n",
       "      <td>4</td>\n",
       "      <td>5</td>\n",
       "      <td>6</td>\n",
       "      <td>7</td>\n",
       "      <td>21</td>\n",
       "    </tr>\n",
       "    <tr>\n",
       "      <th>2</th>\n",
       "      <td>2</td>\n",
       "      <td>8</td>\n",
       "      <td>9</td>\n",
       "      <td>10</td>\n",
       "      <td>11</td>\n",
       "      <td>22</td>\n",
       "    </tr>\n",
       "    <tr>\n",
       "      <th>3</th>\n",
       "      <td>3</td>\n",
       "      <td>12</td>\n",
       "      <td>13</td>\n",
       "      <td>14</td>\n",
       "      <td>15</td>\n",
       "      <td>23</td>\n",
       "    </tr>\n",
       "  </tbody>\n",
       "</table>\n",
       "</div>"
      ],
      "text/plain": [
       "   Unnamed: 0   a   b   c   d   e\n",
       "0           0   0   1   2   3  20\n",
       "1           1   4   5   6   7  21\n",
       "2           2   8   9  10  11  22\n",
       "3           3  12  13  14  15  23"
      ]
     },
     "execution_count": 188,
     "metadata": {},
     "output_type": "execute_result"
    }
   ],
   "source": [
    "dataframe['e'] = [20,21,22,23]\n",
    "dataframe"
   ]
  },
  {
   "cell_type": "markdown",
   "id": "141a4651-071e-4bc5-92ec-d740395be25d",
   "metadata": {},
   "source": [
    "#### Guardamos en otro excel"
   ]
  },
  {
   "cell_type": "code",
   "execution_count": 191,
   "id": "e93cc9ac-7f76-408e-a75d-c64e77d316d0",
   "metadata": {},
   "outputs": [],
   "source": [
    "dataframe.to_excel('salida_excel.xlsx', sheet_name='Hoja1')"
   ]
  },
  {
   "cell_type": "markdown",
   "id": "a5db9ab8-f3d2-4e62-8066-8133b2f063e4",
   "metadata": {},
   "source": [
    "## LEER PAGINAS WEB"
   ]
  },
  {
   "cell_type": "code",
   "execution_count": 194,
   "id": "a296a61b-e2b9-4cc5-8039-c2cc0301968f",
   "metadata": {},
   "outputs": [
    {
     "data": {
      "text/html": [
       "<div>\n",
       "<style scoped>\n",
       "    .dataframe tbody tr th:only-of-type {\n",
       "        vertical-align: middle;\n",
       "    }\n",
       "\n",
       "    .dataframe tbody tr th {\n",
       "        vertical-align: top;\n",
       "    }\n",
       "\n",
       "    .dataframe thead th {\n",
       "        text-align: right;\n",
       "    }\n",
       "</style>\n",
       "<table border=\"1\" class=\"dataframe\">\n",
       "  <thead>\n",
       "    <tr style=\"text-align: right;\">\n",
       "      <th></th>\n",
       "      <th>N.º</th>\n",
       "      <th>País (o territorio dependiente)</th>\n",
       "      <th>Proyección exponencial de la población al 1/1/2025[7]​</th>\n",
       "      <th>Total mun- dial (%)</th>\n",
       "      <th>Cambio medio anual (%)[8]​</th>\n",
       "      <th>Cambio absoluto anual promedio</th>\n",
       "      <th>Cambio medio abs. total anual (%)</th>\n",
       "      <th>Años para even- tual du- pli- ca- ción[9]​</th>\n",
       "      <th>Censo más reciente, última estimación oficial, proyección de la ONU o reloj de población nacional</th>\n",
       "      <th>Fecha de esta última cifra de población en particular (d/mm/aaaa)[10]​</th>\n",
       "      <th>Tipo[11]​</th>\n",
       "      <th>Enlace o hipervínculo (usualmente de tipo oficial) de esta última cifra de población</th>\n",
       "    </tr>\n",
       "  </thead>\n",
       "  <tbody>\n",
       "    <tr>\n",
       "      <th>0</th>\n",
       "      <td>1</td>\n",
       "      <td>India</td>\n",
       "      <td>1 411 278 000</td>\n",
       "      <td>1753</td>\n",
       "      <td>090</td>\n",
       "      <td>12 726 000</td>\n",
       "      <td>1507</td>\n",
       "      <td>77</td>\n",
       "      <td>1 404 910 000</td>\n",
       "      <td>1/07/2024</td>\n",
       "      <td>A</td>\n",
       "      <td>web.archive.org</td>\n",
       "    </tr>\n",
       "    <tr>\n",
       "      <th>1</th>\n",
       "      <td>2</td>\n",
       "      <td>China[12]​</td>\n",
       "      <td>1 407 582 000</td>\n",
       "      <td>1749</td>\n",
       "      <td>-015</td>\n",
       "      <td>-2 075 000</td>\n",
       "      <td>-</td>\n",
       "      <td>-</td>\n",
       "      <td>1 409 670 000</td>\n",
       "      <td>31/12/2023</td>\n",
       "      <td>E</td>\n",
       "      <td>www.stats.gov.cn</td>\n",
       "    </tr>\n",
       "    <tr>\n",
       "      <th>2</th>\n",
       "      <td>3</td>\n",
       "      <td>Estados Unidos</td>\n",
       "      <td>337 642 000</td>\n",
       "      <td>419</td>\n",
       "      <td>052</td>\n",
       "      <td>1 754 000</td>\n",
       "      <td>208</td>\n",
       "      <td>134</td>\n",
       "      <td>337 464 000</td>\n",
       "      <td>24/11/2024</td>\n",
       "      <td>R</td>\n",
       "      <td>www.census.gov</td>\n",
       "    </tr>\n",
       "    <tr>\n",
       "      <th>3</th>\n",
       "      <td>4</td>\n",
       "      <td>Indonesia</td>\n",
       "      <td>284 144 000</td>\n",
       "      <td>353</td>\n",
       "      <td>117</td>\n",
       "      <td>3 318 000</td>\n",
       "      <td>393</td>\n",
       "      <td>60</td>\n",
       "      <td>282 477 584</td>\n",
       "      <td>30/06/2024</td>\n",
       "      <td>E</td>\n",
       "      <td>dispendukcapil.acehtimurkab.go.id</td>\n",
       "    </tr>\n",
       "    <tr>\n",
       "      <th>4</th>\n",
       "      <td>5</td>\n",
       "      <td>Pakistán</td>\n",
       "      <td>253 010 000</td>\n",
       "      <td>314</td>\n",
       "      <td>256</td>\n",
       "      <td>6 485 000</td>\n",
       "      <td>768</td>\n",
       "      <td>27</td>\n",
       "      <td>241 499 431</td>\n",
       "      <td>1/03/2023</td>\n",
       "      <td>C</td>\n",
       "      <td>www.pbs.gov.pk</td>\n",
       "    </tr>\n",
       "    <tr>\n",
       "      <th>5</th>\n",
       "      <td>6</td>\n",
       "      <td>Nigeria</td>\n",
       "      <td>233 077 000</td>\n",
       "      <td>290</td>\n",
       "      <td>273</td>\n",
       "      <td>6 372 000</td>\n",
       "      <td>755</td>\n",
       "      <td>26</td>\n",
       "      <td>223 800 000</td>\n",
       "      <td>1/07/2023</td>\n",
       "      <td>E</td>\n",
       "      <td>cdn.sanity.io</td>\n",
       "    </tr>\n",
       "    <tr>\n",
       "      <th>6</th>\n",
       "      <td>7</td>\n",
       "      <td>Brasil</td>\n",
       "      <td>205 661 000</td>\n",
       "      <td>256</td>\n",
       "      <td>052</td>\n",
       "      <td>1 076 000</td>\n",
       "      <td>127</td>\n",
       "      <td>133</td>\n",
       "      <td>203 080 756</td>\n",
       "      <td>1/08/2022</td>\n",
       "      <td>C</td>\n",
       "      <td>censo2022.ibge.gov.br</td>\n",
       "    </tr>\n",
       "    <tr>\n",
       "      <th>7</th>\n",
       "      <td>8</td>\n",
       "      <td>Bangladés</td>\n",
       "      <td>176 284 000</td>\n",
       "      <td>219</td>\n",
       "      <td>147</td>\n",
       "      <td>2 599 000</td>\n",
       "      <td>308</td>\n",
       "      <td>47</td>\n",
       "      <td>169 828 911</td>\n",
       "      <td>15/06/2022</td>\n",
       "      <td>C</td>\n",
       "      <td>bdnews24.com</td>\n",
       "    </tr>\n",
       "    <tr>\n",
       "      <th>8</th>\n",
       "      <td>9</td>\n",
       "      <td>Rusia[13]​</td>\n",
       "      <td>146 461 000</td>\n",
       "      <td>182</td>\n",
       "      <td>018</td>\n",
       "      <td>257 000</td>\n",
       "      <td>030</td>\n",
       "      <td>396</td>\n",
       "      <td>146 203 613</td>\n",
       "      <td>1/01/2024</td>\n",
       "      <td>E</td>\n",
       "      <td>rosstat.gov.ru</td>\n",
       "    </tr>\n",
       "    <tr>\n",
       "      <th>9</th>\n",
       "      <td>10</td>\n",
       "      <td>México</td>\n",
       "      <td>133 340 000</td>\n",
       "      <td>166</td>\n",
       "      <td>118</td>\n",
       "      <td>1 579 000</td>\n",
       "      <td>187</td>\n",
       "      <td>59</td>\n",
       "      <td>126 014 024</td>\n",
       "      <td>15/03/2020</td>\n",
       "      <td>C</td>\n",
       "      <td>www.inegi.org.mx</td>\n",
       "    </tr>\n",
       "  </tbody>\n",
       "</table>\n",
       "</div>"
      ],
      "text/plain": [
       "  N.º País (o territorio dependiente)  \\\n",
       "0   1                           India   \n",
       "1   2                      China[12]​   \n",
       "2   3                  Estados Unidos   \n",
       "3   4                       Indonesia   \n",
       "4   5                        Pakistán   \n",
       "5   6                         Nigeria   \n",
       "6   7                          Brasil   \n",
       "7   8                       Bangladés   \n",
       "8   9                      Rusia[13]​   \n",
       "9  10                          México   \n",
       "\n",
       "  Proyección exponencial de la población al 1/1/2025[7]​ Total mun- dial (%)  \\\n",
       "0                                      1 411 278 000                    1753   \n",
       "1                                      1 407 582 000                    1749   \n",
       "2                                        337 642 000                     419   \n",
       "3                                        284 144 000                     353   \n",
       "4                                        253 010 000                     314   \n",
       "5                                        233 077 000                     290   \n",
       "6                                        205 661 000                     256   \n",
       "7                                        176 284 000                     219   \n",
       "8                                        146 461 000                     182   \n",
       "9                                        133 340 000                     166   \n",
       "\n",
       "  Cambio medio anual (%)[8]​ Cambio absoluto anual promedio  \\\n",
       "0                        090                     12 726 000   \n",
       "1                       -015                     -2 075 000   \n",
       "2                        052                      1 754 000   \n",
       "3                        117                      3 318 000   \n",
       "4                        256                      6 485 000   \n",
       "5                        273                      6 372 000   \n",
       "6                        052                      1 076 000   \n",
       "7                        147                      2 599 000   \n",
       "8                        018                        257 000   \n",
       "9                        118                      1 579 000   \n",
       "\n",
       "  Cambio medio abs. total anual (%)  \\\n",
       "0                              1507   \n",
       "1                                 -   \n",
       "2                               208   \n",
       "3                               393   \n",
       "4                               768   \n",
       "5                               755   \n",
       "6                               127   \n",
       "7                               308   \n",
       "8                               030   \n",
       "9                               187   \n",
       "\n",
       "  Años para even- tual du- pli- ca- ción[9]​  \\\n",
       "0                                         77   \n",
       "1                                          -   \n",
       "2                                        134   \n",
       "3                                         60   \n",
       "4                                         27   \n",
       "5                                         26   \n",
       "6                                        133   \n",
       "7                                         47   \n",
       "8                                        396   \n",
       "9                                         59   \n",
       "\n",
       "  Censo más reciente, última estimación oficial, proyección de la ONU o reloj de población nacional  \\\n",
       "0                                      1 404 910 000                                                  \n",
       "1                                      1 409 670 000                                                  \n",
       "2                                        337 464 000                                                  \n",
       "3                                        282 477 584                                                  \n",
       "4                                        241 499 431                                                  \n",
       "5                                        223 800 000                                                  \n",
       "6                                        203 080 756                                                  \n",
       "7                                        169 828 911                                                  \n",
       "8                                        146 203 613                                                  \n",
       "9                                        126 014 024                                                  \n",
       "\n",
       "  Fecha de esta última cifra de población en particular (d/mm/aaaa)[10]​  \\\n",
       "0                                          1/07/2024                       \n",
       "1                                         31/12/2023                       \n",
       "2                                         24/11/2024                       \n",
       "3                                         30/06/2024                       \n",
       "4                                          1/03/2023                       \n",
       "5                                          1/07/2023                       \n",
       "6                                          1/08/2022                       \n",
       "7                                         15/06/2022                       \n",
       "8                                          1/01/2024                       \n",
       "9                                         15/03/2020                       \n",
       "\n",
       "  Tipo[11]​  \\\n",
       "0         A   \n",
       "1         E   \n",
       "2         R   \n",
       "3         E   \n",
       "4         C   \n",
       "5         E   \n",
       "6         C   \n",
       "7         C   \n",
       "8         E   \n",
       "9         C   \n",
       "\n",
       "  Enlace o hipervínculo (usualmente de tipo oficial) de esta última cifra de población  \n",
       "0                                    web.archive.org                                    \n",
       "1                                   www.stats.gov.cn                                    \n",
       "2                                     www.census.gov                                    \n",
       "3                  dispendukcapil.acehtimurkab.go.id                                    \n",
       "4                                     www.pbs.gov.pk                                    \n",
       "5                                      cdn.sanity.io                                    \n",
       "6                              censo2022.ibge.gov.br                                    \n",
       "7                                       bdnews24.com                                    \n",
       "8                                     rosstat.gov.ru                                    \n",
       "9                                   www.inegi.org.mx                                    "
      ]
     },
     "execution_count": 194,
     "metadata": {},
     "output_type": "execute_result"
    }
   ],
   "source": [
    "import pandas as pd\n",
    "pagina_web = 'https://es.wikipedia.org/wiki/Anexo:Pa%C3%ADses_y_territorios_dependientes_por_poblaci%C3%B3n'\n",
    "datos = pd.read_html(pagina_web)\n",
    "dataframe = datos[0]\n",
    "dataframe.head(10)"
   ]
  },
  {
   "cell_type": "markdown",
   "id": "23697743-f33d-4eaa-a054-db0f7b1ff745",
   "metadata": {},
   "source": [
    "## DATOS CATEGORICOS"
   ]
  },
  {
   "cell_type": "code",
   "execution_count": 201,
   "id": "d287d878-1491-4691-90e5-5709a8e06233",
   "metadata": {},
   "outputs": [
    {
     "data": {
      "text/html": [
       "<div>\n",
       "<style scoped>\n",
       "    .dataframe tbody tr th:only-of-type {\n",
       "        vertical-align: middle;\n",
       "    }\n",
       "\n",
       "    .dataframe tbody tr th {\n",
       "        vertical-align: top;\n",
       "    }\n",
       "\n",
       "    .dataframe thead th {\n",
       "        text-align: right;\n",
       "    }\n",
       "</style>\n",
       "<table border=\"1\" class=\"dataframe\">\n",
       "  <thead>\n",
       "    <tr style=\"text-align: right;\">\n",
       "      <th></th>\n",
       "      <th>Pelicula</th>\n",
       "      <th>Genero</th>\n",
       "      <th>Ratings de Rotten Tomatoes %</th>\n",
       "      <th>Ratings de la Audience %</th>\n",
       "      <th>Presupuesto (millones USD)</th>\n",
       "      <th>Lanzamiento</th>\n",
       "    </tr>\n",
       "  </thead>\n",
       "  <tbody>\n",
       "    <tr>\n",
       "      <th>0</th>\n",
       "      <td>(500) Days of Summer</td>\n",
       "      <td>Comedia</td>\n",
       "      <td>87</td>\n",
       "      <td>81</td>\n",
       "      <td>8</td>\n",
       "      <td>2009</td>\n",
       "    </tr>\n",
       "    <tr>\n",
       "      <th>1</th>\n",
       "      <td>10,000 B.C.</td>\n",
       "      <td>Aventura</td>\n",
       "      <td>9</td>\n",
       "      <td>44</td>\n",
       "      <td>105</td>\n",
       "      <td>2008</td>\n",
       "    </tr>\n",
       "    <tr>\n",
       "      <th>2</th>\n",
       "      <td>12 Rounds</td>\n",
       "      <td>Accion</td>\n",
       "      <td>30</td>\n",
       "      <td>52</td>\n",
       "      <td>20</td>\n",
       "      <td>2009</td>\n",
       "    </tr>\n",
       "    <tr>\n",
       "      <th>3</th>\n",
       "      <td>127 Hours</td>\n",
       "      <td>Aventura</td>\n",
       "      <td>93</td>\n",
       "      <td>84</td>\n",
       "      <td>18</td>\n",
       "      <td>2010</td>\n",
       "    </tr>\n",
       "    <tr>\n",
       "      <th>4</th>\n",
       "      <td>17 Again</td>\n",
       "      <td>Comedia</td>\n",
       "      <td>55</td>\n",
       "      <td>70</td>\n",
       "      <td>20</td>\n",
       "      <td>2009</td>\n",
       "    </tr>\n",
       "  </tbody>\n",
       "</table>\n",
       "</div>"
      ],
      "text/plain": [
       "                Pelicula    Genero  Ratings de Rotten Tomatoes %  \\\n",
       "0  (500) Days of Summer    Comedia                            87   \n",
       "1            10,000 B.C.  Aventura                             9   \n",
       "2             12 Rounds     Accion                            30   \n",
       "3              127 Hours  Aventura                            93   \n",
       "4              17 Again    Comedia                            55   \n",
       "\n",
       "   Ratings de la Audience %  Presupuesto (millones USD)  Lanzamiento  \n",
       "0                        81                           8         2009  \n",
       "1                        44                         105         2008  \n",
       "2                        52                          20         2009  \n",
       "3                        84                          18         2010  \n",
       "4                        70                          20         2009  "
      ]
     },
     "execution_count": 201,
     "metadata": {},
     "output_type": "execute_result"
    }
   ],
   "source": [
    "#datos categoricos\n",
    "import pandas as pd\n",
    "import os\n",
    "\n",
    "# para saber el path\n",
    "os.getcwd()\n",
    "\n",
    "path = \"PATH\"\n",
    "peliculas = pd.read_csv(path + '/' + 'RatingsPeliculas.csv')\n",
    "peliculas.head()"
   ]
  },
  {
   "cell_type": "markdown",
   "id": "4928f27b-9b82-4baf-8173-c659ad99b497",
   "metadata": {},
   "source": [
    "Películas.info() para saber que tipo de datos tenemos   \n",
    "Películas.describe() para ver las medias de los numéricos   \n",
    "Películas.Pelicula para ver la columna Película\n"
   ]
  },
  {
   "cell_type": "markdown",
   "id": "42fc52e7-4009-4377-ab30-56ea2231939f",
   "metadata": {},
   "source": [
    "### Cambiar el tipo de dato en una columna"
   ]
  },
  {
   "cell_type": "code",
   "execution_count": 206,
   "id": "7e081606-b629-4061-b1a8-a0d11a912f66",
   "metadata": {},
   "outputs": [
    {
     "data": {
      "text/html": [
       "<div>\n",
       "<style scoped>\n",
       "    .dataframe tbody tr th:only-of-type {\n",
       "        vertical-align: middle;\n",
       "    }\n",
       "\n",
       "    .dataframe tbody tr th {\n",
       "        vertical-align: top;\n",
       "    }\n",
       "\n",
       "    .dataframe thead th {\n",
       "        text-align: right;\n",
       "    }\n",
       "</style>\n",
       "<table border=\"1\" class=\"dataframe\">\n",
       "  <thead>\n",
       "    <tr style=\"text-align: right;\">\n",
       "      <th></th>\n",
       "      <th>Pelicula</th>\n",
       "      <th>Genero</th>\n",
       "      <th>RatingsCriticos</th>\n",
       "      <th>RatingsAudiencia</th>\n",
       "      <th>PresupuestoMillones</th>\n",
       "      <th>Anyo</th>\n",
       "    </tr>\n",
       "  </thead>\n",
       "  <tbody>\n",
       "    <tr>\n",
       "      <th>0</th>\n",
       "      <td>(500) Days of Summer</td>\n",
       "      <td>Comedia</td>\n",
       "      <td>87</td>\n",
       "      <td>81</td>\n",
       "      <td>8</td>\n",
       "      <td>2009</td>\n",
       "    </tr>\n",
       "    <tr>\n",
       "      <th>1</th>\n",
       "      <td>10,000 B.C.</td>\n",
       "      <td>Aventura</td>\n",
       "      <td>9</td>\n",
       "      <td>44</td>\n",
       "      <td>105</td>\n",
       "      <td>2008</td>\n",
       "    </tr>\n",
       "    <tr>\n",
       "      <th>2</th>\n",
       "      <td>12 Rounds</td>\n",
       "      <td>Accion</td>\n",
       "      <td>30</td>\n",
       "      <td>52</td>\n",
       "      <td>20</td>\n",
       "      <td>2009</td>\n",
       "    </tr>\n",
       "    <tr>\n",
       "      <th>3</th>\n",
       "      <td>127 Hours</td>\n",
       "      <td>Aventura</td>\n",
       "      <td>93</td>\n",
       "      <td>84</td>\n",
       "      <td>18</td>\n",
       "      <td>2010</td>\n",
       "    </tr>\n",
       "    <tr>\n",
       "      <th>4</th>\n",
       "      <td>17 Again</td>\n",
       "      <td>Comedia</td>\n",
       "      <td>55</td>\n",
       "      <td>70</td>\n",
       "      <td>20</td>\n",
       "      <td>2009</td>\n",
       "    </tr>\n",
       "  </tbody>\n",
       "</table>\n",
       "</div>"
      ],
      "text/plain": [
       "                Pelicula    Genero  RatingsCriticos  RatingsAudiencia  \\\n",
       "0  (500) Days of Summer    Comedia               87                81   \n",
       "1            10,000 B.C.  Aventura                9                44   \n",
       "2             12 Rounds     Accion               30                52   \n",
       "3              127 Hours  Aventura               93                84   \n",
       "4              17 Again    Comedia               55                70   \n",
       "\n",
       "   PresupuestoMillones  Anyo  \n",
       "0                    8  2009  \n",
       "1                  105  2008  \n",
       "2                   20  2009  \n",
       "3                   18  2010  \n",
       "4                   20  2009  "
      ]
     },
     "execution_count": 206,
     "metadata": {},
     "output_type": "execute_result"
    }
   ],
   "source": [
    "peliculas.columns = ['Pelicula', 'Genero', 'RatingsCriticos', 'RatingsAudiencia', \\\n",
    "                    'PresupuestoMillones', 'Anyo']\n",
    "\n",
    "peliculas.head()"
   ]
  },
  {
   "cell_type": "code",
   "execution_count": 208,
   "id": "55964681-c803-45fd-9afa-d1318d9298f7",
   "metadata": {},
   "outputs": [],
   "source": [
    "peliculas.Pelicula = peliculas.Pelicula.astype('category')\n",
    "peliculas.Genero = peliculas.Genero.astype('category')\n",
    "peliculas.Anyo = peliculas.Anyo.astype('category')"
   ]
  },
  {
   "cell_type": "code",
   "execution_count": 210,
   "id": "e15c27b9-6f17-42b9-b9ac-575e7bc3e443",
   "metadata": {},
   "outputs": [
    {
     "name": "stdout",
     "output_type": "stream",
     "text": [
      "<class 'pandas.core.frame.DataFrame'>\n",
      "RangeIndex: 559 entries, 0 to 558\n",
      "Data columns (total 6 columns):\n",
      " #   Column               Non-Null Count  Dtype   \n",
      "---  ------               --------------  -----   \n",
      " 0   Pelicula             559 non-null    category\n",
      " 1   Genero               559 non-null    category\n",
      " 2   RatingsCriticos      559 non-null    int64   \n",
      " 3   RatingsAudiencia     559 non-null    int64   \n",
      " 4   PresupuestoMillones  559 non-null    int64   \n",
      " 5   Anyo                 559 non-null    category\n",
      "dtypes: category(3), int64(3)\n",
      "memory usage: 36.5 KB\n"
     ]
    }
   ],
   "source": [
    "peliculas.info()"
   ]
  },
  {
   "cell_type": "code",
   "execution_count": null,
   "id": "236cc9c6-75d4-4619-896e-45e118f185e3",
   "metadata": {},
   "outputs": [],
   "source": []
  },
  {
   "cell_type": "code",
   "execution_count": null,
   "id": "21d87a73-5e58-422c-b094-dcb732095a89",
   "metadata": {},
   "outputs": [],
   "source": []
  },
  {
   "cell_type": "code",
   "execution_count": null,
   "id": "6ce1c9cd-ee69-4835-8e85-24214bc4aad7",
   "metadata": {},
   "outputs": [],
   "source": []
  },
  {
   "cell_type": "code",
   "execution_count": null,
   "id": "3fe53557-3de6-4e01-a574-ee5fd1657e5a",
   "metadata": {},
   "outputs": [],
   "source": []
  }
 ],
 "metadata": {
  "kernelspec": {
   "display_name": "Python 3 (ipykernel)",
   "language": "python",
   "name": "python3"
  },
  "language_info": {
   "codemirror_mode": {
    "name": "ipython",
    "version": 3
   },
   "file_extension": ".py",
   "mimetype": "text/x-python",
   "name": "python",
   "nbconvert_exporter": "python",
   "pygments_lexer": "ipython3",
   "version": "3.12.4"
  }
 },
 "nbformat": 4,
 "nbformat_minor": 5
}
