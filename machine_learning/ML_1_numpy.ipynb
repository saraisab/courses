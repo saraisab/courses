{
  "cells": [
    {
      "cell_type": "markdown",
      "id": "da98716f-3ef2-49f1-aba0-fab1fdb6d41b",
      "metadata": {
        "id": "da98716f-3ef2-49f1-aba0-fab1fdb6d41b"
      },
      "source": [
        "# Curso de python en udemy"
      ]
    },
    {
      "cell_type": "markdown",
      "id": "dbd0473b-f75d-4244-85ba-fff0ab3d077a",
      "metadata": {
        "id": "dbd0473b-f75d-4244-85ba-fff0ab3d077a"
      },
      "source": [
        "## Numpy"
      ]
    },
    {
      "cell_type": "markdown",
      "id": "62c9598f-4b31-4410-a04b-2990fb5572bd",
      "metadata": {
        "id": "62c9598f-4b31-4410-a04b-2990fb5572bd"
      },
      "source": [
        "#### Randn"
      ]
    },
    {
      "cell_type": "code",
      "execution_count": null,
      "id": "e74915ab-55ca-4725-8ef0-c5b0ed1c601f",
      "metadata": {
        "id": "e74915ab-55ca-4725-8ef0-c5b0ed1c601f",
        "outputId": "7d4e1151-7f7f-42b6-a04c-9f9d634b03e2"
      },
      "outputs": [
        {
          "name": "stdout",
          "output_type": "stream",
          "text": [
            "resultado es 0.6788\n"
          ]
        }
      ],
      "source": [
        "# Con números aleatorios pero positivos y negativos\n",
        "import numpy as np\n",
        "from numpy.random import randn\n",
        "\n",
        "resultado = 0\n",
        "contador = 0\n",
        "for i in randn(10000):\n",
        "    if i < 1 and i > -1:\n",
        "        resultado += 1\n",
        "    contador += 1\n",
        "print(f'resultado es {resultado/contador}')"
      ]
    },
    {
      "cell_type": "code",
      "execution_count": null,
      "id": "d64583fc-5ad6-4630-8ec2-d5ea59d45f30",
      "metadata": {
        "id": "d64583fc-5ad6-4630-8ec2-d5ea59d45f30",
        "outputId": "c77dd5a7-ca0d-4661-ffb3-9e61d71c06d7"
      },
      "outputs": [
        {
          "data": {
            "text/plain": [
              "array([[-1.0568285 , -1.54388983,  0.77414571],\n",
              "       [ 1.0194357 ,  0.223908  , -1.33580403],\n",
              "       [-0.1943379 ,  0.42080044,  0.17852683],\n",
              "       [-0.44506692, -0.36593675,  1.21114027],\n",
              "       [-1.10066561,  0.08454591,  0.23246502]])"
            ]
          },
          "execution_count": 46,
          "metadata": {},
          "output_type": "execute_result"
        }
      ],
      "source": [
        "# También se puede construir un vector\n",
        "import numpy as np\n",
        "vector = np.random.randn(5, 3)\n",
        "vector"
      ]
    },
    {
      "cell_type": "markdown",
      "id": "ee78493c-916e-4025-ae59-0533965f98c7",
      "metadata": {
        "id": "ee78493c-916e-4025-ae59-0533965f98c7"
      },
      "source": [
        "#### Rand"
      ]
    },
    {
      "cell_type": "code",
      "execution_count": null,
      "id": "f598f24b-4161-44ba-86af-8693231fdff2",
      "metadata": {
        "id": "f598f24b-4161-44ba-86af-8693231fdff2",
        "outputId": "0dd3e3d9-c160-4dfc-e0f0-bd616ff95dbd"
      },
      "outputs": [
        {
          "data": {
            "text/plain": [
              "array([0.10601463, 0.24487579, 0.43240822, 0.96009491, 0.19849926])"
            ]
          },
          "execution_count": 49,
          "metadata": {},
          "output_type": "execute_result"
        }
      ],
      "source": [
        "# Solo números positivos\n",
        "import numpy as np\n",
        "vector = np.random.rand(5)\n",
        "vector"
      ]
    },
    {
      "cell_type": "code",
      "execution_count": null,
      "id": "18208213-cf30-413d-af3e-ffbe31fd2b36",
      "metadata": {
        "id": "18208213-cf30-413d-af3e-ffbe31fd2b36",
        "outputId": "e396f748-44a1-4735-d888-7a972497e974"
      },
      "outputs": [
        {
          "data": {
            "text/plain": [
              "array([[0.48288093, 0.26207462, 0.65886966],\n",
              "       [0.31527303, 0.5668327 , 0.84182064],\n",
              "       [0.95935975, 0.20485767, 0.64546768],\n",
              "       [0.44010923, 0.42732359, 0.0819377 ],\n",
              "       [0.48195478, 0.21357189, 0.73343448]])"
            ]
          },
          "execution_count": 51,
          "metadata": {},
          "output_type": "execute_result"
        }
      ],
      "source": [
        "# También podemos construir una matriz\n",
        "import numpy as np\n",
        "vector = np.random.rand(5,3)\n",
        "vector"
      ]
    },
    {
      "cell_type": "markdown",
      "id": "c7301635-96ad-4e6a-9b15-d852d0b3b259",
      "metadata": {
        "id": "c7301635-96ad-4e6a-9b15-d852d0b3b259"
      },
      "source": [
        "**diferencia array de numpy vs lista**\n",
        "\n",
        "1 -  un array no puede tener distintos tipos de datos\n",
        "\n",
        "2. – un array funciona como un objeto y se le pueden aplicar mas métodos que a una lista\n"
      ]
    },
    {
      "cell_type": "code",
      "execution_count": null,
      "id": "91b820b2-91ff-4855-90fd-235a94686e17",
      "metadata": {
        "id": "91b820b2-91ff-4855-90fd-235a94686e17",
        "outputId": "5558eae7-5ca3-4afa-e95a-169a213456dc"
      },
      "outputs": [
        {
          "data": {
            "text/plain": [
              "array([ 235,   25, 2578])"
            ]
          },
          "execution_count": 19,
          "metadata": {},
          "output_type": "execute_result"
        }
      ],
      "source": [
        "import numpy as np\n",
        "lista = [235, 25, 2578]\n",
        "a = np.array(lista)\n",
        "a\n"
      ]
    },
    {
      "cell_type": "code",
      "execution_count": null,
      "id": "0c2a37b8-0257-4fed-ae12-bb3592ab4f71",
      "metadata": {
        "id": "0c2a37b8-0257-4fed-ae12-bb3592ab4f71",
        "outputId": "fbdcd1a1-dcd0-4be2-821f-e267d7af3a97"
      },
      "outputs": [
        {
          "data": {
            "text/plain": [
              "array(['z', 'b', 'c', 'd', 'e', 'f', 'g', 'h', 'i'], dtype='<U1')"
            ]
          },
          "execution_count": 21,
          "metadata": {},
          "output_type": "execute_result"
        }
      ],
      "source": [
        "'''\n",
        "si tenemos una variable con un array podemos crear una vista\n",
        "de ese array con slicing asingnandole una variable, pero si\n",
        "cambiamos el primer array el segundo tmbn se modificará,\n",
        "pero podemos hacer un copy y ya no se modificará\n",
        "'''\n",
        "\n",
        "import numpy as np\n",
        "letras = ['a', 'b', 'c', 'd', 'e', 'f', 'g', 'h', 'i']\n",
        "a = np.array(letras)\n",
        "c = letras[0:2].copy()\n",
        "a[0] = 'z'\n",
        "a\n"
      ]
    },
    {
      "cell_type": "code",
      "execution_count": null,
      "id": "2f7d0f65-ca61-49ef-8739-b0db76217ec5",
      "metadata": {
        "id": "2f7d0f65-ca61-49ef-8739-b0db76217ec5",
        "outputId": "b750b002-fc49-4c14-8532-27c6f5dac8cd"
      },
      "outputs": [
        {
          "data": {
            "text/plain": [
              "['a', 'b']"
            ]
          },
          "execution_count": 23,
          "metadata": {},
          "output_type": "execute_result"
        }
      ],
      "source": [
        "c"
      ]
    },
    {
      "cell_type": "markdown",
      "id": "598ad053-22dc-4323-a061-92a05fbb5973",
      "metadata": {
        "id": "598ad053-22dc-4323-a061-92a05fbb5973"
      },
      "source": [
        "#### arange\n"
      ]
    },
    {
      "cell_type": "code",
      "execution_count": null,
      "id": "05ad673f-b9d8-4c4b-ac15-5ae9d8fd72b4",
      "metadata": {
        "id": "05ad673f-b9d8-4c4b-ac15-5ae9d8fd72b4",
        "outputId": "ada287ad-ca6c-4274-ddf2-ad9436599297"
      },
      "outputs": [
        {
          "name": "stdout",
          "output_type": "stream",
          "text": [
            "[0 1 2 3 4 5 6 7 8 9]\n"
          ]
        }
      ],
      "source": [
        "# para sacar un rango\n",
        "listado = np.arange(10)\n",
        "print(listado)\n"
      ]
    },
    {
      "cell_type": "code",
      "execution_count": null,
      "id": "012d9d4c-ed04-4979-93b0-9c8653a7fd9e",
      "metadata": {
        "id": "012d9d4c-ed04-4979-93b0-9c8653a7fd9e",
        "outputId": "f703fa82-c245-47ed-db4b-61792b7ca756"
      },
      "outputs": [
        {
          "name": "stdout",
          "output_type": "stream",
          "text": [
            "[2 3 4 5 6 7 8 9]\n"
          ]
        }
      ],
      "source": [
        "import numpy as np\n",
        "listado = np.arange(2, 10)\n",
        "print(listado)\n"
      ]
    },
    {
      "cell_type": "code",
      "execution_count": null,
      "id": "20f12fb2-cbfe-4642-b359-c64fc7ffc041",
      "metadata": {
        "id": "20f12fb2-cbfe-4642-b359-c64fc7ffc041",
        "outputId": "3c5e208d-4e2c-4ecf-9a0f-34a2460d5dfc"
      },
      "outputs": [
        {
          "name": "stdout",
          "output_type": "stream",
          "text": [
            "[2 4 6 8]\n"
          ]
        }
      ],
      "source": [
        "listado = np.arange(2, 10, 2)\n",
        "print(listado)\n"
      ]
    },
    {
      "cell_type": "code",
      "execution_count": null,
      "id": "44a193cb-52dd-49bb-b75c-6b96486c4deb",
      "metadata": {
        "id": "44a193cb-52dd-49bb-b75c-6b96486c4deb",
        "outputId": "32889c6c-3e6b-483e-c3e1-9d33cb3ef44b"
      },
      "outputs": [
        {
          "data": {
            "text/plain": [
              "0"
            ]
          },
          "execution_count": 32,
          "metadata": {},
          "output_type": "execute_result"
        }
      ],
      "source": [
        "import numpy as np\n",
        "array = np.arange(0, 10)\n",
        "array[0]"
      ]
    },
    {
      "cell_type": "code",
      "execution_count": null,
      "id": "d258535e-3592-4d20-9d33-ac6699fedacd",
      "metadata": {
        "id": "d258535e-3592-4d20-9d33-ac6699fedacd",
        "outputId": "b64225f3-ae6f-4edd-b740-fd28ed101b1a"
      },
      "outputs": [
        {
          "data": {
            "text/plain": [
              "array([0, 1, 2, 3, 4, 5, 6, 7, 8, 9])"
            ]
          },
          "execution_count": 34,
          "metadata": {},
          "output_type": "execute_result"
        }
      ],
      "source": [
        "array"
      ]
    },
    {
      "cell_type": "code",
      "execution_count": null,
      "id": "b5959426-32ca-46ac-a2ca-5f2636d18b63",
      "metadata": {
        "id": "b5959426-32ca-46ac-a2ca-5f2636d18b63",
        "outputId": "6d6ccd56-80df-48d6-d916-eb3bcf71b3b6"
      },
      "outputs": [
        {
          "data": {
            "text/plain": [
              "9"
            ]
          },
          "execution_count": 36,
          "metadata": {},
          "output_type": "execute_result"
        }
      ],
      "source": [
        "array[-1]"
      ]
    },
    {
      "cell_type": "code",
      "execution_count": null,
      "id": "45a6f332-aaee-45e9-9a25-c88917b3568b",
      "metadata": {
        "id": "45a6f332-aaee-45e9-9a25-c88917b3568b",
        "outputId": "149ff24f-223f-4211-9ae9-d68321039c0c"
      },
      "outputs": [
        {
          "data": {
            "text/plain": [
              "array([2, 3])"
            ]
          },
          "execution_count": 38,
          "metadata": {},
          "output_type": "execute_result"
        }
      ],
      "source": [
        "array[2:4]"
      ]
    },
    {
      "cell_type": "markdown",
      "id": "970060d7-f316-4260-a550-6098723f2133",
      "metadata": {
        "id": "970060d7-f316-4260-a550-6098723f2133"
      },
      "source": [
        "\n",
        "Para sacar todo el array array[:]\n",
        "Para sacar de la posición 5 hasta el final array[5:]\n",
        "Para sacar de la posición inicial hasta la posición 4 array[:4]"
      ]
    },
    {
      "cell_type": "markdown",
      "id": "ffd205d9-c235-4b73-987a-fd17a054aa53",
      "metadata": {
        "id": "ffd205d9-c235-4b73-987a-fd17a054aa53"
      },
      "source": [
        "#### Condiciones arange"
      ]
    },
    {
      "cell_type": "code",
      "execution_count": null,
      "id": "5db447c1-6a16-49da-9236-159d9580828f",
      "metadata": {
        "id": "5db447c1-6a16-49da-9236-159d9580828f",
        "outputId": "025d17ea-ea67-4a5b-a16b-ca3daa9c8976"
      },
      "outputs": [
        {
          "data": {
            "text/plain": [
              "array([0, 1, 2, 3, 4, 5, 6, 7, 8, 9])"
            ]
          },
          "execution_count": 54,
          "metadata": {},
          "output_type": "execute_result"
        }
      ],
      "source": [
        "# numpy - seleccionar elementos de un array\n",
        "import numpy as np\n",
        "array = np.arange(0, 10)\n",
        "array"
      ]
    },
    {
      "cell_type": "code",
      "execution_count": null,
      "id": "fa112fef-a307-4cae-9d8a-183f09825289",
      "metadata": {
        "id": "fa112fef-a307-4cae-9d8a-183f09825289",
        "outputId": "60b1f5b7-15cd-456a-ac69-56937f0e0beb"
      },
      "outputs": [
        {
          "data": {
            "text/plain": [
              "array([False, False, False, False, False, False,  True,  True,  True,\n",
              "        True])"
            ]
          },
          "execution_count": 56,
          "metadata": {},
          "output_type": "execute_result"
        }
      ],
      "source": [
        "condicion = array > 5\n",
        "condicion"
      ]
    },
    {
      "cell_type": "code",
      "execution_count": null,
      "id": "845573dd-6fc4-4d87-9181-27889cd2001d",
      "metadata": {
        "id": "845573dd-6fc4-4d87-9181-27889cd2001d",
        "outputId": "2ee1e6ae-0c98-4d1d-ec59-b998c6cc06cd"
      },
      "outputs": [
        {
          "data": {
            "text/plain": [
              "array([6, 7, 8, 9])"
            ]
          },
          "execution_count": 58,
          "metadata": {},
          "output_type": "execute_result"
        }
      ],
      "source": [
        "array[condicion]"
      ]
    },
    {
      "cell_type": "code",
      "execution_count": null,
      "id": "b94e4920-51e4-48cf-82cb-88a4c7e2244c",
      "metadata": {
        "id": "b94e4920-51e4-48cf-82cb-88a4c7e2244c",
        "outputId": "d49299aa-4fe3-4216-df01-18b0e19dd4d1"
      },
      "outputs": [
        {
          "data": {
            "text/plain": [
              "array([6, 7, 8, 9])"
            ]
          },
          "execution_count": 60,
          "metadata": {},
          "output_type": "execute_result"
        }
      ],
      "source": [
        "array6 = array[condicion]\n",
        "array6"
      ]
    },
    {
      "cell_type": "code",
      "execution_count": null,
      "id": "d350e549-e8a5-4229-bc0e-08a6f7536872",
      "metadata": {
        "id": "d350e549-e8a5-4229-bc0e-08a6f7536872",
        "outputId": "d934b0e9-4e53-45f3-cd11-2f992a5cb82f"
      },
      "outputs": [
        {
          "data": {
            "text/plain": [
              "array([6, 7, 8, 9])"
            ]
          },
          "execution_count": 62,
          "metadata": {},
          "output_type": "execute_result"
        }
      ],
      "source": [
        "# mas rápido\n",
        "array[array > 5]"
      ]
    },
    {
      "cell_type": "markdown",
      "id": "9d4367ec-9f3f-4743-b53b-8b9ab48dbb4d",
      "metadata": {
        "id": "9d4367ec-9f3f-4743-b53b-8b9ab48dbb4d"
      },
      "source": [
        "#### Operaciones con arrays"
      ]
    },
    {
      "cell_type": "code",
      "execution_count": null,
      "id": "75ee2cd2-0c01-4140-a8df-e9c5b6a21f61",
      "metadata": {
        "id": "75ee2cd2-0c01-4140-a8df-e9c5b6a21f61",
        "outputId": "b4b10dca-d820-4ee2-b900-3040aa93bac6"
      },
      "outputs": [
        {
          "data": {
            "text/plain": [
              "array([0, 1, 2, 3, 4, 5, 6, 7, 8, 9])"
            ]
          },
          "execution_count": 65,
          "metadata": {},
          "output_type": "execute_result"
        }
      ],
      "source": [
        "array"
      ]
    },
    {
      "cell_type": "code",
      "execution_count": null,
      "id": "5cc97c75-1b85-40fe-b6d3-6ce50f393502",
      "metadata": {
        "id": "5cc97c75-1b85-40fe-b6d3-6ce50f393502",
        "outputId": "817cdba4-4df0-4ccb-c178-9819d9c546c6"
      },
      "outputs": [
        {
          "data": {
            "text/plain": [
              "array([ 0,  2,  4,  6,  8, 10, 12, 14, 16, 18])"
            ]
          },
          "execution_count": 67,
          "metadata": {},
          "output_type": "execute_result"
        }
      ],
      "source": [
        "array + array"
      ]
    },
    {
      "cell_type": "code",
      "execution_count": null,
      "id": "15514575-80fb-42db-acc1-adc012dba6e5",
      "metadata": {
        "id": "15514575-80fb-42db-acc1-adc012dba6e5",
        "outputId": "936367f1-fbcf-4678-b9e5-70ca71414c3d"
      },
      "outputs": [
        {
          "data": {
            "text/plain": [
              "array([0, 0, 0, 0, 0, 0, 0, 0, 0, 0])"
            ]
          },
          "execution_count": 69,
          "metadata": {},
          "output_type": "execute_result"
        }
      ],
      "source": [
        "array - array"
      ]
    },
    {
      "cell_type": "code",
      "execution_count": null,
      "id": "3f470b39-248f-4cbc-904a-f7f7ba3dd1be",
      "metadata": {
        "id": "3f470b39-248f-4cbc-904a-f7f7ba3dd1be",
        "outputId": "f02b9f31-f926-4795-aeb4-e1325c6835dd"
      },
      "outputs": [
        {
          "data": {
            "text/plain": [
              "array([  0, 100, 200, 300, 400, 500, 600, 700, 800, 900])"
            ]
          },
          "execution_count": 71,
          "metadata": {},
          "output_type": "execute_result"
        }
      ],
      "source": [
        "array * 100"
      ]
    },
    {
      "cell_type": "code",
      "execution_count": null,
      "id": "a3c226f7-bec5-4852-8d8c-51ab8c6f32ba",
      "metadata": {
        "id": "a3c226f7-bec5-4852-8d8c-51ab8c6f32ba",
        "outputId": "5485c7de-641b-4f45-c531-978f239b9b40"
      },
      "outputs": [
        {
          "data": {
            "text/plain": [
              "array([40, 41, 42, 43, 44, 45, 46, 47, 48, 49])"
            ]
          },
          "execution_count": 73,
          "metadata": {},
          "output_type": "execute_result"
        }
      ],
      "source": [
        "array + 40"
      ]
    },
    {
      "cell_type": "code",
      "execution_count": null,
      "id": "5fe0bb8a-6f5f-4086-baa9-bd7a6713959c",
      "metadata": {
        "id": "5fe0bb8a-6f5f-4086-baa9-bd7a6713959c",
        "outputId": "37d2ab99-16ce-4e29-9ff1-86c70326ec21"
      },
      "outputs": [
        {
          "data": {
            "text/plain": [
              "array([0, 1, 2, 3, 4, 5, 6, 7, 8, 9])"
            ]
          },
          "execution_count": 75,
          "metadata": {},
          "output_type": "execute_result"
        }
      ],
      "source": [
        "array"
      ]
    },
    {
      "cell_type": "code",
      "execution_count": null,
      "id": "a58fd09d-26e8-4185-9c81-cb2e75bd6a91",
      "metadata": {
        "id": "a58fd09d-26e8-4185-9c81-cb2e75bd6a91",
        "outputId": "6c90ccbc-0865-4d57-92ef-227c653c5069"
      },
      "outputs": [
        {
          "data": {
            "text/plain": [
              "array([0.        , 1.        , 1.41421356, 1.73205081, 2.        ,\n",
              "       2.23606798, 2.44948974, 2.64575131, 2.82842712, 3.        ])"
            ]
          },
          "execution_count": 77,
          "metadata": {},
          "output_type": "execute_result"
        }
      ],
      "source": [
        "# aplicando funciones\n",
        "np.sqrt(array)"
      ]
    },
    {
      "cell_type": "code",
      "execution_count": null,
      "id": "69244296-99c8-47ff-a3e7-559867369707",
      "metadata": {
        "id": "69244296-99c8-47ff-a3e7-559867369707",
        "outputId": "ec8ce21c-09d7-45b1-fee2-1727fd8c72d3"
      },
      "outputs": [
        {
          "data": {
            "text/plain": [
              "9"
            ]
          },
          "execution_count": 79,
          "metadata": {},
          "output_type": "execute_result"
        }
      ],
      "source": [
        "np.max(array)"
      ]
    },
    {
      "cell_type": "markdown",
      "id": "65d18fa8-26b6-4667-a342-6c787235c46b",
      "metadata": {
        "id": "65d18fa8-26b6-4667-a342-6c787235c46b"
      },
      "source": [
        "#### Linspace"
      ]
    },
    {
      "cell_type": "code",
      "execution_count": null,
      "id": "45c08f08-9f80-4ec5-8112-12ec13cfa98a",
      "metadata": {
        "id": "45c08f08-9f80-4ec5-8112-12ec13cfa98a",
        "outputId": "95c0f84d-e503-4587-f31e-a83d0496de0c"
      },
      "outputs": [
        {
          "name": "stdout",
          "output_type": "stream",
          "text": [
            "[3.         3.31578947 3.63157895 3.94736842 4.26315789 4.57894737\n",
            " 4.89473684 5.21052632 5.52631579 5.84210526 6.15789474 6.47368421\n",
            " 6.78947368 7.10526316 7.42105263 7.73684211 8.05263158 8.36842105\n",
            " 8.68421053 9.        ]\n"
          ]
        }
      ],
      "source": [
        "# genera 20 números entre 3 y 9\n",
        "import numpy as np\n",
        "vector = np.linspace(3,9,20)\n",
        "print(vector)\n"
      ]
    },
    {
      "cell_type": "markdown",
      "id": "0c56e7b4-a400-4576-8988-34e6dbe5ec11",
      "metadata": {
        "id": "0c56e7b4-a400-4576-8988-34e6dbe5ec11"
      },
      "source": [
        "#### Randint"
      ]
    },
    {
      "cell_type": "markdown",
      "id": "49042db6-a812-4a70-a467-890e1d444f46",
      "metadata": {
        "id": "49042db6-a812-4a70-a467-890e1d444f46"
      },
      "source": [
        "Sirve para genera aleatorios enteros, si le das un numero muestra entre 0 y ese numero  \n",
        "Si le das dos, genera un numero entre el primero y el segundo(el segundo no se mostrará nunca)\n"
      ]
    },
    {
      "cell_type": "code",
      "execution_count": null,
      "id": "f64ab8ab-18e9-4462-8b5b-0a41a5c5ef20",
      "metadata": {
        "id": "f64ab8ab-18e9-4462-8b5b-0a41a5c5ef20",
        "outputId": "1b1027ac-0c36-4b5f-e6f2-ad6bb358711d"
      },
      "outputs": [
        {
          "data": {
            "text/plain": [
              "3"
            ]
          },
          "execution_count": 87,
          "metadata": {},
          "output_type": "execute_result"
        }
      ],
      "source": [
        "import numpy as np\n",
        "np.random.randint(3,20)"
      ]
    },
    {
      "cell_type": "markdown",
      "id": "d6265bc3-ef86-4c84-b8dd-d3d3def16cc4",
      "metadata": {
        "id": "d6265bc3-ef86-4c84-b8dd-d3d3def16cc4"
      },
      "source": [
        "## MATRICES"
      ]
    },
    {
      "cell_type": "markdown",
      "id": "7daffa74-193d-466b-a299-ac0dd00202bf",
      "metadata": {
        "id": "7daffa74-193d-466b-a299-ac0dd00202bf"
      },
      "source": [
        "#### ZEROS ONES"
      ]
    },
    {
      "cell_type": "code",
      "execution_count": null,
      "id": "cb4c99e9-7ed1-4ef0-a26f-d666aeb29db7",
      "metadata": {
        "id": "cb4c99e9-7ed1-4ef0-a26f-d666aeb29db7"
      },
      "outputs": [],
      "source": [
        "\n",
        "# Podemos crear un vector con zeros, con ones pondría 1 en lugar de 0\n",
        "import numpy as np\n",
        "vector = np.zeros((3, 6))\n",
        "print(vector)\n"
      ]
    },
    {
      "cell_type": "code",
      "execution_count": null,
      "id": "68bea7c4-dd68-483a-876d-5363902527e7",
      "metadata": {
        "id": "68bea7c4-dd68-483a-876d-5363902527e7",
        "outputId": "5eec210e-5a82-45c1-d1c6-01a12f51ef04"
      },
      "outputs": [
        {
          "data": {
            "text/plain": [
              "array([14,  4, 12,  6,  8])"
            ]
          },
          "execution_count": 89,
          "metadata": {},
          "output_type": "execute_result"
        }
      ],
      "source": [
        "# Con un numero parámetros generas un numero nuevo de enteros\n",
        "import numpy as np\n",
        "np.random.randint(3, 20, 5)"
      ]
    },
    {
      "cell_type": "code",
      "execution_count": null,
      "id": "d1db8659-00ed-413e-9892-f973fdad0447",
      "metadata": {
        "id": "d1db8659-00ed-413e-9892-f973fdad0447",
        "outputId": "bff05dc3-7cc2-4262-c520-9f074e2326dd"
      },
      "outputs": [
        {
          "name": "stdout",
          "output_type": "stream",
          "text": [
            "[1. 1. 1.]\n"
          ]
        }
      ],
      "source": [
        "import numpy as np\n",
        "vector = np.ones(3)\n",
        "print(vector)\n"
      ]
    },
    {
      "cell_type": "markdown",
      "id": "44280341-c60d-44c6-84b6-929a06ac34f7",
      "metadata": {
        "id": "44280341-c60d-44c6-84b6-929a06ac34f7"
      },
      "source": [
        "#### EYE"
      ]
    },
    {
      "cell_type": "code",
      "execution_count": null,
      "id": "7c56b2ca-f019-4c43-84dc-31a368fed59c",
      "metadata": {
        "id": "7c56b2ca-f019-4c43-84dc-31a368fed59c",
        "outputId": "4fb8f997-cbf5-491d-8074-7fc122636a83"
      },
      "outputs": [
        {
          "name": "stdout",
          "output_type": "stream",
          "text": [
            "[[1. 0. 0. 0. 0. 0.]\n",
            " [0. 1. 0. 0. 0. 0.]\n",
            " [0. 0. 1. 0. 0. 0.]\n",
            " [0. 0. 0. 1. 0. 0.]\n",
            " [0. 0. 0. 0. 1. 0.]\n",
            " [0. 0. 0. 0. 0. 1.]]\n"
          ]
        }
      ],
      "source": [
        "import numpy as np\n",
        "vector = np.eye(6)\n",
        "print(vector)\n"
      ]
    },
    {
      "cell_type": "markdown",
      "id": "e560d4ab-a016-46be-80b2-79ea0a6bdc1f",
      "metadata": {
        "id": "e560d4ab-a016-46be-80b2-79ea0a6bdc1f"
      },
      "source": [
        "### Indexación matrices\n",
        "Para acceder a un valor de una matriz haremos a[2,3] para un valor,  \n",
        "y para toda la fila haremos a[0,:]   \n",
        "[:,0] para la columna\n",
        "\n",
        "### Para construir una matriz"
      ]
    },
    {
      "cell_type": "code",
      "execution_count": null,
      "id": "f3168f19-e17f-4ca3-8adb-80f001e89816",
      "metadata": {
        "id": "f3168f19-e17f-4ca3-8adb-80f001e89816",
        "outputId": "65e66b53-2146-4a9b-9c31-024d17b3dd2d"
      },
      "outputs": [
        {
          "name": "stdout",
          "output_type": "stream",
          "text": [
            "[ 0  1  2  3  4  5  6  7  8  9 10 11 12 13 14 15 16 17 18 19]\n"
          ]
        }
      ],
      "source": [
        "import numpy as np\n",
        "mis_datos = np.arange(0, 20)\n",
        "print(mis_datos)"
      ]
    },
    {
      "cell_type": "code",
      "execution_count": null,
      "id": "77185273-eabb-476a-b48c-ab43555657b0",
      "metadata": {
        "id": "77185273-eabb-476a-b48c-ab43555657b0",
        "outputId": "3bcb70ff-3896-491c-9d26-e6b92e64bfd2"
      },
      "outputs": [
        {
          "data": {
            "text/plain": [
              "array([[ 0,  1,  2,  3],\n",
              "       [ 4,  5,  6,  7],\n",
              "       [ 8,  9, 10, 11],\n",
              "       [12, 13, 14, 15],\n",
              "       [16, 17, 18, 19]])"
            ]
          },
          "execution_count": 108,
          "metadata": {},
          "output_type": "execute_result"
        }
      ],
      "source": [
        "# con C los numeros se ordenan en horizontal\n",
        "matr_1 = np.reshape(mis_datos, (5, 4), order = 'C')\n",
        "matr_1"
      ]
    },
    {
      "cell_type": "code",
      "execution_count": null,
      "id": "7510c9e5-8b63-4e70-b0d3-95501683e1e0",
      "metadata": {
        "id": "7510c9e5-8b63-4e70-b0d3-95501683e1e0",
        "outputId": "1a340fad-5517-4429-a9e7-f408582e7bdc"
      },
      "outputs": [
        {
          "data": {
            "text/plain": [
              "9"
            ]
          },
          "execution_count": 110,
          "metadata": {},
          "output_type": "execute_result"
        }
      ],
      "source": [
        "matr_1[2,1]"
      ]
    },
    {
      "cell_type": "code",
      "execution_count": null,
      "id": "45bab4f2-59cd-4bad-a886-d8e85602ba87",
      "metadata": {
        "id": "45bab4f2-59cd-4bad-a886-d8e85602ba87",
        "outputId": "6caabab5-12e2-44a7-e79e-d03c6eda8102"
      },
      "outputs": [
        {
          "data": {
            "text/plain": [
              "array([[ 0,  5, 10, 15],\n",
              "       [ 1,  6, 11, 16],\n",
              "       [ 2,  7, 12, 17],\n",
              "       [ 3,  8, 13, 18],\n",
              "       [ 4,  9, 14, 19]])"
            ]
          },
          "execution_count": 114,
          "metadata": {},
          "output_type": "execute_result"
        }
      ],
      "source": [
        "# con F se ordenan en vertical\n",
        "matr_2 = np.reshape(mis_datos,(5, 4), order='F')\n",
        "matr_2"
      ]
    },
    {
      "cell_type": "code",
      "execution_count": null,
      "id": "dab6d4ad-6d30-428c-b155-343e29044338",
      "metadata": {
        "id": "dab6d4ad-6d30-428c-b155-343e29044338",
        "outputId": "00466913-104b-4d0e-a5b9-09f1a26bef47"
      },
      "outputs": [
        {
          "data": {
            "text/plain": [
              "7"
            ]
          },
          "execution_count": 118,
          "metadata": {},
          "output_type": "execute_result"
        }
      ],
      "source": [
        "matr_2[2,1]"
      ]
    },
    {
      "cell_type": "code",
      "execution_count": null,
      "id": "cf8b9ff0-11d4-4e7c-b508-8e807f46f947",
      "metadata": {
        "id": "cf8b9ff0-11d4-4e7c-b508-8e807f46f947",
        "outputId": "74b12868-403b-4b6e-b013-dc99283347bd"
      },
      "outputs": [
        {
          "data": {
            "text/plain": [
              "array([ 0,  1,  2,  3,  4,  5,  6,  7,  8,  9, 10, 11, 12, 13, 14, 15, 16,\n",
              "       17, 18, 19])"
            ]
          },
          "execution_count": 120,
          "metadata": {},
          "output_type": "execute_result"
        }
      ],
      "source": [
        "mis_datos"
      ]
    },
    {
      "cell_type": "code",
      "execution_count": null,
      "id": "88c01e17-ddf3-4ef1-a9b7-b74264a6edb2",
      "metadata": {
        "id": "88c01e17-ddf3-4ef1-a9b7-b74264a6edb2",
        "outputId": "ae0d9451-2ffc-4e04-cdf7-5692201bbba8"
      },
      "outputs": [
        {
          "data": {
            "text/plain": [
              "array([[ 0,  1,  2,  3],\n",
              "       [ 4,  5,  6,  7],\n",
              "       [ 8,  9, 10, 11],\n",
              "       [12, 13, 14, 15],\n",
              "       [16, 17, 18, 19]])"
            ]
          },
          "execution_count": 122,
          "metadata": {},
          "output_type": "execute_result"
        }
      ],
      "source": [
        "mis_datos.reshape(5, 4)"
      ]
    },
    {
      "cell_type": "markdown",
      "id": "10624006-2374-4ef6-8be9-3d9a2f6920de",
      "metadata": {
        "id": "10624006-2374-4ef6-8be9-3d9a2f6920de"
      },
      "source": [
        "#### np.array()"
      ]
    },
    {
      "cell_type": "code",
      "execution_count": null,
      "id": "1bfb373e-4106-4ef0-89a4-112767d79059",
      "metadata": {
        "id": "1bfb373e-4106-4ef0-89a4-112767d79059",
        "outputId": "49b6fa55-0efd-42c4-f04b-30930c8ef2f7"
      },
      "outputs": [
        {
          "data": {
            "text/plain": [
              "[['Soy', 'muy', 'feliz'], ['Qué', 'gran', 'día'], [1, 2, 3]]"
            ]
          },
          "execution_count": 125,
          "metadata": {},
          "output_type": "execute_result"
        }
      ],
      "source": [
        "r1 = [\"Soy\", \"muy\", \"feliz\"]\n",
        "r2 = [\"Qué\", \"gran\", \"día\"]\n",
        "r3 = [1, 2, 3]\n",
        "[r1, r2, r3]"
      ]
    },
    {
      "cell_type": "code",
      "execution_count": null,
      "id": "fe140ffe-5c59-4761-a9f7-e5a84e015b95",
      "metadata": {
        "id": "fe140ffe-5c59-4761-a9f7-e5a84e015b95",
        "outputId": "632cb43f-264b-4e71-8c21-1c6629f9ab99"
      },
      "outputs": [
        {
          "data": {
            "text/plain": [
              "array([['Soy', 'muy', 'feliz'],\n",
              "       ['Qué', 'gran', 'día'],\n",
              "       ['1', '2', '3']], dtype='<U11')"
            ]
          },
          "execution_count": 127,
          "metadata": {},
          "output_type": "execute_result"
        }
      ],
      "source": [
        "np.array([r1, r2, r3])"
      ]
    },
    {
      "cell_type": "markdown",
      "id": "432911b9-178d-44d2-91f4-c95c6a9a1886",
      "metadata": {
        "id": "432911b9-178d-44d2-91f4-c95c6a9a1886"
      },
      "source": [
        "**numpy - indexacción en arrays de 2 o más dimensiones**\n",
        "Array[0] sacaria la primera fila  \n",
        "Para sacar las dos primeras filas, array[:2]  \n",
        "Array[0][0] para sacar el primer elemento o array[0,0]  \n",
        "Para sacar la primera columna sería array[:,0]  \n",
        "Para las dos primeras columnas sería array[:,2]  \n"
      ]
    },
    {
      "cell_type": "code",
      "execution_count": null,
      "id": "f4d4a542-6b5d-4153-8b5e-d27b52f98fc8",
      "metadata": {
        "id": "f4d4a542-6b5d-4153-8b5e-d27b52f98fc8",
        "outputId": "53eb4e49-5ca2-45e8-d862-722020c92903"
      },
      "outputs": [
        {
          "data": {
            "text/plain": [
              "array([[1, 2, 3],\n",
              "       [4, 5, 6],\n",
              "       [7, 8, 9]])"
            ]
          },
          "execution_count": 130,
          "metadata": {},
          "output_type": "execute_result"
        }
      ],
      "source": [
        "import numpy as np\n",
        "array = np.array([[1, 2, 3], [4, 5, 6], [7, 8, 9]])\n",
        "array"
      ]
    },
    {
      "cell_type": "code",
      "execution_count": null,
      "id": "cf72a4f2-29a3-4a6e-af9d-6bc0ad07a19b",
      "metadata": {
        "id": "cf72a4f2-29a3-4a6e-af9d-6bc0ad07a19b",
        "outputId": "4b1f4957-8c93-401c-bc93-5f6d7087256c"
      },
      "outputs": [
        {
          "data": {
            "text/plain": [
              "array([1, 2, 3])"
            ]
          },
          "execution_count": 132,
          "metadata": {},
          "output_type": "execute_result"
        }
      ],
      "source": [
        "array[0]"
      ]
    },
    {
      "cell_type": "code",
      "execution_count": null,
      "id": "414d3cd0-aefb-4514-b38d-db2290007688",
      "metadata": {
        "id": "414d3cd0-aefb-4514-b38d-db2290007688"
      },
      "outputs": [],
      "source": []
    }
  ],
  "metadata": {
    "kernelspec": {
      "display_name": "Python 3 (ipykernel)",
      "language": "python",
      "name": "python3"
    },
    "language_info": {
      "codemirror_mode": {
        "name": "ipython",
        "version": 3
      },
      "file_extension": ".py",
      "mimetype": "text/x-python",
      "name": "python",
      "nbconvert_exporter": "python",
      "pygments_lexer": "ipython3",
      "version": "3.12.4"
    },
    "colab": {
      "provenance": []
    }
  },
  "nbformat": 4,
  "nbformat_minor": 5
}