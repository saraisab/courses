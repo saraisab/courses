{
  "nbformat": 4,
  "nbformat_minor": 0,
  "metadata": {
    "colab": {
      "provenance": []
    },
    "kernelspec": {
      "name": "python3",
      "display_name": "Python 3"
    },
    "language_info": {
      "name": "python"
    }
  },
  "cells": [
    {
      "cell_type": "code",
      "execution_count": 1,
      "metadata": {
        "colab": {
          "base_uri": "https://localhost:8080/"
        },
        "id": "7uFsnD_GCiph",
        "outputId": "d61c6bce-6408-468a-b157-dd29937ad577"
      },
      "outputs": [
        {
          "output_type": "stream",
          "name": "stdout",
          "text": [
            "Requirement already satisfied: pyspark in /usr/local/lib/python3.10/dist-packages (3.5.3)\n",
            "Requirement already satisfied: py4j==0.10.9.7 in /usr/local/lib/python3.10/dist-packages (from pyspark) (0.10.9.7)\n"
          ]
        }
      ],
      "source": [
        "pip install pyspark\n"
      ]
    },
    {
      "cell_type": "markdown",
      "source": [
        "## Primeros pasos con pyspark\n"
      ],
      "metadata": {
        "id": "P-dzJ4uGC-ZE"
      }
    },
    {
      "cell_type": "code",
      "source": [
        "from pyspark import SparkContext\n",
        "\n",
        "# crear instancia\n",
        "sc = SparkContext()\n"
      ],
      "metadata": {
        "id": "K_k7licVDCGd"
      },
      "execution_count": 2,
      "outputs": []
    },
    {
      "cell_type": "code",
      "source": [
        "# creamos un archivo de texto desde jupyter\n",
        "%%writefile ejemplo.txt\n",
        "primera linea\n",
        "segunda linea\n",
        "tercera linea\n",
        "cuarta linea"
      ],
      "metadata": {
        "colab": {
          "base_uri": "https://localhost:8080/"
        },
        "id": "sAbZmvssDM_k",
        "outputId": "51954796-a632-4ee6-88eb-70e7321f3904"
      },
      "execution_count": 3,
      "outputs": [
        {
          "output_type": "stream",
          "name": "stdout",
          "text": [
            "Writing ejemplo.txt\n"
          ]
        }
      ]
    },
    {
      "cell_type": "markdown",
      "source": [
        "## crear RDD"
      ],
      "metadata": {
        "id": "rzt__AXtDaaX"
      }
    },
    {
      "cell_type": "code",
      "source": [
        "textFile = sc.textFile('ejemplo.txt')"
      ],
      "metadata": {
        "id": "A1mN_DgxDcHf"
      },
      "execution_count": 4,
      "outputs": []
    },
    {
      "cell_type": "code",
      "source": [
        "textFile"
      ],
      "metadata": {
        "colab": {
          "base_uri": "https://localhost:8080/"
        },
        "id": "-kLNcPADDhjE",
        "outputId": "8a8d7248-b07e-453e-901e-daaca42c408f"
      },
      "execution_count": 5,
      "outputs": [
        {
          "output_type": "execute_result",
          "data": {
            "text/plain": [
              "ejemplo.txt MapPartitionsRDD[1] at textFile at NativeMethodAccessorImpl.java:0"
            ]
          },
          "metadata": {},
          "execution_count": 5
        }
      ]
    },
    {
      "cell_type": "markdown",
      "source": [
        "## coger los datos del rdd"
      ],
      "metadata": {
        "id": "5v85hK24DqVB"
      }
    },
    {
      "cell_type": "code",
      "source": [
        "# crea una lista\n",
        "textFile.collect()"
      ],
      "metadata": {
        "colab": {
          "base_uri": "https://localhost:8080/"
        },
        "id": "qZR-c0vjDttH",
        "outputId": "dff7db43-c54e-4852-818f-04ba0d23207c"
      },
      "execution_count": 6,
      "outputs": [
        {
          "output_type": "execute_result",
          "data": {
            "text/plain": [
              "['primera linea', 'segunda linea', 'tercera linea', 'cuarta linea']"
            ]
          },
          "metadata": {},
          "execution_count": 6
        }
      ]
    },
    {
      "cell_type": "code",
      "source": [
        "# cuenta las lineas del rdd\n",
        "textFile.count()"
      ],
      "metadata": {
        "colab": {
          "base_uri": "https://localhost:8080/"
        },
        "id": "2DkysP10DvET",
        "outputId": "da0bbab9-e2c5-40c7-a4e4-b731d79f543c"
      },
      "execution_count": 7,
      "outputs": [
        {
          "output_type": "execute_result",
          "data": {
            "text/plain": [
              "4"
            ]
          },
          "metadata": {},
          "execution_count": 7
        }
      ]
    },
    {
      "cell_type": "code",
      "source": [
        "textFile.first()"
      ],
      "metadata": {
        "colab": {
          "base_uri": "https://localhost:8080/",
          "height": 35
        },
        "id": "6FImPpOhD2Me",
        "outputId": "5a030d42-9e28-4833-ac3f-1016d37ffce4"
      },
      "execution_count": 8,
      "outputs": [
        {
          "output_type": "execute_result",
          "data": {
            "text/plain": [
              "'primera linea'"
            ],
            "application/vnd.google.colaboratory.intrinsic+json": {
              "type": "string"
            }
          },
          "metadata": {},
          "execution_count": 8
        }
      ]
    },
    {
      "cell_type": "markdown",
      "source": [
        "## Transformación"
      ],
      "metadata": {
        "id": "4TJTAQ1BEElO"
      }
    },
    {
      "cell_type": "code",
      "source": [
        "from os import setgid\n",
        "# filtrar cualquier linea q tenga la palabra segunda\n",
        "segunda = textFile.filter(lambda linea: 'segunda' in linea)\n",
        "segunda"
      ],
      "metadata": {
        "colab": {
          "base_uri": "https://localhost:8080/"
        },
        "id": "FB7eoL5pEGc_",
        "outputId": "402c4751-4ba5-43f3-cd25-2a7832534647"
      },
      "execution_count": 9,
      "outputs": [
        {
          "output_type": "execute_result",
          "data": {
            "text/plain": [
              "PythonRDD[4] at RDD at PythonRDD.scala:53"
            ]
          },
          "metadata": {},
          "execution_count": 9
        }
      ]
    },
    {
      "cell_type": "code",
      "source": [
        "# para aplicar esta instrucción\n",
        "segunda.collect()"
      ],
      "metadata": {
        "colab": {
          "base_uri": "https://localhost:8080/"
        },
        "id": "-zmtT-QPETC9",
        "outputId": "b401fd4b-b7d0-47ef-f10e-2c83edab61ef"
      },
      "execution_count": 10,
      "outputs": [
        {
          "output_type": "execute_result",
          "data": {
            "text/plain": [
              "['segunda linea']"
            ]
          },
          "metadata": {},
          "execution_count": 10
        }
      ]
    },
    {
      "cell_type": "markdown",
      "source": [
        "## Transformaciones"
      ],
      "metadata": {
        "id": "zEiwrct2E952"
      }
    },
    {
      "cell_type": "code",
      "source": [
        "\n",
        "\n",
        "lista = [1,2,3,4,5,6,7,8,9,10]\n",
        "rdd = sc.parallelize(lista)"
      ],
      "metadata": {
        "id": "AVZvmFv4E_6Y"
      },
      "execution_count": 14,
      "outputs": []
    },
    {
      "cell_type": "code",
      "source": [
        "rdd = sc.parallelize(lista)"
      ],
      "metadata": {
        "id": "rHCGumk0FMTt"
      },
      "execution_count": 15,
      "outputs": []
    },
    {
      "cell_type": "code",
      "source": [
        "rdd.collect()"
      ],
      "metadata": {
        "colab": {
          "base_uri": "https://localhost:8080/"
        },
        "id": "95XlBShnFZls",
        "outputId": "dfdc099b-6027-4580-a08d-b8e110a7590a"
      },
      "execution_count": 16,
      "outputs": [
        {
          "output_type": "execute_result",
          "data": {
            "text/plain": [
              "[1, 2, 3, 4, 5, 6, 7, 8, 9, 10]"
            ]
          },
          "metadata": {},
          "execution_count": 16
        }
      ]
    },
    {
      "cell_type": "markdown",
      "source": [
        "## filtra los elementos de un RDD"
      ],
      "metadata": {
        "id": "316l5aB2GMN7"
      }
    },
    {
      "cell_type": "code",
      "source": [
        "filtrado_rdd = rdd.filter(lambda x: x > 1)"
      ],
      "metadata": {
        "id": "QbVGakw4FbmP"
      },
      "execution_count": 20,
      "outputs": []
    },
    {
      "cell_type": "code",
      "source": [
        "filtrado_rdd.collect()"
      ],
      "metadata": {
        "colab": {
          "base_uri": "https://localhost:8080/"
        },
        "id": "6sj-CzEuFqyz",
        "outputId": "5b008f1b-d694-4987-a653-ead1e75c004d"
      },
      "execution_count": 19,
      "outputs": [
        {
          "output_type": "execute_result",
          "data": {
            "text/plain": [
              "[2, 3, 4, 5, 6, 7, 8, 9, 10]"
            ]
          },
          "metadata": {},
          "execution_count": 19
        }
      ]
    },
    {
      "cell_type": "markdown",
      "source": [
        "## map aplica una fiunción a los elementos de un RDD"
      ],
      "metadata": {
        "id": "9KRpiabUGR3C"
      }
    },
    {
      "cell_type": "code",
      "source": [
        "def suma1(x):\n",
        "  return x + 1"
      ],
      "metadata": {
        "id": "R2vEotGGGXUc"
      },
      "execution_count": 22,
      "outputs": []
    },
    {
      "cell_type": "code",
      "source": [
        "filtrado_sumado_rdd = filtrado_rdd.map(suma1)"
      ],
      "metadata": {
        "id": "fS8c5VWKGfOZ"
      },
      "execution_count": 23,
      "outputs": []
    },
    {
      "cell_type": "code",
      "source": [
        "filtrado_sumado_rdd.collect()"
      ],
      "metadata": {
        "colab": {
          "base_uri": "https://localhost:8080/"
        },
        "id": "TBNebSjbGiy6",
        "outputId": "59f0eb31-609b-4d6b-bf93-a6a8dd356f67"
      },
      "execution_count": 24,
      "outputs": [
        {
          "output_type": "execute_result",
          "data": {
            "text/plain": [
              "[3, 4, 5, 6, 7, 8, 9, 10, 11]"
            ]
          },
          "metadata": {},
          "execution_count": 24
        }
      ]
    },
    {
      "cell_type": "code",
      "source": [
        "# podemos aplicar mas de un map a una función\n",
        "cuadrado_rdd = (filtrado_rdd.map(suma1).map(lambda x: (x,x**2)))"
      ],
      "metadata": {
        "id": "5d_pPLjhGlUx"
      },
      "execution_count": 30,
      "outputs": []
    },
    {
      "cell_type": "code",
      "source": [
        "cuadrado_rdd.collect()"
      ],
      "metadata": {
        "colab": {
          "base_uri": "https://localhost:8080/"
        },
        "id": "9D0KEBUBG4dN",
        "outputId": "70601cf5-7b05-4bcc-d360-370ba7747f45"
      },
      "execution_count": 31,
      "outputs": [
        {
          "output_type": "execute_result",
          "data": {
            "text/plain": [
              "[(3, 9),\n",
              " (4, 16),\n",
              " (5, 25),\n",
              " (6, 36),\n",
              " (7, 49),\n",
              " (8, 64),\n",
              " (9, 81),\n",
              " (10, 100),\n",
              " (11, 121)]"
            ]
          },
          "metadata": {},
          "execution_count": 31
        }
      ]
    },
    {
      "cell_type": "markdown",
      "source": [
        "## flatMat es igual que map() pero te convierte el resultado a una lista simple"
      ],
      "metadata": {
        "id": "3UQ0DHLMHWAw"
      }
    },
    {
      "cell_type": "code",
      "source": [
        "cuadrado_rdd = (filtrado_rdd.map(suma1).flatMap(lambda x: (x,x**2)))"
      ],
      "metadata": {
        "id": "GtPHtzq3HbjB"
      },
      "execution_count": 32,
      "outputs": []
    },
    {
      "cell_type": "code",
      "source": [
        "cuadrado_rdd.collect()"
      ],
      "metadata": {
        "colab": {
          "base_uri": "https://localhost:8080/"
        },
        "id": "AHHPkfxBHhMG",
        "outputId": "f414e0ff-58d2-42d2-dcbc-39b470cf9e86"
      },
      "execution_count": 33,
      "outputs": [
        {
          "output_type": "execute_result",
          "data": {
            "text/plain": [
              "[3, 9, 4, 16, 5, 25, 6, 36, 7, 49, 8, 64, 9, 81, 10, 100, 11, 121]"
            ]
          },
          "metadata": {},
          "execution_count": 33
        }
      ]
    },
    {
      "cell_type": "markdown",
      "source": [
        "# Pair RDDS - Clave Valor"
      ],
      "metadata": {
        "id": "ZZ5fnFxjIXqo"
      }
    },
    {
      "cell_type": "code",
      "source": [
        "from pyspark import SparkContext\n",
        "sc = SparkContext()"
      ],
      "metadata": {
        "id": "jHY7uQdvId10"
      },
      "execution_count": 1,
      "outputs": []
    },
    {
      "cell_type": "markdown",
      "source": [
        "## crear un pair rdd a partir de una lista de tuplas"
      ],
      "metadata": {
        "id": "V9oV57_cMI6h"
      }
    },
    {
      "cell_type": "code",
      "source": [
        "lista_tuplas = [('a', 1), ('b', 2), ('c', 3), ('a', 4)]\n",
        "pair_rdd = sc.parallelize(lista_tuplas)"
      ],
      "metadata": {
        "id": "e_gdJZZDMKvX"
      },
      "execution_count": 2,
      "outputs": []
    },
    {
      "cell_type": "code",
      "source": [
        "pair_rdd.collect()"
      ],
      "metadata": {
        "colab": {
          "base_uri": "https://localhost:8080/"
        },
        "id": "nVUsrdQ-HjH5",
        "outputId": "a1344a98-c224-414a-cb05-3476b63e2d6d"
      },
      "execution_count": 3,
      "outputs": [
        {
          "output_type": "execute_result",
          "data": {
            "text/plain": [
              "[('a', 1), ('b', 2), ('c', 3), ('a', 4)]"
            ]
          },
          "metadata": {},
          "execution_count": 3
        }
      ]
    },
    {
      "cell_type": "markdown",
      "source": [
        "## Crear un pair rdd utilizando zip()"
      ],
      "metadata": {
        "id": "K6I6wNOOMik7"
      }
    },
    {
      "cell_type": "code",
      "source": [
        "pair_rdd2 = sc.parallelize(zip((['a', 'b', 'c']),range(1, 4, 1)))"
      ],
      "metadata": {
        "id": "COo-asSqMl7A"
      },
      "execution_count": 4,
      "outputs": []
    },
    {
      "cell_type": "code",
      "source": [
        "pair_rdd2.collect()"
      ],
      "metadata": {
        "colab": {
          "base_uri": "https://localhost:8080/"
        },
        "id": "aDAD4xCZMefZ",
        "outputId": "f0e97348-c385-4a3d-ae89-c353df5f01c0"
      },
      "execution_count": 5,
      "outputs": [
        {
          "output_type": "execute_result",
          "data": {
            "text/plain": [
              "[('a', 1), ('b', 2), ('c', 3)]"
            ]
          },
          "metadata": {},
          "execution_count": 5
        }
      ]
    },
    {
      "cell_type": "markdown",
      "source": [
        "## Crearr rdd utilizando un archivo"
      ],
      "metadata": {
        "id": "Dy_8Iae8jZmM"
      }
    },
    {
      "cell_type": "code",
      "source": [
        "rdd_celestina = sc.textFile('celestina.txt')"
      ],
      "metadata": {
        "id": "DPjWATW6jcpP"
      },
      "execution_count": 6,
      "outputs": []
    },
    {
      "cell_type": "code",
      "source": [
        "pair_rdd_celestina = rdd_celestina.map(lambda x: (x.split(' ')[0], x))\n"
      ],
      "metadata": {
        "id": "oZ3_XRCgjX7p"
      },
      "execution_count": 7,
      "outputs": []
    },
    {
      "cell_type": "code",
      "source": [
        "pair_rdd_celestina.takeSample(False, 15)"
      ],
      "metadata": {
        "colab": {
          "base_uri": "https://localhost:8080/"
        },
        "id": "CGoPVNAZL_qG",
        "outputId": "fc5e8c84-0bf7-4ce7-d657-f928d7f482dd"
      },
      "execution_count": 10,
      "outputs": [
        {
          "output_type": "execute_result",
          "data": {
            "text/plain": [
              "[('_prima_', '_prima_ **** la mas excelente'),\n",
              " ('_estruendo_', '_estruendo_ **** ruido grande'),\n",
              " ('', ' \"sy ayuntas el anjme entrego con el vjnagre en tal'),\n",
              " ('calle,', 'calle, despierta.  llama a su muger Alisa.  Preguntan a Melibea'),\n",
              " ('obedescian.',\n",
              "  'obedescian.  todas me honrrauan.  de todas era acatada.  ninguna'),\n",
              " ('', ''),\n",
              " ('fuera',\n",
              "  'fuera de dia / o el dolor de mi desonrra / ay / ay / que esto es /'),\n",
              " ('_filado_', '_filado_ **** hilado, hilo'),\n",
              " ('', ''),\n",
              " ('SEMP.--callemos:',\n",
              "  'SEMP.--callemos: que a la puerta estamos: e como dizen: las'),\n",
              " ('mas', 'mas o menos rojo'),\n",
              " ('', ''),\n",
              " ('_viuiere_', '_viuiere_ **** viviere'),\n",
              " ('muchos',\n",
              "  'muchos dias he pugnado por lo dissimular: no he podido tanto, que'),\n",
              " ('', '')]"
            ]
          },
          "metadata": {},
          "execution_count": 10
        }
      ]
    },
    {
      "cell_type": "markdown",
      "source": [
        "## Crear rdd utilizando keybu()"
      ],
      "metadata": {
        "id": "VNjtSJLtlJsl"
      }
    },
    {
      "cell_type": "code",
      "source": [
        "rdd = sc.parallelize(range(5))"
      ],
      "metadata": {
        "id": "agHe6Tx4lOYj"
      },
      "execution_count": 11,
      "outputs": []
    },
    {
      "cell_type": "code",
      "source": [
        "rdd.collect()"
      ],
      "metadata": {
        "colab": {
          "base_uri": "https://localhost:8080/"
        },
        "id": "QNeu86sFkjSy",
        "outputId": "0dda14f4-f77c-4e0a-b5d5-3cdf3ae29491"
      },
      "execution_count": 12,
      "outputs": [
        {
          "output_type": "execute_result",
          "data": {
            "text/plain": [
              "[0, 1, 2, 3, 4]"
            ]
          },
          "metadata": {},
          "execution_count": 12
        }
      ]
    },
    {
      "cell_type": "code",
      "source": [
        "pair_rdd = rdd.keyBy(lambda x: x + 1)"
      ],
      "metadata": {
        "id": "x6DhhVhhlUEP"
      },
      "execution_count": 13,
      "outputs": []
    },
    {
      "cell_type": "code",
      "source": [
        "pair_rdd.collect()"
      ],
      "metadata": {
        "colab": {
          "base_uri": "https://localhost:8080/"
        },
        "id": "hnEfyW4elWv4",
        "outputId": "632b6768-d70d-447b-d4b8-71449872b59a"
      },
      "execution_count": 14,
      "outputs": [
        {
          "output_type": "execute_result",
          "data": {
            "text/plain": [
              "[(1, 0), (2, 1), (3, 2), (4, 3), (5, 4)]"
            ]
          },
          "metadata": {},
          "execution_count": 14
        }
      ]
    },
    {
      "cell_type": "markdown",
      "source": [
        "## Crear rdd utilizando zipWithIndex() - te da el valor q es igual al indice"
      ],
      "metadata": {
        "id": "apwto8yKlh2U"
      }
    },
    {
      "cell_type": "code",
      "source": [
        "rdd = sc.parallelize(['a', 'b', 'c', 'd', 'e'])\n"
      ],
      "metadata": {
        "id": "kvqXZTHclreZ"
      },
      "execution_count": 15,
      "outputs": []
    },
    {
      "cell_type": "code",
      "source": [
        "pair_rdd = rdd.zipWithIndex()"
      ],
      "metadata": {
        "id": "KnLhdo6OG8Wd"
      },
      "execution_count": 16,
      "outputs": []
    },
    {
      "cell_type": "code",
      "source": [
        "pair_rdd.collect()"
      ],
      "metadata": {
        "colab": {
          "base_uri": "https://localhost:8080/"
        },
        "id": "J-l7F4TAGrPV",
        "outputId": "8b8455f2-f8bd-457f-bb34-5b8ebabe2506"
      },
      "execution_count": 17,
      "outputs": [
        {
          "output_type": "execute_result",
          "data": {
            "text/plain": [
              "[('a', 0), ('b', 1), ('c', 2), ('d', 3), ('e', 4)]"
            ]
          },
          "metadata": {},
          "execution_count": 17
        }
      ]
    },
    {
      "cell_type": "markdown",
      "source": [
        "## Crear rdd utilizando zipWitUniqueId - te da el valor q es igual al id"
      ],
      "metadata": {
        "id": "0FkOpUGHl9Jp"
      }
    },
    {
      "cell_type": "code",
      "source": [
        "rdd.zipWithUniqueId().collect()"
      ],
      "metadata": {
        "colab": {
          "base_uri": "https://localhost:8080/"
        },
        "id": "9x3GdNw9mAxY",
        "outputId": "e0b8de2a-8226-49d9-be4a-3ba64c10d396"
      },
      "execution_count": 18,
      "outputs": [
        {
          "output_type": "execute_result",
          "data": {
            "text/plain": [
              "[('a', 0), ('b', 2), ('c', 1), ('d', 3), ('e', 5)]"
            ]
          },
          "metadata": {},
          "execution_count": 18
        }
      ]
    },
    {
      "cell_type": "markdown",
      "source": [
        "## Pair rdd con zip"
      ],
      "metadata": {
        "id": "LCvK8XstmxLb"
      }
    },
    {
      "cell_type": "code",
      "source": [
        "rdd1 = sc.parallelize(range(5), 3)"
      ],
      "metadata": {
        "id": "2iziM2vKm17t"
      },
      "execution_count": 19,
      "outputs": []
    },
    {
      "cell_type": "code",
      "source": [
        "rdd2 = sc.parallelize(range(100, 105, 1), 3)"
      ],
      "metadata": {
        "id": "2lDVEelSmC3n"
      },
      "execution_count": 20,
      "outputs": []
    },
    {
      "cell_type": "code",
      "source": [
        "rdd1.glom().collect()"
      ],
      "metadata": {
        "colab": {
          "base_uri": "https://localhost:8080/"
        },
        "id": "HZnexdcyGCba",
        "outputId": "9920ea83-b0d6-4ee9-eb94-d94ae6b5d82f"
      },
      "execution_count": 21,
      "outputs": [
        {
          "output_type": "execute_result",
          "data": {
            "text/plain": [
              "[[0], [1, 2], [3, 4]]"
            ]
          },
          "metadata": {},
          "execution_count": 21
        }
      ]
    },
    {
      "cell_type": "code",
      "source": [
        "rdd2.glom().collect()"
      ],
      "metadata": {
        "colab": {
          "base_uri": "https://localhost:8080/"
        },
        "id": "VS_BQ8iTFiKs",
        "outputId": "e7e3d830-21f2-41c9-8917-f3e99016470a"
      },
      "execution_count": 22,
      "outputs": [
        {
          "output_type": "execute_result",
          "data": {
            "text/plain": [
              "[[100], [101, 102], [103, 104]]"
            ]
          },
          "metadata": {},
          "execution_count": 22
        }
      ]
    },
    {
      "cell_type": "code",
      "source": [
        "pair_rdd = rdd1.zip(rdd2)"
      ],
      "metadata": {
        "id": "FBG8GfG0EXyA"
      },
      "execution_count": 23,
      "outputs": []
    },
    {
      "cell_type": "code",
      "source": [
        "pair_rdd.collect()"
      ],
      "metadata": {
        "colab": {
          "base_uri": "https://localhost:8080/"
        },
        "id": "ZQg_KwfXEBkI",
        "outputId": "5549d2cc-e475-4079-efc0-8e97cf914004"
      },
      "execution_count": 24,
      "outputs": [
        {
          "output_type": "execute_result",
          "data": {
            "text/plain": [
              "[(0, 100), (1, 101), (2, 102), (3, 103), (4, 104)]"
            ]
          },
          "metadata": {},
          "execution_count": 24
        }
      ]
    },
    {
      "cell_type": "code",
      "source": [],
      "metadata": {
        "id": "u1Qzap7wDkoO"
      },
      "execution_count": null,
      "outputs": []
    },
    {
      "cell_type": "code",
      "source": [],
      "metadata": {
        "id": "I6HNW5WHDgm6"
      },
      "execution_count": null,
      "outputs": []
    },
    {
      "cell_type": "code",
      "source": [],
      "metadata": {
        "id": "_9QAlOqfDgbt"
      },
      "execution_count": null,
      "outputs": []
    }
  ]
}