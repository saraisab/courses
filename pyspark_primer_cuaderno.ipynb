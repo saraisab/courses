{
  "nbformat": 4,
  "nbformat_minor": 0,
  "metadata": {
    "colab": {
      "provenance": [],
      "authorship_tag": "ABX9TyP/CZxCdwfWsfx8k1oTJeEd",
      "include_colab_link": true
    },
    "kernelspec": {
      "name": "python3",
      "display_name": "Python 3"
    },
    "language_info": {
      "name": "python"
    }
  },
  "cells": [
    {
      "cell_type": "markdown",
      "metadata": {
        "id": "view-in-github",
        "colab_type": "text"
      },
      "source": [
        "<a href=\"https://colab.research.google.com/github/saraisab/machineLearning/blob/main/pyspark_primer_cuaderno.ipynb\" target=\"_parent\"><img src=\"https://colab.research.google.com/assets/colab-badge.svg\" alt=\"Open In Colab\"/></a>"
      ]
    },
    {
      "cell_type": "markdown",
      "source": [
        "## CREAR SESION DE SPARK"
      ],
      "metadata": {
        "id": "7pLAR9oTq-Ic"
      }
    },
    {
      "cell_type": "code",
      "source": [
        "pip install pyspark\n"
      ],
      "metadata": {
        "colab": {
          "base_uri": "https://localhost:8080/"
        },
        "id": "G93njSzdrBZC",
        "outputId": "8d90b3e2-6795-4528-e306-8db9162cfd75"
      },
      "execution_count": 1,
      "outputs": [
        {
          "output_type": "stream",
          "name": "stdout",
          "text": [
            "Requirement already satisfied: pyspark in /usr/local/lib/python3.10/dist-packages (3.5.3)\n",
            "Requirement already satisfied: py4j==0.10.9.7 in /usr/local/lib/python3.10/dist-packages (from pyspark) (0.10.9.7)\n"
          ]
        }
      ]
    },
    {
      "cell_type": "code",
      "source": [
        "from pyspark.sql import SparkSession\n",
        "from pyspark import SparkContext\n",
        "\n",
        "SpSession = SparkSession.builder.appName('Demo Spark').getOrCreate()"
      ],
      "metadata": {
        "id": "vckVNSEDrLdl"
      },
      "execution_count": 2,
      "outputs": []
    },
    {
      "cell_type": "code",
      "source": [
        "SpContext = SpSession.sparkContext"
      ],
      "metadata": {
        "id": "r-zbSZYProPA"
      },
      "execution_count": 3,
      "outputs": []
    },
    {
      "cell_type": "markdown",
      "source": [
        "## Carga de datos"
      ],
      "metadata": {
        "id": "ONqFvbv7sqm0"
      }
    },
    {
      "cell_type": "code",
      "source": [
        "data = SpSession.read.csv('cars.csv', header=True, sep=';')\n",
        "data.show(5)"
      ],
      "metadata": {
        "colab": {
          "base_uri": "https://localhost:8080/"
        },
        "id": "8cZDef8yss_k",
        "outputId": "ca2d3c5f-49df-4035-c963-348740dbf7e5"
      },
      "execution_count": 5,
      "outputs": [
        {
          "output_type": "stream",
          "name": "stdout",
          "text": [
            "+--------------------+------+---------+------------+----------+------+------------+-----+------+\n",
            "|                 Car|   MPG|Cylinders|Displacement|Horsepower|Weight|Acceleration|Model|Origin|\n",
            "+--------------------+------+---------+------------+----------+------+------------+-----+------+\n",
            "|              STRING|DOUBLE|      INT|      DOUBLE|    DOUBLE|DOUBLE|      DOUBLE|  INT|   CAT|\n",
            "|Chevrolet Chevell...|  18.0|        8|       307.0|     130.0| 3504.|        12.0|   70|    US|\n",
            "|   Buick Skylark 320|  15.0|        8|       350.0|     165.0| 3693.|        11.5|   70|    US|\n",
            "|  Plymouth Satellite|  18.0|        8|       318.0|     150.0| 3436.|        11.0|   70|    US|\n",
            "|       AMC Rebel SST|  16.0|        8|       304.0|     150.0| 3433.|        12.0|   70|    US|\n",
            "+--------------------+------+---------+------------+----------+------+------------+-----+------+\n",
            "only showing top 5 rows\n",
            "\n"
          ]
        }
      ]
    },
    {
      "cell_type": "markdown",
      "source": [
        "## Conociendo la data"
      ],
      "metadata": {
        "id": "5TUoMmMntKxx"
      }
    },
    {
      "cell_type": "code",
      "source": [
        "# para conocer los datos\n",
        "data.printSchema()"
      ],
      "metadata": {
        "colab": {
          "base_uri": "https://localhost:8080/"
        },
        "id": "7tj6jhCqtOtM",
        "outputId": "61f0752c-9c77-4e06-d618-b9d1461f23de"
      },
      "execution_count": 5,
      "outputs": [
        {
          "output_type": "stream",
          "name": "stdout",
          "text": [
            "root\n",
            " |-- Car: string (nullable = true)\n",
            " |-- MPG: string (nullable = true)\n",
            " |-- Cylinders: string (nullable = true)\n",
            " |-- Displacement: string (nullable = true)\n",
            " |-- Horsepower: string (nullable = true)\n",
            " |-- Weight: string (nullable = true)\n",
            " |-- Acceleration: string (nullable = true)\n",
            " |-- Model: string (nullable = true)\n",
            " |-- Origin: string (nullable = true)\n",
            "\n"
          ]
        }
      ]
    },
    {
      "cell_type": "code",
      "source": [
        "# para los nombres de las columnas\n",
        "data.columns"
      ],
      "metadata": {
        "colab": {
          "base_uri": "https://localhost:8080/"
        },
        "id": "C8iRSbSXtVDA",
        "outputId": "521ed453-637e-4fd3-b1de-9bb8a20545fe"
      },
      "execution_count": 6,
      "outputs": [
        {
          "output_type": "execute_result",
          "data": {
            "text/plain": [
              "['Car',\n",
              " 'MPG',\n",
              " 'Cylinders',\n",
              " 'Displacement',\n",
              " 'Horsepower',\n",
              " 'Weight',\n",
              " 'Acceleration',\n",
              " 'Model',\n",
              " 'Origin']"
            ]
          },
          "metadata": {},
          "execution_count": 6
        }
      ]
    },
    {
      "cell_type": "code",
      "source": [
        "# columna y tipo de datos\n",
        "data.dtypes"
      ],
      "metadata": {
        "colab": {
          "base_uri": "https://localhost:8080/"
        },
        "id": "qDwRucaStahU",
        "outputId": "7fe965fd-d8fa-4719-c8c1-ca181631550a"
      },
      "execution_count": 7,
      "outputs": [
        {
          "output_type": "execute_result",
          "data": {
            "text/plain": [
              "[('Car', 'string'),\n",
              " ('MPG', 'string'),\n",
              " ('Cylinders', 'string'),\n",
              " ('Displacement', 'string'),\n",
              " ('Horsepower', 'string'),\n",
              " ('Weight', 'string'),\n",
              " ('Acceleration', 'string'),\n",
              " ('Model', 'string'),\n",
              " ('Origin', 'string')]"
            ]
          },
          "metadata": {},
          "execution_count": 7
        }
      ]
    },
    {
      "cell_type": "markdown",
      "source": [
        "## Selección de columnas"
      ],
      "metadata": {
        "id": "GpWsBlf8tlLH"
      }
    },
    {
      "cell_type": "code",
      "source": [
        "# metodo 1\n",
        "data.select(data.Car).show(truncate=False)"
      ],
      "metadata": {
        "colab": {
          "base_uri": "https://localhost:8080/"
        },
        "id": "gy6QDVIptneO",
        "outputId": "cb907b30-a56e-4fd9-8519-d077b33c928e"
      },
      "execution_count": 8,
      "outputs": [
        {
          "output_type": "stream",
          "name": "stdout",
          "text": [
            "+--------------------------------+\n",
            "|Car                             |\n",
            "+--------------------------------+\n",
            "|STRING                          |\n",
            "|Chevrolet Chevelle Malibu       |\n",
            "|Buick Skylark 320               |\n",
            "|Plymouth Satellite              |\n",
            "|AMC Rebel SST                   |\n",
            "|Ford Torino                     |\n",
            "|Ford Galaxie 500                |\n",
            "|Chevrolet Impala                |\n",
            "|Plymouth Fury iii               |\n",
            "|Pontiac Catalina                |\n",
            "|AMC Ambassador DPL              |\n",
            "|Citroen DS-21 Pallas            |\n",
            "|Chevrolet Chevelle Concours (sw)|\n",
            "|Ford Torino (sw)                |\n",
            "|Plymouth Satellite (sw)         |\n",
            "|AMC Rebel SST (sw)              |\n",
            "|Dodge Challenger SE             |\n",
            "|Plymouth 'Cuda 340              |\n",
            "|Ford Mustang Boss 302           |\n",
            "|Chevrolet Monte Carlo           |\n",
            "+--------------------------------+\n",
            "only showing top 20 rows\n",
            "\n"
          ]
        }
      ]
    },
    {
      "cell_type": "code",
      "source": [
        "data.select(data.Car).show(truncate=True)"
      ],
      "metadata": {
        "colab": {
          "base_uri": "https://localhost:8080/"
        },
        "id": "00wkNSI2uAXa",
        "outputId": "72d95fd5-506e-435b-f18b-e38bed438c0d"
      },
      "execution_count": 9,
      "outputs": [
        {
          "output_type": "stream",
          "name": "stdout",
          "text": [
            "+--------------------+\n",
            "|                 Car|\n",
            "+--------------------+\n",
            "|              STRING|\n",
            "|Chevrolet Chevell...|\n",
            "|   Buick Skylark 320|\n",
            "|  Plymouth Satellite|\n",
            "|       AMC Rebel SST|\n",
            "|         Ford Torino|\n",
            "|    Ford Galaxie 500|\n",
            "|    Chevrolet Impala|\n",
            "|   Plymouth Fury iii|\n",
            "|    Pontiac Catalina|\n",
            "|  AMC Ambassador DPL|\n",
            "|Citroen DS-21 Pallas|\n",
            "|Chevrolet Chevell...|\n",
            "|    Ford Torino (sw)|\n",
            "|Plymouth Satellit...|\n",
            "|  AMC Rebel SST (sw)|\n",
            "| Dodge Challenger SE|\n",
            "|  Plymouth 'Cuda 340|\n",
            "|Ford Mustang Boss...|\n",
            "|Chevrolet Monte C...|\n",
            "+--------------------+\n",
            "only showing top 20 rows\n",
            "\n"
          ]
        }
      ]
    },
    {
      "cell_type": "code",
      "source": [
        "# metodo 2\n",
        "data.select(data['Car']).show(truncate=False)"
      ],
      "metadata": {
        "colab": {
          "base_uri": "https://localhost:8080/"
        },
        "id": "qmCDcEaWuGwo",
        "outputId": "37f80435-ad35-43df-84f4-29bf048548bb"
      },
      "execution_count": 11,
      "outputs": [
        {
          "output_type": "stream",
          "name": "stdout",
          "text": [
            "+--------------------------------+\n",
            "|Car                             |\n",
            "+--------------------------------+\n",
            "|STRING                          |\n",
            "|Chevrolet Chevelle Malibu       |\n",
            "|Buick Skylark 320               |\n",
            "|Plymouth Satellite              |\n",
            "|AMC Rebel SST                   |\n",
            "|Ford Torino                     |\n",
            "|Ford Galaxie 500                |\n",
            "|Chevrolet Impala                |\n",
            "|Plymouth Fury iii               |\n",
            "|Pontiac Catalina                |\n",
            "|AMC Ambassador DPL              |\n",
            "|Citroen DS-21 Pallas            |\n",
            "|Chevrolet Chevelle Concours (sw)|\n",
            "|Ford Torino (sw)                |\n",
            "|Plymouth Satellite (sw)         |\n",
            "|AMC Rebel SST (sw)              |\n",
            "|Dodge Challenger SE             |\n",
            "|Plymouth 'Cuda 340              |\n",
            "|Ford Mustang Boss 302           |\n",
            "|Chevrolet Monte Carlo           |\n",
            "+--------------------------------+\n",
            "only showing top 20 rows\n",
            "\n"
          ]
        }
      ]
    },
    {
      "cell_type": "code",
      "source": [
        "# metodo 3\n",
        "from pyspark.sql.functions import col\n",
        "data.select(col('car')).show(truncate=False)"
      ],
      "metadata": {
        "colab": {
          "base_uri": "https://localhost:8080/"
        },
        "id": "2daqLgQjukXt",
        "outputId": "cba0036f-02fb-4740-cde6-6493bbdb0bee"
      },
      "execution_count": 19,
      "outputs": [
        {
          "output_type": "stream",
          "name": "stdout",
          "text": [
            "+--------------------------------+\n",
            "|car                             |\n",
            "+--------------------------------+\n",
            "|STRING                          |\n",
            "|Chevrolet Chevelle Malibu       |\n",
            "|Buick Skylark 320               |\n",
            "|Plymouth Satellite              |\n",
            "|AMC Rebel SST                   |\n",
            "|Ford Torino                     |\n",
            "|Ford Galaxie 500                |\n",
            "|Chevrolet Impala                |\n",
            "|Plymouth Fury iii               |\n",
            "|Pontiac Catalina                |\n",
            "|AMC Ambassador DPL              |\n",
            "|Citroen DS-21 Pallas            |\n",
            "|Chevrolet Chevelle Concours (sw)|\n",
            "|Ford Torino (sw)                |\n",
            "|Plymouth Satellite (sw)         |\n",
            "|AMC Rebel SST (sw)              |\n",
            "|Dodge Challenger SE             |\n",
            "|Plymouth 'Cuda 340              |\n",
            "|Ford Mustang Boss 302           |\n",
            "|Chevrolet Monte Carlo           |\n",
            "+--------------------------------+\n",
            "only showing top 20 rows\n",
            "\n"
          ]
        }
      ]
    },
    {
      "cell_type": "markdown",
      "source": [
        "### Selección múltiple de columnas"
      ],
      "metadata": {
        "id": "KYtTrEGEvBP5"
      }
    },
    {
      "cell_type": "code",
      "source": [
        "data.select(data.Car, data.Cylinders).show(truncate=False)"
      ],
      "metadata": {
        "colab": {
          "base_uri": "https://localhost:8080/"
        },
        "id": "r71pi_g8vEf4",
        "outputId": "8847305c-e3d3-4274-f192-df24b15e5e10"
      },
      "execution_count": 14,
      "outputs": [
        {
          "output_type": "stream",
          "name": "stdout",
          "text": [
            "+--------------------------------+---------+\n",
            "|Car                             |Cylinders|\n",
            "+--------------------------------+---------+\n",
            "|STRING                          |INT      |\n",
            "|Chevrolet Chevelle Malibu       |8        |\n",
            "|Buick Skylark 320               |8        |\n",
            "|Plymouth Satellite              |8        |\n",
            "|AMC Rebel SST                   |8        |\n",
            "|Ford Torino                     |8        |\n",
            "|Ford Galaxie 500                |8        |\n",
            "|Chevrolet Impala                |8        |\n",
            "|Plymouth Fury iii               |8        |\n",
            "|Pontiac Catalina                |8        |\n",
            "|AMC Ambassador DPL              |8        |\n",
            "|Citroen DS-21 Pallas            |4        |\n",
            "|Chevrolet Chevelle Concours (sw)|8        |\n",
            "|Ford Torino (sw)                |8        |\n",
            "|Plymouth Satellite (sw)         |8        |\n",
            "|AMC Rebel SST (sw)              |8        |\n",
            "|Dodge Challenger SE             |8        |\n",
            "|Plymouth 'Cuda 340              |8        |\n",
            "|Ford Mustang Boss 302           |8        |\n",
            "|Chevrolet Monte Carlo           |8        |\n",
            "+--------------------------------+---------+\n",
            "only showing top 20 rows\n",
            "\n"
          ]
        }
      ]
    },
    {
      "cell_type": "code",
      "source": [
        "data.select(data['car'], data.Cylinders).show(truncate=False)"
      ],
      "metadata": {
        "colab": {
          "base_uri": "https://localhost:8080/"
        },
        "id": "aRHkJjnZvSjH",
        "outputId": "53f4bbda-3988-4909-d911-0cae6299b27f"
      },
      "execution_count": 15,
      "outputs": [
        {
          "output_type": "stream",
          "name": "stdout",
          "text": [
            "+--------------------------------+---------+\n",
            "|car                             |Cylinders|\n",
            "+--------------------------------+---------+\n",
            "|STRING                          |INT      |\n",
            "|Chevrolet Chevelle Malibu       |8        |\n",
            "|Buick Skylark 320               |8        |\n",
            "|Plymouth Satellite              |8        |\n",
            "|AMC Rebel SST                   |8        |\n",
            "|Ford Torino                     |8        |\n",
            "|Ford Galaxie 500                |8        |\n",
            "|Chevrolet Impala                |8        |\n",
            "|Plymouth Fury iii               |8        |\n",
            "|Pontiac Catalina                |8        |\n",
            "|AMC Ambassador DPL              |8        |\n",
            "|Citroen DS-21 Pallas            |4        |\n",
            "|Chevrolet Chevelle Concours (sw)|8        |\n",
            "|Ford Torino (sw)                |8        |\n",
            "|Plymouth Satellite (sw)         |8        |\n",
            "|AMC Rebel SST (sw)              |8        |\n",
            "|Dodge Challenger SE             |8        |\n",
            "|Plymouth 'Cuda 340              |8        |\n",
            "|Ford Mustang Boss 302           |8        |\n",
            "|Chevrolet Monte Carlo           |8        |\n",
            "+--------------------------------+---------+\n",
            "only showing top 20 rows\n",
            "\n"
          ]
        }
      ]
    },
    {
      "cell_type": "code",
      "source": [
        "# metodo 2\n",
        "data.select(data['car'], data['Cylinders']).show(truncate=False)"
      ],
      "metadata": {
        "colab": {
          "base_uri": "https://localhost:8080/"
        },
        "id": "F-81psAPvry5",
        "outputId": "64859335-3e26-4b5a-e4ea-9f7e3df5e186"
      },
      "execution_count": 16,
      "outputs": [
        {
          "output_type": "stream",
          "name": "stdout",
          "text": [
            "+--------------------------------+---------+\n",
            "|car                             |Cylinders|\n",
            "+--------------------------------+---------+\n",
            "|STRING                          |INT      |\n",
            "|Chevrolet Chevelle Malibu       |8        |\n",
            "|Buick Skylark 320               |8        |\n",
            "|Plymouth Satellite              |8        |\n",
            "|AMC Rebel SST                   |8        |\n",
            "|Ford Torino                     |8        |\n",
            "|Ford Galaxie 500                |8        |\n",
            "|Chevrolet Impala                |8        |\n",
            "|Plymouth Fury iii               |8        |\n",
            "|Pontiac Catalina                |8        |\n",
            "|AMC Ambassador DPL              |8        |\n",
            "|Citroen DS-21 Pallas            |4        |\n",
            "|Chevrolet Chevelle Concours (sw)|8        |\n",
            "|Ford Torino (sw)                |8        |\n",
            "|Plymouth Satellite (sw)         |8        |\n",
            "|AMC Rebel SST (sw)              |8        |\n",
            "|Dodge Challenger SE             |8        |\n",
            "|Plymouth 'Cuda 340              |8        |\n",
            "|Ford Mustang Boss 302           |8        |\n",
            "|Chevrolet Monte Carlo           |8        |\n",
            "+--------------------------------+---------+\n",
            "only showing top 20 rows\n",
            "\n"
          ]
        }
      ]
    },
    {
      "cell_type": "code",
      "source": [
        "# metodo 3\n",
        "data.select(col('car'), col('Cylinders')).show(truncate=False)"
      ],
      "metadata": {
        "colab": {
          "base_uri": "https://localhost:8080/"
        },
        "id": "ATRHnHEpv48N",
        "outputId": "67c8dfec-16ed-481e-fef2-88dd9f214f88"
      },
      "execution_count": 17,
      "outputs": [
        {
          "output_type": "stream",
          "name": "stdout",
          "text": [
            "+--------------------------------+---------+\n",
            "|car                             |Cylinders|\n",
            "+--------------------------------+---------+\n",
            "|STRING                          |INT      |\n",
            "|Chevrolet Chevelle Malibu       |8        |\n",
            "|Buick Skylark 320               |8        |\n",
            "|Plymouth Satellite              |8        |\n",
            "|AMC Rebel SST                   |8        |\n",
            "|Ford Torino                     |8        |\n",
            "|Ford Galaxie 500                |8        |\n",
            "|Chevrolet Impala                |8        |\n",
            "|Plymouth Fury iii               |8        |\n",
            "|Pontiac Catalina                |8        |\n",
            "|AMC Ambassador DPL              |8        |\n",
            "|Citroen DS-21 Pallas            |4        |\n",
            "|Chevrolet Chevelle Concours (sw)|8        |\n",
            "|Ford Torino (sw)                |8        |\n",
            "|Plymouth Satellite (sw)         |8        |\n",
            "|AMC Rebel SST (sw)              |8        |\n",
            "|Dodge Challenger SE             |8        |\n",
            "|Plymouth 'Cuda 340              |8        |\n",
            "|Ford Mustang Boss 302           |8        |\n",
            "|Chevrolet Monte Carlo           |8        |\n",
            "+--------------------------------+---------+\n",
            "only showing top 20 rows\n",
            "\n"
          ]
        }
      ]
    },
    {
      "cell_type": "markdown",
      "source": [],
      "metadata": {
        "id": "o9XhY-7lwUO2"
      }
    },
    {
      "cell_type": "markdown",
      "source": [
        "## Agregar nuevas columnas"
      ],
      "metadata": {
        "id": "aRUr6bevwQtl"
      }
    },
    {
      "cell_type": "code",
      "source": [
        "from os import truncate\n",
        "# caso 1\n",
        "from pyspark.sql.functions import lit\n",
        "df = data.withColumn('First_Column', lit(1))\n",
        "df.show(5, truncate=False)"
      ],
      "metadata": {
        "colab": {
          "base_uri": "https://localhost:8080/"
        },
        "id": "3OQnyxHnwSum",
        "outputId": "5b8deb96-56aa-4604-e328-0453bd01f04d"
      },
      "execution_count": 6,
      "outputs": [
        {
          "output_type": "stream",
          "name": "stdout",
          "text": [
            "+-------------------------+------+---------+------------+----------+------+------------+-----+------+------------+\n",
            "|Car                      |MPG   |Cylinders|Displacement|Horsepower|Weight|Acceleration|Model|Origin|First_Column|\n",
            "+-------------------------+------+---------+------------+----------+------+------------+-----+------+------------+\n",
            "|STRING                   |DOUBLE|INT      |DOUBLE      |DOUBLE    |DOUBLE|DOUBLE      |INT  |CAT   |1           |\n",
            "|Chevrolet Chevelle Malibu|18.0  |8        |307.0       |130.0     |3504. |12.0        |70   |US    |1           |\n",
            "|Buick Skylark 320        |15.0  |8        |350.0       |165.0     |3693. |11.5        |70   |US    |1           |\n",
            "|Plymouth Satellite       |18.0  |8        |318.0       |150.0     |3436. |11.0        |70   |US    |1           |\n",
            "|AMC Rebel SST            |16.0  |8        |304.0       |150.0     |3433. |12.0        |70   |US    |1           |\n",
            "+-------------------------+------+---------+------------+----------+------+------------+-----+------+------------+\n",
            "only showing top 5 rows\n",
            "\n"
          ]
        }
      ]
    },
    {
      "cell_type": "code",
      "source": [
        "# Caso 2\n",
        "df = data.withColumn('Second_Column', lit(2)) \\\n",
        "    .withColumn('Third_Column', lit('Third Column'))\n",
        "df.show(5, truncate=False)\n",
        "#"
      ],
      "metadata": {
        "colab": {
          "base_uri": "https://localhost:8080/"
        },
        "id": "HdzowtsCwxu4",
        "outputId": "791878e3-30d4-4533-dde1-9eee9036dddc"
      },
      "execution_count": 7,
      "outputs": [
        {
          "output_type": "stream",
          "name": "stdout",
          "text": [
            "+-------------------------+------+---------+------------+----------+------+------------+-----+------+-------------+------------+\n",
            "|Car                      |MPG   |Cylinders|Displacement|Horsepower|Weight|Acceleration|Model|Origin|Second_Column|Third_Column|\n",
            "+-------------------------+------+---------+------------+----------+------+------------+-----+------+-------------+------------+\n",
            "|STRING                   |DOUBLE|INT      |DOUBLE      |DOUBLE    |DOUBLE|DOUBLE      |INT  |CAT   |2            |Third Column|\n",
            "|Chevrolet Chevelle Malibu|18.0  |8        |307.0       |130.0     |3504. |12.0        |70   |US    |2            |Third Column|\n",
            "|Buick Skylark 320        |15.0  |8        |350.0       |165.0     |3693. |11.5        |70   |US    |2            |Third Column|\n",
            "|Plymouth Satellite       |18.0  |8        |318.0       |150.0     |3436. |11.0        |70   |US    |2            |Third Column|\n",
            "|AMC Rebel SST            |16.0  |8        |304.0       |150.0     |3433. |12.0        |70   |US    |2            |Third Column|\n",
            "+-------------------------+------+---------+------------+----------+------+------------+-----+------+-------------+------------+\n",
            "only showing top 5 rows\n",
            "\n"
          ]
        }
      ]
    },
    {
      "cell_type": "markdown",
      "source": [
        "## Agrupación por columnas"
      ],
      "metadata": {
        "id": "48aBHLwgxOI-"
      }
    },
    {
      "cell_type": "code",
      "source": [
        "df.groupBy('Origin').count().show()"
      ],
      "metadata": {
        "colab": {
          "base_uri": "https://localhost:8080/"
        },
        "id": "8sx2ZIiYxQuV",
        "outputId": "ac65743a-6283-496d-de2a-b88cac5a24e3"
      },
      "execution_count": 21,
      "outputs": [
        {
          "output_type": "stream",
          "name": "stdout",
          "text": [
            "+------+-----+\n",
            "|Origin|count|\n",
            "+------+-----+\n",
            "|Europe|   73|\n",
            "|    US|  254|\n",
            "|   CAT|    1|\n",
            "| Japan|   79|\n",
            "+------+-----+\n",
            "\n"
          ]
        }
      ]
    },
    {
      "cell_type": "code",
      "source": [
        "df.groupBy('Horsepower').count().show()"
      ],
      "metadata": {
        "colab": {
          "base_uri": "https://localhost:8080/"
        },
        "id": "SUxrpF83xWM0",
        "outputId": "0c09981f-37d8-4407-f86a-fcc35bd74a19"
      },
      "execution_count": 22,
      "outputs": [
        {
          "output_type": "stream",
          "name": "stdout",
          "text": [
            "+----------+-----+\n",
            "|Horsepower|count|\n",
            "+----------+-----+\n",
            "|     102.0|    1|\n",
            "|     68.00|    6|\n",
            "|     116.0|    1|\n",
            "|     145.0|    7|\n",
            "|     90.00|   20|\n",
            "|     87.00|    2|\n",
            "|     170.0|    5|\n",
            "|     75.00|   14|\n",
            "|     132.0|    1|\n",
            "|     84.00|    6|\n",
            "|     88.00|   19|\n",
            "|     200.0|    1|\n",
            "|     152.0|    1|\n",
            "|         0|    6|\n",
            "|     120.0|    4|\n",
            "|     80.00|    7|\n",
            "|     108.0|    1|\n",
            "|     58.00|    2|\n",
            "|     210.0|    1|\n",
            "|     96.00|    3|\n",
            "+----------+-----+\n",
            "only showing top 20 rows\n",
            "\n"
          ]
        }
      ]
    },
    {
      "cell_type": "code",
      "source": [
        "# multiples columnas\n",
        "df.groupBy('Origin', 'Horsepower').count().show()"
      ],
      "metadata": {
        "colab": {
          "base_uri": "https://localhost:8080/"
        },
        "id": "FHyEqGhGxdqb",
        "outputId": "e924f60a-590b-4023-eb66-abb4a48c6b19"
      },
      "execution_count": 23,
      "outputs": [
        {
          "output_type": "stream",
          "name": "stdout",
          "text": [
            "+------+----------+-----+\n",
            "|Origin|Horsepower|count|\n",
            "+------+----------+-----+\n",
            "|Europe|     46.00|    2|\n",
            "| Japan|     67.00|    8|\n",
            "|    US|     198.0|    2|\n",
            "|    US|     75.00|    3|\n",
            "|    US|     60.00|    1|\n",
            "| Japan|     97.00|    7|\n",
            "|    US|     130.0|    5|\n",
            "| Japan|     70.00|    4|\n",
            "| Japan|     75.00|    8|\n",
            "| Japan|     90.00|    2|\n",
            "|    US|     63.00|    3|\n",
            "| Japan|     94.00|    1|\n",
            "|    US|     81.00|    1|\n",
            "|    US|     98.00|    1|\n",
            "|    US|     80.00|    6|\n",
            "|    US|     160.0|    2|\n",
            "| Japan|     100.0|    2|\n",
            "|Europe|     112.0|    2|\n",
            "|    US|     220.0|    1|\n",
            "|    US|     52.00|    1|\n",
            "+------+----------+-----+\n",
            "only showing top 20 rows\n",
            "\n"
          ]
        }
      ]
    },
    {
      "cell_type": "code",
      "source": [
        "df.groupBy('Origin', 'Model').count().show()"
      ],
      "metadata": {
        "colab": {
          "base_uri": "https://localhost:8080/"
        },
        "id": "nLJ5xt38xkdJ",
        "outputId": "1bba8e33-103d-4888-fe03-e6124e709efa"
      },
      "execution_count": 24,
      "outputs": [
        {
          "output_type": "stream",
          "name": "stdout",
          "text": [
            "+------+-----+-----+\n",
            "|Origin|Model|count|\n",
            "+------+-----+-----+\n",
            "| Japan|   76|    4|\n",
            "|    US|   81|   13|\n",
            "|    US|   80|    7|\n",
            "|    US|   76|   22|\n",
            "| Japan|   70|    2|\n",
            "|    US|   78|   22|\n",
            "|Europe|   76|    8|\n",
            "|    US|   70|   27|\n",
            "| Japan|   75|    4|\n",
            "|Europe|   80|    9|\n",
            "| Japan|   77|    6|\n",
            "|Europe|   72|    5|\n",
            "|    US|   75|   20|\n",
            "|    US|   79|   23|\n",
            "|    US|   82|   20|\n",
            "|   CAT|  INT|    1|\n",
            "|Europe|   75|    6|\n",
            "| Japan|   78|    8|\n",
            "|    US|   71|   20|\n",
            "| Japan|   82|    9|\n",
            "+------+-----+-----+\n",
            "only showing top 20 rows\n",
            "\n"
          ]
        }
      ]
    },
    {
      "cell_type": "markdown",
      "source": [
        "## Eliminar columnas"
      ],
      "metadata": {
        "id": "B2exPxCcx4GB"
      }
    },
    {
      "cell_type": "code",
      "source": [
        "df = df.drop('First_Column', \"Second_Column\")\n",
        "df.show(5)"
      ],
      "metadata": {
        "colab": {
          "base_uri": "https://localhost:8080/"
        },
        "id": "JiDbHxZHx5__",
        "outputId": "15b01b82-ba11-44d0-ba9b-19b01b6b258c"
      },
      "execution_count": 25,
      "outputs": [
        {
          "output_type": "stream",
          "name": "stdout",
          "text": [
            "+--------------------+------+---------+------------+----------+------+------------+-----+------+------------+\n",
            "|                 Car|   MPG|Cylinders|Displacement|Horsepower|Weight|Acceleration|Model|Origin|Third_Column|\n",
            "+--------------------+------+---------+------------+----------+------+------------+-----+------+------------+\n",
            "|              STRING|DOUBLE|      INT|      DOUBLE|    DOUBLE|DOUBLE|      DOUBLE|  INT|   CAT|Third Column|\n",
            "|Chevrolet Chevell...|  18.0|        8|       307.0|     130.0| 3504.|        12.0|   70|    US|Third Column|\n",
            "|   Buick Skylark 320|  15.0|        8|       350.0|     165.0| 3693.|        11.5|   70|    US|Third Column|\n",
            "|  Plymouth Satellite|  18.0|        8|       318.0|     150.0| 3436.|        11.0|   70|    US|Third Column|\n",
            "|       AMC Rebel SST|  16.0|        8|       304.0|     150.0| 3433.|        12.0|   70|    US|Third Column|\n",
            "+--------------------+------+---------+------------+----------+------+------------+-----+------+------------+\n",
            "only showing top 5 rows\n",
            "\n"
          ]
        }
      ]
    },
    {
      "cell_type": "markdown",
      "source": [
        "## Ordenar filas"
      ],
      "metadata": {
        "id": "6iE93du9yNen"
      }
    },
    {
      "cell_type": "code",
      "source": [
        "df.orderBy('Cylinders').show(truncate=False)"
      ],
      "metadata": {
        "colab": {
          "base_uri": "https://localhost:8080/"
        },
        "id": "S5SB6MZSyP6d",
        "outputId": "6523aad2-081c-441f-ae30-2d6a10170c48"
      },
      "execution_count": 9,
      "outputs": [
        {
          "output_type": "stream",
          "name": "stdout",
          "text": [
            "+---------------------------+----+---------+------------+----------+------+------------+-----+------+-------------+------------+\n",
            "|Car                        |MPG |Cylinders|Displacement|Horsepower|Weight|Acceleration|Model|Origin|Second_Column|Third_Column|\n",
            "+---------------------------+----+---------+------------+----------+------+------------+-----+------+-------------+------------+\n",
            "|Mazda RX2 Coupe            |19.0|3        |70.00       |97.00     |2330. |13.5        |72   |Japan |2            |Third Column|\n",
            "|Mazda RX3                  |18.0|3        |70.00       |90.00     |2124. |13.5        |73   |Japan |2            |Third Column|\n",
            "|Mazda RX-4                 |21.5|3        |80.00       |110.0     |2720. |13.5        |77   |Japan |2            |Third Column|\n",
            "|Mazda RX-7 GS              |23.7|3        |70.00       |100.0     |2420. |12.5        |80   |Japan |2            |Third Column|\n",
            "|Ford Pinto Runabout        |21.0|4        |122.0       |86.00     |2226. |16.5        |72   |US    |2            |Third Column|\n",
            "|Chevrolet Vega (sw)        |22.0|4        |140.0       |72.00     |2408. |19.0        |71   |US    |2            |Third Column|\n",
            "|Toyota Corolla Mark ii     |24.0|4        |113.0       |95.00     |2372. |15.0        |70   |Japan |2            |Third Column|\n",
            "|Mercury Capri 2000         |23.0|4        |122.0       |86.00     |2220. |14.0        |71   |US    |2            |Third Column|\n",
            "|Datsun PL510               |27.0|4        |97.00       |88.00     |2130. |14.5        |70   |Japan |2            |Third Column|\n",
            "|Opel 1900                  |28.0|4        |116.0       |90.00     |2123. |14.0        |71   |Europe|2            |Third Column|\n",
            "|Peugeot 504                |25.0|4        |110.0       |87.00     |2672. |17.5        |70   |Europe|2            |Third Column|\n",
            "|Peugeot 304                |30.0|4        |79.00       |70.00     |2074. |19.5        |71   |Europe|2            |Third Column|\n",
            "|Saab 99e                   |25.0|4        |104.0       |95.00     |2375. |17.5        |70   |Europe|2            |Third Column|\n",
            "|Fiat 124B                  |30.0|4        |88.00       |76.00     |2065. |14.5        |71   |Europe|2            |Third Column|\n",
            "|Datsun PL510               |27.0|4        |97.00       |88.00     |2130. |14.5        |71   |Japan |2            |Third Column|\n",
            "|Toyota Corolla 1200        |31.0|4        |71.00       |65.00     |1773. |19.0        |71   |Japan |2            |Third Column|\n",
            "|Toyota Corolla             |25.0|4        |113.0       |95.00     |2228. |14.0        |71   |Japan |2            |Third Column|\n",
            "|Datsun 1200                |35.0|4        |72.00       |69.00     |1613. |18.0        |71   |Japan |2            |Third Column|\n",
            "|Volkswagen Super Beetle 117|0   |4        |97.00       |48.00     |1978. |20.0        |71   |Europe|2            |Third Column|\n",
            "|Volkswagen Model 111       |27.0|4        |97.00       |60.00     |1834. |19.0        |71   |Europe|2            |Third Column|\n",
            "+---------------------------+----+---------+------------+----------+------+------------+-----+------+-------------+------------+\n",
            "only showing top 20 rows\n",
            "\n"
          ]
        }
      ]
    },
    {
      "cell_type": "code",
      "source": [
        "df.orderBy('Cylinders', ascending=False).show(truncate=False)"
      ],
      "metadata": {
        "colab": {
          "base_uri": "https://localhost:8080/"
        },
        "id": "nH-udJMab4q9",
        "outputId": "b66e9468-1978-4272-9b1b-f6ad3a1c19b5"
      },
      "execution_count": 10,
      "outputs": [
        {
          "output_type": "stream",
          "name": "stdout",
          "text": [
            "+-------------------------+------+---------+------------+----------+------+------------+-----+------+-------------+------------+\n",
            "|Car                      |MPG   |Cylinders|Displacement|Horsepower|Weight|Acceleration|Model|Origin|Second_Column|Third_Column|\n",
            "+-------------------------+------+---------+------------+----------+------+------------+-----+------+-------------+------------+\n",
            "|STRING                   |DOUBLE|INT      |DOUBLE      |DOUBLE    |DOUBLE|DOUBLE      |INT  |CAT   |2            |Third Column|\n",
            "|Plymouth 'Cuda 340       |14.0  |8        |340.0       |160.0     |3609. |8.0         |70   |US    |2            |Third Column|\n",
            "|Chevrolet Chevelle Malibu|18.0  |8        |307.0       |130.0     |3504. |12.0        |70   |US    |2            |Third Column|\n",
            "|Ford Mustang Boss 302    |0     |8        |302.0       |140.0     |3353. |8.0         |70   |US    |2            |Third Column|\n",
            "|Buick Skylark 320        |15.0  |8        |350.0       |165.0     |3693. |11.5        |70   |US    |2            |Third Column|\n",
            "|Chevrolet Monte Carlo    |15.0  |8        |400.0       |150.0     |3761. |9.5         |70   |US    |2            |Third Column|\n",
            "|AMC Rebel SST            |16.0  |8        |304.0       |150.0     |3433. |12.0        |70   |US    |2            |Third Column|\n",
            "|Buick Estate Wagon (sw)  |14.0  |8        |455.0       |225.0     |3086. |10.0        |70   |US    |2            |Third Column|\n",
            "|Ford Galaxie 500         |15.0  |8        |429.0       |198.0     |4341. |10.0        |70   |US    |2            |Third Column|\n",
            "|Ford F250                |10.0  |8        |360.0       |215.0     |4615. |14.0        |70   |US    |2            |Third Column|\n",
            "|Plymouth Fury iii        |14.0  |8        |440.0       |215.0     |4312. |8.5         |70   |US    |2            |Third Column|\n",
            "|Chevy C20                |10.0  |8        |307.0       |200.0     |4376. |15.0        |70   |US    |2            |Third Column|\n",
            "|AMC Ambassador DPL       |15.0  |8        |390.0       |190.0     |3850. |8.5         |70   |US    |2            |Third Column|\n",
            "|Dodge D200               |11.0  |8        |318.0       |210.0     |4382. |13.5        |70   |US    |2            |Third Column|\n",
            "|Ford Torino (sw)         |0     |8        |351.0       |153.0     |4034. |11.0        |70   |US    |2            |Third Column|\n",
            "|Hi 1200D                 |9.0   |8        |304.0       |193.0     |4732. |18.5        |70   |US    |2            |Third Column|\n",
            "|AMC Rebel SST (sw)       |0     |8        |360.0       |175.0     |3850. |11.0        |70   |US    |2            |Third Column|\n",
            "|Chevrolet Impala         |14.0  |8        |350.0       |165.0     |4209. |12.0        |71   |US    |2            |Third Column|\n",
            "|Dodge Challenger SE      |15.0  |8        |383.0       |170.0     |3563. |10.0        |70   |US    |2            |Third Column|\n",
            "|Pontiac Catalina Brougham|14.0  |8        |400.0       |175.0     |4464. |11.5        |71   |US    |2            |Third Column|\n",
            "+-------------------------+------+---------+------------+----------+------+------------+-----+------+-------------+------------+\n",
            "only showing top 20 rows\n",
            "\n"
          ]
        }
      ]
    },
    {
      "cell_type": "code",
      "source": [
        "df.groupBy('Origin').count().orderBy('count', ascending=False).show()"
      ],
      "metadata": {
        "colab": {
          "base_uri": "https://localhost:8080/"
        },
        "id": "DIr_t1eAchef",
        "outputId": "7c4c3daf-8be9-402e-cbf5-8195f0f445bd"
      },
      "execution_count": 11,
      "outputs": [
        {
          "output_type": "stream",
          "name": "stdout",
          "text": [
            "+------+-----+\n",
            "|Origin|count|\n",
            "+------+-----+\n",
            "|    US|  254|\n",
            "| Japan|   79|\n",
            "|Europe|   73|\n",
            "|   CAT|    1|\n",
            "+------+-----+\n",
            "\n"
          ]
        }
      ]
    },
    {
      "cell_type": "markdown",
      "source": [
        "## Filtrado de datos"
      ],
      "metadata": {
        "id": "wHS0HR6IcxiO"
      }
    },
    {
      "cell_type": "code",
      "source": [
        "df"
      ],
      "metadata": {
        "colab": {
          "base_uri": "https://localhost:8080/"
        },
        "id": "f50EcjmUc0MM",
        "outputId": "4d6daba2-ca64-4f02-b026-d45ea6b80969"
      },
      "execution_count": 12,
      "outputs": [
        {
          "output_type": "execute_result",
          "data": {
            "text/plain": [
              "DataFrame[Car: string, MPG: string, Cylinders: string, Displacement: string, Horsepower: string, Weight: string, Acceleration: string, Model: string, Origin: string, Second_Column: int, Third_Column: string]"
            ]
          },
          "metadata": {},
          "execution_count": 12
        }
      ]
    },
    {
      "cell_type": "code",
      "source": [
        "total_count = df.count()\n",
        "print(f\"el total de registros es de {total_count}\") # total de registros"
      ],
      "metadata": {
        "colab": {
          "base_uri": "https://localhost:8080/"
        },
        "id": "nUB7PtTnc44F",
        "outputId": "455df482-4d50-423d-c8f0-fa12749536bb"
      },
      "execution_count": 15,
      "outputs": [
        {
          "output_type": "stream",
          "name": "stdout",
          "text": [
            "el total de registros es de 407\n"
          ]
        }
      ]
    },
    {
      "cell_type": "code",
      "source": [
        "europa = df.filter(df.Origin == 'Europe')\n",
        "europa.show(5)"
      ],
      "metadata": {
        "colab": {
          "base_uri": "https://localhost:8080/"
        },
        "id": "I8mPlJu-dJlc",
        "outputId": "67352156-8600-4ee1-94d2-8aff7ab6d838"
      },
      "execution_count": 16,
      "outputs": [
        {
          "output_type": "stream",
          "name": "stdout",
          "text": [
            "+--------------------+----+---------+------------+----------+------+------------+-----+------+-------------+------------+\n",
            "|                 Car| MPG|Cylinders|Displacement|Horsepower|Weight|Acceleration|Model|Origin|Second_Column|Third_Column|\n",
            "+--------------------+----+---------+------------+----------+------+------------+-----+------+-------------+------------+\n",
            "|Citroen DS-21 Pallas|   0|        4|       133.0|     115.0| 3090.|        17.5|   70|Europe|            2|Third Column|\n",
            "|Volkswagen 1131 D...|26.0|        4|       97.00|     46.00| 1835.|        20.5|   70|Europe|            2|Third Column|\n",
            "|         Peugeot 504|25.0|        4|       110.0|     87.00| 2672.|        17.5|   70|Europe|            2|Third Column|\n",
            "|         Audi 100 LS|24.0|        4|       107.0|     90.00| 2430.|        14.5|   70|Europe|            2|Third Column|\n",
            "|            Saab 99e|25.0|        4|       104.0|     95.00| 2375.|        17.5|   70|Europe|            2|Third Column|\n",
            "+--------------------+----+---------+------------+----------+------+------------+-----+------+-------------+------------+\n",
            "only showing top 5 rows\n",
            "\n"
          ]
        }
      ]
    },
    {
      "cell_type": "code",
      "source": [
        "europa = df.filter(col(\"Origin\")==\"Europe\").count()\n",
        "print(f\"El total de registros de europa es de {europa}\")"
      ],
      "metadata": {
        "colab": {
          "base_uri": "https://localhost:8080/"
        },
        "id": "p59nZCZOdHTg",
        "outputId": "a19d2f4e-7e68-417d-91c5-c47672268598"
      },
      "execution_count": 23,
      "outputs": [
        {
          "output_type": "stream",
          "name": "stdout",
          "text": [
            "El total de registros de europa es de 73\n"
          ]
        }
      ]
    },
    {
      "cell_type": "code",
      "source": [
        "# registros solo de Europa\n",
        "df.filter(df.Origin == 'Europe').show(truncate=False)"
      ],
      "metadata": {
        "colab": {
          "base_uri": "https://localhost:8080/"
        },
        "id": "Q4TXDSUpd9e8",
        "outputId": "e9abdbee-a3c4-4748-971a-7a409ce2f0a4"
      },
      "execution_count": 22,
      "outputs": [
        {
          "output_type": "stream",
          "name": "stdout",
          "text": [
            "+----------------------------+----+---------+------------+----------+------+------------+-----+------+-------------+------------+\n",
            "|Car                         |MPG |Cylinders|Displacement|Horsepower|Weight|Acceleration|Model|Origin|Second_Column|Third_Column|\n",
            "+----------------------------+----+---------+------------+----------+------+------------+-----+------+-------------+------------+\n",
            "|Citroen DS-21 Pallas        |0   |4        |133.0       |115.0     |3090. |17.5        |70   |Europe|2            |Third Column|\n",
            "|Volkswagen 1131 Deluxe Sedan|26.0|4        |97.00       |46.00     |1835. |20.5        |70   |Europe|2            |Third Column|\n",
            "|Peugeot 504                 |25.0|4        |110.0       |87.00     |2672. |17.5        |70   |Europe|2            |Third Column|\n",
            "|Audi 100 LS                 |24.0|4        |107.0       |90.00     |2430. |14.5        |70   |Europe|2            |Third Column|\n",
            "|Saab 99e                    |25.0|4        |104.0       |95.00     |2375. |17.5        |70   |Europe|2            |Third Column|\n",
            "|BMW 2002                    |26.0|4        |121.0       |113.0     |2234. |12.5        |70   |Europe|2            |Third Column|\n",
            "|Volkswagen Super Beetle 117 |0   |4        |97.00       |48.00     |1978. |20.0        |71   |Europe|2            |Third Column|\n",
            "|Opel 1900                   |28.0|4        |116.0       |90.00     |2123. |14.0        |71   |Europe|2            |Third Column|\n",
            "|Peugeot 304                 |30.0|4        |79.00       |70.00     |2074. |19.5        |71   |Europe|2            |Third Column|\n",
            "|Fiat 124B                   |30.0|4        |88.00       |76.00     |2065. |14.5        |71   |Europe|2            |Third Column|\n",
            "|Volkswagen Model 111        |27.0|4        |97.00       |60.00     |1834. |19.0        |71   |Europe|2            |Third Column|\n",
            "|Volkswagen Type 3           |23.0|4        |97.00       |54.00     |2254. |23.5        |72   |Europe|2            |Third Column|\n",
            "|Volvo 145e (sw)             |18.0|4        |121.0       |112.0     |2933. |14.5        |72   |Europe|2            |Third Column|\n",
            "|Volkswagen 411 (sw)         |22.0|4        |121.0       |76.00     |2511. |18.0        |72   |Europe|2            |Third Column|\n",
            "|Peugeot 504 (sw)            |21.0|4        |120.0       |87.00     |2979. |19.5        |72   |Europe|2            |Third Column|\n",
            "|Renault 12 (sw)             |26.0|4        |96.00       |69.00     |2189. |18.0        |72   |Europe|2            |Third Column|\n",
            "|Volkswagen Super Beetle     |26.0|4        |97.00       |46.00     |1950. |21.0        |73   |Europe|2            |Third Column|\n",
            "|Fiat 124 Sport Coupe        |26.0|4        |98.00       |90.00     |2265. |15.5        |73   |Europe|2            |Third Column|\n",
            "|Fiat 128                    |29.0|4        |68.00       |49.00     |1867. |19.5        |73   |Europe|2            |Third Column|\n",
            "|Opel Manta                  |24.0|4        |116.0       |75.00     |2158. |15.5        |73   |Europe|2            |Third Column|\n",
            "+----------------------------+----+---------+------------+----------+------+------------+-----+------+-------------+------------+\n",
            "only showing top 20 rows\n",
            "\n"
          ]
        }
      ]
    },
    {
      "cell_type": "code",
      "source": [
        "total_count = df.count()\n",
        "usa = df.filter((col(\"Origin\")==\"US\")&(col(\"Horsepower\")==\"170.0\")).count()\n",
        "print(f\"el total de registros de usa con 170 caballos es de {usa}\") # total de registros\n",
        "df.filter((col(\"Origin\")==\"US\")&(col(\"Horsepower\")==\"170.0\")).show(truncate=False)"
      ],
      "metadata": {
        "colab": {
          "base_uri": "https://localhost:8080/"
        },
        "id": "FqqRTHcQc9PP",
        "outputId": "20854e07-f169-4c11-c6aa-897f6f91b7b8"
      },
      "execution_count": 30,
      "outputs": [
        {
          "output_type": "stream",
          "name": "stdout",
          "text": [
            "el total de registros de usa con 170 caballos es de 5\n",
            "+----------------------------+----+---------+------------+----------+------+------------+-----+------+-------------+------------+\n",
            "|Car                         |MPG |Cylinders|Displacement|Horsepower|Weight|Acceleration|Model|Origin|Second_Column|Third_Column|\n",
            "+----------------------------+----+---------+------------+----------+------+------------+-----+------+-------------+------------+\n",
            "|Dodge Challenger SE         |15.0|8        |383.0       |170.0     |3563. |10.0        |70   |US    |2            |Third Column|\n",
            "|Ford Country Squire (sw)    |13.0|8        |400.0       |170.0     |4746. |12.0        |71   |US    |2            |Third Column|\n",
            "|Plymouth Custom Suburb      |13.0|8        |360.0       |170.0     |4654. |13.0        |73   |US    |2            |Third Column|\n",
            "|Pontiac Catalina            |16.0|8        |400.0       |170.0     |4668. |11.5        |75   |US    |2            |Third Column|\n",
            "|Chevrolet Monte Carlo Landau|15.5|8        |350.0       |170.0     |4165. |11.4        |77   |US    |2            |Third Column|\n",
            "+----------------------------+----+---------+------------+----------+------+------------+-----+------+-------------+------------+\n",
            "\n"
          ]
        }
      ]
    },
    {
      "cell_type": "code",
      "source": [],
      "metadata": {
        "id": "4Sug_Btmfr1I"
      },
      "execution_count": null,
      "outputs": []
    },
    {
      "cell_type": "code",
      "source": [],
      "metadata": {
        "id": "pGtpLudZyGgM"
      },
      "execution_count": null,
      "outputs": []
    },
    {
      "cell_type": "code",
      "source": [],
      "metadata": {
        "id": "51rvRFwIx0ba"
      },
      "execution_count": null,
      "outputs": []
    },
    {
      "cell_type": "code",
      "source": [],
      "metadata": {
        "id": "K2ihDF7BxGbk"
      },
      "execution_count": null,
      "outputs": []
    },
    {
      "cell_type": "code",
      "source": [],
      "metadata": {
        "id": "dEFiMa_Swr3g"
      },
      "execution_count": null,
      "outputs": []
    },
    {
      "cell_type": "code",
      "source": [],
      "metadata": {
        "id": "YGszKNmXwGtF"
      },
      "execution_count": null,
      "outputs": []
    },
    {
      "cell_type": "code",
      "source": [],
      "metadata": {
        "id": "ENc6E_zAurIG"
      },
      "execution_count": null,
      "outputs": []
    },
    {
      "cell_type": "code",
      "source": [],
      "metadata": {
        "id": "i-mrtz7zug7l"
      },
      "execution_count": null,
      "outputs": []
    },
    {
      "cell_type": "code",
      "source": [],
      "metadata": {
        "id": "b5fN8EG2thU3"
      },
      "execution_count": null,
      "outputs": []
    },
    {
      "cell_type": "code",
      "source": [],
      "metadata": {
        "id": "Nuzs8-JjtACi"
      },
      "execution_count": null,
      "outputs": []
    },
    {
      "cell_type": "code",
      "source": [],
      "metadata": {
        "id": "YZERx6-Ssouy"
      },
      "execution_count": null,
      "outputs": []
    },
    {
      "cell_type": "code",
      "source": [],
      "metadata": {
        "id": "H9zU8xw5so7C"
      },
      "execution_count": null,
      "outputs": []
    },
    {
      "cell_type": "markdown",
      "source": [],
      "metadata": {
        "id": "fSkkj_D2spkV"
      }
    }
  ]
}