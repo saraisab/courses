{
 "cells": [
  {
   "cell_type": "markdown",
   "id": "5ded0dbb-0620-47e6-8417-b601b7756cda",
   "metadata": {},
   "source": [
    "## Decorators\n",
    "**Teoría**\n",
    "\n",
    "    @decorator_function\n",
    "    def func():\n",
    "    ...\n"
   ]
  },
  {
   "cell_type": "code",
   "execution_count": 14,
   "id": "97c4948c-3461-43b5-a579-b955c213ecfb",
   "metadata": {},
   "outputs": [
    {
     "name": "stdout",
     "output_type": "stream",
     "text": [
      "This happens before we call the function\n",
      "Hello, Susie\n"
     ]
    }
   ],
   "source": [
    "# Aquí definimos la función our_decorator \n",
    "def our_decorator(other_func):\n",
    "    def wrapper(args_for_function):    \n",
    "        print('This happens before we call the function')        \n",
    "        return other_func(args_for_function)\n",
    "\n",
    "    return wrapper\n",
    "\n",
    "# definimos una función greet\n",
    "@our_decorator\n",
    "def greet(name):\n",
    "    print('Hello,', name)\n",
    "\n",
    "greet('Susie')\n",
    "\n"
   ]
  },
  {
   "cell_type": "markdown",
   "id": "2e7df458-a514-4060-b61e-f15fec5a7f15",
   "metadata": {},
   "source": [
    "### ¿Por qué usar decoradores?\n",
    "Función original\n",
    "```python\n",
    "import time\n",
    "\n",
    "def func1(args_for_function):\n",
    "    start = time.time()  # gets the current time\n",
    "    ...                  # something happens here\n",
    "    end = time.time()\n",
    "    print('func1 takes', end - start, 'seconds')\n",
    "\n",
    "\n",
    "def func2(args_for_function):\n",
    "    start = time.time()\n",
    "    ...\n",
    "    end = time.time()\n",
    "    print('func2 takes', end - start, 'seconds')\n",
    "```\n",
    "\n",
    "Función con decoradores\n",
    "```python\n",
    "def timer(func):\n",
    "    def wrapper(args_for_function):\n",
    "        start = time.time()\n",
    "        func(args_for_function)\n",
    "        end = time.time()\n",
    "        print('func takes', end - start, 'seconds')\n",
    "\n",
    "    return wrapper\n",
    "\n",
    "\n",
    "@timer\n",
    "def func1(args_for_function):\n",
    "    ...  # something happens here\n",
    "```\n"
   ]
  },
  {
   "cell_type": "code",
   "execution_count": 3,
   "id": "068012d0-7846-4e42-961d-36acb0e52522",
   "metadata": {},
   "outputs": [
    {
     "name": "stdout",
     "output_type": "stream",
     "text": [
      "About to run the function...\n",
      "Hello, world!\n",
      "Done with the function.\n"
     ]
    }
   ],
   "source": [
    "def announce(f):\n",
    "  def wrapper():\n",
    "    print(\"About to run the function...\")\n",
    "    f()\n",
    "    print(\"Done with the function.\")\n",
    "  return wrapper\n",
    "\n",
    "@announce\n",
    "def hello():\n",
    "  print(\"Hello, world!\")\n",
    "\n",
    "hello()"
   ]
  },
  {
   "cell_type": "code",
   "execution_count": 29,
   "id": "aaa065dc-30a2-4c00-9843-b0229dc1d048",
   "metadata": {},
   "outputs": [
    {
     "name": "stdout",
     "output_type": "stream",
     "text": [
      "It is nighttime\n",
      "We can hear some night birds like owls\n"
     ]
    },
    {
     "data": {
      "text/plain": [
       "'\\nWe should remove parentheses from func().\\nWe should let both wrapper() and func() accept one argument.\\nWe should let func() accept one argument.\\nWe should add parentheses for the wrapper when we return it. no\\n'"
      ]
     },
     "execution_count": 29,
     "metadata": {},
     "output_type": "execute_result"
    }
   ],
   "source": [
    "def nighttime(func):\n",
    "    def wrapper(args_funct):\n",
    "        print('It is nighttime')\n",
    "        return func(args_funct)\n",
    "\n",
    "    return wrapper\n",
    "\n",
    "\n",
    "@nighttime\n",
    "def get_message(name):\n",
    "    print('We can hear some night birds like', name)\n",
    "\n",
    "\n",
    "get_message('owls')\n",
    "\n",
    "'''\n",
    "We should remove parentheses from func().\n",
    "We should let both wrapper() and func() accept one argument.\n",
    "We should let func() accept one argument.\n",
    "We should add parentheses for the wrapper when we return it. no\n",
    "'''"
   ]
  },
  {
   "cell_type": "markdown",
   "id": "ff518a8b-2f1c-4162-916a-7134184c5b74",
   "metadata": {},
   "source": [
    "**Exercise**\n",
    "\n",
    "Your task is to:\n",
    "\n",
    "    write the body of the function new_price : it should take an argument and return a float value with a 10% discount\n",
    "\n",
    "    decorate the function with the decorator price_string\n",
    "\n",
    "For example, for the input value 100, the decorated function should return £90.0.\n",
    "\n",
    "You do not need to take any input, just write the body of the function and decorate it.\n",
    "\n",
    "```python\n",
    "def price_string(func):\n",
    "    def wrapper(arg):\n",
    "        return \"£\" + str(func(arg))\n",
    "\n",
    "    return wrapper  \n",
    "\n",
    "\n",
    "def new_price():\n",
    "    ...\n",
    "```"
   ]
  },
  {
   "cell_type": "code",
   "execution_count": 36,
   "id": "2828e1e4-280c-46b6-8357-cf7ba93a81ad",
   "metadata": {},
   "outputs": [
    {
     "name": "stdout",
     "output_type": "stream",
     "text": [
      "£90.0\n"
     ]
    }
   ],
   "source": [
    "def price_string(func):\n",
    "    def wrapper(arg):\n",
    "        return \"£\" + str(func(arg))\n",
    "\n",
    "    return wrapper  \n",
    "\n",
    "@price_string\n",
    "def new_price(old_price):\n",
    "    return old_price - (old_price * 10) / 100\n",
    "\n",
    "print(new_price(100))\n",
    "    "
   ]
  },
  {
   "cell_type": "markdown",
   "id": "019abd43-9be5-4f4a-aab5-80a6cb9d494f",
   "metadata": {},
   "source": [
    "**Exercise**\n",
    "#### Tag\n",
    "\n",
    "\n",
    "Here we have a predefined function that receives some user input and removes, if necessary, all extra spaces at the beginning and at the end of a line using the built-in function strip().\n",
    "\n",
    "```python\n",
    "def from_input(inp):\n",
    "    string = inp.strip()\n",
    "    return string\n",
    "```\n",
    "Create the body of a `@tagged` decorator that will return the string wrapped in the `<title></title>` HTML tag. For example, for the word Test it should output `<title>Test</title>`. You do not need to take any input or call a function, just write the body of the decorator.\n",
    "\n",
    "Tip: Remember that you need to return the string, not print it. "
   ]
  },
  {
   "cell_type": "code",
   "execution_count": 44,
   "id": "cd23fed6-0079-4ce0-a582-733d6d3425e7",
   "metadata": {},
   "outputs": [
    {
     "name": "stdout",
     "output_type": "stream",
     "text": [
      "<title>Test</title>\n"
     ]
    }
   ],
   "source": [
    "def tagged(func):\n",
    "    def wrapper(arg):\n",
    "        return f'<title>{func(arg)}</title>'       \n",
    "    return wrapper\n",
    "\n",
    "@tagged\n",
    "def from_input(inp):\n",
    "    string = inp.strip()\n",
    "    return string\n",
    "\n",
    "print(from_input('  Test   '))"
   ]
  },
  {
   "cell_type": "markdown",
   "id": "a6284b9b-6daa-4895-9fed-c54604aa646a",
   "metadata": {},
   "source": [
    "**Exercise**\n",
    "#### All to uppercase\n",
    "\n",
    "\n",
    "Design a decorator that will return the string written in all uppercase letters.\n",
    "\n",
    "Sample Input 1:\n",
    "\n",
    "`I love Python!`\n",
    "\n",
    "Sample Output 1:\n",
    "\n",
    "`I LOVE PYTHON!`"
   ]
  },
  {
   "cell_type": "code",
   "execution_count": 50,
   "id": "9903c4ce-9647-47f2-98de-953fcb2a48da",
   "metadata": {},
   "outputs": [
    {
     "data": {
      "text/plain": [
       "'I LOVE PYTHON!'"
      ]
     },
     "execution_count": 50,
     "metadata": {},
     "output_type": "execute_result"
    }
   ],
   "source": [
    "def upper_case(function):\n",
    "    def wrapper(string):\n",
    "        return string.upper()\n",
    "    return wrapper\n",
    "\n",
    "@upper_case\n",
    "def get_string(string):\n",
    "    return string\n",
    "\n",
    "get_string('I love Python!')\n",
    "    "
   ]
  },
  {
   "cell_type": "markdown",
   "id": "48407fe3-4f6e-40cf-8c1f-8bf122109fb9",
   "metadata": {},
   "source": [
    "**Exercise**\n",
    "\n",
    "#### Math operations\n",
    "\n",
    "\n",
    "Consider the following decorator that takes a function with two arguments and prints the arguments before calling the function.\n",
    "```python\n",
    "def print_info(func):\n",
    "    def wrapper(arg1, arg2):\n",
    "        print(\"The arguments of the function are:\", arg1, arg2)\n",
    "        return func(arg1, arg2)\n",
    "\n",
    "    return wrapper\n",
    "```\n",
    "Let's say we use this decorator for a function that simply returns the sum of two arguments. Then, the result for the values 22 and 25 will be the following:\n",
    "\n",
    "The arguments of the function are: \n",
    "\n",
    "22 25\n",
    "\n",
    "47\n",
    "\n",
    "Your task is to:\n",
    "\n",
    "    Write the body of the function that computes and returns the sum of two arguments.\n",
    "    \n",
    "    Decorate this function with print_info decorator.\n",
    "\n",
    "Tip: Use return, not print().\n"
   ]
  },
  {
   "cell_type": "code",
   "execution_count": 55,
   "id": "847e6dbe-8e5c-49e5-8b08-a5588fb209f3",
   "metadata": {},
   "outputs": [
    {
     "name": "stdout",
     "output_type": "stream",
     "text": [
      "The arguments of the function are: 22 25\n",
      "47\n"
     ]
    }
   ],
   "source": [
    "def print_info(func):\n",
    "    def wrapper(arg1, arg2):\n",
    "        print(\"The arguments of the function are:\", arg1, arg2)\n",
    "        return func(arg1, arg2)\n",
    "\n",
    "    return wrapper\n",
    "\n",
    "@print_info\n",
    "def addition(arg1, arg2):\n",
    "    return arg1 + arg2\n",
    "\n",
    "print(addition(22, 25))"
   ]
  },
  {
   "cell_type": "code",
   "execution_count": null,
   "id": "b26ced80-f987-43e6-b438-775b9a1196b6",
   "metadata": {},
   "outputs": [],
   "source": []
  }
 ],
 "metadata": {
  "kernelspec": {
   "display_name": "Python 3 (ipykernel)",
   "language": "python",
   "name": "python3"
  },
  "language_info": {
   "codemirror_mode": {
    "name": "ipython",
    "version": 3
   },
   "file_extension": ".py",
   "mimetype": "text/x-python",
   "name": "python",
   "nbconvert_exporter": "python",
   "pygments_lexer": "ipython3",
   "version": "3.12.4"
  }
 },
 "nbformat": 4,
 "nbformat_minor": 5
}
