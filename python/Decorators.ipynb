{
 "cells": [
  {
   "cell_type": "markdown",
   "id": "5ded0dbb-0620-47e6-8417-b601b7756cda",
   "metadata": {},
   "source": [
    "## Decorators\n",
    "\n"
   ]
  },
  {
   "cell_type": "code",
   "execution_count": 3,
   "id": "068012d0-7846-4e42-961d-36acb0e52522",
   "metadata": {},
   "outputs": [
    {
     "name": "stdout",
     "output_type": "stream",
     "text": [
      "About to run the function...\n",
      "Hello, world!\n",
      "Done with the function.\n"
     ]
    }
   ],
   "source": [
    "def announce(f):\n",
    "  def wrapper():\n",
    "    print(\"About to run the function...\")\n",
    "    f()\n",
    "    print(\"Done with the function.\")\n",
    "  return wrapper\n",
    "\n",
    "@announce\n",
    "def hello():\n",
    "  print(\"Hello, world!\")\n",
    "\n",
    "hello()"
   ]
  },
  {
   "cell_type": "code",
   "execution_count": null,
   "id": "aaa065dc-30a2-4c00-9843-b0229dc1d048",
   "metadata": {},
   "outputs": [],
   "source": []
  },
  {
   "cell_type": "code",
   "execution_count": null,
   "id": "2828e1e4-280c-46b6-8357-cf7ba93a81ad",
   "metadata": {},
   "outputs": [],
   "source": []
  }
 ],
 "metadata": {
  "kernelspec": {
   "display_name": "Python 3 (ipykernel)",
   "language": "python",
   "name": "python3"
  },
  "language_info": {
   "codemirror_mode": {
    "name": "ipython",
    "version": 3
   },
   "file_extension": ".py",
   "mimetype": "text/x-python",
   "name": "python",
   "nbconvert_exporter": "python",
   "pygments_lexer": "ipython3",
   "version": "3.12.4"
  }
 },
 "nbformat": 4,
 "nbformat_minor": 5
}
