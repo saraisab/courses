{
  "nbformat": 4,
  "nbformat_minor": 0,
  "metadata": {
    "colab": {
      "provenance": [],
      "toc_visible": true
    },
    "kernelspec": {
      "name": "python3",
      "display_name": "Python 3"
    },
    "language_info": {
      "name": "python"
    }
  },
  "cells": [
    {
      "cell_type": "markdown",
      "source": [
        "#EXERCISES"
      ],
      "metadata": {
        "id": "qHc4ecStQG9a"
      }
    },
    {
      "cell_type": "markdown",
      "source": [
        "#CODEWARS\n",
        "##Range extraction\n",
        "A format for expressing an ordered list of integers is to use a comma separated list of either\n",
        "\n",
        "*individual integers*\n",
        "\n",
        "*or a range of integers denoted by the starting integer separated from the end integer in the range by a dash, '-'. The range includes all integers in the interval including both endpoints. It is not considered a range unless it spans at least 3 numbers. For example \"12,13,15-17\"*\n",
        "\n",
        "Complete the solution so that it takes a list of integers in increasing order and returns a correctly formatted string in the range format.\n",
        "\n",
        "Example:\n",
        "\n",
        "solution([-10, -9, -8, -6, -3, -2, -1, 0, 1, 3, 4, 5, 7, 8, 9, 10, 11, 14, 15, 17, 18, 19, 20])\n",
        "\n",
        "`returns \"-10--8,-6,-3-1,3-5,7-11,14,15,17-20\"`\n"
      ],
      "metadata": {
        "id": "lCvC41g7QTTE"
      }
    },
    {
      "cell_type": "code",
      "source": [],
      "metadata": {
        "id": "xitW04YbW0fE"
      },
      "execution_count": null,
      "outputs": []
    },
    {
      "cell_type": "code",
      "source": [
        "def solution(args):\n",
        "  args.sort()\n",
        "  cadena = str(args[0])\n",
        "  for i in range(len(args)):\n",
        "    if args[i] == (args[i + 1] - 1) and args[i+1] == (args[i + 2] - 1):\n",
        "      print(args[i])\n",
        "      '''\n",
        "       if (i + 3) < len(args):\n",
        "\n",
        "      if args[i] == (args[i + 1] - 1) and args[i+1] == (args[i + 2] - 1):\n",
        "        print(args[i])\n",
        "\n",
        "        if (args[i + 2] - 1) !=  (args[i + 3] - 2):\n",
        "          cadena = cadena + str(args[i]) + \"-\" + str(args[i + 2] - 1)\n",
        "      else:\n",
        "        cadena = cadena + ',' +str(args[i])\n",
        "'''\n",
        "  return cadena\n",
        "print(solution([-10, -9, -8, -6, -3, -2, -1, 0, 1, 3, 4, 5, 7, 8, 9, 10, 11, 14, 15, 17, 18, 19, 20]))"
      ],
      "metadata": {
        "colab": {
          "base_uri": "https://localhost:8080/",
          "height": 505
        },
        "id": "WovUkB9BRCj8",
        "outputId": "59e2b8b6-36c3-42e0-e0b9-265186a5fc31"
      },
      "execution_count": null,
      "outputs": [
        {
          "output_type": "stream",
          "name": "stdout",
          "text": [
            "-10\n",
            "-3\n",
            "-2\n",
            "-1\n",
            "3\n",
            "7\n",
            "8\n",
            "9\n",
            "17\n",
            "18\n"
          ]
        },
        {
          "output_type": "error",
          "ename": "IndexError",
          "evalue": "list index out of range",
          "traceback": [
            "\u001b[0;31m---------------------------------------------------------------------------\u001b[0m",
            "\u001b[0;31mIndexError\u001b[0m                                Traceback (most recent call last)",
            "\u001b[0;32m<ipython-input-3-7b1a9a980210>\u001b[0m in \u001b[0;36m<cell line: 19>\u001b[0;34m()\u001b[0m\n\u001b[1;32m     17\u001b[0m '''\n\u001b[1;32m     18\u001b[0m   \u001b[0;32mreturn\u001b[0m \u001b[0mcadena\u001b[0m\u001b[0;34m\u001b[0m\u001b[0;34m\u001b[0m\u001b[0m\n\u001b[0;32m---> 19\u001b[0;31m \u001b[0mprint\u001b[0m\u001b[0;34m(\u001b[0m\u001b[0msolution\u001b[0m\u001b[0;34m(\u001b[0m\u001b[0;34m[\u001b[0m\u001b[0;34m-\u001b[0m\u001b[0;36m10\u001b[0m\u001b[0;34m,\u001b[0m \u001b[0;34m-\u001b[0m\u001b[0;36m9\u001b[0m\u001b[0;34m,\u001b[0m \u001b[0;34m-\u001b[0m\u001b[0;36m8\u001b[0m\u001b[0;34m,\u001b[0m \u001b[0;34m-\u001b[0m\u001b[0;36m6\u001b[0m\u001b[0;34m,\u001b[0m \u001b[0;34m-\u001b[0m\u001b[0;36m3\u001b[0m\u001b[0;34m,\u001b[0m \u001b[0;34m-\u001b[0m\u001b[0;36m2\u001b[0m\u001b[0;34m,\u001b[0m \u001b[0;34m-\u001b[0m\u001b[0;36m1\u001b[0m\u001b[0;34m,\u001b[0m \u001b[0;36m0\u001b[0m\u001b[0;34m,\u001b[0m \u001b[0;36m1\u001b[0m\u001b[0;34m,\u001b[0m \u001b[0;36m3\u001b[0m\u001b[0;34m,\u001b[0m \u001b[0;36m4\u001b[0m\u001b[0;34m,\u001b[0m \u001b[0;36m5\u001b[0m\u001b[0;34m,\u001b[0m \u001b[0;36m7\u001b[0m\u001b[0;34m,\u001b[0m \u001b[0;36m8\u001b[0m\u001b[0;34m,\u001b[0m \u001b[0;36m9\u001b[0m\u001b[0;34m,\u001b[0m \u001b[0;36m10\u001b[0m\u001b[0;34m,\u001b[0m \u001b[0;36m11\u001b[0m\u001b[0;34m,\u001b[0m \u001b[0;36m14\u001b[0m\u001b[0;34m,\u001b[0m \u001b[0;36m15\u001b[0m\u001b[0;34m,\u001b[0m \u001b[0;36m17\u001b[0m\u001b[0;34m,\u001b[0m \u001b[0;36m18\u001b[0m\u001b[0;34m,\u001b[0m \u001b[0;36m19\u001b[0m\u001b[0;34m,\u001b[0m \u001b[0;36m20\u001b[0m\u001b[0;34m]\u001b[0m\u001b[0;34m)\u001b[0m\u001b[0;34m)\u001b[0m\u001b[0;34m\u001b[0m\u001b[0;34m\u001b[0m\u001b[0m\n\u001b[0m",
            "\u001b[0;32m<ipython-input-3-7b1a9a980210>\u001b[0m in \u001b[0;36msolution\u001b[0;34m(args)\u001b[0m\n\u001b[1;32m      3\u001b[0m   \u001b[0mcadena\u001b[0m \u001b[0;34m=\u001b[0m \u001b[0mstr\u001b[0m\u001b[0;34m(\u001b[0m\u001b[0margs\u001b[0m\u001b[0;34m[\u001b[0m\u001b[0;36m0\u001b[0m\u001b[0;34m]\u001b[0m\u001b[0;34m)\u001b[0m\u001b[0;34m\u001b[0m\u001b[0;34m\u001b[0m\u001b[0m\n\u001b[1;32m      4\u001b[0m   \u001b[0;32mfor\u001b[0m \u001b[0mi\u001b[0m \u001b[0;32min\u001b[0m \u001b[0mrange\u001b[0m\u001b[0;34m(\u001b[0m\u001b[0mlen\u001b[0m\u001b[0;34m(\u001b[0m\u001b[0margs\u001b[0m\u001b[0;34m)\u001b[0m\u001b[0;34m)\u001b[0m\u001b[0;34m:\u001b[0m\u001b[0;34m\u001b[0m\u001b[0;34m\u001b[0m\u001b[0m\n\u001b[0;32m----> 5\u001b[0;31m     \u001b[0;32mif\u001b[0m \u001b[0margs\u001b[0m\u001b[0;34m[\u001b[0m\u001b[0mi\u001b[0m\u001b[0;34m]\u001b[0m \u001b[0;34m==\u001b[0m \u001b[0;34m(\u001b[0m\u001b[0margs\u001b[0m\u001b[0;34m[\u001b[0m\u001b[0mi\u001b[0m \u001b[0;34m+\u001b[0m \u001b[0;36m1\u001b[0m\u001b[0;34m]\u001b[0m \u001b[0;34m-\u001b[0m \u001b[0;36m1\u001b[0m\u001b[0;34m)\u001b[0m \u001b[0;32mand\u001b[0m \u001b[0margs\u001b[0m\u001b[0;34m[\u001b[0m\u001b[0mi\u001b[0m\u001b[0;34m+\u001b[0m\u001b[0;36m1\u001b[0m\u001b[0;34m]\u001b[0m \u001b[0;34m==\u001b[0m \u001b[0;34m(\u001b[0m\u001b[0margs\u001b[0m\u001b[0;34m[\u001b[0m\u001b[0mi\u001b[0m \u001b[0;34m+\u001b[0m \u001b[0;36m2\u001b[0m\u001b[0;34m]\u001b[0m \u001b[0;34m-\u001b[0m \u001b[0;36m1\u001b[0m\u001b[0;34m)\u001b[0m\u001b[0;34m:\u001b[0m\u001b[0;34m\u001b[0m\u001b[0;34m\u001b[0m\u001b[0m\n\u001b[0m\u001b[1;32m      6\u001b[0m       \u001b[0mprint\u001b[0m\u001b[0;34m(\u001b[0m\u001b[0margs\u001b[0m\u001b[0;34m[\u001b[0m\u001b[0mi\u001b[0m\u001b[0;34m]\u001b[0m\u001b[0;34m)\u001b[0m\u001b[0;34m\u001b[0m\u001b[0;34m\u001b[0m\u001b[0m\n\u001b[1;32m      7\u001b[0m       '''\n",
            "\u001b[0;31mIndexError\u001b[0m: list index out of range"
          ]
        }
      ]
    },
    {
      "cell_type": "code",
      "source": [
        "def solution(args):\n",
        "    #lista = args.split(',')\n",
        "    new_str = ''\n",
        "\n",
        "    for x in range(1,len(args) - 1):\n",
        "        print(f'args[x] es {args[x]} {(args[x + 1] - 1)}(args[x + 1] - 1) es {(args[x + 1] - 1)}  and args[x-1] es {args[x-1]}  (args[x]-1) es {(args[x]-1)}')\n",
        "        if args[x] == (args[x + 1] - 1) and args[x-1] == (args[x]-1):\n",
        "            new_str = f'{new_str}-'\n",
        "        else:\n",
        "            new_str = f'{new_str}{args[x]},'\n",
        "        print(new_str)\n",
        "    return f'{args[0]}{new_str}{args[len(args)-1]}'\n",
        "\n",
        "print(solution([-10, -9, -8, -6, -3, -2, -1, 0, 1, 3, 4, 5, 7, 8, 9, 10, 11, 14, 15, 17, 18, 19, 20]))\n",
        "# returns \"-10--8,-6,-3-1,3-5,7-11,14,15,17-20\""
      ],
      "metadata": {
        "colab": {
          "base_uri": "https://localhost:8080/"
        },
        "id": "GE6tnaNiXbqt",
        "outputId": "ce5c1a6f-cb84-4286-8b1a-ba966f1f37d8"
      },
      "execution_count": 35,
      "outputs": [
        {
          "output_type": "stream",
          "name": "stdout",
          "text": [
            "args[x] es -9 -9(args[x + 1] - 1) es -9  and args[x-1] es -10  (args[x]-1) es -10\n",
            "-\n",
            "args[x] es -8 -7(args[x + 1] - 1) es -7  and args[x-1] es -9  (args[x]-1) es -9\n",
            "--8,\n",
            "args[x] es -6 -4(args[x + 1] - 1) es -4  and args[x-1] es -8  (args[x]-1) es -7\n",
            "--8,-6,\n",
            "args[x] es -3 -3(args[x + 1] - 1) es -3  and args[x-1] es -6  (args[x]-1) es -4\n",
            "--8,-6,-3,\n",
            "args[x] es -2 -2(args[x + 1] - 1) es -2  and args[x-1] es -3  (args[x]-1) es -3\n",
            "--8,-6,-3,-\n",
            "args[x] es -1 -1(args[x + 1] - 1) es -1  and args[x-1] es -2  (args[x]-1) es -2\n",
            "--8,-6,-3,--\n",
            "args[x] es 0 0(args[x + 1] - 1) es 0  and args[x-1] es -1  (args[x]-1) es -1\n",
            "--8,-6,-3,---\n",
            "args[x] es 1 2(args[x + 1] - 1) es 2  and args[x-1] es 0  (args[x]-1) es 0\n",
            "--8,-6,-3,---1,\n",
            "args[x] es 3 3(args[x + 1] - 1) es 3  and args[x-1] es 1  (args[x]-1) es 2\n",
            "--8,-6,-3,---1,3,\n",
            "args[x] es 4 4(args[x + 1] - 1) es 4  and args[x-1] es 3  (args[x]-1) es 3\n",
            "--8,-6,-3,---1,3,-\n",
            "args[x] es 5 6(args[x + 1] - 1) es 6  and args[x-1] es 4  (args[x]-1) es 4\n",
            "--8,-6,-3,---1,3,-5,\n",
            "args[x] es 7 7(args[x + 1] - 1) es 7  and args[x-1] es 5  (args[x]-1) es 6\n",
            "--8,-6,-3,---1,3,-5,7,\n",
            "args[x] es 8 8(args[x + 1] - 1) es 8  and args[x-1] es 7  (args[x]-1) es 7\n",
            "--8,-6,-3,---1,3,-5,7,-\n",
            "args[x] es 9 9(args[x + 1] - 1) es 9  and args[x-1] es 8  (args[x]-1) es 8\n",
            "--8,-6,-3,---1,3,-5,7,--\n",
            "args[x] es 10 10(args[x + 1] - 1) es 10  and args[x-1] es 9  (args[x]-1) es 9\n",
            "--8,-6,-3,---1,3,-5,7,---\n",
            "args[x] es 11 13(args[x + 1] - 1) es 13  and args[x-1] es 10  (args[x]-1) es 10\n",
            "--8,-6,-3,---1,3,-5,7,---11,\n",
            "args[x] es 14 14(args[x + 1] - 1) es 14  and args[x-1] es 11  (args[x]-1) es 13\n",
            "--8,-6,-3,---1,3,-5,7,---11,14,\n",
            "args[x] es 15 16(args[x + 1] - 1) es 16  and args[x-1] es 14  (args[x]-1) es 14\n",
            "--8,-6,-3,---1,3,-5,7,---11,14,15,\n",
            "args[x] es 17 17(args[x + 1] - 1) es 17  and args[x-1] es 15  (args[x]-1) es 16\n",
            "--8,-6,-3,---1,3,-5,7,---11,14,15,17,\n",
            "args[x] es 18 18(args[x + 1] - 1) es 18  and args[x-1] es 17  (args[x]-1) es 17\n",
            "--8,-6,-3,---1,3,-5,7,---11,14,15,17,-\n",
            "args[x] es 19 19(args[x + 1] - 1) es 19  and args[x-1] es 18  (args[x]-1) es 18\n",
            "--8,-6,-3,---1,3,-5,7,---11,14,15,17,--\n",
            "-10--8,-6,-3,---1,3,-5,7,---11,14,15,17,--20\n"
          ]
        }
      ]
    },
    {
      "cell_type": "markdown",
      "source": [
        "#PRACTISING MAP"
      ],
      "metadata": {
        "id": "1Lcw4fXDW4BK"
      }
    },
    {
      "cell_type": "markdown",
      "source": [
        "Dada la lista de números nums = [1, 2, 3, 4, 5], usa map para crear una nueva lista llamada squares que contenga los cuadrados de cada número de la lista.\n",
        "\n",
        "Salida esperada:\n",
        "\n",
        "[1, 4, 9, 16, 25]"
      ],
      "metadata": {
        "id": "uwBONiLycwFd"
      }
    },
    {
      "cell_type": "code",
      "source": [
        "nums = [1, 2, 3, 4, 5]\n",
        "\n",
        "squares_numbers = map(lambda x: x ** 2, nums)\n",
        "print(list(squares_numbers))"
      ],
      "metadata": {
        "colab": {
          "base_uri": "https://localhost:8080/"
        },
        "id": "4_IjdX5vcxSG",
        "outputId": "59a19720-1744-438b-faf7-9d3f72bbf6a4"
      },
      "execution_count": null,
      "outputs": [
        {
          "output_type": "stream",
          "name": "stdout",
          "text": [
            "[1, 4, 9, 16, 25]\n"
          ]
        }
      ]
    },
    {
      "cell_type": "markdown",
      "source": [
        "sumar dos listas con map"
      ],
      "metadata": {
        "id": "qRpNabOOeiDb"
      }
    },
    {
      "cell_type": "code",
      "source": [
        "nums1 = [1, 2, 3, 4]\n",
        "nums2 = [10, 20, 30, 40]\n",
        "sum_list = list(map(lambda x, y: x + y, nums1, nums2))\n",
        "print(sum_list)"
      ],
      "metadata": {
        "colab": {
          "base_uri": "https://localhost:8080/"
        },
        "id": "6xjb4u7ed-Cd",
        "outputId": "9f69b7e3-0f48-4bb8-8a1f-bbc1f4556297"
      },
      "execution_count": null,
      "outputs": [
        {
          "output_type": "stream",
          "name": "stdout",
          "text": [
            "[11, 22, 33, 44]\n"
          ]
        }
      ]
    },
    {
      "cell_type": "markdown",
      "source": [
        "Ejercicio 2:\n",
        "\n",
        "Dada la lista de strings words = [\"hello\", \"world\", \"python\", \"map\"], usa map para convertir cada palabra en mayúsculas.\n",
        "\n",
        "Salida esperada:\n",
        "\n",
        "[\"HELLO\", \"WORLD\", \"PYTHON\", \"MAP\"]"
      ],
      "metadata": {
        "id": "fymUpT6TfUUG"
      }
    },
    {
      "cell_type": "code",
      "source": [
        "words = [\"hello\", \"world\", \"python\", \"map\"]\n",
        "upper_words = list(map(lambda x: x.upper(), words))\n",
        "print(upper_words)"
      ],
      "metadata": {
        "colab": {
          "base_uri": "https://localhost:8080/"
        },
        "id": "haTgO3e1fVZT",
        "outputId": "235669b4-c3a8-4a67-b09e-1cd92f03b4f8"
      },
      "execution_count": null,
      "outputs": [
        {
          "output_type": "stream",
          "name": "stdout",
          "text": [
            "['HELLO', 'WORLD', 'PYTHON', 'MAP']\n"
          ]
        }
      ]
    },
    {
      "cell_type": "markdown",
      "source": [
        "Ejercicio 4:\n",
        "\n",
        "Dada la lista de números nums = [1, -2, 3, -4, 5], usa map para convertir todos los números negativos en positivos.\n",
        "\n",
        "Salida esperada:\n",
        "\n",
        "[1, 2, 3, 4, 5]"
      ],
      "metadata": {
        "id": "CH6kjvttgn5w"
      }
    },
    {
      "cell_type": "code",
      "source": [
        "nums = [1, -2, 3, -4, 5]\n",
        "positive = list(map(lambda x: x*-1 if x < 0 else x, nums))\n",
        "print(positive)"
      ],
      "metadata": {
        "colab": {
          "base_uri": "https://localhost:8080/"
        },
        "id": "5GDV4mGFgo1W",
        "outputId": "481dbdbf-79d2-4e74-854e-5b6945cf10c5"
      },
      "execution_count": null,
      "outputs": [
        {
          "output_type": "stream",
          "name": "stdout",
          "text": [
            "[1, 2, 3, 4, 5]\n"
          ]
        }
      ]
    },
    {
      "cell_type": "markdown",
      "source": [
        "Ejercicio 5:\n",
        "\n",
        "Dada la lista de strings dates = [\"2024-01-01\", \"2024-12-31\", \"2024-06-15\"], usa map para convertir cada fecha al formato \"DD/MM/YYYY\".\n",
        "\n",
        "Salida esperada:\n",
        "\n",
        "[\"01/01/2024\", \"31/12/2024\", \"15/06/2024\"]"
      ],
      "metadata": {
        "id": "EeisI9NlhVYu"
      }
    },
    {
      "cell_type": "code",
      "source": [
        "from datetime import datetime\n",
        "\n",
        "dates = [\"2024-01-01\", \"2024-12-31\", \"2024-06-15\"]\n",
        "dates_reverse = list(map(lambda x: (datetime.strptime(x, '%Y-%m-%d')).strftime('%d/%m/%Y'), dates))\n",
        "print(dates_reverse)"
      ],
      "metadata": {
        "colab": {
          "base_uri": "https://localhost:8080/"
        },
        "id": "HmhTebi_hWhw",
        "outputId": "e4e2a6d3-0778-4029-de96-6c827fd5d00e"
      },
      "execution_count": null,
      "outputs": [
        {
          "output_type": "stream",
          "name": "stdout",
          "text": [
            "['01/01/2024', '31/12/2024', '15/06/2024']\n"
          ]
        }
      ]
    },
    {
      "cell_type": "markdown",
      "source": [
        "Ejercicio 1: Capitalizar palabras clave\n",
        "\n",
        "Tienes una lista de strings que representan nombres de artículos. Transforma cada string para que solo la primera letra de cada palabra esté en mayúscula y las demás en minúscula.\n",
        "\n",
        "articles = [\"python programming\", \"advanced DATA analysis\", \"MaChiNe LEARNing\"]\n",
        "\n",
        "Usa map para convertir los artículos\n",
        " Salida esperada:\n",
        "['Python Programming', 'Advanced Data Analysis', 'Machine Learning']"
      ],
      "metadata": {
        "id": "FL1p6tDXDnAb"
      }
    },
    {
      "cell_type": "code",
      "source": [
        "articles = [\"python programming\", \"advanced DATA analysis\", \"MaChiNe LEARNing\"]\n",
        "print(list(map(lambda x: x.title(), articles)))"
      ],
      "metadata": {
        "colab": {
          "base_uri": "https://localhost:8080/"
        },
        "id": "M_-1ow26DsMF",
        "outputId": "c897b6e2-be3a-48a2-84ff-66c6b34e2275"
      },
      "execution_count": null,
      "outputs": [
        {
          "output_type": "stream",
          "name": "stdout",
          "text": [
            "['Python Programming', 'Advanced Data Analysis', 'Machine Learning']\n"
          ]
        }
      ]
    },
    {
      "cell_type": "markdown",
      "source": [
        "Ejercicio 2: Calcular longitudes y clasificar\n",
        "\n",
        "Dada una lista de strings, calcula la longitud de cada string y devuelve una lista de tuplas en el formato (string, longitud).\n",
        "\n",
        "`strings = [\"Python\", \"Map Function\", \"Lambda\", \"Complex Exercise\"]`\n",
        "\n",
        " `Usa map para generar las tuplas`\n",
        " `Salida esperada:`\n",
        " `[('Python', 6), ('Map Function', 12), ('Lambda', 6), ('Complex Exercise', 16)]`"
      ],
      "metadata": {
        "id": "wu0FPnvwE4Qi"
      }
    },
    {
      "cell_type": "code",
      "source": [
        "strings = [\"Python\", \"Map Function\", \"Lambda\", \"Complex Exercise\"]\n",
        "\n",
        "def calculate_lengh(string_simple):\n",
        "  return string_simple, len(string_simple)\n",
        "str_lengh = list(map(calculate_lengh, strings))\n",
        "print(str_lengh)"
      ],
      "metadata": {
        "colab": {
          "base_uri": "https://localhost:8080/"
        },
        "id": "wfhXuRggFKYo",
        "outputId": "dd53b137-7be7-48f8-a040-89684d5aecf2"
      },
      "execution_count": null,
      "outputs": [
        {
          "output_type": "stream",
          "name": "stdout",
          "text": [
            "[('Python', 6), ('Map Function', 12), ('Lambda', 6), ('Complex Exercise', 16)]\n"
          ]
        }
      ]
    },
    {
      "cell_type": "code",
      "source": [],
      "metadata": {
        "id": "vB3pxGKmDodn"
      },
      "execution_count": null,
      "outputs": []
    },
    {
      "cell_type": "code",
      "source": [
        "strings = [\"Python\", \"Map Function\", \"Lambda\", \"Complex Exercise\"]\n",
        "\n",
        "print(list(map(lambda x: (x, len(x)), strings)))"
      ],
      "metadata": {
        "colab": {
          "base_uri": "https://localhost:8080/"
        },
        "outputId": "2b18aedb-5df9-48b5-d2f5-50b0b6d4b1c3",
        "id": "yrEsKIMKH58Z"
      },
      "execution_count": null,
      "outputs": [
        {
          "output_type": "stream",
          "name": "stdout",
          "text": [
            "[('Python', 6), ('Map Function', 12), ('Lambda', 6), ('Complex Exercise', 16)]\n"
          ]
        }
      ]
    },
    {
      "cell_type": "markdown",
      "source": [
        "Ejercicio 3: Conversión de temperaturas\n",
        "\n",
        "Tienes una lista de temperaturas en grados Fahrenheit. Convierte cada temperatura a grados Celsius usando la fórmula:\n",
        "C=5/9(F−32)\n",
        "\n",
        "\n",
        "fahrenheit = [32, 68, 104, 212]\n",
        "\n",
        "Usa map para convertir a Celsius\n",
        "\n",
        "Salida esperada:\n",
        "\n",
        "[0.0, 20.0, 40.0, 100.0]"
      ],
      "metadata": {
        "id": "wQm8i9NEJrjp"
      }
    },
    {
      "cell_type": "code",
      "source": [
        "fahrenheit = [32, 68, 104, 212]\n",
        "\n",
        "print(list(map(lambda x: ((x-32)*5)/9, fahrenheit)))"
      ],
      "metadata": {
        "colab": {
          "base_uri": "https://localhost:8080/"
        },
        "id": "rTKU9ONIJxHU",
        "outputId": "1ada560e-934e-4e2b-cd2b-2a7366b330e7"
      },
      "execution_count": null,
      "outputs": [
        {
          "output_type": "stream",
          "name": "stdout",
          "text": [
            "[0.0, 20.0, 40.0, 100.0]\n"
          ]
        }
      ]
    },
    {
      "cell_type": "markdown",
      "source": [
        "Ejercicio 4: Filtrar números pares e invertirlos\n",
        "\n",
        "Dada una lista de números, usa map junto con una función lambda para filtrar solo los números pares y devolver una lista de los números pares en orden inverso.\n",
        "\n",
        "numbers = [1, 2, 3, 4, 5, 6, 7, 8, 9, 10]\n",
        "\n",
        "Usa map para realizar esta transformación\n",
        "\n",
        " Salida esperada:\n",
        "\n",
        " [10, 8, 6, 4, 2]"
      ],
      "metadata": {
        "id": "O1v1h45SLZpF"
      }
    },
    {
      "cell_type": "code",
      "source": [
        "numbers = [1, 2, 3, 4, 5, 6, 7, 8, 9, 10]\n",
        "\n",
        "even_numbers = list(map(lambda x: x if x % 2 == 0 else None, numbers))\n",
        "print([x for x in even_numbers if x is not None][::-1])"
      ],
      "metadata": {
        "colab": {
          "base_uri": "https://localhost:8080/"
        },
        "id": "XdefgR2ELcnW",
        "outputId": "cc4f5393-0169-4070-d792-1c4a1b16add3"
      },
      "execution_count": null,
      "outputs": [
        {
          "output_type": "stream",
          "name": "stdout",
          "text": [
            "[10, 8, 6, 4, 2]\n"
          ]
        }
      ]
    },
    {
      "cell_type": "code",
      "source": [
        "#sin map\n",
        "numbers = [1, 2, 3, 4, 5, 6, 7, 8, 9, 10]\n",
        "\n",
        "print([x for x in numbers if x % 2 == 0][::-1])"
      ],
      "metadata": {
        "colab": {
          "base_uri": "https://localhost:8080/"
        },
        "id": "k34zdcs8DmSi",
        "outputId": "66f52e1a-0ecd-4bea-f8a8-79b455415989"
      },
      "execution_count": null,
      "outputs": [
        {
          "output_type": "stream",
          "name": "stdout",
          "text": [
            "[10, 8, 6, 4, 2]\n"
          ]
        }
      ]
    },
    {
      "cell_type": "markdown",
      "source": [
        "Ejercicio 5: Reformatear datos complejos\n",
        "\n",
        "Tienes una lista de tuplas con datos de personas: (nombre, edad, ciudad). Transforma la lista en una lista de strings en el formato:\n",
        "\"Nombre: <nombre>, Edad: <edad>, Ciudad: <ciudad>\".\n",
        "\n",
        "people = [\n",
        "\n",
        "    (\"Alice\", 30, \"New York\"),\n",
        "\n",
        "    (\"Bob\", 25, \"Los Angeles\"),\n",
        "\n",
        "    (\"Charlie\", 35, \"Chicago\")\n",
        "    \n",
        "]\n",
        "\n",
        "Usa map para formatear la salida\n",
        "Salida esperada:\n",
        "\n",
        "[\n",
        "\n",
        "\"Nombre: Alice, Edad: 30, Ciudad: New York\",\n",
        "\n",
        " \"Nombre: Bob, Edad: 25, Ciudad: Los Angeles\",\n",
        "\n",
        " \"Nombre: Charlie, Edad: 35, Ciudad: Chicago\"\n",
        "\n",
        " ]"
      ],
      "metadata": {
        "id": "pLKu92pUem9K"
      }
    },
    {
      "cell_type": "code",
      "source": [
        "people = [\n",
        "(\"Alice\", 30, \"New York\"),\n",
        "(\"Bob\", 25, \"Los Angeles\"),\n",
        "(\"Charlie\", 35, \"Chicago\")\n",
        "]\n",
        "\n",
        "list_people = list(map(lambda x: f\"Nombre:{x[0]}, Edad: {str(x[1])}, Ciudad: {x[2]}\", people))\n",
        "print(list_people)"
      ],
      "metadata": {
        "id": "Z0kqqI2RexQ-",
        "colab": {
          "base_uri": "https://localhost:8080/"
        },
        "outputId": "2a91f695-8c22-460b-aaa1-56ce32012526"
      },
      "execution_count": null,
      "outputs": [
        {
          "output_type": "stream",
          "name": "stdout",
          "text": [
            "['Nombre:Alice, Edad: 30, Ciudad: New York', 'Nombre:Bob, Edad: 25, Ciudad: Los Angeles', 'Nombre:Charlie, Edad: 35, Ciudad: Chicago']\n"
          ]
        }
      ]
    },
    {
      "cell_type": "markdown",
      "source": [
        "Ejercicio 6: Procesar cadenas numéricas\n",
        "\n",
        "Tienes una lista de strings que contienen números separados por comas. Convierte cada string en la suma de esos números.\n",
        "\n",
        "data = [\"1,2,3\", \"4,5,6\", \"7,8,9\"]\n",
        "\n",
        "Usa map para procesar los datos\n",
        "Salida esperada:\n",
        "[6, 15, 24]"
      ],
      "metadata": {
        "id": "02XLfiUgi3YO"
      }
    },
    {
      "cell_type": "code",
      "source": [
        "data = [\"1,2,3\", \"4,5,6\", \"7,8,9\"]\n",
        "\n",
        "def suma(cadena):\n",
        "  return sum(int(x) for x in cadena.split(','))\n",
        "print(list(map(suma, data)))"
      ],
      "metadata": {
        "id": "oqfqAsYVh4t0",
        "colab": {
          "base_uri": "https://localhost:8080/"
        },
        "outputId": "7e168e0c-3c1e-47d5-f147-1873b949fe1e"
      },
      "execution_count": 19,
      "outputs": [
        {
          "output_type": "stream",
          "name": "stdout",
          "text": [
            "[6, 15, 24]\n"
          ]
        }
      ]
    },
    {
      "cell_type": "markdown",
      "source": [
        "Solucion con lambda"
      ],
      "metadata": {
        "id": "A5L7hZaycib3"
      }
    },
    {
      "cell_type": "code",
      "source": [
        "data = [\"1,2,3\", \"4,5,6\", \"7,8,9\"]\n",
        "\n",
        "def suma(cadena):\n",
        "  return sum(int(x) for x in cadena.split(','))\n",
        "print(list(map(lambda s: sum(int(x) for x in s.split(',')), data)))"
      ],
      "metadata": {
        "colab": {
          "base_uri": "https://localhost:8080/"
        },
        "id": "_OnPDSXCchGe",
        "outputId": "0181ffa1-9a77-49eb-bc46-597f3261c5a0"
      },
      "execution_count": 21,
      "outputs": [
        {
          "output_type": "stream",
          "name": "stdout",
          "text": [
            "[6, 15, 24]\n"
          ]
        }
      ]
    },
    {
      "cell_type": "markdown",
      "source": [
        "Ejercicio 7: Validar correos electrónicos\n",
        "\n",
        "Tienes una lista de correos electrónicos. Usa map para verificar si cada correo electrónico es válido (contiene un @ y un ., y no tiene espacios).\n",
        "\n",
        "emails = [\"user@example.com\", \"invalid_email.com\", \"another@domain\", \"valid@mail.com\"]\n",
        "\n",
        "` Usa map para devolver True o False para cada correo`\n",
        "\n",
        " `Salida esperada:`\n",
        "\n",
        "`[True, False, False, True]`"
      ],
      "metadata": {
        "id": "108dKJ_QdOX9"
      }
    },
    {
      "cell_type": "code",
      "source": [
        "\n",
        "emails = [\"user@example.com\", \"invalid_email.com\", \"another@domain\", \"valid@mail.com\"]\n",
        "\n",
        "print(list(map(lambda em: em.find('@') != -1 and em.find(' ') == -1 and em.find('.') != -1, emails)))"
      ],
      "metadata": {
        "colab": {
          "base_uri": "https://localhost:8080/"
        },
        "id": "f4-sDz55dWPi",
        "outputId": "4a4f81c9-1aaf-4449-8bb2-f1cf2558a24f"
      },
      "execution_count": 33,
      "outputs": [
        {
          "output_type": "stream",
          "name": "stdout",
          "text": [
            "[True, False, False, True]\n"
          ]
        }
      ]
    },
    {
      "cell_type": "markdown",
      "source": [
        "Resultado con all"
      ],
      "metadata": {
        "id": "kjnsxk1egQJX"
      }
    },
    {
      "cell_type": "code",
      "source": [
        "emails = [\"user@example.com\", \"invalid_email.com\", \"another@domain\", \"valid@mail.com\"]\n",
        "\n",
        "print(list(map(lambda x: all([\n",
        "                              \"@\" in x,\n",
        "                              '.' in x,\n",
        "                              ' ' not in x\n",
        "                                  ]), emails)))"
      ],
      "metadata": {
        "colab": {
          "base_uri": "https://localhost:8080/"
        },
        "id": "4bXWIaiCd9OY",
        "outputId": "18bdbeb2-dba2-464a-b442-ec05f07bd522"
      },
      "execution_count": 34,
      "outputs": [
        {
          "output_type": "stream",
          "name": "stdout",
          "text": [
            "[True, False, False, True]\n"
          ]
        }
      ]
    },
    {
      "cell_type": "markdown",
      "source": [
        "Ejercicio 8: Elevar matrices al cuadrado\n",
        "\n",
        "Tienes una lista de listas que representan filas de una matriz. Eleva cada número al cuadrado, devolviendo la matriz transformada.\n",
        "\n",
        "\n",
        "matrix = [\n",
        "\n",
        "    [1, 2, 3],\n",
        "\n",
        "    [4, 5, 6],\n",
        "\n",
        "    [7, 8, 9]\n",
        "\n",
        "]\n",
        "\n",
        " Usa map para transformar la matriz\n",
        "\n",
        " Salida esperada:\n",
        "\n",
        " [\n",
        "\n",
        "  [1, 4, 9],\n",
        "\n",
        "  [16, 25, 36],\n",
        "\n",
        "  [49, 64, 81]\n",
        "\n",
        " ]"
      ],
      "metadata": {
        "id": "AjUgder4g8aW"
      }
    },
    {
      "cell_type": "code",
      "source": [
        "matrix = [\n",
        "    [1, 2, 3],\n",
        "    [4, 5, 6],\n",
        "    [7, 8, 9]\n",
        "]\n",
        "\n",
        "print(list(map(lambda ma: [j ** 2 for j in ma], matrix)))"
      ],
      "metadata": {
        "colab": {
          "base_uri": "https://localhost:8080/"
        },
        "id": "zhq3jcaPhW9z",
        "outputId": "e12770aa-9a3e-412d-c78b-15e33b4bf2e5"
      },
      "execution_count": 42,
      "outputs": [
        {
          "output_type": "stream",
          "name": "stdout",
          "text": [
            "[[1, 4, 9], [16, 25, 36], [49, 64, 81]]\n",
            "[[1, 4, 9], [16, 25, 36], [49, 64, 81]]\n"
          ]
        }
      ]
    },
    {
      "cell_type": "markdown",
      "source": [
        "#Codewars\n",
        "## kata 5 - Weight for weight\n",
        "\n",
        "My friend John and I are members of the \"Fat to Fit Club (FFC)\". John is worried because each month a list with the weights of members is published and each month he is the last on the list which means he is the heaviest.\n",
        "\n",
        "I am the one who establishes the list so I told him: \"Don't worry any more, I will modify the order of the list\". It was decided to attribute a \"weight\" to numbers. The weight of a number will be from now on the sum of its digits.\n",
        "\n",
        "For example 99 will have \"weight\" 18, 100 will have \"weight\" 1 so in the list 100 will come before 99.\n",
        "\n",
        "Given a string with the weights of FFC members in normal order can you give this string ordered by \"weights\" of these numbers?\n",
        "Example:\n",
        "\n",
        "\"56 65 74 100 99 68 86 180 90\" ordered by numbers weights becomes:\n",
        "\n",
        "\"100 180 90 56 65 74 68 86 99\"\n",
        "\n",
        "When two numbers have the same \"weight\", let us class them as if they were strings (alphabetical ordering) and not numbers:\n",
        "\n",
        "180 is before 90 since, having the same \"weight\" (9), it comes before as a string.\n",
        "\n",
        "All numbers in the list are positive numbers and the list can be empty.\n",
        "Notes\n",
        "\n",
        "    it may happen that the input string have leading, trailing whitespaces and more than a unique whitespace between two consecutive numbers\n",
        "    For C: The result is freed.\n",
        "\n"
      ],
      "metadata": {
        "id": "uqcx5da7su-U"
      }
    },
    {
      "cell_type": "code",
      "source": [
        "def sum_str(str_list):\n",
        "  lst = []\n",
        "  for x in str_list:\n",
        "    lst.append(sum(int(x[i]) for i in range(len(x))))\n",
        "  return lst\n",
        "\n",
        "def order_weight(strng):\n",
        "  lst_ordered, strng_ordered = zip(*sorted(zip(sum_str(strng.split(' ')), strng.split(' '))))\n",
        "  return \" \".join(strng_ordered)\n",
        "\n",
        "order_weight(\"56 65 74 100 99 68 86 180 90\")\n",
        "# result \"100 180 90 56 65 74 68 86 99\"\n"
      ],
      "metadata": {
        "colab": {
          "base_uri": "https://localhost:8080/",
          "height": 55
        },
        "id": "SEKWA-QnQyi4",
        "outputId": "c6b822f2-8574-4ca9-bd34-341bc4aaa5ba"
      },
      "execution_count": 118,
      "outputs": [
        {
          "output_type": "execute_result",
          "data": {
            "text/plain": [
              "'100 180 90 56 65 74 68 86 99'"
            ],
            "application/vnd.google.colaboratory.intrinsic+json": {
              "type": "string"
            }
          },
          "metadata": {},
          "execution_count": 118
        }
      ]
    },
    {
      "cell_type": "code",
      "source": [
        "def sum_str(str_list):\n",
        "  lst = []\n",
        "  for x in str_list:\n",
        "    lst.append(sum(int(x[i]) for i in range(len(x))))\n",
        "  return lst\n",
        "\n",
        "def order_weight(strng):\n",
        "  strng_ordered = sorted(strng.split(\" \"))\n",
        "  print(strng_ordered)\n",
        "  strng = sum_str(strng_ordered)\n",
        "  return \" \".join(str(strng))\n",
        "\n",
        "order_weight(\"56 65 74 100 99 68 86 180 90\")\n",
        "# result \"100 180 90 56 65 74 68 86 99\""
      ],
      "metadata": {
        "colab": {
          "base_uri": "https://localhost:8080/",
          "height": 73
        },
        "id": "QuygN_h3ihSl",
        "outputId": "ac0820ef-9591-4969-8d7c-e89386ed28d8"
      },
      "execution_count": 125,
      "outputs": [
        {
          "output_type": "stream",
          "name": "stdout",
          "text": [
            "['100', '180', '56', '65', '68', '74', '86', '90', '99']\n"
          ]
        },
        {
          "output_type": "execute_result",
          "data": {
            "text/plain": [
              "'[ 1 ,   9 ,   1 1 ,   1 1 ,   1 4 ,   1 1 ,   1 4 ,   9 ,   1 8 ]'"
            ],
            "application/vnd.google.colaboratory.intrinsic+json": {
              "type": "string"
            }
          },
          "metadata": {},
          "execution_count": 125
        }
      ]
    },
    {
      "cell_type": "code",
      "source": [
        "cadena = \"56 65 74 100 99 68 86 180 90\"\n",
        "lst = sorted(cadena.split(\" \"))\n",
        "print(lst)"
      ],
      "metadata": {
        "colab": {
          "base_uri": "https://localhost:8080/"
        },
        "id": "K7RhHTe1iyxG",
        "outputId": "7349c4e2-12b1-43a2-f695-162f05ae8f3d"
      },
      "execution_count": 121,
      "outputs": [
        {
          "output_type": "stream",
          "name": "stdout",
          "text": [
            "['100', '180', '56', '65', '68', '74', '86', '90', '99']\n"
          ]
        }
      ]
    },
    {
      "cell_type": "markdown",
      "source": [
        "##kata 4kyu\n",
        "Escribe una función que, dado un texto en forma de cadena (posiblemente con puntuación y saltos de línea), devuelva un array con las 3 palabras más frecuentes, en orden descendente según el número de apariciones.\n",
        "\n",
        "Suposiciones:\n",
        "\n",
        "    Una palabra es una cadena de letras (de la A a la Z) que puede contener uno o más apóstrofes (') en ASCII.\n",
        "\n",
        "    Los apóstrofes pueden aparecer al inicio, en el medio o al final de una palabra ('abc, abc', 'abc', ab'c son todas válidas).\n",
        "\n",
        "    Cualquier otro carácter (por ejemplo, #, , / , . ...) no forma parte de una palabra y debe tratarse como un espacio en blanco.\n",
        "    Las coincidencias no deben distinguir entre mayúsculas y minúsculas, y las palabras en el resultado deben estar en minúsculas.\n",
        "\n",
        "    Los empates pueden resolverse de forma arbitraria.\n",
        "    \n",
        "    Si un texto contiene menos de tres palabras únicas, entonces se debe devolver las dos palabras principales, una palabra principal o un array vacío si el texto no contiene palabras."
      ],
      "metadata": {
        "id": "504u51WMe6T8"
      }
    },
    {
      "cell_type": "code",
      "source": [
        "import string\n",
        "def is_string_ascii(word):\n",
        "  for letter in word:\n",
        "    if letter.isalpha():\n",
        "      return True\n",
        "\n",
        "def top_3_words(text):\n",
        "  punct = (string.punctuation).replace(\"'\", \"\")\n",
        "  new_string = \"\"\n",
        "  lst = \"\".join(f'{new_string}{\" \" if x in punct else x}' for x in text.lower()).split(' ')\n",
        "  counts = dict(zip(lst,map(lambda x:lst.count(x), lst)))\n",
        "  sorted_by_words = dict(sorted(counts.items(), key=lambda item: item[1], reverse=True))\n",
        "  # replacement of \"\"\n",
        "  sorted_by_words = {k: v for k, v in sorted_by_words.items() if is_string_ascii(k)}\n",
        "  return list(sorted_by_words.keys())[:3]\n",
        "\n",
        "text = '''In a village of La Mancha, the name of which I have no desire to call to\n",
        "mind, there lived not long since one of those gentlemen that keep a lance\n",
        "in the lance-rack, an old buckler, a lean hack, and a greyhound for\n",
        "coursing. An olla of rather more beef than mutton, a salad on most\n",
        "nights, scraps on Saturdays, lentils on Fridays, and a pigeon or so extra\n",
        "on Sundays, made away with three-quarters of his income.'''\n",
        "top_3_words(text)"
      ],
      "metadata": {
        "colab": {
          "base_uri": "https://localhost:8080/"
        },
        "id": "FfSQz9m1gjBQ",
        "outputId": "207910c7-8e0f-4e35-80aa-0ba13308e259"
      },
      "execution_count": 21,
      "outputs": [
        {
          "output_type": "execute_result",
          "data": {
            "text/plain": [
              "['a', 'of', 'on']"
            ]
          },
          "metadata": {},
          "execution_count": 21
        }
      ]
    },
    {
      "cell_type": "code",
      "source": [
        "text = '''TCqpbFd ;,/nuW :/?ieWX'';;._ ieWX''- ieWX'';, /nuW!,: nuW _!TCqpbFd-?/ieWX'';;;ieWX'':;_/\n",
        "TCqpbFd;_ieWX''_slBtoUJKm:nuW,::-;nuW_,,ieWX'' LFyqbNBE :/.LFyqbNBE!.!LFyqbNBE//;-ieWX''/ :-LFyqbNBE  -\n",
        "TCqpbFd/,?,-nuW.,.TCqpbFd!-:etmYH- !-/ieWX''_etmYH .;,_etmYH/TCqpbFd?:.TCqpbFd slBtoUJKm.TCqpbFd . ieWX''_\n",
        "uW?nuW:TCqpbFd  !TCqpbFd!slBtoUJKm:-ieWX''?LFyqbNBE?:TCqpbFd:slBtoUJKm,/ieWX''!_ ;;slBtoUJKm:-/TCqpbFd:?\n",
        ";nuW//nuW!slBtoUJKm;/--LFyqbNBE?TCqpbFd.:  TCqpbFd.,/eVZjEOeJSn,!.-ieWX'':/,-LFyqbNBE /:.TCqpbFd.-,!?ieWX'' _//.\n",
        "TCqpbFd/,/nuW!.?nuW!,/eVZjEOeJSn!_. TCqpbFd,,-:?nuW/;:.ieWX''.,;!slBtoUJKm/etmYH?: _;ieWX''/;nuW/-TCqpbFd,!LFyqbNBE,!??ieWX''\n",
        ";;nuW_?-;nuW -;:TCqpbFd:_ ,?ieWX'';ieWX'' .?!nuW:LFyqbNBE_/_ieWX'',nuW.?LFyqbNBE/_,:TCqpbFd:_;slBtoUJKm-_ieWX''/ieWX''_!!\n",
        "LFyqbNBE;ieWX'' /ieWX''!'''\n",
        "top_3_words(text)"
      ],
      "metadata": {
        "colab": {
          "base_uri": "https://localhost:8080/"
        },
        "id": "EYgogtb2LYIr",
        "outputId": "808b924c-e764-4b8f-b9f5-97fa3007c434"
      },
      "execution_count": 22,
      "outputs": [
        {
          "output_type": "execute_result",
          "data": {
            "text/plain": [
              "[\"iewx''\", 'tcqpbfd', 'nuw']"
            ]
          },
          "metadata": {},
          "execution_count": 22
        }
      ]
    },
    {
      "cell_type": "code",
      "source": [
        "import string\n",
        "def is_string_ascii(word):\n",
        "  for letter in word:\n",
        "    if letter.isalpha():\n",
        "      return True\n",
        "\n",
        "is_string_ascii('letra:')"
      ],
      "metadata": {
        "colab": {
          "base_uri": "https://localhost:8080/"
        },
        "id": "8b0pJWAJWqtj",
        "outputId": "de5f2382-aaf1-414f-e226-5c1bcf1edcf4"
      },
      "execution_count": 20,
      "outputs": [
        {
          "output_type": "execute_result",
          "data": {
            "text/plain": [
              "True"
            ]
          },
          "metadata": {},
          "execution_count": 20
        }
      ]
    },
    {
      "cell_type": "markdown",
      "source": [
        "Crear un algoritmo que se muestre así:\n",
        "\n",
        "1\n",
        "\n",
        "23\n",
        "\n",
        "456"
      ],
      "metadata": {
        "id": "osJta2TEgj4Q"
      }
    },
    {
      "cell_type": "code",
      "source": [
        "def print_numbers(string_show):\n",
        "  # inicializo los valores\n",
        "  i = 0\n",
        "  j = 1\n",
        "  cont = 2\n",
        "\n",
        "  while i < len(string_show):\n",
        "    print(string_show[i:j])\n",
        "    i = j\n",
        "    j = j + cont\n",
        "    cont += 1\n",
        "\n",
        "max_range = 7 # max range numbers\n",
        "numbers = ''.join(str(a) for a in range(1,max_range,1))\n",
        "print_numbers(numbers)\n",
        "\n"
      ],
      "metadata": {
        "colab": {
          "base_uri": "https://localhost:8080/"
        },
        "id": "UnfvaeXrc_vg",
        "outputId": "f04d9e64-8d06-4de4-cd5d-84a78a490003"
      },
      "execution_count": 45,
      "outputs": [
        {
          "output_type": "stream",
          "name": "stdout",
          "text": [
            "1\n",
            "23\n",
            "456\n"
          ]
        }
      ]
    },
    {
      "cell_type": "code",
      "source": [
        "cadena = 'abcdefghijklmnopqrstu'\n",
        "print_numbers(cadena)\n",
        "\n"
      ],
      "metadata": {
        "colab": {
          "base_uri": "https://localhost:8080/"
        },
        "id": "x9gigDCEpUc4",
        "outputId": "fc7fc1e7-8f85-4884-ba55-504d5c3b3000"
      },
      "execution_count": 47,
      "outputs": [
        {
          "output_type": "stream",
          "name": "stdout",
          "text": [
            "a\n",
            "bc\n",
            "def\n",
            "ghij\n",
            "klmno\n",
            "pqrstu\n"
          ]
        }
      ]
    },
    {
      "cell_type": "markdown",
      "source": [
        "#CODEWARS\n",
        "##Convert A Hex String To RGB\n",
        "\n",
        "\n",
        "Description:\n",
        "\n",
        "When working with color values it can sometimes be useful to extract the individual red, green, and blue (RGB) component values for a color. Implement a function that meets these requirements:\n",
        "\n",
        "    Accepts a case-insensitive hexadecimal color string as its parameter (ex. \"#FF9933\" or \"#ff9933\")\n",
        "    Returns a Map<String, int> with the structure {r: 255, g: 153, b: 51} where r, g, and b range from 0 through 255\n",
        "\n",
        "Note: your implementation does not need to support the shorthand form of hexadecimal notation (ie \"#FFF\")\n",
        "Example\n",
        "\n",
        "\"#FF9933\" --> {r: 255, g: 153, b: 51}\n",
        "\n"
      ],
      "metadata": {
        "id": "ldf0OXlpWWU4"
      }
    },
    {
      "cell_type": "code",
      "source": [
        "from PIL import ImageColor\n",
        "\n",
        "def hex_string_to_RGB(hex_string):\n",
        "  rd = {}\n",
        "  rd['r'], rd['g'], rd['b'] = ImageColor.getcolor(hex_string, \"RGB\")\n",
        "  return rd\n",
        "\n",
        "hex_string_to_RGB(\"#FF9933\")"
      ],
      "metadata": {
        "colab": {
          "base_uri": "https://localhost:8080/"
        },
        "id": "BM30SwjLWg1w",
        "outputId": "7ce15ffb-0207-4750-a6b8-1a04e79400f2"
      },
      "execution_count": 3,
      "outputs": [
        {
          "output_type": "execute_result",
          "data": {
            "text/plain": [
              "{'r': 255, 'g': 153, 'b': 51}"
            ]
          },
          "metadata": {},
          "execution_count": 3
        }
      ]
    }
  ]
}